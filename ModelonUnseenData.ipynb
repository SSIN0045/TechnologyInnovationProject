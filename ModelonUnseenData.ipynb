{
 "cells": [
  {
   "cell_type": "code",
   "execution_count": 37,
   "metadata": {},
   "outputs": [
    {
     "name": "stdout",
     "output_type": "stream",
     "text": [
      "Requirement already satisfied: xgboost in c:\\users\\dell\\appdata\\local\\programs\\python\\python311\\lib\\site-packages (2.1.0)\n",
      "Requirement already satisfied: numpy in c:\\users\\dell\\appdata\\local\\programs\\python\\python311\\lib\\site-packages (from xgboost) (2.0.0)\n",
      "Requirement already satisfied: scipy in c:\\users\\dell\\appdata\\local\\programs\\python\\python311\\lib\\site-packages (from xgboost) (1.14.0)\n",
      "Note: you may need to restart the kernel to use updated packages.\n"
     ]
    },
    {
     "name": "stderr",
     "output_type": "stream",
     "text": [
      "\n",
      "[notice] A new release of pip is available: 24.1.1 -> 24.2\n",
      "[notice] To update, run: python.exe -m pip install --upgrade pip\n"
     ]
    }
   ],
   "source": [
    "pip install xgboost"
   ]
  },
  {
   "cell_type": "code",
   "execution_count": 38,
   "metadata": {},
   "outputs": [
    {
     "name": "stdout",
     "output_type": "stream",
     "text": [
      "2.1.0\n"
     ]
    }
   ],
   "source": [
    "import xgboost as xgb\n",
    "print(xgb.__version__)"
   ]
  },
  {
   "cell_type": "code",
   "execution_count": 39,
   "metadata": {},
   "outputs": [],
   "source": [
    "#pip install pandas\n",
    "\n"
   ]
  },
  {
   "cell_type": "code",
   "execution_count": 40,
   "metadata": {},
   "outputs": [],
   "source": [
    "import os\n",
    "import numpy as np\n",
    "import pandas as pd\n",
    "import seaborn as sns\n",
    "import matplotlib.pyplot as plt\n",
    "from xgboost import XGBClassifier\n",
    "from sklearn.model_selection import train_test_split\n",
    "from sklearn.preprocessing import LabelEncoder\n",
    "import math\n",
    "from sklearn.ensemble import RandomForestClassifier\n",
    "from sklearn.neighbors import KNeighborsClassifier\n",
    "from imblearn.under_sampling import RandomUnderSampler\n",
    "from sklearn.linear_model import LogisticRegression\n",
    "from sklearn.preprocessing import StandardScaler\n",
    "from sklearn.metrics import roc_auc_score, classification_report, confusion_matrix, average_precision_score, precision_score, recall_score, f1_score\n",
    "from sklearn.tree import DecisionTreeClassifier\n",
    "from sklearn.svm import SVC\n",
    "from scipy.stats import chi2_contingency\n",
    "from sklearn.metrics import accuracy_score\n",
    "from sklearn.model_selection import GridSearchCV\n",
    "from sklearn.model_selection import RandomizedSearchCV\n",
    "from sklearn.datasets import load_iris\n",
    "from xgboost import XGBClassifier"
   ]
  },
  {
   "cell_type": "code",
   "execution_count": 41,
   "metadata": {},
   "outputs": [
    {
     "name": "stdout",
     "output_type": "stream",
     "text": [
      "<class 'pandas.core.frame.DataFrame'>\n",
      "RangeIndex: 555719 entries, 0 to 555718\n",
      "Data columns (total 23 columns):\n",
      " #   Column                 Non-Null Count   Dtype  \n",
      "---  ------                 --------------   -----  \n",
      " 0   Unnamed: 0             555719 non-null  int64  \n",
      " 1   trans_date_trans_time  555719 non-null  object \n",
      " 2   cc_num                 555719 non-null  int64  \n",
      " 3   merchant               555719 non-null  object \n",
      " 4   category               555719 non-null  object \n",
      " 5   amt                    555719 non-null  float64\n",
      " 6   first                  555719 non-null  object \n",
      " 7   last                   555719 non-null  object \n",
      " 8   gender                 555719 non-null  object \n",
      " 9   street                 555719 non-null  object \n",
      " 10  city                   555719 non-null  object \n",
      " 11  state                  555719 non-null  object \n",
      " 12  zip                    555719 non-null  int64  \n",
      " 13  lat                    555719 non-null  float64\n",
      " 14  long                   555719 non-null  float64\n",
      " 15  city_pop               555719 non-null  int64  \n",
      " 16  job                    555719 non-null  object \n",
      " 17  dob                    555719 non-null  object \n",
      " 18  trans_num              555719 non-null  object \n",
      " 19  unix_time              555719 non-null  int64  \n",
      " 20  merch_lat              555719 non-null  float64\n",
      " 21  merch_long             555719 non-null  float64\n",
      " 22  is_fraud               555719 non-null  int64  \n",
      "dtypes: float64(5), int64(6), object(12)\n",
      "memory usage: 97.5+ MB\n"
     ]
    }
   ],
   "source": [
    "df = pd.read_csv(\"D:/Swinburne/Sem 3/Innovation Project/Data Sciencne/fraudTest.csv\")   #C:/Users/singh/Downloads/fraudTrain.csv \n",
    "\n",
    "df.info()"
   ]
  },
  {
   "cell_type": "code",
   "execution_count": 42,
   "metadata": {},
   "outputs": [
    {
     "data": {
      "text/html": [
       "<div>\n",
       "<style scoped>\n",
       "    .dataframe tbody tr th:only-of-type {\n",
       "        vertical-align: middle;\n",
       "    }\n",
       "\n",
       "    .dataframe tbody tr th {\n",
       "        vertical-align: top;\n",
       "    }\n",
       "\n",
       "    .dataframe thead th {\n",
       "        text-align: right;\n",
       "    }\n",
       "</style>\n",
       "<table border=\"1\" class=\"dataframe\">\n",
       "  <thead>\n",
       "    <tr style=\"text-align: right;\">\n",
       "      <th></th>\n",
       "      <th>Unnamed: 0</th>\n",
       "      <th>trans_date_trans_time</th>\n",
       "      <th>cc_num</th>\n",
       "      <th>merchant</th>\n",
       "      <th>category</th>\n",
       "      <th>amt</th>\n",
       "      <th>first</th>\n",
       "      <th>last</th>\n",
       "      <th>gender</th>\n",
       "      <th>street</th>\n",
       "      <th>...</th>\n",
       "      <th>lat</th>\n",
       "      <th>long</th>\n",
       "      <th>city_pop</th>\n",
       "      <th>job</th>\n",
       "      <th>dob</th>\n",
       "      <th>trans_num</th>\n",
       "      <th>unix_time</th>\n",
       "      <th>merch_lat</th>\n",
       "      <th>merch_long</th>\n",
       "      <th>is_fraud</th>\n",
       "    </tr>\n",
       "  </thead>\n",
       "  <tbody>\n",
       "    <tr>\n",
       "      <th>0</th>\n",
       "      <td>0</td>\n",
       "      <td>2020-06-21 12:14:25</td>\n",
       "      <td>2291163933867244</td>\n",
       "      <td>fraud_Kirlin and Sons</td>\n",
       "      <td>personal_care</td>\n",
       "      <td>2.86</td>\n",
       "      <td>Jeff</td>\n",
       "      <td>Elliott</td>\n",
       "      <td>M</td>\n",
       "      <td>351 Darlene Green</td>\n",
       "      <td>...</td>\n",
       "      <td>33.9659</td>\n",
       "      <td>-80.9355</td>\n",
       "      <td>333497</td>\n",
       "      <td>Mechanical engineer</td>\n",
       "      <td>1968-03-19</td>\n",
       "      <td>2da90c7d74bd46a0caf3777415b3ebd3</td>\n",
       "      <td>1371816865</td>\n",
       "      <td>33.986391</td>\n",
       "      <td>-81.200714</td>\n",
       "      <td>0</td>\n",
       "    </tr>\n",
       "    <tr>\n",
       "      <th>1</th>\n",
       "      <td>1</td>\n",
       "      <td>2020-06-21 12:14:33</td>\n",
       "      <td>3573030041201292</td>\n",
       "      <td>fraud_Sporer-Keebler</td>\n",
       "      <td>personal_care</td>\n",
       "      <td>29.84</td>\n",
       "      <td>Joanne</td>\n",
       "      <td>Williams</td>\n",
       "      <td>F</td>\n",
       "      <td>3638 Marsh Union</td>\n",
       "      <td>...</td>\n",
       "      <td>40.3207</td>\n",
       "      <td>-110.4360</td>\n",
       "      <td>302</td>\n",
       "      <td>Sales professional, IT</td>\n",
       "      <td>1990-01-17</td>\n",
       "      <td>324cc204407e99f51b0d6ca0055005e7</td>\n",
       "      <td>1371816873</td>\n",
       "      <td>39.450498</td>\n",
       "      <td>-109.960431</td>\n",
       "      <td>0</td>\n",
       "    </tr>\n",
       "    <tr>\n",
       "      <th>2</th>\n",
       "      <td>2</td>\n",
       "      <td>2020-06-21 12:14:53</td>\n",
       "      <td>3598215285024754</td>\n",
       "      <td>fraud_Swaniawski, Nitzsche and Welch</td>\n",
       "      <td>health_fitness</td>\n",
       "      <td>41.28</td>\n",
       "      <td>Ashley</td>\n",
       "      <td>Lopez</td>\n",
       "      <td>F</td>\n",
       "      <td>9333 Valentine Point</td>\n",
       "      <td>...</td>\n",
       "      <td>40.6729</td>\n",
       "      <td>-73.5365</td>\n",
       "      <td>34496</td>\n",
       "      <td>Librarian, public</td>\n",
       "      <td>1970-10-21</td>\n",
       "      <td>c81755dbbbea9d5c77f094348a7579be</td>\n",
       "      <td>1371816893</td>\n",
       "      <td>40.495810</td>\n",
       "      <td>-74.196111</td>\n",
       "      <td>0</td>\n",
       "    </tr>\n",
       "    <tr>\n",
       "      <th>3</th>\n",
       "      <td>3</td>\n",
       "      <td>2020-06-21 12:15:15</td>\n",
       "      <td>3591919803438423</td>\n",
       "      <td>fraud_Haley Group</td>\n",
       "      <td>misc_pos</td>\n",
       "      <td>60.05</td>\n",
       "      <td>Brian</td>\n",
       "      <td>Williams</td>\n",
       "      <td>M</td>\n",
       "      <td>32941 Krystal Mill Apt. 552</td>\n",
       "      <td>...</td>\n",
       "      <td>28.5697</td>\n",
       "      <td>-80.8191</td>\n",
       "      <td>54767</td>\n",
       "      <td>Set designer</td>\n",
       "      <td>1987-07-25</td>\n",
       "      <td>2159175b9efe66dc301f149d3d5abf8c</td>\n",
       "      <td>1371816915</td>\n",
       "      <td>28.812398</td>\n",
       "      <td>-80.883061</td>\n",
       "      <td>0</td>\n",
       "    </tr>\n",
       "    <tr>\n",
       "      <th>4</th>\n",
       "      <td>4</td>\n",
       "      <td>2020-06-21 12:15:17</td>\n",
       "      <td>3526826139003047</td>\n",
       "      <td>fraud_Johnston-Casper</td>\n",
       "      <td>travel</td>\n",
       "      <td>3.19</td>\n",
       "      <td>Nathan</td>\n",
       "      <td>Massey</td>\n",
       "      <td>M</td>\n",
       "      <td>5783 Evan Roads Apt. 465</td>\n",
       "      <td>...</td>\n",
       "      <td>44.2529</td>\n",
       "      <td>-85.0170</td>\n",
       "      <td>1126</td>\n",
       "      <td>Furniture designer</td>\n",
       "      <td>1955-07-06</td>\n",
       "      <td>57ff021bd3f328f8738bb535c302a31b</td>\n",
       "      <td>1371816917</td>\n",
       "      <td>44.959148</td>\n",
       "      <td>-85.884734</td>\n",
       "      <td>0</td>\n",
       "    </tr>\n",
       "  </tbody>\n",
       "</table>\n",
       "<p>5 rows × 23 columns</p>\n",
       "</div>"
      ],
      "text/plain": [
       "   Unnamed: 0 trans_date_trans_time            cc_num  \\\n",
       "0           0   2020-06-21 12:14:25  2291163933867244   \n",
       "1           1   2020-06-21 12:14:33  3573030041201292   \n",
       "2           2   2020-06-21 12:14:53  3598215285024754   \n",
       "3           3   2020-06-21 12:15:15  3591919803438423   \n",
       "4           4   2020-06-21 12:15:17  3526826139003047   \n",
       "\n",
       "                               merchant        category    amt   first  \\\n",
       "0                 fraud_Kirlin and Sons   personal_care   2.86    Jeff   \n",
       "1                  fraud_Sporer-Keebler   personal_care  29.84  Joanne   \n",
       "2  fraud_Swaniawski, Nitzsche and Welch  health_fitness  41.28  Ashley   \n",
       "3                     fraud_Haley Group        misc_pos  60.05   Brian   \n",
       "4                 fraud_Johnston-Casper          travel   3.19  Nathan   \n",
       "\n",
       "       last gender                       street  ...      lat      long  \\\n",
       "0   Elliott      M            351 Darlene Green  ...  33.9659  -80.9355   \n",
       "1  Williams      F             3638 Marsh Union  ...  40.3207 -110.4360   \n",
       "2     Lopez      F         9333 Valentine Point  ...  40.6729  -73.5365   \n",
       "3  Williams      M  32941 Krystal Mill Apt. 552  ...  28.5697  -80.8191   \n",
       "4    Massey      M     5783 Evan Roads Apt. 465  ...  44.2529  -85.0170   \n",
       "\n",
       "   city_pop                     job         dob  \\\n",
       "0    333497     Mechanical engineer  1968-03-19   \n",
       "1       302  Sales professional, IT  1990-01-17   \n",
       "2     34496       Librarian, public  1970-10-21   \n",
       "3     54767            Set designer  1987-07-25   \n",
       "4      1126      Furniture designer  1955-07-06   \n",
       "\n",
       "                          trans_num   unix_time  merch_lat  merch_long  \\\n",
       "0  2da90c7d74bd46a0caf3777415b3ebd3  1371816865  33.986391  -81.200714   \n",
       "1  324cc204407e99f51b0d6ca0055005e7  1371816873  39.450498 -109.960431   \n",
       "2  c81755dbbbea9d5c77f094348a7579be  1371816893  40.495810  -74.196111   \n",
       "3  2159175b9efe66dc301f149d3d5abf8c  1371816915  28.812398  -80.883061   \n",
       "4  57ff021bd3f328f8738bb535c302a31b  1371816917  44.959148  -85.884734   \n",
       "\n",
       "   is_fraud  \n",
       "0         0  \n",
       "1         0  \n",
       "2         0  \n",
       "3         0  \n",
       "4         0  \n",
       "\n",
       "[5 rows x 23 columns]"
      ]
     },
     "execution_count": 42,
     "metadata": {},
     "output_type": "execute_result"
    }
   ],
   "source": [
    "#Display the data\n",
    "df.head()"
   ]
  },
  {
   "cell_type": "code",
   "execution_count": 43,
   "metadata": {},
   "outputs": [
    {
     "data": {
      "text/html": [
       "<div>\n",
       "<style scoped>\n",
       "    .dataframe tbody tr th:only-of-type {\n",
       "        vertical-align: middle;\n",
       "    }\n",
       "\n",
       "    .dataframe tbody tr th {\n",
       "        vertical-align: top;\n",
       "    }\n",
       "\n",
       "    .dataframe thead th {\n",
       "        text-align: right;\n",
       "    }\n",
       "</style>\n",
       "<table border=\"1\" class=\"dataframe\">\n",
       "  <thead>\n",
       "    <tr style=\"text-align: right;\">\n",
       "      <th></th>\n",
       "      <th>Unnamed: 0</th>\n",
       "      <th>cc_num</th>\n",
       "      <th>amt</th>\n",
       "      <th>zip</th>\n",
       "      <th>lat</th>\n",
       "      <th>long</th>\n",
       "      <th>city_pop</th>\n",
       "      <th>unix_time</th>\n",
       "      <th>merch_lat</th>\n",
       "      <th>merch_long</th>\n",
       "      <th>is_fraud</th>\n",
       "    </tr>\n",
       "  </thead>\n",
       "  <tbody>\n",
       "    <tr>\n",
       "      <th>count</th>\n",
       "      <td>555719.000000</td>\n",
       "      <td>5.557190e+05</td>\n",
       "      <td>555719.000000</td>\n",
       "      <td>555719.000000</td>\n",
       "      <td>555719.000000</td>\n",
       "      <td>555719.000000</td>\n",
       "      <td>5.557190e+05</td>\n",
       "      <td>5.557190e+05</td>\n",
       "      <td>555719.000000</td>\n",
       "      <td>555719.000000</td>\n",
       "      <td>555719.000000</td>\n",
       "    </tr>\n",
       "    <tr>\n",
       "      <th>mean</th>\n",
       "      <td>277859.000000</td>\n",
       "      <td>4.178387e+17</td>\n",
       "      <td>69.392810</td>\n",
       "      <td>48842.628015</td>\n",
       "      <td>38.543253</td>\n",
       "      <td>-90.231325</td>\n",
       "      <td>8.822189e+04</td>\n",
       "      <td>1.380679e+09</td>\n",
       "      <td>38.542798</td>\n",
       "      <td>-90.231380</td>\n",
       "      <td>0.003860</td>\n",
       "    </tr>\n",
       "    <tr>\n",
       "      <th>std</th>\n",
       "      <td>160422.401459</td>\n",
       "      <td>1.309837e+18</td>\n",
       "      <td>156.745941</td>\n",
       "      <td>26855.283328</td>\n",
       "      <td>5.061336</td>\n",
       "      <td>13.721780</td>\n",
       "      <td>3.003909e+05</td>\n",
       "      <td>5.201104e+06</td>\n",
       "      <td>5.095829</td>\n",
       "      <td>13.733071</td>\n",
       "      <td>0.062008</td>\n",
       "    </tr>\n",
       "    <tr>\n",
       "      <th>min</th>\n",
       "      <td>0.000000</td>\n",
       "      <td>6.041621e+10</td>\n",
       "      <td>1.000000</td>\n",
       "      <td>1257.000000</td>\n",
       "      <td>20.027100</td>\n",
       "      <td>-165.672300</td>\n",
       "      <td>2.300000e+01</td>\n",
       "      <td>1.371817e+09</td>\n",
       "      <td>19.027422</td>\n",
       "      <td>-166.671575</td>\n",
       "      <td>0.000000</td>\n",
       "    </tr>\n",
       "    <tr>\n",
       "      <th>25%</th>\n",
       "      <td>138929.500000</td>\n",
       "      <td>1.800429e+14</td>\n",
       "      <td>9.630000</td>\n",
       "      <td>26292.000000</td>\n",
       "      <td>34.668900</td>\n",
       "      <td>-96.798000</td>\n",
       "      <td>7.410000e+02</td>\n",
       "      <td>1.376029e+09</td>\n",
       "      <td>34.755302</td>\n",
       "      <td>-96.905129</td>\n",
       "      <td>0.000000</td>\n",
       "    </tr>\n",
       "    <tr>\n",
       "      <th>50%</th>\n",
       "      <td>277859.000000</td>\n",
       "      <td>3.521417e+15</td>\n",
       "      <td>47.290000</td>\n",
       "      <td>48174.000000</td>\n",
       "      <td>39.371600</td>\n",
       "      <td>-87.476900</td>\n",
       "      <td>2.408000e+03</td>\n",
       "      <td>1.380762e+09</td>\n",
       "      <td>39.376593</td>\n",
       "      <td>-87.445204</td>\n",
       "      <td>0.000000</td>\n",
       "    </tr>\n",
       "    <tr>\n",
       "      <th>75%</th>\n",
       "      <td>416788.500000</td>\n",
       "      <td>4.635331e+15</td>\n",
       "      <td>83.010000</td>\n",
       "      <td>72011.000000</td>\n",
       "      <td>41.894800</td>\n",
       "      <td>-80.175200</td>\n",
       "      <td>1.968500e+04</td>\n",
       "      <td>1.385867e+09</td>\n",
       "      <td>41.954163</td>\n",
       "      <td>-80.264637</td>\n",
       "      <td>0.000000</td>\n",
       "    </tr>\n",
       "    <tr>\n",
       "      <th>max</th>\n",
       "      <td>555718.000000</td>\n",
       "      <td>4.992346e+18</td>\n",
       "      <td>22768.110000</td>\n",
       "      <td>99921.000000</td>\n",
       "      <td>65.689900</td>\n",
       "      <td>-67.950300</td>\n",
       "      <td>2.906700e+06</td>\n",
       "      <td>1.388534e+09</td>\n",
       "      <td>66.679297</td>\n",
       "      <td>-66.952026</td>\n",
       "      <td>1.000000</td>\n",
       "    </tr>\n",
       "  </tbody>\n",
       "</table>\n",
       "</div>"
      ],
      "text/plain": [
       "          Unnamed: 0        cc_num            amt            zip  \\\n",
       "count  555719.000000  5.557190e+05  555719.000000  555719.000000   \n",
       "mean   277859.000000  4.178387e+17      69.392810   48842.628015   \n",
       "std    160422.401459  1.309837e+18     156.745941   26855.283328   \n",
       "min         0.000000  6.041621e+10       1.000000    1257.000000   \n",
       "25%    138929.500000  1.800429e+14       9.630000   26292.000000   \n",
       "50%    277859.000000  3.521417e+15      47.290000   48174.000000   \n",
       "75%    416788.500000  4.635331e+15      83.010000   72011.000000   \n",
       "max    555718.000000  4.992346e+18   22768.110000   99921.000000   \n",
       "\n",
       "                 lat           long      city_pop     unix_time  \\\n",
       "count  555719.000000  555719.000000  5.557190e+05  5.557190e+05   \n",
       "mean       38.543253     -90.231325  8.822189e+04  1.380679e+09   \n",
       "std         5.061336      13.721780  3.003909e+05  5.201104e+06   \n",
       "min        20.027100    -165.672300  2.300000e+01  1.371817e+09   \n",
       "25%        34.668900     -96.798000  7.410000e+02  1.376029e+09   \n",
       "50%        39.371600     -87.476900  2.408000e+03  1.380762e+09   \n",
       "75%        41.894800     -80.175200  1.968500e+04  1.385867e+09   \n",
       "max        65.689900     -67.950300  2.906700e+06  1.388534e+09   \n",
       "\n",
       "           merch_lat     merch_long       is_fraud  \n",
       "count  555719.000000  555719.000000  555719.000000  \n",
       "mean       38.542798     -90.231380       0.003860  \n",
       "std         5.095829      13.733071       0.062008  \n",
       "min        19.027422    -166.671575       0.000000  \n",
       "25%        34.755302     -96.905129       0.000000  \n",
       "50%        39.376593     -87.445204       0.000000  \n",
       "75%        41.954163     -80.264637       0.000000  \n",
       "max        66.679297     -66.952026       1.000000  "
      ]
     },
     "execution_count": 43,
     "metadata": {},
     "output_type": "execute_result"
    }
   ],
   "source": [
    "#Summary the description of the dataset\n",
    "df.describe()"
   ]
  },
  {
   "cell_type": "code",
   "execution_count": 44,
   "metadata": {},
   "outputs": [
    {
     "data": {
      "text/plain": [
       "is_fraud\n",
       "0    553574\n",
       "1      2145\n",
       "Name: count, dtype: int64"
      ]
     },
     "execution_count": 44,
     "metadata": {},
     "output_type": "execute_result"
    }
   ],
   "source": [
    "#Distribute the class\n",
    "df[('is_fraud')].value_counts()"
   ]
  },
  {
   "cell_type": "code",
   "execution_count": 45,
   "metadata": {},
   "outputs": [
    {
     "name": "stdout",
     "output_type": "stream",
     "text": [
      "<class 'pandas.core.frame.DataFrame'>\n",
      "RangeIndex: 555719 entries, 0 to 555718\n",
      "Data columns (total 25 columns):\n",
      " #   Column                 Non-Null Count   Dtype  \n",
      "---  ------                 --------------   -----  \n",
      " 0   Unnamed: 0             555719 non-null  int64  \n",
      " 1   trans_date_trans_time  555719 non-null  object \n",
      " 2   cc_num                 555719 non-null  int64  \n",
      " 3   merchant               555719 non-null  object \n",
      " 4   category               555719 non-null  object \n",
      " 5   amt                    555719 non-null  float64\n",
      " 6   first                  555719 non-null  object \n",
      " 7   last                   555719 non-null  object \n",
      " 8   gender                 555719 non-null  object \n",
      " 9   street                 555719 non-null  object \n",
      " 10  city                   555719 non-null  object \n",
      " 11  state                  555719 non-null  object \n",
      " 12  zip                    555719 non-null  int64  \n",
      " 13  lat                    555719 non-null  float64\n",
      " 14  long                   555719 non-null  float64\n",
      " 15  city_pop               555719 non-null  int64  \n",
      " 16  job                    555719 non-null  object \n",
      " 17  dob                    555719 non-null  object \n",
      " 18  trans_num              555719 non-null  object \n",
      " 19  unix_time              555719 non-null  int64  \n",
      " 20  merch_lat              555719 non-null  float64\n",
      " 21  merch_long             555719 non-null  float64\n",
      " 22  is_fraud               555719 non-null  int64  \n",
      " 23  trans_date             555719 non-null  object \n",
      " 24  trans_time             555719 non-null  object \n",
      "dtypes: float64(5), int64(6), object(14)\n",
      "memory usage: 106.0+ MB\n"
     ]
    }
   ],
   "source": [
    "#Split the column trans_date_trans_time into 2 separate columns, including trans_date and trans_time\n",
    "df['trans_date'] = pd.to_datetime(df['trans_date_trans_time'], format='%Y-%m-%d %H:%M:%S').dt.date\n",
    "df['trans_time'] = pd.to_datetime(df['trans_date_trans_time'], format='%Y-%m-%d %H:%M:%S').dt.time\n",
    "df.info()"
   ]
  },
  {
   "cell_type": "code",
   "execution_count": null,
   "metadata": {},
   "outputs": [],
   "source": []
  },
  {
   "cell_type": "markdown",
   "metadata": {},
   "source": [
    "## Pre-Processing"
   ]
  },
  {
   "cell_type": "code",
   "execution_count": 46,
   "metadata": {},
   "outputs": [],
   "source": [
    "# Remove the 'trans_date_trans_time' column\n",
    "# Check if the index column exists and remove it\n",
    "if 'Unnamed: 0' in df.columns:\n",
    "    df.drop(columns=['Unnamed: 0'], inplace=True)\n",
    "df.drop('trans_date_trans_time', axis=1, inplace=True)"
   ]
  },
  {
   "cell_type": "code",
   "execution_count": 47,
   "metadata": {},
   "outputs": [],
   "source": [
    "# Reorder the columns to have 'trans_date' first and 'trans_time' second\n",
    "columns = ['trans_date', 'trans_time'] + [col for col in df.columns if col not in ['trans_date', 'trans_time']]\n",
    "df = df[columns]"
   ]
  },
  {
   "cell_type": "markdown",
   "metadata": {},
   "source": [
    "From the dtype of the dataset, we still have some tasks to do with the dtype. First of all, trans_date needed to be transferred from object/string to datetime"
   ]
  },
  {
   "cell_type": "code",
   "execution_count": 48,
   "metadata": {},
   "outputs": [
    {
     "name": "stdout",
     "output_type": "stream",
     "text": [
      "\n",
      "Data types of the columns:\n",
      "trans_date            object\n",
      "trans_time            object\n",
      "cc_num                 int64\n",
      "merchant              object\n",
      "category              object\n",
      "amt                  float64\n",
      "first                 object\n",
      "last                  object\n",
      "gender                object\n",
      "street                object\n",
      "city                  object\n",
      "state                 object\n",
      "zip                    int64\n",
      "lat                  float64\n",
      "long                 float64\n",
      "city_pop               int64\n",
      "job                   object\n",
      "dob           datetime64[ns]\n",
      "trans_num             object\n",
      "unix_time              int64\n",
      "merch_lat            float64\n",
      "merch_long           float64\n",
      "is_fraud               int64\n",
      "dtype: object\n"
     ]
    }
   ],
   "source": [
    "# Convert 'dob' to datetime with the correct format\n",
    "df['dob'] = pd.to_datetime(df['dob'], format='%Y-%m-%d')\n",
    "\n",
    "# Convert 'trans_time' to time (already correctly formatted if in 'HH:MM:SS' format)\n",
    "df['trans_time'] = pd.to_datetime(df['trans_time'], format='%H:%M:%S').dt.time\n",
    "\n",
    "# Convert 'trans_date' to date (assuming the column is already in 'datetime' format, we can use .date() to extract the date part)\n",
    "df['trans_date'] = pd.to_datetime(df['trans_date']).dt.date\n",
    "\n",
    "# Check the data types\n",
    "print(\"\\nData types of the columns:\")\n",
    "print(df.dtypes)"
   ]
  },
  {
   "cell_type": "code",
   "execution_count": 49,
   "metadata": {},
   "outputs": [
    {
     "data": {
      "text/plain": [
       "trans_date            object\n",
       "trans_time            object\n",
       "cc_num                 int64\n",
       "merchant              object\n",
       "category              object\n",
       "amt                  float64\n",
       "first                 object\n",
       "last                  object\n",
       "gender                object\n",
       "street                object\n",
       "city                  object\n",
       "state                 object\n",
       "zip                    int64\n",
       "lat                  float64\n",
       "long                 float64\n",
       "city_pop               int64\n",
       "job                   object\n",
       "dob           datetime64[ns]\n",
       "trans_num             object\n",
       "unix_time              int64\n",
       "merch_lat            float64\n",
       "merch_long           float64\n",
       "is_fraud               int64\n",
       "dtype: object"
      ]
     },
     "execution_count": 49,
     "metadata": {},
     "output_type": "execute_result"
    }
   ],
   "source": [
    "df.dtypes"
   ]
  },
  {
   "cell_type": "code",
   "execution_count": 50,
   "metadata": {},
   "outputs": [
    {
     "data": {
      "image/png": "[encoded data removed]",
      "text/plain": [
       "<Figure size 1000x800 with 2 Axes>"
      ]
     },
     "metadata": {},
     "output_type": "display_data"
    }
   ],
   "source": [
    "# Select numerical columns\n",
    "numerical_columns_df = df[['amt', 'lat', 'long', 'city_pop', 'merch_lat', 'merch_long', 'unix_time']]\n",
    "# Compute the correlation matrix\n",
    "correlation_matrix = numerical_columns_df.corr()\n",
    "\n",
    "# Create a heatmap to visualize the correlation matrix\n",
    "plt.figure(figsize=(10, 8))\n",
    "sns.heatmap(correlation_matrix, annot=True, cmap='coolwarm', fmt='.2f', vmin=-1, vmax=1)\n",
    "plt.title('Correlation Matrix')\n",
    "plt.show()"
   ]
  },
  {
   "cell_type": "markdown",
   "metadata": {},
   "source": [
    "## Feature Engineering"
   ]
  },
  {
   "cell_type": "markdown",
   "metadata": {},
   "source": [
    "1. Transaction Frequency Features"
   ]
  },
  {
   "cell_type": "code",
   "execution_count": 51,
   "metadata": {},
   "outputs": [
    {
     "data": {
      "text/plain": [
       "mean       601.427489\n",
       "median     634.500000\n",
       "min          6.000000\n",
       "max       1474.000000\n",
       "Name: count, dtype: float64"
      ]
     },
     "execution_count": 51,
     "metadata": {},
     "output_type": "execute_result"
    }
   ],
   "source": [
    "#Statistic summary of total transaction per user\n",
    "df['cc_num'].value_counts().agg(['mean', 'median', 'min', 'max'])"
   ]
  },
  {
   "cell_type": "code",
   "execution_count": 52,
   "metadata": {},
   "outputs": [
    {
     "name": "stdout",
     "output_type": "stream",
     "text": [
      "             cc_num  Week  transaction_per_week\n",
      "0  2291163933867244    25                     2\n",
      "1  3573030041201292    25                     4\n",
      "2  3598215285024754    25                     3\n",
      "3  3591919803438423    25                     3\n",
      "4  3526826139003047    25                     4\n"
     ]
    }
   ],
   "source": [
    "# Ensure 'trans_date' is in datetime format\n",
    "df['trans_date'] = pd.to_datetime(df['trans_date'])\n",
    "\n",
    "# Create a 'Week' column using ISO calendar weeks\n",
    "df['Week'] = df['trans_date'].dt.isocalendar().week\n",
    "\n",
    "# Calculate total transactions per week for each customer\n",
    "df['transaction_per_week'] = df.groupby(['cc_num', 'Week'])['trans_date'].transform('count')\n",
    "\n",
    "# Display the updated dataframe with Week and total transactions per Week for each customer\n",
    "print(df[['cc_num', 'Week', 'transaction_per_week']].head())"
   ]
  },
  {
   "cell_type": "code",
   "execution_count": 68,
   "metadata": {},
   "outputs": [
    {
     "name": "stdout",
     "output_type": "stream",
     "text": [
      "             cc_num  trans_date  transactions_per_day\n",
      "0  2291163933867244  2020-06-21                     2\n",
      "1  3573030041201292  2020-06-21                     4\n",
      "2  3598215285024754  2020-06-21                     3\n",
      "3  3591919803438423  2020-06-21                     3\n",
      "4  3526826139003047  2020-06-21                     4\n"
     ]
    }
   ],
   "source": [
    "# Ensure 'trans_date' is in datetime format and extract the date part\n",
    "df['trans_date'] = pd.to_datetime(df['trans_date']).dt.date\n",
    "\n",
    "# Total transactions of all users per day\n",
    "df['transactions_per_day'] = df.groupby(['cc_num', 'trans_date'])['trans_date'].transform('count')\n",
    "\n",
    "print(df[['cc_num', 'trans_date', 'transactions_per_day']].head())"
   ]
  },
  {
   "cell_type": "code",
   "execution_count": 53,
   "metadata": {},
   "outputs": [
    {
     "name": "stdout",
     "output_type": "stream",
     "text": [
      "             cc_num  Week  transaction_per_week\n",
      "0  2291163933867244    25                     2\n",
      "1  3573030041201292    25                     4\n",
      "2  3598215285024754    25                     3\n",
      "3  3591919803438423    25                     3\n",
      "4  3526826139003047    25                     4\n"
     ]
    }
   ],
   "source": [
    "# Create a 'Week' column using ISO calendar weeks\n",
    "df['Week'] = df['trans_date'].dt.isocalendar().week\n",
    "\n",
    "# Calculate total transactions per week for each customer\n",
    "df['transaction_per_week'] = df.groupby(['cc_num', 'Week'])['trans_date'].transform('count')\n",
    "\n",
    "# Display the updated dataframe with Week and total transactions per Week each customer columns\n",
    "print(df[['cc_num', 'Week', 'transaction_per_week']].head())"
   ]
  },
  {
   "cell_type": "code",
   "execution_count": 54,
   "metadata": {},
   "outputs": [
    {
     "name": "stdout",
     "output_type": "stream",
     "text": [
      "trans_date\n",
      "6      30058\n",
      "7      85848\n",
      "8      88759\n",
      "9      69533\n",
      "10     69348\n",
      "11     72635\n",
      "12    139538\n",
      "dtype: int64\n"
     ]
    }
   ],
   "source": [
    "# Calculate total transactions per month for all users\n",
    "total_transactions_per_month = df.groupby(df['trans_date'].dt.month).size()\n",
    "# Display the total transactions per month\n",
    "print(total_transactions_per_month)"
   ]
  },
  {
   "cell_type": "code",
   "execution_count": 55,
   "metadata": {},
   "outputs": [
    {
     "name": "stdout",
     "output_type": "stream",
     "text": [
      "             cc_num trans_date  transactions_per_month\n",
      "0  2291163933867244 2020-06-21                      34\n",
      "1  3573030041201292 2020-06-21                      49\n",
      "2  3598215285024754 2020-06-21                      55\n",
      "3  3591919803438423 2020-06-21                      33\n",
      "4  3526826139003047 2020-06-21                      56\n"
     ]
    }
   ],
   "source": [
    "# Total transactions of all users per day\n",
    "df['transactions_per_month'] = df.groupby(['cc_num', df['trans_date'].dt.month])['trans_date'].transform('count')\n",
    "print(df[['cc_num', 'trans_date', 'transactions_per_month']].head())"
   ]
  },
  {
   "cell_type": "code",
   "execution_count": 56,
   "metadata": {},
   "outputs": [],
   "source": [
    "#Transaction per season of all users\n",
    "def season(date):\n",
    "    if date.month in [1, 2, 3]:\n",
    "        return 'Autumn'\n",
    "    elif date.month in [4, 5, 6]:\n",
    "        return 'Winter'\n",
    "    elif date.month in [7, 8, 9]:\n",
    "        return 'Spring'\n",
    "    else:\n",
    "        return 'Summer'\n",
    "df['transactions_per_season'] = df.groupby(['cc_num', df['trans_date'].apply(season)])['trans_date'].transform('count')"
   ]
  },
  {
   "cell_type": "markdown",
   "metadata": {},
   "source": [
    "2. User Transaction Behavior"
   ]
  },
  {
   "cell_type": "code",
   "execution_count": 57,
   "metadata": {},
   "outputs": [],
   "source": [
    "## Perform the aggregations\n",
    "agg_df = df.groupby('cc_num')['amt'].agg(\n",
    "    avg_trans_amount='mean',\n",
    "    total_trans_amount='sum',\n",
    "    med_trans_amount='median',\n",
    "    std_trans_amount='std'\n",
    ").reset_index()\n",
    "\n",
    "# Merge the aggregation results back to the original DataFrame\n",
    "df = df.merge(agg_df, on='cc_num', how='left')"
   ]
  },
  {
   "cell_type": "markdown",
   "metadata": {},
   "source": [
    "## 3. User-Based Features: Age and Gender"
   ]
  },
  {
   "cell_type": "markdown",
   "metadata": {},
   "source": [
    "3.1 Calculate age of user based on DOB and transation date"
   ]
  },
  {
   "cell_type": "code",
   "execution_count": 58,
   "metadata": {},
   "outputs": [
    {
     "data": {
      "text/plain": [
       "mean      46.390496\n",
       "median    44.000000\n",
       "min       15.000000\n",
       "max       96.000000\n",
       "Name: age, dtype: float64"
      ]
     },
     "execution_count": 58,
     "metadata": {},
     "output_type": "execute_result"
    }
   ],
   "source": [
    "#Calculate user's age based on date of birth and transaction date\n",
    "def calculate_age(dob, trans_date):\n",
    "    return trans_date.year - dob.year - ((trans_date.month, trans_date.day) < (dob.month, dob.day))\n",
    "df['age'] = df.apply(lambda row: calculate_age(row['dob'], row['trans_date']), axis=1)\n",
    "\n",
    "#Explore age stat\n",
    "df['age'].agg(['mean', 'median', 'min', 'max'])"
   ]
  },
  {
   "cell_type": "code",
   "execution_count": null,
   "metadata": {},
   "outputs": [],
   "source": []
  },
  {
   "cell_type": "markdown",
   "metadata": {},
   "source": [
    "3.2 Convert gender into binary values"
   ]
  },
  {
   "cell_type": "code",
   "execution_count": 59,
   "metadata": {},
   "outputs": [
    {
     "name": "stdout",
     "output_type": "stream",
     "text": [
      "\n",
      " The number of cutomers based on age is:\n",
      "gender\n",
      "F    304886\n",
      "M    250833\n",
      "Name: count, dtype: int64\n",
      "----------------------------------------\n",
      "\n",
      "Total transaction amount made by gender is:\n",
      "gender\n",
      "F    21155705.55\n",
      "M    17407197.56\n",
      "Name: amt, dtype: float64\n",
      "----------------------------------------\n",
      "\n",
      " Average transaction amount made by gender is:\n",
      "gender\n",
      "F    69.388905\n",
      "M    69.397558\n",
      "Name: amt, dtype: float64\n",
      "----------------------------------------\n",
      "\n",
      " Age Distribution by gender is:\n",
      "             mean  median\n",
      "gender                   \n",
      "F       46.300604    44.0\n",
      "M       46.499759    45.0\n",
      "----------------------------------------\n"
     ]
    }
   ],
   "source": [
    "#Convert gender to binary values\n",
    "print('\\n The number of cutomers based on age is:')\n",
    "print(df['gender'].value_counts())\n",
    "print(\"-\" * 40)\n",
    "\n",
    "#Total transaction amount by gender\n",
    "print('\\nTotal transaction amount made by gender is:')\n",
    "print(df.groupby('gender')['amt'].sum())\n",
    "print(\"-\" * 40)\n",
    "\n",
    "#Average transaction made by gender\n",
    "print('\\n Average transaction amount made by gender is:')\n",
    "print(df.groupby('gender')['amt'].mean())\n",
    "print(\"-\" * 40)\n",
    "\n",
    "# Calculate mean and median of age distribution by gender\n",
    "print('\\n Age Distribution by gender is:')\n",
    "print(df.groupby('gender')['age'].agg(['mean', 'median']))\n",
    "print(\"-\" * 40)"
   ]
  },
  {
   "cell_type": "markdown",
   "metadata": {},
   "source": [
    "## 4. Fraud Transaction Analysis"
   ]
  },
  {
   "cell_type": "markdown",
   "metadata": {},
   "source": [
    "4.1 Calculate fraud ratio using fraudulent transactions and total transactions"
   ]
  },
  {
   "cell_type": "code",
   "execution_count": 60,
   "metadata": {},
   "outputs": [],
   "source": [
    "# Calculate fraudulent transactions per user\n",
    "fraud_transactions_per_user = df.groupby('cc_num')['is_fraud'].sum().reset_index()\n",
    "total_transactions_per_user = df.groupby('cc_num').size().reset_index(name='total_transactions')\n",
    "\n",
    "# Merge to get fraud ratio per user\n",
    "fraud_ratio_per_user = pd.merge(fraud_transactions_per_user, total_transactions_per_user, on='cc_num')\n",
    "fraud_ratio_per_user['fraud_ratio'] = fraud_ratio_per_user['is_fraud'] / fraud_ratio_per_user['total_transactions']\n",
    "\n",
    "# Merge fraud_ratio into the original dataset\n",
    "df = pd.merge(df, fraud_ratio_per_user[['cc_num', 'fraud_ratio']], on='cc_num', how='left')"
   ]
  },
  {
   "cell_type": "markdown",
   "metadata": {},
   "source": [
    "## 5. Geography Analysis"
   ]
  },
  {
   "cell_type": "markdown",
   "metadata": {},
   "source": [
    "5.1 Distance calculation using Haversine calculation"
   ]
  },
  {
   "cell_type": "code",
   "execution_count": 61,
   "metadata": {},
   "outputs": [],
   "source": [
    "# Create the Haversine function using transaction longitude and latitude, also using merchant's longitude and latitude\n",
    "def haversine(lat1, lon1, lat2, lon2):\n",
    "    # Distance between latitudes and longitudes\n",
    "    dLat = (lat2 - lat1) * math.pi / 180.0\n",
    "    dLon = (lon2 - lon1) * math.pi / 180.0\n",
    "\n",
    "    # Convert to radians\n",
    "    lat1 = (lat1) * math.pi / 180.0\n",
    "    lat2 = (lat2) * math.pi / 180.0\n",
    "\n",
    "    # Apply formula\n",
    "    a = (pow(math.sin(dLat / 2), 2) +\n",
    "         pow(math.sin(dLon / 2), 2) *\n",
    "         math.cos(lat1) * math.cos(lat2))\n",
    "    rad = 6371\n",
    "    c = 2 * math.asin(math.sqrt(a))\n",
    "    return rad * c\n",
    "\n",
    "df['distance_to_merch'] = df.apply(lambda row: haversine(row['lat'], row['long'], row['merch_lat'], row['merch_long']), axis=1)"
   ]
  },
  {
   "cell_type": "markdown",
   "metadata": {},
   "source": [
    "5.2 Categorize type of cities based on the population"
   ]
  },
  {
   "cell_type": "code",
   "execution_count": 62,
   "metadata": {},
   "outputs": [],
   "source": [
    "# Function to categorize city_pop\n",
    "def categorize_population(population):\n",
    "    if population < 1000:\n",
    "        return 'Small'\n",
    "    elif 1000 <= population <= 10000:\n",
    "        return 'Medium'\n",
    "    else:\n",
    "        return 'Large'\n",
    "\n",
    "# Apply the function to create a new column 'pop_category'\n",
    "df['pop_cat'] = df['city_pop'].apply(categorize_population)"
   ]
  },
  {
   "cell_type": "markdown",
   "metadata": {},
   "source": [
    "## 6. Feature Selection"
   ]
  },
  {
   "cell_type": "markdown",
   "metadata": {},
   "source": [
    "6.1 Chi-Square Test for Categorical Feature Independence with Fraud"
   ]
  },
  {
   "cell_type": "code",
   "execution_count": 64,
   "metadata": {},
   "outputs": [
    {
     "name": "stdout",
     "output_type": "stream",
     "text": [
      "Chi-square test results for categorical features and is_fraud:\n",
      "                    Feature          Chi2        P-value\n",
      "0                     Week    453.197099   2.748520e-78\n",
      "1     transaction_per_week   1080.043218  1.119098e-165\n",
      "2   transactions_per_month   8521.689346   0.000000e+00\n",
      "3  transactions_per_season  11529.625863   0.000000e+00\n",
      "4                  pop_cat     77.751160   1.307826e-17\n"
     ]
    }
   ],
   "source": [
    "#List of categorical columns to test\n",
    "categorical_cols = ['Week', 'transaction_per_week', 'transactions_per_month', 'transactions_per_season', 'pop_cat']\n",
    "\n",
    "# Loop through each categorical column and perform chi-square test\n",
    "results = []\n",
    "for col in categorical_cols:\n",
    "    contingency_table = pd.crosstab(df[col], df['is_fraud'])\n",
    "    chi2, p, dof, expected = chi2_contingency(contingency_table)\n",
    "    results.append({'Feature': col, 'Chi2': chi2, 'P-value': p})\n",
    "\n",
    "# Convert results to DataFrame for easier viewing\n",
    "results_df = pd.DataFrame(results)\n",
    "print(\"Chi-square test results for categorical features and is_fraud:\\n\", results_df)"
   ]
  },
  {
   "cell_type": "code",
   "execution_count": null,
   "metadata": {},
   "outputs": [],
   "source": []
  },
  {
   "cell_type": "markdown",
   "metadata": {},
   "source": [
    "6.2 Correlation Coefficient (Numerical Features)"
   ]
  },
  {
   "cell_type": "code",
   "execution_count": 69,
   "metadata": {},
   "outputs": [
    {
     "name": "stdout",
     "output_type": "stream",
     "text": [
      "Selected Features: ['avg_trans_amount']\n",
      "Accuracies: [0.9964550493054056]\n"
     ]
    }
   ],
   "source": [
    "#Assuming df is your dataset with features and 'is_fraud' as the target\n",
    "X = df[['transactions_per_day', 'avg_trans_amount', 'total_trans_amount',\n",
    "        'med_trans_amount', 'std_trans_amount', 'age', 'fraud_ratio',\n",
    "        'distance_to_merch']]\n",
    "y = df['is_fraud']\n",
    "\n",
    "# Split data into training and testing sets\n",
    "X_train, X_test, y_train, y_test = train_test_split(X, y, test_size=0.2, random_state=42)\n",
    "\n",
    "selected_features = []  # Initialize an empty list to store selected features\n",
    "accuracies = []          # Initialize an empty list to store accuracies\n",
    "\n",
    "# Start a loop to select features one by one until all features are selected\n",
    "while len(selected_features) < len(X.columns):\n",
    "    max_acc = -1         # Initialize maximum accuracy to a very low value\n",
    "    best_feature = None  # Initialize variable to store the best feature\n",
    "\n",
    "    # Iterate through each feature in X.columns\n",
    "    for feature in X.columns:\n",
    "        if feature not in selected_features:  # Check if the feature is not already selected\n",
    "            current_features = selected_features + [feature]  # Add the feature to the current selected features\n",
    "            X_train_subset = X_train[current_features]       # Subset the training data with current features\n",
    "            X_test_subset = X_test[current_features]         # Subset the testing data with current features\n",
    "\n",
    "            # Initialize and train a logistic regression model\n",
    "            clf = LogisticRegression(max_iter=1000, random_state=42)\n",
    "            clf.fit(X_train_subset, y_train)\n",
    "            y_pred = clf.predict(X_test_subset)  # Make predictions on the test data\n",
    "\n",
    "            accuracy = accuracy_score(y_test, y_pred)  # Calculate accuracy of predictions\n",
    "\n",
    "            # Check if current accuracy is better than previous maximum accuracy\n",
    "            if accuracy > max_acc:\n",
    "                max_acc = accuracy  # Update maximum accuracy\n",
    "                best_feature = feature  # Update best feature\n",
    "\n",
    "    # If adding the best feature improves accuracy, add it to selected features and record accuracy\n",
    "    if max_acc > max(accuracies, default=0):\n",
    "        selected_features.append(best_feature)\n",
    "        accuracies.append(max_acc)\n",
    "    else:\n",
    "        break  # Exit the loop if no improvement in accuracy\n",
    "\n",
    "# Print selected features and their corresponding accuracies\n",
    "print(\"Selected Features:\", selected_features)\n",
    "print(\"Accuracies:\", accuracies)"
   ]
  },
  {
   "cell_type": "markdown",
   "metadata": {},
   "source": [
    "## 6. Feature Selection"
   ]
  },
  {
   "cell_type": "markdown",
   "metadata": {},
   "source": [
    "6.1 Chi-Square Test for Categorical Feature Independence with Fraud"
   ]
  },
  {
   "cell_type": "code",
   "execution_count": 70,
   "metadata": {},
   "outputs": [
    {
     "name": "stdout",
     "output_type": "stream",
     "text": [
      "Chi-square test results for categorical features and is_fraud:\n",
      "                    Feature          Chi2        P-value\n",
      "0                     Week    453.197099   2.748520e-78\n",
      "1     transaction_per_week   1080.043218  1.119098e-165\n",
      "2   transactions_per_month   8521.689346   0.000000e+00\n",
      "3  transactions_per_season  11529.625863   0.000000e+00\n",
      "4                  pop_cat     77.751160   1.307826e-17\n"
     ]
    }
   ],
   "source": [
    "#List of categorical columns to test\n",
    "categorical_cols = ['Week', 'transaction_per_week', 'transactions_per_month', 'transactions_per_season', 'pop_cat']\n",
    "\n",
    "# Loop through each categorical column and perform chi-square test\n",
    "results = []\n",
    "for col in categorical_cols:\n",
    "    contingency_table = pd.crosstab(df[col], df['is_fraud'])\n",
    "    chi2, p, dof, expected = chi2_contingency(contingency_table)\n",
    "    results.append({'Feature': col, 'Chi2': chi2, 'P-value': p})\n",
    "\n",
    "# Convert results to DataFrame for easier viewing\n",
    "results_df = pd.DataFrame(results)\n",
    "print(\"Chi-square test results for categorical features and is_fraud:\\n\", results_df)"
   ]
  },
  {
   "cell_type": "code",
   "execution_count": 71,
   "metadata": {},
   "outputs": [
    {
     "name": "stdout",
     "output_type": "stream",
     "text": [
      "Selected Features: ['transactions_per_day', 'avg_trans_amount', 'total_trans_amount', 'med_trans_amount', 'age', 'fraud_ratio', 'distance_to_merch']\n",
      "Accuracies: [0.9964730439789822]\n"
     ]
    }
   ],
   "source": [
    "import pandas as pd\n",
    "from sklearn.model_selection import train_test_split\n",
    "from sklearn.linear_model import LogisticRegression\n",
    "from sklearn.metrics import accuracy_score\n",
    "\n",
    "# Assuming df is your dataset with features and 'is_fraud' as the target\n",
    "# Replace df with your actual dataset\n",
    "X = df[['transactions_per_day', 'avg_trans_amount', 'total_trans_amount',\n",
    "        'med_trans_amount', 'std_trans_amount', 'age', 'fraud_ratio',\n",
    "        'distance_to_merch']]\n",
    "y = df['is_fraud']\n",
    "\n",
    "# Split data into training and testing sets\n",
    "X_train, X_test, y_train, y_test = train_test_split(X, y, test_size=0.2, random_state=42)\n",
    "\n",
    "selected_features = list(X.columns)\n",
    "accuracies = []\n",
    "\n",
    "while len(selected_features) > 0:\n",
    "    max_acc = -1\n",
    "    worst_feature = None\n",
    "\n",
    "    for feature in selected_features:\n",
    "        current_features = [f for f in selected_features if f != feature]\n",
    "        X_train_subset = X_train[current_features]\n",
    "        X_test_subset = X_test[current_features]\n",
    "\n",
    "        clf = LogisticRegression(max_iter=1000, random_state=42)\n",
    "        clf.fit(X_train_subset, y_train)\n",
    "        y_pred = clf.predict(X_test_subset)\n",
    "\n",
    "        accuracy = accuracy_score(y_test, y_pred)\n",
    "\n",
    "        if accuracy > max_acc:\n",
    "            max_acc = accuracy\n",
    "            worst_feature = feature\n",
    "\n",
    "    if max_acc > max(accuracies, default=0):\n",
    "        selected_features.remove(worst_feature)\n",
    "        accuracies.append(max_acc)\n",
    "    else:\n",
    "        break\n",
    "\n",
    "print(\"Selected Features:\", selected_features)\n",
    "print(\"Accuracies:\", accuracies)"
   ]
  },
  {
   "cell_type": "markdown",
   "metadata": {},
   "source": [
    "7. Resampling dataset"
   ]
  },
  {
   "cell_type": "code",
   "execution_count": null,
   "metadata": {},
   "outputs": [],
   "source": [
    "# Initialize the LabelEncoder\n",
    "label_encoder = LabelEncoder()\n",
    "\n",
    "# Encode categorical variables into numerical values\n",
    "df['merchant'] = label_encoder.fit_transform(df['merchant'])\n",
    "df['category'] = label_encoder.fit_transform(df['category'])\n",
    "df['city'] = label_encoder.fit_transform(df['city'])\n",
    "df['state'] = label_encoder.fit_transform(df['state'])\n",
    "df['pop_cat'] = label_encoder.fit_transform(df['pop_cat'])"
   ]
  },
  {
   "cell_type": "code",
   "execution_count": null,
   "metadata": {},
   "outputs": [],
   "source": [
    "# Drop irrelevant or personally identifiable information (PII) columns\n",
    "df = df.drop(columns=[\"first\", \"last\", \"street\", \"trans_num\", \"dob\", \"trans_date\", \"trans_time\", \"job\"])\n",
    "\n",
    "# Apply the mapping to convert 'gender' column to numerical values\n",
    "df['gender'] = df['gender'].map({'M': 1, 'F': 0})"
   ]
  },
  {
   "cell_type": "code",
   "execution_count": null,
   "metadata": {},
   "outputs": [
    {
     "name": "stdout",
     "output_type": "stream",
     "text": [
      "is_fraud\n",
      "0    2145\n",
      "1    2145\n",
      "Name: count, dtype: int64\n"
     ]
    },
    {
     "data": {
      "text/plain": [
       "<Axes: xlabel='is_fraud', ylabel='count'>"
      ]
     },
     "execution_count": 36,
     "metadata": {},
     "output_type": "execute_result"
    },
    {
     "data": {
      "image/png": "[encoded data removed]",
      "text/plain": [
       "<Figure size 640x480 with 1 Axes>"
      ]
     },
     "metadata": {},
     "output_type": "display_data"
    }
   ],
   "source": [
    "# Step 3: Split the data into features (X) and target (y)\n",
    "X = df.drop(columns=['is_fraud'])  # Replace 'is_fraud' with your target column name if different\n",
    "y = df['is_fraud']  # Replace 'is_fraud' with your target column name if different\n",
    "\n",
    "# Step 4: Apply RandomUnderSampler to balance the dataset\n",
    "rus = RandomUnderSampler(random_state=42)\n",
    "X_under, y_under = rus.fit_resample(X, y)\n",
    "\n",
    "# Create the new dataset df_under from the resampled data\n",
    "df_under = pd.DataFrame(X_under, columns=X.columns)\n",
    "df_under['is_fraud'] = y_under\n",
    "\n",
    "# Check the balance of the resampled data\n",
    "print(y_under.value_counts())\n",
    "sns.countplot(x=y_under)"
   ]
  },
  {
   "cell_type": "markdown",
   "metadata": {},
   "source": [
    "## Scaling"
   ]
  },
  {
   "cell_type": "code",
   "execution_count": null,
   "metadata": {},
   "outputs": [
    {
     "name": "stdout",
     "output_type": "stream",
     "text": [
      "Classification Report on the test dataset:\n",
      "              precision    recall  f1-score   support\n",
      "\n",
      "           0       0.99      0.97      0.98       452\n",
      "           1       0.97      0.99      0.98       406\n",
      "\n",
      "    accuracy                           0.98       858\n",
      "   macro avg       0.98      0.98      0.98       858\n",
      "weighted avg       0.98      0.98      0.98       858\n",
      "\n",
      "\n",
      "Confusion Matrix on the test dataset:\n",
      "[[438  14]\n",
      " [  3 403]]\n"
     ]
    }
   ],
   "source": [
    "import joblib\n",
    "import pandas as pd\n",
    "from sklearn.metrics import accuracy_score, classification_report, confusion_matrix\n",
    "import seaborn as sns\n",
    "import matplotlib.pyplot as plt\n",
    "from sklearn.model_selection import train_test_split\n",
    "from sklearn.preprocessing import StandardScaler\n",
    "\n",
    "# Assuming df_under is the balanced dataset\n",
    "# Step 1: Split the balanced data into features (X) and target (y)\n",
    "\n",
    "\n",
    "X = df_under.drop(columns=['is_fraud'])\n",
    "y = df_under['is_fraud']\n",
    "# Step 2: Split the data into training and testing sets\n",
    "X_train, X_test, y_train, y_test = train_test_split(X, y, test_size=0.2, random_state=42)\n",
    "# Step 3: Scale the data\n",
    "scaler = StandardScaler()\n",
    "X_train_scaled = scaler.fit_transform(X_train)\n",
    "X_test_scaled = scaler.transform(X_test)\n",
    "# Load the previously saved model\n",
    "best_xgb = joblib.load('best_xgb_model.jobLib')  # Replace with your actual model filename\n",
    "# Step 4: Make predictions on the scaled test data\n",
    "y_pred = best_xgb.predict(X_test_scaled)\n",
    "# Print the classification report\n",
    "print(\"Classification Report on the test dataset:\")\n",
    "print(classification_report(y_test, y_pred))\n",
    "# Calculate and print the confusion matrix\n",
    "conf_matrix = confusion_matrix(y_test, y_pred)\n",
    "print(\"\\nConfusion Matrix on the test dataset:\")\n",
    "print(conf_matrix)"
   ]
  },
  {
   "cell_type": "code",
   "execution_count": null,
   "metadata": {},
   "outputs": [
    {
     "data": {
      "image/png": "[encoded data removed]",
      "text/plain": [
       "<Figure size 1000x700 with 2 Axes>"
      ]
     },
     "metadata": {},
     "output_type": "display_data"
    },
    {
     "name": "stdout",
     "output_type": "stream",
     "text": [
      "\n",
      "Model accuracy on the test dataset: 0.9801864801864801\n"
     ]
    }
   ],
   "source": [
    "# Plot the confusion matrix\n",
    "plt.figure(figsize=(10, 7))\n",
    "sns.heatmap(conf_matrix, annot=True, fmt='d', cmap='Blues', xticklabels=['Not Fraud', 'Fraud'], yticklabels=['Not Fraud', 'Fraud'])\n",
    "plt.xlabel('Predicted')\n",
    "plt.ylabel('Actual')\n",
    "plt.title('Confusion Matrix on the test dataset')\n",
    "plt.show()\n",
    "# Print the accuracy of the model on the test dataset\n",
    "accuracy = accuracy_score(y_test, y_pred)\n",
    "print(\"\\nModel accuracy on the test dataset:\", accuracy)"
   ]
  },
  {
   "cell_type": "code",
   "execution_count": null,
   "metadata": {},
   "outputs": [],
   "source": []
  },
  {
   "cell_type": "code",
   "execution_count": null,
   "metadata": {},
   "outputs": [],
   "source": []
  }
 ],
 "metadata": {
  "kernelspec": {
   "display_name": "base",
   "language": "python",
   "name": "python3"
  },
  "language_info": {
   "codemirror_mode": {
    "name": "ipython",
    "version": 3
   },
   "file_extension": ".py",
   "mimetype": "text/x-python",
   "name": "python",
   "nbconvert_exporter": "python",
   "pygments_lexer": "ipython3",
   "version": "3.11.4"
  }
 },
 "nbformat": 4,
 "nbformat_minor": 2
}
