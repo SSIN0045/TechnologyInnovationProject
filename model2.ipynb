{
 "cells": [
  {
   "metadata": {},
   "cell_type": "markdown",
   "source": "# <font color=\"006179\"> Package Required</font>",
   "id": "7a596e808b729cbd"
  },
  {
   "cell_type": "code",
   "id": "initial_id",
   "metadata": {
    "collapsed": true,
    "ExecuteTime": {
     "end_time": "2024-07-31T03:34:14.106010Z",
     "start_time": "2024-07-31T03:34:13.747821Z"
    }
   },
   "source": [
    "import pandas as pd\n",
    "import seaborn as sns\n",
    "import numpy as np\n",
    "import matplotlib.pyplot as plt\n",
    "from xgboost import XGBClassifier\n",
    "from sklearn.model_selection import train_test_split\n",
    "from sklearn.preprocessing import LabelEncoder\n",
    "import math\n",
    "from sklearn.ensemble import RandomForestClassifier\n",
    "from sklearn.neighbors import KNeighborsClassifier\n",
    "from imblearn.under_sampling import RandomUnderSampler\n",
    "from sklearn.linear_model import (LogisticRegression, ElasticNet)\n",
    "from sklearn.preprocessing import StandardScaler\n",
    "from sklearn.metrics import roc_auc_score, classification_report, confusion_matrix, average_precision_score, precision_score, recall_score, f1_score, roc_curve\n",
    "from sklearn.tree import DecisionTreeClassifier\n",
    "from sklearn.svm import SVC\n",
    "from scipy.stats import chi2_contingency\n",
    "from sklearn.metrics import accuracy_score\n",
    "from sklearn.model_selection import GridSearchCV, RandomizedSearchCV, StratifiedKFold\n",
    "from xgboost import XGBClassifier\n",
    "import joblib\n",
    "\n",
    "\n",
    "\n",
    "\n"
   ],
   "outputs": [],
   "execution_count": 1
  },
  {
   "cell_type": "code",
   "id": "4c69f563dbc8e8a5",
   "metadata": {
    "ExecuteTime": {
     "end_time": "2024-07-31T03:34:19.248360Z",
     "start_time": "2024-07-31T03:34:14.107828Z"
    }
   },
   "source": "df = pd.read_csv(\"/Users/nglongvu1002/Desktop/dataset/fraudTrain.csv\")",
   "outputs": [],
   "execution_count": 2
  },
  {
   "cell_type": "code",
   "id": "efa766cefb53de73",
   "metadata": {
    "ExecuteTime": {
     "end_time": "2024-07-31T03:34:19.919138Z",
     "start_time": "2024-07-31T03:34:19.250294Z"
    }
   },
   "source": [
    "df.info()"
   ],
   "outputs": [
    {
     "name": "stdout",
     "output_type": "stream",
     "text": [
      "<class 'pandas.core.frame.DataFrame'>\n",
      "RangeIndex: 1296675 entries, 0 to 1296674\n",
      "Data columns (total 23 columns):\n",
      " #   Column                 Non-Null Count    Dtype  \n",
      "---  ------                 --------------    -----  \n",
      " 0   Unnamed: 0             1296675 non-null  int64  \n",
      " 1   trans_date_trans_time  1296675 non-null  object \n",
      " 2   cc_num                 1296675 non-null  int64  \n",
      " 3   merchant               1296675 non-null  object \n",
      " 4   category               1296675 non-null  object \n",
      " 5   amt                    1296675 non-null  float64\n",
      " 6   first                  1296675 non-null  object \n",
      " 7   last                   1296675 non-null  object \n",
      " 8   gender                 1296675 non-null  object \n",
      " 9   street                 1296675 non-null  object \n",
      " 10  city                   1296675 non-null  object \n",
      " 11  state                  1296675 non-null  object \n",
      " 12  zip                    1296675 non-null  int64  \n",
      " 13  lat                    1296675 non-null  float64\n",
      " 14  long                   1296675 non-null  float64\n",
      " 15  city_pop               1296675 non-null  int64  \n",
      " 16  job                    1296675 non-null  object \n",
      " 17  dob                    1296675 non-null  object \n",
      " 18  trans_num              1296675 non-null  object \n",
      " 19  unix_time              1296675 non-null  int64  \n",
      " 20  merch_lat              1296675 non-null  float64\n",
      " 21  merch_long             1296675 non-null  float64\n",
      " 22  is_fraud               1296675 non-null  int64  \n",
      "dtypes: float64(5), int64(6), object(12)\n",
      "memory usage: 227.5+ MB\n"
     ]
    }
   ],
   "execution_count": 3
  },
  {
   "cell_type": "code",
   "id": "64b89ee86269d0d2",
   "metadata": {
    "ExecuteTime": {
     "end_time": "2024-07-31T03:34:19.939192Z",
     "start_time": "2024-07-31T03:34:19.920541Z"
    }
   },
   "source": [
    "#Display the data\n",
    "df.head()"
   ],
   "outputs": [
    {
     "data": {
      "text/plain": [
       "   Unnamed: 0 trans_date_trans_time            cc_num  \\\n",
       "0           0   2019-01-01 00:00:18  2703186189652095   \n",
       "1           1   2019-01-01 00:00:44      630423337322   \n",
       "2           2   2019-01-01 00:00:51    38859492057661   \n",
       "3           3   2019-01-01 00:01:16  3534093764340240   \n",
       "4           4   2019-01-01 00:03:06   375534208663984   \n",
       "\n",
       "                             merchant       category     amt      first  \\\n",
       "0          fraud_Rippin, Kub and Mann       misc_net    4.97   Jennifer   \n",
       "1     fraud_Heller, Gutmann and Zieme    grocery_pos  107.23  Stephanie   \n",
       "2                fraud_Lind-Buckridge  entertainment  220.11     Edward   \n",
       "3  fraud_Kutch, Hermiston and Farrell  gas_transport   45.00     Jeremy   \n",
       "4                 fraud_Keeling-Crist       misc_pos   41.96      Tyler   \n",
       "\n",
       "      last gender                        street  ...      lat      long  \\\n",
       "0    Banks      F                561 Perry Cove  ...  36.0788  -81.1781   \n",
       "1     Gill      F  43039 Riley Greens Suite 393  ...  48.8878 -118.2105   \n",
       "2  Sanchez      M      594 White Dale Suite 530  ...  42.1808 -112.2620   \n",
       "3    White      M   9443 Cynthia Court Apt. 038  ...  46.2306 -112.1138   \n",
       "4   Garcia      M              408 Bradley Rest  ...  38.4207  -79.4629   \n",
       "\n",
       "   city_pop                                job         dob  \\\n",
       "0      3495          Psychologist, counselling  1988-03-09   \n",
       "1       149  Special educational needs teacher  1978-06-21   \n",
       "2      4154        Nature conservation officer  1962-01-19   \n",
       "3      1939                    Patent attorney  1967-01-12   \n",
       "4        99     Dance movement psychotherapist  1986-03-28   \n",
       "\n",
       "                          trans_num   unix_time  merch_lat  merch_long  \\\n",
       "0  0b242abb623afc578575680df30655b9  1325376018  36.011293  -82.048315   \n",
       "1  1f76529f8574734946361c461b024d99  1325376044  49.159047 -118.186462   \n",
       "2  a1a22d70485983eac12b5b88dad1cf95  1325376051  43.150704 -112.154481   \n",
       "3  6b849c168bdad6f867558c3793159a81  1325376076  47.034331 -112.561071   \n",
       "4  a41d7549acf90789359a9aa5346dcb46  1325376186  38.674999  -78.632459   \n",
       "\n",
       "   is_fraud  \n",
       "0         0  \n",
       "1         0  \n",
       "2         0  \n",
       "3         0  \n",
       "4         0  \n",
       "\n",
       "[5 rows x 23 columns]"
      ],
      "text/html": [
       "<div>\n",
       "<style scoped>\n",
       "    .dataframe tbody tr th:only-of-type {\n",
       "        vertical-align: middle;\n",
       "    }\n",
       "\n",
       "    .dataframe tbody tr th {\n",
       "        vertical-align: top;\n",
       "    }\n",
       "\n",
       "    .dataframe thead th {\n",
       "        text-align: right;\n",
       "    }\n",
       "</style>\n",
       "<table border=\"1\" class=\"dataframe\">\n",
       "  <thead>\n",
       "    <tr style=\"text-align: right;\">\n",
       "      <th></th>\n",
       "      <th>Unnamed: 0</th>\n",
       "      <th>trans_date_trans_time</th>\n",
       "      <th>cc_num</th>\n",
       "      <th>merchant</th>\n",
       "      <th>category</th>\n",
       "      <th>amt</th>\n",
       "      <th>first</th>\n",
       "      <th>last</th>\n",
       "      <th>gender</th>\n",
       "      <th>street</th>\n",
       "      <th>...</th>\n",
       "      <th>lat</th>\n",
       "      <th>long</th>\n",
       "      <th>city_pop</th>\n",
       "      <th>job</th>\n",
       "      <th>dob</th>\n",
       "      <th>trans_num</th>\n",
       "      <th>unix_time</th>\n",
       "      <th>merch_lat</th>\n",
       "      <th>merch_long</th>\n",
       "      <th>is_fraud</th>\n",
       "    </tr>\n",
       "  </thead>\n",
       "  <tbody>\n",
       "    <tr>\n",
       "      <th>0</th>\n",
       "      <td>0</td>\n",
       "      <td>2019-01-01 00:00:18</td>\n",
       "      <td>2703186189652095</td>\n",
       "      <td>fraud_Rippin, Kub and Mann</td>\n",
       "      <td>misc_net</td>\n",
       "      <td>4.97</td>\n",
       "      <td>Jennifer</td>\n",
       "      <td>Banks</td>\n",
       "      <td>F</td>\n",
       "      <td>561 Perry Cove</td>\n",
       "      <td>...</td>\n",
       "      <td>36.0788</td>\n",
       "      <td>-81.1781</td>\n",
       "      <td>3495</td>\n",
       "      <td>Psychologist, counselling</td>\n",
       "      <td>1988-03-09</td>\n",
       "      <td>0b242abb623afc578575680df30655b9</td>\n",
       "      <td>1325376018</td>\n",
       "      <td>36.011293</td>\n",
       "      <td>-82.048315</td>\n",
       "      <td>0</td>\n",
       "    </tr>\n",
       "    <tr>\n",
       "      <th>1</th>\n",
       "      <td>1</td>\n",
       "      <td>2019-01-01 00:00:44</td>\n",
       "      <td>630423337322</td>\n",
       "      <td>fraud_Heller, Gutmann and Zieme</td>\n",
       "      <td>grocery_pos</td>\n",
       "      <td>107.23</td>\n",
       "      <td>Stephanie</td>\n",
       "      <td>Gill</td>\n",
       "      <td>F</td>\n",
       "      <td>43039 Riley Greens Suite 393</td>\n",
       "      <td>...</td>\n",
       "      <td>48.8878</td>\n",
       "      <td>-118.2105</td>\n",
       "      <td>149</td>\n",
       "      <td>Special educational needs teacher</td>\n",
       "      <td>1978-06-21</td>\n",
       "      <td>1f76529f8574734946361c461b024d99</td>\n",
       "      <td>1325376044</td>\n",
       "      <td>49.159047</td>\n",
       "      <td>-118.186462</td>\n",
       "      <td>0</td>\n",
       "    </tr>\n",
       "    <tr>\n",
       "      <th>2</th>\n",
       "      <td>2</td>\n",
       "      <td>2019-01-01 00:00:51</td>\n",
       "      <td>38859492057661</td>\n",
       "      <td>fraud_Lind-Buckridge</td>\n",
       "      <td>entertainment</td>\n",
       "      <td>220.11</td>\n",
       "      <td>Edward</td>\n",
       "      <td>Sanchez</td>\n",
       "      <td>M</td>\n",
       "      <td>594 White Dale Suite 530</td>\n",
       "      <td>...</td>\n",
       "      <td>42.1808</td>\n",
       "      <td>-112.2620</td>\n",
       "      <td>4154</td>\n",
       "      <td>Nature conservation officer</td>\n",
       "      <td>1962-01-19</td>\n",
       "      <td>a1a22d70485983eac12b5b88dad1cf95</td>\n",
       "      <td>1325376051</td>\n",
       "      <td>43.150704</td>\n",
       "      <td>-112.154481</td>\n",
       "      <td>0</td>\n",
       "    </tr>\n",
       "    <tr>\n",
       "      <th>3</th>\n",
       "      <td>3</td>\n",
       "      <td>2019-01-01 00:01:16</td>\n",
       "      <td>3534093764340240</td>\n",
       "      <td>fraud_Kutch, Hermiston and Farrell</td>\n",
       "      <td>gas_transport</td>\n",
       "      <td>45.00</td>\n",
       "      <td>Jeremy</td>\n",
       "      <td>White</td>\n",
       "      <td>M</td>\n",
       "      <td>9443 Cynthia Court Apt. 038</td>\n",
       "      <td>...</td>\n",
       "      <td>46.2306</td>\n",
       "      <td>-112.1138</td>\n",
       "      <td>1939</td>\n",
       "      <td>Patent attorney</td>\n",
       "      <td>1967-01-12</td>\n",
       "      <td>6b849c168bdad6f867558c3793159a81</td>\n",
       "      <td>1325376076</td>\n",
       "      <td>47.034331</td>\n",
       "      <td>-112.561071</td>\n",
       "      <td>0</td>\n",
       "    </tr>\n",
       "    <tr>\n",
       "      <th>4</th>\n",
       "      <td>4</td>\n",
       "      <td>2019-01-01 00:03:06</td>\n",
       "      <td>375534208663984</td>\n",
       "      <td>fraud_Keeling-Crist</td>\n",
       "      <td>misc_pos</td>\n",
       "      <td>41.96</td>\n",
       "      <td>Tyler</td>\n",
       "      <td>Garcia</td>\n",
       "      <td>M</td>\n",
       "      <td>408 Bradley Rest</td>\n",
       "      <td>...</td>\n",
       "      <td>38.4207</td>\n",
       "      <td>-79.4629</td>\n",
       "      <td>99</td>\n",
       "      <td>Dance movement psychotherapist</td>\n",
       "      <td>1986-03-28</td>\n",
       "      <td>a41d7549acf90789359a9aa5346dcb46</td>\n",
       "      <td>1325376186</td>\n",
       "      <td>38.674999</td>\n",
       "      <td>-78.632459</td>\n",
       "      <td>0</td>\n",
       "    </tr>\n",
       "  </tbody>\n",
       "</table>\n",
       "<p>5 rows × 23 columns</p>\n",
       "</div>"
      ]
     },
     "execution_count": 4,
     "metadata": {},
     "output_type": "execute_result"
    }
   ],
   "execution_count": 4
  },
  {
   "cell_type": "code",
   "id": "109066cfafd43eae",
   "metadata": {
    "ExecuteTime": {
     "end_time": "2024-07-31T03:34:20.570048Z",
     "start_time": "2024-07-31T03:34:19.940592Z"
    }
   },
   "source": [
    "df.info()"
   ],
   "outputs": [
    {
     "name": "stdout",
     "output_type": "stream",
     "text": [
      "<class 'pandas.core.frame.DataFrame'>\n",
      "RangeIndex: 1296675 entries, 0 to 1296674\n",
      "Data columns (total 23 columns):\n",
      " #   Column                 Non-Null Count    Dtype  \n",
      "---  ------                 --------------    -----  \n",
      " 0   Unnamed: 0             1296675 non-null  int64  \n",
      " 1   trans_date_trans_time  1296675 non-null  object \n",
      " 2   cc_num                 1296675 non-null  int64  \n",
      " 3   merchant               1296675 non-null  object \n",
      " 4   category               1296675 non-null  object \n",
      " 5   amt                    1296675 non-null  float64\n",
      " 6   first                  1296675 non-null  object \n",
      " 7   last                   1296675 non-null  object \n",
      " 8   gender                 1296675 non-null  object \n",
      " 9   street                 1296675 non-null  object \n",
      " 10  city                   1296675 non-null  object \n",
      " 11  state                  1296675 non-null  object \n",
      " 12  zip                    1296675 non-null  int64  \n",
      " 13  lat                    1296675 non-null  float64\n",
      " 14  long                   1296675 non-null  float64\n",
      " 15  city_pop               1296675 non-null  int64  \n",
      " 16  job                    1296675 non-null  object \n",
      " 17  dob                    1296675 non-null  object \n",
      " 18  trans_num              1296675 non-null  object \n",
      " 19  unix_time              1296675 non-null  int64  \n",
      " 20  merch_lat              1296675 non-null  float64\n",
      " 21  merch_long             1296675 non-null  float64\n",
      " 22  is_fraud               1296675 non-null  int64  \n",
      "dtypes: float64(5), int64(6), object(12)\n",
      "memory usage: 227.5+ MB\n"
     ]
    }
   ],
   "execution_count": 5
  },
  {
   "cell_type": "code",
   "id": "f5fba0a9644c69ef",
   "metadata": {
    "ExecuteTime": {
     "end_time": "2024-07-31T03:34:21.191410Z",
     "start_time": "2024-07-31T03:34:20.571642Z"
    }
   },
   "source": [
    "#Sum the missing value\n",
    "df.isnull().sum()"
   ],
   "outputs": [
    {
     "data": {
      "text/plain": [
       "Unnamed: 0               0\n",
       "trans_date_trans_time    0\n",
       "cc_num                   0\n",
       "merchant                 0\n",
       "category                 0\n",
       "amt                      0\n",
       "first                    0\n",
       "last                     0\n",
       "gender                   0\n",
       "street                   0\n",
       "city                     0\n",
       "state                    0\n",
       "zip                      0\n",
       "lat                      0\n",
       "long                     0\n",
       "city_pop                 0\n",
       "job                      0\n",
       "dob                      0\n",
       "trans_num                0\n",
       "unix_time                0\n",
       "merch_lat                0\n",
       "merch_long               0\n",
       "is_fraud                 0\n",
       "dtype: int64"
      ]
     },
     "execution_count": 6,
     "metadata": {},
     "output_type": "execute_result"
    }
   ],
   "execution_count": 6
  },
  {
   "cell_type": "code",
   "id": "a2cf23e0c787d8e4",
   "metadata": {
    "ExecuteTime": {
     "end_time": "2024-07-31T03:34:21.563658Z",
     "start_time": "2024-07-31T03:34:21.194364Z"
    }
   },
   "source": [
    "#Summary the description of the dataset\n",
    "df.describe()"
   ],
   "outputs": [
    {
     "data": {
      "text/plain": [
       "         Unnamed: 0        cc_num           amt           zip           lat  \\\n",
       "count  1.296675e+06  1.296675e+06  1.296675e+06  1.296675e+06  1.296675e+06   \n",
       "mean   6.483370e+05  4.171920e+17  7.035104e+01  4.880067e+04  3.853762e+01   \n",
       "std    3.743180e+05  1.308806e+18  1.603160e+02  2.689322e+04  5.075808e+00   \n",
       "min    0.000000e+00  6.041621e+10  1.000000e+00  1.257000e+03  2.002710e+01   \n",
       "25%    3.241685e+05  1.800429e+14  9.650000e+00  2.623700e+04  3.462050e+01   \n",
       "50%    6.483370e+05  3.521417e+15  4.752000e+01  4.817400e+04  3.935430e+01   \n",
       "75%    9.725055e+05  4.642255e+15  8.314000e+01  7.204200e+04  4.194040e+01   \n",
       "max    1.296674e+06  4.992346e+18  2.894890e+04  9.978300e+04  6.669330e+01   \n",
       "\n",
       "               long      city_pop     unix_time     merch_lat    merch_long  \\\n",
       "count  1.296675e+06  1.296675e+06  1.296675e+06  1.296675e+06  1.296675e+06   \n",
       "mean  -9.022634e+01  8.882444e+04  1.349244e+09  3.853734e+01 -9.022646e+01   \n",
       "std    1.375908e+01  3.019564e+05  1.284128e+07  5.109788e+00  1.377109e+01   \n",
       "min   -1.656723e+02  2.300000e+01  1.325376e+09  1.902779e+01 -1.666712e+02   \n",
       "25%   -9.679800e+01  7.430000e+02  1.338751e+09  3.473357e+01 -9.689728e+01   \n",
       "50%   -8.747690e+01  2.456000e+03  1.349250e+09  3.936568e+01 -8.743839e+01   \n",
       "75%   -8.015800e+01  2.032800e+04  1.359385e+09  4.195716e+01 -8.023680e+01   \n",
       "max   -6.795030e+01  2.906700e+06  1.371817e+09  6.751027e+01 -6.695090e+01   \n",
       "\n",
       "           is_fraud  \n",
       "count  1.296675e+06  \n",
       "mean   5.788652e-03  \n",
       "std    7.586269e-02  \n",
       "min    0.000000e+00  \n",
       "25%    0.000000e+00  \n",
       "50%    0.000000e+00  \n",
       "75%    0.000000e+00  \n",
       "max    1.000000e+00  "
      ],
      "text/html": [
       "<div>\n",
       "<style scoped>\n",
       "    .dataframe tbody tr th:only-of-type {\n",
       "        vertical-align: middle;\n",
       "    }\n",
       "\n",
       "    .dataframe tbody tr th {\n",
       "        vertical-align: top;\n",
       "    }\n",
       "\n",
       "    .dataframe thead th {\n",
       "        text-align: right;\n",
       "    }\n",
       "</style>\n",
       "<table border=\"1\" class=\"dataframe\">\n",
       "  <thead>\n",
       "    <tr style=\"text-align: right;\">\n",
       "      <th></th>\n",
       "      <th>Unnamed: 0</th>\n",
       "      <th>cc_num</th>\n",
       "      <th>amt</th>\n",
       "      <th>zip</th>\n",
       "      <th>lat</th>\n",
       "      <th>long</th>\n",
       "      <th>city_pop</th>\n",
       "      <th>unix_time</th>\n",
       "      <th>merch_lat</th>\n",
       "      <th>merch_long</th>\n",
       "      <th>is_fraud</th>\n",
       "    </tr>\n",
       "  </thead>\n",
       "  <tbody>\n",
       "    <tr>\n",
       "      <th>count</th>\n",
       "      <td>1.296675e+06</td>\n",
       "      <td>1.296675e+06</td>\n",
       "      <td>1.296675e+06</td>\n",
       "      <td>1.296675e+06</td>\n",
       "      <td>1.296675e+06</td>\n",
       "      <td>1.296675e+06</td>\n",
       "      <td>1.296675e+06</td>\n",
       "      <td>1.296675e+06</td>\n",
       "      <td>1.296675e+06</td>\n",
       "      <td>1.296675e+06</td>\n",
       "      <td>1.296675e+06</td>\n",
       "    </tr>\n",
       "    <tr>\n",
       "      <th>mean</th>\n",
       "      <td>6.483370e+05</td>\n",
       "      <td>4.171920e+17</td>\n",
       "      <td>7.035104e+01</td>\n",
       "      <td>4.880067e+04</td>\n",
       "      <td>3.853762e+01</td>\n",
       "      <td>-9.022634e+01</td>\n",
       "      <td>8.882444e+04</td>\n",
       "      <td>1.349244e+09</td>\n",
       "      <td>3.853734e+01</td>\n",
       "      <td>-9.022646e+01</td>\n",
       "      <td>5.788652e-03</td>\n",
       "    </tr>\n",
       "    <tr>\n",
       "      <th>std</th>\n",
       "      <td>3.743180e+05</td>\n",
       "      <td>1.308806e+18</td>\n",
       "      <td>1.603160e+02</td>\n",
       "      <td>2.689322e+04</td>\n",
       "      <td>5.075808e+00</td>\n",
       "      <td>1.375908e+01</td>\n",
       "      <td>3.019564e+05</td>\n",
       "      <td>1.284128e+07</td>\n",
       "      <td>5.109788e+00</td>\n",
       "      <td>1.377109e+01</td>\n",
       "      <td>7.586269e-02</td>\n",
       "    </tr>\n",
       "    <tr>\n",
       "      <th>min</th>\n",
       "      <td>0.000000e+00</td>\n",
       "      <td>6.041621e+10</td>\n",
       "      <td>1.000000e+00</td>\n",
       "      <td>1.257000e+03</td>\n",
       "      <td>2.002710e+01</td>\n",
       "      <td>-1.656723e+02</td>\n",
       "      <td>2.300000e+01</td>\n",
       "      <td>1.325376e+09</td>\n",
       "      <td>1.902779e+01</td>\n",
       "      <td>-1.666712e+02</td>\n",
       "      <td>0.000000e+00</td>\n",
       "    </tr>\n",
       "    <tr>\n",
       "      <th>25%</th>\n",
       "      <td>3.241685e+05</td>\n",
       "      <td>1.800429e+14</td>\n",
       "      <td>9.650000e+00</td>\n",
       "      <td>2.623700e+04</td>\n",
       "      <td>3.462050e+01</td>\n",
       "      <td>-9.679800e+01</td>\n",
       "      <td>7.430000e+02</td>\n",
       "      <td>1.338751e+09</td>\n",
       "      <td>3.473357e+01</td>\n",
       "      <td>-9.689728e+01</td>\n",
       "      <td>0.000000e+00</td>\n",
       "    </tr>\n",
       "    <tr>\n",
       "      <th>50%</th>\n",
       "      <td>6.483370e+05</td>\n",
       "      <td>3.521417e+15</td>\n",
       "      <td>4.752000e+01</td>\n",
       "      <td>4.817400e+04</td>\n",
       "      <td>3.935430e+01</td>\n",
       "      <td>-8.747690e+01</td>\n",
       "      <td>2.456000e+03</td>\n",
       "      <td>1.349250e+09</td>\n",
       "      <td>3.936568e+01</td>\n",
       "      <td>-8.743839e+01</td>\n",
       "      <td>0.000000e+00</td>\n",
       "    </tr>\n",
       "    <tr>\n",
       "      <th>75%</th>\n",
       "      <td>9.725055e+05</td>\n",
       "      <td>4.642255e+15</td>\n",
       "      <td>8.314000e+01</td>\n",
       "      <td>7.204200e+04</td>\n",
       "      <td>4.194040e+01</td>\n",
       "      <td>-8.015800e+01</td>\n",
       "      <td>2.032800e+04</td>\n",
       "      <td>1.359385e+09</td>\n",
       "      <td>4.195716e+01</td>\n",
       "      <td>-8.023680e+01</td>\n",
       "      <td>0.000000e+00</td>\n",
       "    </tr>\n",
       "    <tr>\n",
       "      <th>max</th>\n",
       "      <td>1.296674e+06</td>\n",
       "      <td>4.992346e+18</td>\n",
       "      <td>2.894890e+04</td>\n",
       "      <td>9.978300e+04</td>\n",
       "      <td>6.669330e+01</td>\n",
       "      <td>-6.795030e+01</td>\n",
       "      <td>2.906700e+06</td>\n",
       "      <td>1.371817e+09</td>\n",
       "      <td>6.751027e+01</td>\n",
       "      <td>-6.695090e+01</td>\n",
       "      <td>1.000000e+00</td>\n",
       "    </tr>\n",
       "  </tbody>\n",
       "</table>\n",
       "</div>"
      ]
     },
     "execution_count": 7,
     "metadata": {},
     "output_type": "execute_result"
    }
   ],
   "execution_count": 7
  },
  {
   "cell_type": "code",
   "id": "c85233f8c20e4fd1",
   "metadata": {
    "ExecuteTime": {
     "end_time": "2024-07-31T03:34:21.576789Z",
     "start_time": "2024-07-31T03:34:21.566212Z"
    }
   },
   "source": [
    "#Distribute the class\n",
    "df[('is_fraud')].value_counts()"
   ],
   "outputs": [
    {
     "data": {
      "text/plain": [
       "is_fraud\n",
       "0    1289169\n",
       "1       7506\n",
       "Name: count, dtype: int64"
      ]
     },
     "execution_count": 8,
     "metadata": {},
     "output_type": "execute_result"
    }
   ],
   "execution_count": 8
  },
  {
   "cell_type": "markdown",
   "source": "# <font color =\"006179\"> Pre-Processing </font>",
   "metadata": {
    "collapsed": false
   },
   "id": "cb3e638a434483be"
  },
  {
   "metadata": {
    "ExecuteTime": {
     "end_time": "2024-07-31T03:34:23.647869Z",
     "start_time": "2024-07-31T03:34:21.578158Z"
    }
   },
   "cell_type": "code",
   "source": [
    "#Split the column trans_date_trans_time into 2 separate columns, including trans_date and trans_time\n",
    "df['trans_date'] = pd.to_datetime(df['trans_date_trans_time'], format='%Y-%m-%d %H:%M:%S').dt.date\n",
    "df['trans_time'] = pd.to_datetime(df['trans_date_trans_time'], format='%Y-%m-%d %H:%M:%S').dt.time\n",
    "df.info()"
   ],
   "id": "386495f9a29be94d",
   "outputs": [
    {
     "name": "stdout",
     "output_type": "stream",
     "text": [
      "<class 'pandas.core.frame.DataFrame'>\n",
      "RangeIndex: 1296675 entries, 0 to 1296674\n",
      "Data columns (total 25 columns):\n",
      " #   Column                 Non-Null Count    Dtype  \n",
      "---  ------                 --------------    -----  \n",
      " 0   Unnamed: 0             1296675 non-null  int64  \n",
      " 1   trans_date_trans_time  1296675 non-null  object \n",
      " 2   cc_num                 1296675 non-null  int64  \n",
      " 3   merchant               1296675 non-null  object \n",
      " 4   category               1296675 non-null  object \n",
      " 5   amt                    1296675 non-null  float64\n",
      " 6   first                  1296675 non-null  object \n",
      " 7   last                   1296675 non-null  object \n",
      " 8   gender                 1296675 non-null  object \n",
      " 9   street                 1296675 non-null  object \n",
      " 10  city                   1296675 non-null  object \n",
      " 11  state                  1296675 non-null  object \n",
      " 12  zip                    1296675 non-null  int64  \n",
      " 13  lat                    1296675 non-null  float64\n",
      " 14  long                   1296675 non-null  float64\n",
      " 15  city_pop               1296675 non-null  int64  \n",
      " 16  job                    1296675 non-null  object \n",
      " 17  dob                    1296675 non-null  object \n",
      " 18  trans_num              1296675 non-null  object \n",
      " 19  unix_time              1296675 non-null  int64  \n",
      " 20  merch_lat              1296675 non-null  float64\n",
      " 21  merch_long             1296675 non-null  float64\n",
      " 22  is_fraud               1296675 non-null  int64  \n",
      " 23  trans_date             1296675 non-null  object \n",
      " 24  trans_time             1296675 non-null  object \n",
      "dtypes: float64(5), int64(6), object(14)\n",
      "memory usage: 247.3+ MB\n"
     ]
    }
   ],
   "execution_count": 9
  },
  {
   "cell_type": "code",
   "id": "c3b966ee22c2761c",
   "metadata": {
    "ExecuteTime": {
     "end_time": "2024-07-31T03:34:23.952723Z",
     "start_time": "2024-07-31T03:34:23.649222Z"
    }
   },
   "source": [
    "# Remove the 'Unnamed\" and 'trans_date_trans_time' column\n",
    "# Check if the index column exists and remove it\n",
    "if 'Unnamed: 0' in df.columns:\n",
    "    df.drop(columns=['Unnamed: 0'], inplace=True)\n",
    "    \n",
    "df.drop('trans_date_trans_time', axis=1, inplace=True)"
   ],
   "outputs": [],
   "execution_count": 10
  },
  {
   "cell_type": "code",
   "id": "865b9202a1057c1e",
   "metadata": {
    "ExecuteTime": {
     "end_time": "2024-07-31T03:34:24.068061Z",
     "start_time": "2024-07-31T03:34:23.954146Z"
    }
   },
   "source": [
    "# Reorder the columns to have 'trans_date' first and 'trans_time' second\n",
    "columns = ['trans_date', 'trans_time'] + [col for col in df.columns if col not in ['trans_date', 'trans_time']]\n",
    "df = df[columns]"
   ],
   "outputs": [],
   "execution_count": 11
  },
  {
   "cell_type": "code",
   "id": "dcb2f70f6013a546",
   "metadata": {
    "ExecuteTime": {
     "end_time": "2024-07-31T03:34:28.256008Z",
     "start_time": "2024-07-31T03:34:24.069840Z"
    }
   },
   "source": [
    "# Convert 'dob' to datetime\n",
    "df['dob'] = pd.to_datetime(df['dob'], format='%Y-%m-%d')\n",
    "\n",
    "# Convert 'trans_time' to time\n",
    "df['trans_time'] = pd.to_datetime(df['trans_time'], format='%H:%M:%S').dt.time\n",
    "\n",
    "# Convert 'trans_date' to date\n",
    "df['trans_date'] = pd.to_datetime(df['trans_date'])\n",
    "\n",
    "# Check the data types\n",
    "print(\"\\nData types of the columns:\")\n",
    "print(df.dtypes)"
   ],
   "outputs": [
    {
     "name": "stdout",
     "output_type": "stream",
     "text": [
      "\n",
      "Data types of the columns:\n",
      "trans_date    datetime64[ns]\n",
      "trans_time            object\n",
      "cc_num                 int64\n",
      "merchant              object\n",
      "category              object\n",
      "amt                  float64\n",
      "first                 object\n",
      "last                  object\n",
      "gender                object\n",
      "street                object\n",
      "city                  object\n",
      "state                 object\n",
      "zip                    int64\n",
      "lat                  float64\n",
      "long                 float64\n",
      "city_pop               int64\n",
      "job                   object\n",
      "dob           datetime64[ns]\n",
      "trans_num             object\n",
      "unix_time              int64\n",
      "merch_lat            float64\n",
      "merch_long           float64\n",
      "is_fraud               int64\n",
      "dtype: object\n"
     ]
    }
   ],
   "execution_count": 12
  },
  {
   "cell_type": "code",
   "source": [
    "# Select numerical columns\n",
    "numerical_columns_df = df[['amt', 'lat', 'long', 'city_pop', 'merch_lat', 'merch_long', 'unix_time']]\n",
    "# Compute the correlation matrix\n",
    "correlation_matrix = numerical_columns_df.corr()\n",
    "\n",
    "# Create a heatmap to visualize the correlation matrix\n",
    "plt.figure(figsize=(10, 8))\n",
    "sns.heatmap(correlation_matrix, annot=True, cmap='coolwarm', fmt='.2f', vmin=-1, vmax=1)\n",
    "plt.title('Correlation Matrix')\n",
    "plt.show()"
   ],
   "metadata": {
    "collapsed": false,
    "ExecuteTime": {
     "end_time": "2024-07-31T03:34:28.700020Z",
     "start_time": "2024-07-31T03:34:28.257484Z"
    }
   },
   "id": "c4cd7a9ea13c22f3",
   "outputs": [
    {
     "data": {
      "text/plain": [
       "<Figure size 720x576 with 2 Axes>"
      ],
      "image/png": "[encoded data removed]"
     },
     "metadata": {
      "needs_background": "light"
     },
     "output_type": "display_data"
    }
   ],
   "execution_count": 13
  },
  {
   "cell_type": "markdown",
   "id": "5d292218cd70bf76",
   "metadata": {},
   "source": "# <font color=\"006179\"> Feature Engineering </font>"
  },
  {
   "cell_type": "markdown",
   "id": "df062915702a2628",
   "metadata": {},
   "source": [
    "\n",
    "## <font color =\"3fd8fe\"> 1. Transaction Frequency Features </font>\n"
   ]
  },
  {
   "cell_type": "code",
   "id": "315dcf0e5542f2e2",
   "metadata": {
    "ExecuteTime": {
     "end_time": "2024-07-31T03:34:28.717360Z",
     "start_time": "2024-07-31T03:34:28.701807Z"
    }
   },
   "source": [
    "#Statistic summary of total transaction per user\n",
    "df['cc_num'].value_counts().agg(['mean', 'median', 'min', 'max'])"
   ],
   "outputs": [
    {
     "data": {
      "text/plain": [
       "mean      1319.099695\n",
       "median    1054.000000\n",
       "min          7.000000\n",
       "max       3123.000000\n",
       "Name: count, dtype: float64"
      ]
     },
     "execution_count": 14,
     "metadata": {},
     "output_type": "execute_result"
    }
   ],
   "execution_count": 14
  },
  {
   "cell_type": "code",
   "source": [
    "# Total transactions of all users per day\n",
    "df['transactions_per_day'] = df.groupby(['cc_num', df['trans_date'].dt.day])['trans_date'].transform('count')\n",
    "\n",
    "print(df[['cc_num', 'trans_date', 'transactions_per_day']].head())\n"
   ],
   "metadata": {
    "collapsed": false,
    "ExecuteTime": {
     "end_time": "2024-07-31T03:34:28.804869Z",
     "start_time": "2024-07-31T03:34:28.718520Z"
    }
   },
   "id": "694254c9afddf690",
   "outputs": [
    {
     "name": "stdout",
     "output_type": "stream",
     "text": [
      "             cc_num trans_date  transactions_per_day\n",
      "0  2703186189652095 2019-01-01                    69\n",
      "1      630423337322 2019-01-01                    84\n",
      "2    38859492057661 2019-01-01                    19\n",
      "3  3534093764340240 2019-01-01                    19\n",
      "4   375534208663984 2019-01-01                    82\n"
     ]
    }
   ],
   "execution_count": 15
  },
  {
   "cell_type": "code",
   "source": [
    "# Create a 'Week' column using ISO calendar weeks\n",
    "df['Week'] = df['trans_date'].dt.isocalendar().week\n",
    "\n",
    "# Calculate total transactions per week for each customer\n",
    "df['transaction_per_week'] = df.groupby(['cc_num', 'Week'])['trans_date'].transform('count')\n",
    "\n",
    "# Display the updated dataframe with Week and total transactions per Week each customer columns\n",
    "print(df[['cc_num', 'Week', 'transaction_per_week']].head())"
   ],
   "metadata": {
    "collapsed": false,
    "ExecuteTime": {
     "end_time": "2024-07-31T03:34:28.925520Z",
     "start_time": "2024-07-31T03:34:28.806400Z"
    }
   },
   "id": "76cd29532d924041",
   "outputs": [
    {
     "name": "stdout",
     "output_type": "stream",
     "text": [
      "             cc_num  Week  transaction_per_week\n",
      "0  2703186189652095     1                    43\n",
      "1      630423337322     1                    66\n",
      "2    38859492057661     1                    11\n",
      "3  3534093764340240     1                     8\n",
      "4   375534208663984     1                    41\n"
     ]
    }
   ],
   "execution_count": 16
  },
  {
   "cell_type": "code",
   "source": [
    "# Calculate total transactions per month for all users\n",
    "total_transactions_per_month = df.groupby(df['trans_date'].dt.month).size()\n",
    "# Display the total transactions per month\n",
    "print(total_transactions_per_month)"
   ],
   "metadata": {
    "collapsed": false,
    "ExecuteTime": {
     "end_time": "2024-07-31T03:34:28.975255Z",
     "start_time": "2024-07-31T03:34:28.926919Z"
    }
   },
   "id": "640010499f301211",
   "outputs": [
    {
     "name": "stdout",
     "output_type": "stream",
     "text": [
      "trans_date\n",
      "1     104727\n",
      "2      97657\n",
      "3     143789\n",
      "4     134970\n",
      "5     146875\n",
      "6     143811\n",
      "7      86596\n",
      "8      87359\n",
      "9      70652\n",
      "10     68758\n",
      "11     70421\n",
      "12    141060\n",
      "dtype: int64\n"
     ]
    }
   ],
   "execution_count": 17
  },
  {
   "cell_type": "code",
   "source": [
    "# Total transactions of all users per day\n",
    "df['transactions_per_month'] = df.groupby(['cc_num', df['trans_date'].dt.month])['trans_date'].transform('count')\n",
    "print(df[['cc_num', 'trans_date', 'transactions_per_month']].head())"
   ],
   "metadata": {
    "collapsed": false,
    "ExecuteTime": {
     "end_time": "2024-07-31T03:34:29.061290Z",
     "start_time": "2024-07-31T03:34:28.977365Z"
    }
   },
   "id": "228af494637d69ee",
   "outputs": [
    {
     "name": "stdout",
     "output_type": "stream",
     "text": [
      "             cc_num trans_date  transactions_per_month\n",
      "0  2703186189652095 2019-01-01                     177\n",
      "1      630423337322 2019-01-01                     249\n",
      "2    38859492057661 2019-01-01                      43\n",
      "3  3534093764340240 2019-01-01                      35\n",
      "4   375534208663984 2019-01-01                     170\n"
     ]
    }
   ],
   "execution_count": 18
  },
  {
   "cell_type": "code",
   "source": [
    "#Transaction per season of all users\n",
    "def season(date):\n",
    "    if date.month in [1, 2, 3]:\n",
    "        return 'Autumn'\n",
    "    elif date.month in [4, 5, 6]:\n",
    "        return 'Winter'\n",
    "    elif date.month in [7, 8, 9]:\n",
    "        return 'Spring'\n",
    "    else:\n",
    "        return 'Summer'\n",
    "df['transactions_per_season'] = df.groupby(['cc_num', df['trans_date'].apply(season)])['trans_date'].transform('count')"
   ],
   "metadata": {
    "collapsed": false,
    "jupyter": {
     "is_executing": true
    },
    "ExecuteTime": {
     "start_time": "2024-07-31T03:34:29.062645Z"
    }
   },
   "id": "e3c4b884b3679723",
   "outputs": [],
   "execution_count": null
  },
  {
   "cell_type": "markdown",
   "id": "92945ce1cb3c57b8",
   "metadata": {},
   "source": "## <font color =\"3fd8fe\">2. User Transaction Behavior</font>"
  },
  {
   "cell_type": "code",
   "id": "914f35313438e232",
   "metadata": {
    "jupyter": {
     "is_executing": true
    }
   },
   "source": [
    "## Perform the aggregations\n",
    "agg_df = df.groupby('cc_num')['amt'].agg(\n",
    "    avg_trans_amount='mean',\n",
    "    total_trans_amount='sum',\n",
    "    med_trans_amount='median',\n",
    "    std_trans_amount='std'\n",
    ").reset_index()\n",
    "\n",
    "# Merge the aggregation results back to the original DataFrame\n",
    "df = df.merge(agg_df, on='cc_num', how='left')\n",
    "\n"
   ],
   "outputs": [],
   "execution_count": null
  },
  {
   "cell_type": "markdown",
   "id": "7e19230dbe9b2e81",
   "metadata": {},
   "source": "## <font color =\"3fd8fe\">3. User-Based Features: Age and Gender </font>\n"
  },
  {
   "cell_type": "markdown",
   "source": "### <font color=\"d2f5fe\">3.1 Calculate age of user based on DOB and transation date</font>",
   "metadata": {
    "collapsed": false
   },
   "id": "4f9b43cfb47c4ce8"
  },
  {
   "cell_type": "code",
   "id": "ef8c109f0eade213",
   "metadata": {
    "jupyter": {
     "is_executing": true
    }
   },
   "source": [
    "#Calculate user's age based on date of birth and transaction date\n",
    "def calculate_age(dob, trans_date):\n",
    "    return trans_date.year - dob.year - ((trans_date.month, trans_date.day) < (dob.month, dob.day))\n",
    "df['age'] = df.apply(lambda row: calculate_age(row['dob'], row['trans_date']), axis=1)\n",
    "\n",
    "#Explore age stat\n",
    "df['age'].agg(['mean', 'median', 'min', 'max'])"
   ],
   "outputs": [],
   "execution_count": null
  },
  {
   "cell_type": "markdown",
   "source": "### <font color=\"d2f5fe\">3.2 Convert gender into binary values</font>",
   "metadata": {
    "collapsed": false
   },
   "id": "1f45e35158232057"
  },
  {
   "cell_type": "code",
   "id": "515a09d31b564fd9",
   "metadata": {
    "jupyter": {
     "is_executing": true
    }
   },
   "source": [
    "#Convert gender to binary values\n",
    "print('\\n The number of customers based on age is:')\n",
    "print(df['gender'].value_counts())\n",
    "print(\"-\" * 40)\n",
    "\n",
    "#Total transaction amount by gender\n",
    "print('\\nTotal transaction amount made by gender is:')\n",
    "print(df.groupby('gender')['amt'].sum())\n",
    "print(\"-\" * 40)\n",
    "\n",
    "#Average transaction made by gender\n",
    "print('\\n Average transaction amount made by gender is:')\n",
    "print(df.groupby('gender')['amt'].mean())\n",
    "print(\"-\" * 40)\n",
    "\n",
    "# Calculate mean and median of age distribution by gender\n",
    "print('\\n Age Distribution by gender is:')\n",
    "print(df.groupby('gender')['age'].agg(['mean', 'median']))\n",
    "print(\"-\" * 40)\n",
    "\n"
   ],
   "outputs": [],
   "execution_count": null
  },
  {
   "cell_type": "markdown",
   "id": "882f7316fef7d74e",
   "metadata": {},
   "source": "## <font color =\"3fd8fe\">4. Fraud Transaction Analysis</font>"
  },
  {
   "cell_type": "markdown",
   "source": "###  <font color=\"d2f5fe\">4.1 Calculate fraud ratio using fraudulent transactions and total transactions</font>\n",
   "metadata": {
    "collapsed": false
   },
   "id": "daf888e7c0193d6"
  },
  {
   "cell_type": "code",
   "id": "33d065e459a05a74",
   "metadata": {
    "jupyter": {
     "is_executing": true
    }
   },
   "source": [
    "# Calculate fraudulent transactions per user\n",
    "fraud_transactions_per_user = df.groupby('cc_num')['is_fraud'].sum().reset_index()\n",
    "total_transactions_per_user = df.groupby('cc_num').size().reset_index(name='total_transactions')\n",
    "\n",
    "# Merge to get fraud ratio per user\n",
    "fraud_ratio_per_user = pd.merge(fraud_transactions_per_user, total_transactions_per_user, on='cc_num')\n",
    "fraud_ratio_per_user['fraud_ratio'] = fraud_ratio_per_user['is_fraud'] / fraud_ratio_per_user['total_transactions']\n",
    "\n",
    "# Merge fraud_ratio into the original dataset\n",
    "df = pd.merge(df, fraud_ratio_per_user[['cc_num', 'fraud_ratio']], on='cc_num', how='left')"
   ],
   "outputs": [],
   "execution_count": null
  },
  {
   "cell_type": "markdown",
   "id": "f74c2214685f9022",
   "metadata": {},
   "source": "## <font color =\"3fd8fe\">5. Geography Analysis</font>"
  },
  {
   "metadata": {},
   "cell_type": "markdown",
   "source": "### <font color=\"d2f5fe\">5.1 Distance calculation using Haversine calculation</font>\n",
   "id": "45d9cba043c3f71e"
  },
  {
   "cell_type": "code",
   "source": [
    "# Create the Haversine function using transaction longitude and latitude, also using merchant's longitude and latitude\n",
    "def haversine(lat1, lon1, lat2, lon2):\n",
    "    # Distance between latitudes and longitudes\n",
    "    dLat = (lat2 - lat1) * math.pi / 180.0\n",
    "    dLon = (lon2 - lon1) * math.pi / 180.0\n",
    "\n",
    "    # Convert to radians\n",
    "    lat1 = (lat1) * math.pi / 180.0\n",
    "    lat2 = (lat2) * math.pi / 180.0\n",
    "\n",
    "    # Apply formula\n",
    "    a = (pow(math.sin(dLat / 2), 2) +\n",
    "         pow(math.sin(dLon / 2), 2) *\n",
    "         math.cos(lat1) * math.cos(lat2))\n",
    "    rad = 6371\n",
    "    c = 2 * math.asin(math.sqrt(a))\n",
    "    return rad * c\n",
    "\n",
    "df['distance_to_merch'] = df.apply(lambda row: haversine(row['lat'], row['long'], row['merch_lat'], row['merch_long']), axis=1)\n"
   ],
   "metadata": {
    "collapsed": false,
    "jupyter": {
     "is_executing": true
    }
   },
   "id": "fd58ab8873a42702",
   "outputs": [],
   "execution_count": null
  },
  {
   "cell_type": "markdown",
   "source": [
    "### <font color=\"d2f5fe\">5.2 Categorize type of cities based on the population</font>\n",
    "\n"
   ],
   "metadata": {
    "collapsed": false
   },
   "id": "b7821fde90bd55d5"
  },
  {
   "cell_type": "code",
   "source": [
    "# Function to categorize city_pop\n",
    "def categorize_population(population):\n",
    "    if population < 1000:\n",
    "        return 'Small'\n",
    "    elif 1000 <= population <= 10000:\n",
    "        return 'Medium'\n",
    "    else:\n",
    "        return 'Large'\n",
    "\n",
    "# Apply the function to create a new column 'pop_category'\n",
    "df['pop_cat'] = df['city_pop'].apply(categorize_population)\n"
   ],
   "metadata": {
    "collapsed": false,
    "jupyter": {
     "is_executing": true
    }
   },
   "id": "182c5d1dfb7d3229",
   "outputs": [],
   "execution_count": null
  },
  {
   "metadata": {
    "jupyter": {
     "is_executing": true
    }
   },
   "cell_type": "code",
   "source": "print(df.dtypes)",
   "id": "4e7e10044142864c",
   "outputs": [],
   "execution_count": null
  },
  {
   "cell_type": "markdown",
   "source": [
    "# <font color=\"006179\">Feature Selection/Feature Importance</font>\n",
    "\n",
    "\n",
    "List of features that we created\n",
    "* transaction_per_day\n",
    "* transaction_per_week\n",
    "* transaction_per_month\n",
    "* transaction_per_season\n",
    "* avg_trans_amount\n",
    "* total_trans_amount\n",
    "* med_trans_amount\n",
    "* std_trans_amount\n",
    "* age\n",
    "* fraud_ratio\n",
    "* distance_to_merch\n",
    "* pop_cat\n",
    "\n"
   ],
   "metadata": {
    "collapsed": false
   },
   "id": "138e8d620d1fc70f"
  },
  {
   "metadata": {},
   "cell_type": "markdown",
   "source": "## <font color =\"3fd8fe\">Correlation Matrix</font>",
   "id": "cb42bbe8adfabe8c"
  },
  {
   "metadata": {
    "jupyter": {
     "is_executing": true
    }
   },
   "cell_type": "code",
   "source": [
    "numerical_columns_df = df[['amt', 'lat', 'long', 'city_pop', 'merch_lat', 'merch_long', 'unix_time', 'transactions_per_day', 'transaction_per_week', 'transactions_per_month', 'transactions_per_season', 'avg_trans_amount', 'total_trans_amount', 'std_trans_amount', 'med_trans_amount', 'age', 'fraud_ratio', 'distance_to_merch']]\n",
    "\n",
    "correlation_matrix = numerical_columns_df.corr()\n",
    "plt.figure(figsize=(10, 8))\n",
    "sns.heatmap(correlation_matrix, annot=True, cmap='coolwarm', fmt='.2f', vmin=-1, vmax=1)\n",
    "plt.title('Correlation Matrix')\n",
    "plt.show()"
   ],
   "id": "ff7f6839ff1317a4",
   "outputs": [],
   "execution_count": null
  },
  {
   "metadata": {},
   "cell_type": "markdown",
   "source": "## <font color =\"3fd8fe\">Correlation Coefficient (Numerical Features)</font>",
   "id": "35ddb1aecc0119e8"
  },
  {
   "cell_type": "code",
   "source": [
    "# Compute Pearson correlation coefficient\n",
    "correlation = df[['transactions_per_day', 'avg_trans_amount', 'total_trans_amount',\n",
    "                  'med_trans_amount', 'std_trans_amount', 'age', 'fraud_ratio',\n",
    "                  'distance_to_merch', 'is_fraud']].corr()['is_fraud']\n",
    "\n",
    "print(\"Pearson correlation coefficients:\")\n",
    "print(correlation)"
   ],
   "metadata": {
    "collapsed": false,
    "jupyter": {
     "is_executing": true
    }
   },
   "id": "ac3c981eacc4189d",
   "outputs": [],
   "execution_count": null
  },
  {
   "metadata": {},
   "cell_type": "markdown",
   "source": " ## <font color =\"3fd8fe\">Chi-Square Test for Categorical Features</font>",
   "id": "23de6af0313b696d"
  },
  {
   "metadata": {
    "jupyter": {
     "is_executing": true
    }
   },
   "cell_type": "code",
   "source": [
    "#List of categorical columns to test\n",
    "categorical_cols = ['category', 'gender', 'city', 'state', 'Week', 'age', 'pop_cat']\n",
    "\n",
    "# Loop through each categorical column and perform chi-square test\n",
    "results = []\n",
    "for col in categorical_cols:\n",
    "    contingency_table = pd.crosstab(df[col], df['is_fraud'])\n",
    "    chi2, p, dof, expected = chi2_contingency(contingency_table)\n",
    "    results.append({'Feature': col, 'Chi2': chi2, 'P-value': p})\n",
    "\n",
    "# Convert results to DataFrame for easier viewing\n",
    "results_df = pd.DataFrame(results)\n",
    "print(\"Chi-square test results for categorical features and is_fraud:\\n\", results_df)\n"
   ],
   "id": "f1c50b03d1625f79",
   "outputs": [],
   "execution_count": null
  },
  {
   "metadata": {},
   "cell_type": "markdown",
   "source": "## <font color =\"3fd8fe\">Sequential Foward Selection (SFS)</font>",
   "id": "f13cd02ccd026748"
  },
  {
   "cell_type": "code",
   "source": [
    "X = df[['transactions_per_day', 'avg_trans_amount', 'total_trans_amount', 'med_trans_amount', 'std_trans_amount', 'age', 'fraud_ratio',\n",
    "        'distance_to_merch']]\n",
    "y = df['is_fraud']\n",
    "\n",
    "# Split data into training and testing sets\n",
    "X_train, X_test, y_train, y_test = train_test_split(X, y, test_size=0.2, random_state=42)\n",
    "\n",
    "selected_features = []  # Initialize an empty list to store selected features\n",
    "accuracies = []          # Initialize an empty list to store accuracies\n",
    "\n",
    "# Start a loop to select features one by one until all features are selected\n",
    "while len(selected_features) < len(X.columns):\n",
    "    max_acc = -1         # Initialize maximum accuracy to a very low value\n",
    "    best_feature = None  # Initialize variable to store the best feature\n",
    "\n",
    "    # Iterate through each feature in X.columns\n",
    "    for feature in X.columns:\n",
    "        if feature not in selected_features:  # Check if the feature is not already selected\n",
    "            current_features = selected_features + [feature]  # Add the feature to the current selected features\n",
    "            X_train_subset = X_train[current_features]       # Subset the training data with current features\n",
    "            X_test_subset = X_test[current_features]         # Subset the testing data with current features\n",
    "\n",
    "            # Initialize and train a logistic regression model\n",
    "            clf = LogisticRegression(max_iter=1000, random_state=42)\n",
    "            clf.fit(X_train_subset, y_train)\n",
    "            y_pred = clf.predict(X_test_subset)  # Make predictions on the test data\n",
    "\n",
    "            accuracy = accuracy_score(y_test, y_pred)  # Calculate accuracy of predictions\n",
    "\n",
    "            # Check if current accuracy is better than previous maximum accuracy\n",
    "            if accuracy > max_acc:\n",
    "                max_acc = accuracy  # Update maximum accuracy\n",
    "                best_feature = feature  # Update best feature\n",
    "\n",
    "    # If adding the best feature improves accuracy, add it to selected features and record accuracy\n",
    "    if max_acc > max(accuracies, default=0):\n",
    "        selected_features.append(best_feature)\n",
    "        accuracies.append(max_acc)\n",
    "    else:\n",
    "        break  # Exit the loop if no improvement in accuracy\n",
    "\n",
    "# Print selected features and their corresponding accuracies\n",
    "print(\"Selected Features:\", selected_features)\n",
    "print(\"Accuracies:\", accuracies)\n"
   ],
   "metadata": {
    "collapsed": false,
    "jupyter": {
     "is_executing": true
    }
   },
   "id": "e278e731b264df81",
   "outputs": [],
   "execution_count": null
  },
  {
   "cell_type": "code",
   "source": [
    "X = df[['transactions_per_day', 'avg_trans_amount', 'total_trans_amount',\n",
    "        'med_trans_amount', 'std_trans_amount', 'age', 'fraud_ratio',\n",
    "        'distance_to_merch']]\n",
    "y = df['is_fraud']\n",
    "\n",
    "# Split data into training and testing sets\n",
    "X_train, X_test, y_train, y_test = train_test_split(X, y, test_size=0.2, random_state=42)\n",
    "\n",
    "selected_features = list(X.columns)\n",
    "accuracies = []\n",
    "\n",
    "while len(selected_features) > 0:\n",
    "    max_acc = -1\n",
    "    worst_feature = None\n",
    "\n",
    "    for feature in selected_features:\n",
    "        current_features = [f for f in selected_features if f != feature]\n",
    "        X_train_subset = X_train[current_features]\n",
    "        X_test_subset = X_test[current_features]\n",
    "\n",
    "        clf = LogisticRegression(max_iter=1000, random_state=42)\n",
    "        clf.fit(X_train_subset, y_train)\n",
    "        y_pred = clf.predict(X_test_subset)\n",
    "\n",
    "        accuracy = accuracy_score(y_test, y_pred)\n",
    "\n",
    "        if accuracy > max_acc:\n",
    "            max_acc = accuracy\n",
    "            worst_feature = feature\n",
    "\n",
    "    if max_acc > max(accuracies, default=0):\n",
    "        selected_features.remove(worst_feature)\n",
    "        accuracies.append(max_acc)\n",
    "    else:\n",
    "        break\n",
    "\n",
    "print(\"Selected Features:\", selected_features)\n",
    "print(\"Accuracies:\", accuracies)\n"
   ],
   "metadata": {
    "collapsed": false,
    "jupyter": {
     "is_executing": true
    }
   },
   "id": "b508be8328bad889",
   "outputs": [],
   "execution_count": null
  },
  {
   "cell_type": "markdown",
   "source": [],
   "metadata": {
    "collapsed": false
   },
   "id": "1a9492693d9d0315"
  },
  {
   "cell_type": "markdown",
   "source": "# <font color=\"006179\">Resampling dataset</font>",
   "metadata": {
    "collapsed": false
   },
   "id": "e01d046d7868221f"
  },
  {
   "cell_type": "code",
   "source": [
    "# Initialize the LabelEncoder\n",
    "label_encoder = LabelEncoder()\n",
    "\n",
    "# Encode categorical variables into numerical values\n",
    "df['merchant'] = label_encoder.fit_transform(df['merchant'])\n",
    "df['category'] = label_encoder.fit_transform(df['category'])\n",
    "df['city'] = label_encoder.fit_transform(df['city'])\n",
    "df['state'] = label_encoder.fit_transform(df['state'])\n",
    "df['pop_cat'] = label_encoder.fit_transform(df['pop_cat'])"
   ],
   "metadata": {
    "collapsed": false,
    "jupyter": {
     "is_executing": true
    }
   },
   "id": "668b1aec2009ae9f",
   "outputs": [],
   "execution_count": null
  },
  {
   "cell_type": "code",
   "source": [
    "# Drop irrelevant or personally identifiable information (PII) columns\n",
    "df = df.drop(columns=[\"first\", \"last\", \"street\", \"trans_num\", \"dob\", \"trans_date\", \"trans_time\", \"job\"])\n",
    "\n",
    "# Apply the mapping to convert 'gender' column to numerical values\n",
    "df['gender'] = df['gender'].map({'M': 1, 'F': 0})\n"
   ],
   "metadata": {
    "collapsed": false,
    "jupyter": {
     "is_executing": true
    }
   },
   "id": "ecda53862709c2cb",
   "outputs": [],
   "execution_count": null
  },
  {
   "cell_type": "code",
   "source": [
    "# Split the data into features (X) and target (y)\n",
    "X = df.drop(columns=['is_fraud'])  # Replace 'is_fraud' with your target column name if different\n",
    "y = df['is_fraud']  # Replace 'is_fraud' with your target column name if different\n",
    "\n",
    "#Apply RandomUnderSampler to balance the dataset\n",
    "rus = RandomUnderSampler(random_state=42)\n",
    "X_under, y_under = rus.fit_resample(X, y)\n",
    "\n",
    "# Create the new dataset df_under from the resampled data\n",
    "df_under = pd.DataFrame(X_under, columns=X.columns)\n",
    "df_under['is_fraud'] = y_under\n",
    "\n",
    "# Check the balance of the resampled data\n",
    "print(y_under.value_counts())\n",
    "sns.countplot(x=y_under)\n"
   ],
   "metadata": {
    "collapsed": false,
    "jupyter": {
     "is_executing": true
    }
   },
   "id": "d6090caac8e3b6b7",
   "outputs": [],
   "execution_count": null
  },
  {
   "cell_type": "code",
   "source": [
    "#Split the balanced data into training and testing sets\n",
    "X_train, X_test, y_train, y_test = train_test_split(df_under.drop(columns=['is_fraud']), df_under['is_fraud'], test_size=0.2, random_state=42)\n",
    "\n",
    "# Step 6: Scale the data\n",
    "scaler = StandardScaler()\n",
    "X_train_scaled = scaler.fit_transform(X_train)\n",
    "X_test_scaled = scaler.transform(X_test)\n"
   ],
   "metadata": {
    "collapsed": false,
    "jupyter": {
     "is_executing": true
    }
   },
   "id": "11ab3349bb448261",
   "outputs": [],
   "execution_count": null
  },
  {
   "cell_type": "code",
   "source": [
    "# Train the Logistic Regression classifier\n",
    "logreg_classifier = LogisticRegression(random_state=42)\n",
    "logreg_classifier.fit(X_train_scaled, y_train)\n",
    "\n",
    "# Print the score of the model on the test set\n",
    "print(\"\\nLogistic Regression Classifier Model\")\n",
    "print(\"Model accuracy:\", logreg_classifier.score(X_test_scaled, y_test))\n",
    "\n",
    "# Predict on the test set\n",
    "y_pred = logreg_classifier.predict(X_test_scaled)\n",
    "\n",
    "# Print the classification report\n",
    "print(\"\\nClassification Report:\")\n",
    "print(classification_report(y_test, y_pred))\n",
    "\n",
    "# Calculate and print the confusion matrix\n",
    "conf_matrix = confusion_matrix(y_test, y_pred)\n",
    "print(\"\\nConfusion Matrix:\")\n",
    "print(conf_matrix)"
   ],
   "metadata": {
    "collapsed": false,
    "jupyter": {
     "is_executing": true
    }
   },
   "id": "7fcb542f41480612",
   "outputs": [],
   "execution_count": null
  },
  {
   "cell_type": "code",
   "source": [
    "#Train the Random Forest classifier\n",
    "rf_classifier = RandomForestClassifier(random_state=42)\n",
    "rf_classifier.fit(X_train_scaled, y_train)\n",
    "\n",
    "# Predict on the test set using the Random Forest classifier\n",
    "y_pred_rf = rf_classifier.predict(X_test_scaled)\n",
    "\n",
    "# Print the classification report for the Random Forest classifier\n",
    "print(\"\\nClassification Report (Random Forest):\")\n",
    "print(classification_report(y_test, y_pred_rf))\n",
    "\n",
    "# Calculate and print the confusion matrix for the Random Forest classifier\n",
    "print('\\nConfusion Matrix (Random Forest):')\n",
    "print(confusion_matrix(y_test, y_pred_rf))"
   ],
   "metadata": {
    "collapsed": false,
    "jupyter": {
     "is_executing": true
    }
   },
   "id": "7f19efe468eca32c",
   "outputs": [],
   "execution_count": null
  },
  {
   "cell_type": "code",
   "source": [
    "# Train the KNN classifier\n",
    "knn_classifier = KNeighborsClassifier()\n",
    "knn_classifier.fit(X_train_scaled, y_train)\n",
    "\n",
    "# Print the score of the model on the test set\n",
    "print(\"\\nK-Nearest Neighbors Classifier Model\")\n",
    "print(\"Model accuracy:\", knn_classifier.score(X_test_scaled, y_test))\n",
    "\n",
    "# Predict on the test set\n",
    "y_pred_knn = knn_classifier.predict(X_test_scaled)\n",
    "\n",
    "# Print the classification report\n",
    "print(\"\\nClassification Report (KNN):\")\n",
    "print(classification_report(y_test, y_pred_knn))\n"
   ],
   "metadata": {
    "collapsed": false,
    "jupyter": {
     "is_executing": true
    }
   },
   "id": "fbefaf4f338b1bf7",
   "outputs": [],
   "execution_count": null
  },
  {
   "cell_type": "code",
   "source": [
    "## Train the XGBoost classifier\n",
    "xgb_classifier = XGBClassifier(random_state=42)\n",
    "xgb_classifier.fit(X_train_scaled, y_train)\n",
    "\n",
    "# Print the score of the model on the test set\n",
    "print(\"\\nXGBoost Classifier Model\")\n",
    "print(\"Model accuracy:\", xgb_classifier.score(X_test_scaled, y_test))\n",
    "\n",
    "# Predict on the test set\n",
    "y_pred_xgb = xgb_classifier.predict(X_test_scaled)\n",
    "\n",
    "# Print the classification report\n",
    "print(\"\\nClassification Report (XGBoost):\")\n",
    "print(classification_report(y_test, y_pred_xgb))\n",
    "\n",
    "# Calculate and print the confusion matrix for the XGBoost classifier\n",
    "print(\"\\nConfusion Matrix (XGBoost):\")\n",
    "print(confusion_matrix(y_test, y_pred_xgb))"
   ],
   "metadata": {
    "collapsed": false,
    "jupyter": {
     "is_executing": true
    }
   },
   "id": "fc1f78e46bba943",
   "outputs": [],
   "execution_count": null
  },
  {
   "cell_type": "code",
   "source": [
    "## Train the SVC classifier\n",
    "svc_classifier = SVC(random_state=42)\n",
    "svc_classifier.fit(X_train_scaled, y_train)\n",
    "\n",
    "# Print the score of the model on the test set\n",
    "print(\"\\nSupport Vector Classifier Model\")\n",
    "print(\"Model accuracy:\", svc_classifier.score(X_test_scaled, y_test))\n",
    "\n",
    "# Predict on the test set\n",
    "y_pred_svc = svc_classifier.predict(X_test_scaled)\n",
    "\n",
    "# Print the classification report\n",
    "print(\"\\nClassification Report (SVC):\")\n",
    "print(classification_report(y_test, y_pred_svc))\n",
    "\n",
    "# Calculate and print the confusion matrix for the SVC classifier\n",
    "print(\"\\nConfusion Matrix (SVC):\")\n",
    "print(confusion_matrix(y_test, y_pred_svc))"
   ],
   "metadata": {
    "collapsed": false,
    "jupyter": {
     "is_executing": true
    }
   },
   "id": "f5c182092dccd8ad",
   "outputs": [],
   "execution_count": null
  },
  {
   "cell_type": "code",
   "source": [
    "# Train the Decision Tree classifier\n",
    "dt_classifier = DecisionTreeClassifier(random_state=42)\n",
    "dt_classifier.fit(X_train_scaled, y_train)\n",
    "\n",
    "# Print the score of the Decision Tree model on the test set\n",
    "print(\"\\nDecision Tree Classifier Model\")\n",
    "print(\"Model accuracy:\", dt_classifier.score(X_test_scaled, y_test))\n",
    "\n",
    "# Predict on the test set using the Decision Tree classifier\n",
    "y_pred_dt = dt_classifier.predict(X_test_scaled)\n",
    "\n",
    "# Print the classification report for the Decision Tree classifier\n",
    "print(\"\\nClassification Report (Decision Tree):\")\n",
    "print(classification_report(y_test, y_pred_dt))\n",
    "\n",
    "# Calculate and print the confusion matrix for the Decision Tree classifier\n",
    "print('\\nConfusion Matrix (Decision Tree):')\n",
    "print(confusion_matrix(y_test, y_pred_dt))\n"
   ],
   "metadata": {
    "collapsed": false,
    "jupyter": {
     "is_executing": true
    }
   },
   "id": "c840742f66785e28",
   "outputs": [],
   "execution_count": null
  },
  {
   "cell_type": "code",
   "source": [
    "\n",
    "# Train and evaluate SVC classifier\n",
    "svc_classifier.fit(X_train_scaled, y_train)\n",
    "y_pred_svc = svc_classifier.predict(X_test_scaled)\n",
    "auprc_svc = average_precision_score(y_test, y_pred_svc)\n",
    "\n",
    "# Train and evaluate Random Forest classifier\n",
    "rf_classifier.fit(X_train_scaled, y_train)\n",
    "y_pred_rf = rf_classifier.predict(X_test_scaled)\n",
    "auprc_rf = average_precision_score(y_test, y_pred_rf)\n",
    "\n",
    "# Train and evaluate Logistic Regression classifier\n",
    "logreg_classifier.fit(X_train_scaled, y_train)\n",
    "y_pred_logreg = logreg_classifier.predict(X_test_scaled)\n",
    "auprc_logreg = average_precision_score(y_test, y_pred_logreg)\n",
    "\n",
    "# Train and evaluate XGBoost classifier\n",
    "xgb_classifier.fit(X_train_scaled, y_train)\n",
    "y_pred_xgb = xgb_classifier.predict(X_test_scaled)\n",
    "auprc_xgb = average_precision_score(y_test, y_pred_xgb)\n",
    "\n",
    "# Train and evaluate Decision Tree classifier\n",
    "dt_classifier.fit(X_train_scaled, y_train)\n",
    "y_pred_dt = dt_classifier.predict(X_test_scaled)\n",
    "auprc_dt = average_precision_score(y_test, y_pred_dt)\n",
    "\n",
    "# Train and evaluate K-Nearest Neighbors classifier\n",
    "knn_classifier.fit(X_train_scaled, y_train)\n",
    "y_pred_knn = knn_classifier.predict(X_test_scaled)\n",
    "auprc_knn = average_precision_score(y_test, y_pred_knn)\n",
    "\n",
    "# Print AUPRC for each model\n",
    "print(f\"AUPRC for KNN: {auprc_knn:.4f}\")\n",
    "print(f\"AUPRC for SVC: {auprc_svc:.4f}\")\n",
    "print(f\"AUPRC for Random Forest: {auprc_rf:.4f}\")\n",
    "print(f\"AUPRC for Logistic Regression: {auprc_logreg:.4f}\")\n",
    "print(f\"AUPRC for XGBoost: {auprc_xgb:.4f}\")\n",
    "print(f\"AUPRC for Decision Tree: {auprc_dt:.4f}\")\n",
    "\n"
   ],
   "metadata": {
    "collapsed": false,
    "jupyter": {
     "is_executing": true
    }
   },
   "id": "7d13c2324ceed25b",
   "outputs": [],
   "execution_count": null
  },
  {
   "cell_type": "markdown",
   "source": [
    "The AUPRC (Area Under the Precision-Recall Curve) values provide insights into the performance of each classifier in the context of fraud detection or any binary classification problem, especially when dealing with imbalanced datasets like yours (where fraud instances are typically rare compared to non-fraudulent transactions).\n",
    "\n",
    "- **XGBoost**: XGBoost has the highest AUPRC among all classifiers, indicating it is the most effective at distinguishing between fraudulent and non-fraudulent transactions in this dataset. This suggests that XGBoost is particularly good at handling the complexities and nuances in the data.\n",
    "\n",
    "- **Random Forest**: Random Forest also performs very well, with a high AUPRC. This demonstrates its robustness and ability to handle the classification task effectively. Random Forest's performance is close to that of XGBoost, making it another strong candidate for fraud detection.\n",
    "\n",
    "- **Decision Tree**: The Decision Tree classifier performs reasonably well, though not as high as Random Forest and XGBoost. This indicates that while a single decision tree can capture significant patterns in the data, combining multiple trees (as in Random Forest) improves performance.\n",
    "\n",
    "- **Logistic Regression**: Logistic Regression shows a solid performance but is outperformed by ensemble methods like Random Forest and XGBoost. This indicates that linear models, even with scaling, might not capture the data's complexity as well as ensemble methods.\n",
    "\n",
    "- **K-Nearest Neighbors (KNN)**: KNN achieved an AUPRC of 0.6785, which is lower than the above models. This suggests that KNN may not perform as well in this specific context compared to Random Forest, XGBoost, and Logistic Regression. KNN's performance may be affected by the choice of distance metric and the curse of dimensionality.\n",
    "\n",
    "- **Support Vector Classifier (SVC)**: Support Vector Classifier shows the poorest performance in terms of AUPRC. This may indicate that SVC, with the current kernel and parameters, is not well-suited to the problem or that it requires further tuning.\n"
   ],
   "metadata": {
    "collapsed": false
   },
   "id": "215397754e1cb354"
  },
  {
   "cell_type": "code",
   "source": [
    "df_under"
   ],
   "metadata": {
    "collapsed": false,
    "jupyter": {
     "is_executing": true
    }
   },
   "id": "a7a9a959260840a",
   "outputs": [],
   "execution_count": null
  },
  {
   "cell_type": "code",
   "source": [
    "# Define your models and their respective parameter grids\n",
    "models = {\n",
    "    'Decision Tree': DecisionTreeClassifier(),\n",
    "    'XGBoost': XGBClassifier(),\n",
    "    'Random Forest': RandomForestClassifier()\n",
    "}\n",
    "\n",
    "param_grid = {\n",
    "    'Decision Tree': {'max_depth': [None, 10, 20]},\n",
    "    'XGBoost': {'max_depth': [3, 5, 10], 'learning_rate': [0.1, 0.01]},\n",
    "    'Random Forest': {'n_estimators': [50, 100, 200], 'max_depth': [None, 10, 20]}\n",
    "}\n",
    "# Train and evaluate each model\n",
    "for name, model in models.items():\n",
    "    grid_search = GridSearchCV(model, param_grid[name], cv=3, scoring='accuracy')\n",
    "    grid_search.fit(X_train, y_train)\n",
    "    best_model = grid_search.best_estimator_\n",
    "\n",
    "    # Make predictions\n",
    "    y_pred = best_model.predict(X_test)\n",
    "\n",
    "    # Calculate metrics\n",
    "    accuracy = accuracy_score(y_test, y_pred)\n",
    "    precision = precision_score(y_test, y_pred, average='weighted')\n",
    "    recall = recall_score(y_test, y_pred, average='weighted')\n",
    "    f1 = f1_score(y_test, y_pred, average='weighted')\n",
    "    cm = confusion_matrix(y_test, y_pred)\n",
    "\n",
    "    # Print the results\n",
    "    print(f\"Model: {name}\")\n",
    "    print(f\"Best Parameters: {grid_search.best_params_}\")\n",
    "    print(f\"Accuracy: {accuracy}\")\n",
    "    print(f\"Precision: {precision}\")\n",
    "    print(f\"Recall: {recall}\")\n",
    "    print(f\"F1 Score: {f1}\")\n",
    "    print(f\"Confusion Matrix:\\n{cm}\")\n",
    "    print(\"\\n\")\n"
   ],
   "metadata": {
    "collapsed": false,
    "jupyter": {
     "is_executing": true
    }
   },
   "id": "fd2999537f121dbe",
   "outputs": [],
   "execution_count": null
  },
  {
   "cell_type": "markdown",
   "source": "# Model Optimization\n",
   "metadata": {
    "collapsed": false
   },
   "id": "7c2b29fc6f03c68"
  },
  {
   "metadata": {
    "jupyter": {
     "is_executing": true
    }
   },
   "cell_type": "code",
   "source": [
    "# For Logistic Regression\n",
    "param_grid_logreg = {\n",
    "    'penalty': ['l1', 'l2'],\n",
    "    'C': [0.1, 1, 10],\n",
    "    'solver': ['liblinear']\n",
    "}\n",
    "\n",
    "# For Random Forest\n",
    "param_grid_rf = {\n",
    "    'n_estimators': [100, 200, 300],\n",
    "    'max_depth': [10, 20, 30],\n",
    "    'min_samples_split': [2, 5, 10]\n",
    "}\n",
    "\n",
    "# For SVC\n",
    "param_grid_svc = {\n",
    "    'C': [0.1, 1, 10],\n",
    "    'kernel': ['linear', 'rbf'],\n",
    "    'gamma': ['scale', 'auto']\n",
    "}\n",
    "\n",
    "# For XGBoost\n",
    "param_grid_xgb = {\n",
    "    'n_estimators': [100, 200],\n",
    "    'max_depth': [3, 6, 9],\n",
    "    'learning_rate': [0.01, 0.1, 0.2]\n",
    "}\n",
    "\n",
    "# For Decision Tree\n",
    "param_grid_dt = {\n",
    "    'max_depth': [10, 20, 30],\n",
    "    'min_samples_split': [2, 5, 10]\n",
    "}\n",
    "\n",
    "# For K-Nearest Neighbors\n",
    "param_grid_knn = {\n",
    "    'n_neighbors': [3, 5, 7],\n",
    "    'weights': ['uniform', 'distance'],\n",
    "    'algorithm': ['auto', 'ball_tree', 'kd_tree', 'brute']\n",
    "}"
   ],
   "id": "8791e6018fc786ba",
   "outputs": [],
   "execution_count": null
  },
  {
   "metadata": {
    "jupyter": {
     "is_executing": true
    }
   },
   "cell_type": "code",
   "source": [
    "# Initialize models\n",
    "logreg = LogisticRegression(random_state=42)\n",
    "rf = RandomForestClassifier(random_state=42)\n",
    "svc = SVC(random_state=42)\n",
    "xgb = XGBClassifier(random_state=42)\n",
    "dt = DecisionTreeClassifier(random_state=42)\n",
    "knn = KNeighborsClassifier()\n",
    "\n",
    "# Initialize GridSearchCV for each model\n",
    "grid_search_logreg = GridSearchCV(estimator=logreg, param_grid=param_grid_logreg, cv=5, scoring='average_precision', n_jobs=-1, verbose=2)\n",
    "grid_search_rf = GridSearchCV(estimator=rf, param_grid=param_grid_rf, cv=5, scoring='average_precision', n_jobs=-1, verbose=2)\n",
    "grid_search_svc = GridSearchCV(estimator=svc, param_grid=param_grid_svc, cv=5, scoring='average_precision', n_jobs=-1, verbose=2)\n",
    "grid_search_xgb = GridSearchCV(estimator=xgb, param_grid=param_grid_xgb, cv=5, scoring='average_precision', n_jobs=-1, verbose=2)\n",
    "grid_search_dt = GridSearchCV(estimator=dt, param_grid=param_grid_dt, cv=5, scoring='average_precision', n_jobs=-1, verbose=2)\n",
    "grid_search_knn = GridSearchCV(estimator=knn, param_grid=param_grid_knn, cv=5, scoring='average_precision', n_jobs=-1, verbose=2)"
   ],
   "id": "d4154b83d6215ce3",
   "outputs": [],
   "execution_count": null
  },
  {
   "metadata": {
    "jupyter": {
     "is_executing": true
    }
   },
   "cell_type": "code",
   "source": [
    "# Fit GridSearchCV for each model\n",
    "grid_search_logreg.fit(X_train_scaled, y_train)\n",
    "grid_search_rf.fit(X_train_scaled, y_train)\n",
    "grid_search_svc.fit(X_train_scaled, y_train)\n",
    "grid_search_xgb.fit(X_train_scaled, y_train)\n",
    "grid_search_dt.fit(X_train_scaled, y_train)\n",
    "grid_search_knn.fit(X_train_scaled, y_train)"
   ],
   "id": "e6cd35fea5747d32",
   "outputs": [],
   "execution_count": null
  },
  {
   "metadata": {
    "jupyter": {
     "is_executing": true
    }
   },
   "cell_type": "code",
   "source": [
    "# Retrieve and print the best parameters and scores\n",
    "print(\"Best parameters for Logistic Regression:\", grid_search_logreg.best_params_)\n",
    "print(\"Best score for Logistic Regression:\", grid_search_logreg.best_score_)\n",
    "\n",
    "print(\"Best parameters for Random Forest:\", grid_search_rf.best_params_)\n",
    "print(\"Best score for Random Forest:\", grid_search_rf.best_score_)\n",
    "\n",
    "print(\"Best parameters for SVC:\", grid_search_svc.best_params_)\n",
    "print(\"Best score for SVC:\", grid_search_svc.best_score_)\n",
    "\n",
    "print(\"Best parameters for XGBoost:\", grid_search_xgb.best_params_)\n",
    "print(\"Best score for XGBoost:\", grid_search_xgb.best_score_)\n",
    "\n",
    "print(\"Best parameters for Decision Tree:\", grid_search_dt.best_params_)\n",
    "print(\"Best score for Decision Tree:\", grid_search_dt.best_score_)\n",
    "\n",
    "print(\"Best parameters for KNN:\", grid_search_knn.best_params_)\n",
    "print(\"Best score for KNN:\", grid_search_knn.best_score_)\n"
   ],
   "id": "6bb8f2d373b03d4e",
   "outputs": [],
   "execution_count": null
  },
  {
   "metadata": {
    "jupyter": {
     "is_executing": true
    }
   },
   "cell_type": "code",
   "source": [
    "# Predict with the best models\n",
    "y_pred_logreg = grid_search_logreg.predict(X_test_scaled)\n",
    "y_pred_rf = grid_search_rf.predict(X_test_scaled)\n",
    "y_pred_svc = grid_search_svc.predict(X_test_scaled)\n",
    "y_pred_xgb = grid_search_xgb.predict(X_test_scaled)\n",
    "y_pred_dt = grid_search_dt.predict(X_test_scaled)\n",
    "y_pred_knn = grid_search_knn.predict(X_test_scaled)"
   ],
   "id": "92d67a1ded65ed89",
   "outputs": [],
   "execution_count": null
  },
  {
   "metadata": {
    "jupyter": {
     "is_executing": true
    }
   },
   "cell_type": "code",
   "source": [
    "# Print classification reports\n",
    "print(\"\\nClassification Report (Logistic Regression):\")\n",
    "print(classification_report(y_test, y_pred_logreg))\n",
    "\n",
    "print(\"\\nClassification Report (Random Forest):\")\n",
    "print(classification_report(y_test, y_pred_rf))\n",
    "\n",
    "print(\"\\nClassification Report (SVC):\")\n",
    "print(classification_report(y_test, y_pred_svc))\n",
    "\n",
    "print(\"\\nClassification Report (XGBoost):\")\n",
    "print(classification_report(y_test, y_pred_xgb))\n",
    "\n",
    "print(\"\\nClassification Report (Decision Tree):\")\n",
    "print(classification_report(y_test, y_pred_dt))\n",
    "\n",
    "print(\"\\nClassification Report (KNN):\")\n",
    "print(classification_report(y_test, y_pred_knn))\n",
    "\n",
    "# Print confusion matrices\n",
    "print(\"\\nConfusion Matrix (Logistic Regression):\")\n",
    "print(confusion_matrix(y_test, y_pred_logreg))\n",
    "\n",
    "print(\"\\nConfusion Matrix (Random Forest):\")\n",
    "print(confusion_matrix(y_test, y_pred_rf))\n",
    "\n",
    "print(\"\\nConfusion Matrix (SVC):\")\n",
    "print(confusion_matrix(y_test, y_pred_svc))\n",
    "\n",
    "print(\"\\nConfusion Matrix (XGBoost):\")\n",
    "print(confusion_matrix(y_test, y_pred_xgb))\n",
    "\n",
    "print(\"\\nConfusion Matrix (Decision Tree):\")\n",
    "print(confusion_matrix(y_test, y_pred_dt))\n",
    "\n",
    "print(\"\\nConfusion Matrix (KNN):\")\n",
    "print(confusion_matrix(y_test, y_pred_knn))"
   ],
   "id": "a61e010b280423a9",
   "outputs": [],
   "execution_count": null
  },
  {
   "metadata": {
    "jupyter": {
     "is_executing": true
    }
   },
   "cell_type": "code",
   "source": [
    "# Print AUPRC for each model\n",
    "auprc_logreg = average_precision_score(y_test, y_pred_logreg)\n",
    "auprc_rf = average_precision_score(y_test, y_pred_rf)\n",
    "auprc_svc = average_precision_score(y_test, y_pred_svc)\n",
    "auprc_xgb = average_precision_score(y_test, y_pred_xgb)\n",
    "auprc_dt = average_precision_score(y_test, y_pred_dt)\n",
    "auprc_knn = average_precision_score(y_test, y_pred_knn)\n",
    "\n",
    "print(f\"AUPRC for Logistic Regression: {auprc_logreg:.4f}\")\n",
    "print(f\"AUPRC for Random Forest: {auprc_rf:.4f}\")\n",
    "print(f\"AUPRC for SVC: {auprc_svc:.4f}\")\n",
    "print(f\"AUPRC for XGBoost: {auprc_xgb:.4f}\")\n",
    "print(f\"AUPRC for Decision Tree: {auprc_dt:.4f}\")\n",
    "print(f\"AUPRC for KNN: {auprc_knn:.4f}\")"
   ],
   "id": "e492ff30381fd5c9",
   "outputs": [],
   "execution_count": null
  },
  {
   "metadata": {},
   "cell_type": "markdown",
   "source": [
    "Model Selection:\n",
    "Based on the evaluation metrics, the best-performing model appears to be XGBoost with the following reasons:\n",
    "\n",
    "1. Best Score: Highest cross-validation score of 0.9975.\n",
    "2. Classification Report:\n",
    "- High precision (0.98 for Class 0, 0.96 for Class 1) indicating fewer false positives.\n",
    "- High recall (0.96 for Class 0, 0.98 for Class 1) indicating fewer false negatives.\n",
    "- High F1-Score (0.97 for both classes), showing a balanced performance.\n",
    "3. Confusion Matrix: Shows the least number of misclassifications among all models.\n",
    "4. AUPRC: Highest AUPRC of 0.9543, indicating excellent performance in distinguishing between classes.\n",
    "\n",
    "Given the comprehensive evaluation, XGBoost is the best model for this credit card fraud detection task, as it achieves the highest scores across most evaluation metrics, demonstrating strong performance and robustness.\n",
    "\n",
    "To implement XGBoost in your project, use the best parameters identified through hyperparameter tuning and ensure proper validation to maintain model accuracy and generalization.\n",
    "\n",
    "\n",
    "\n",
    "\n",
    "\n",
    "\n"
   ],
   "id": "a9200eff27583143"
  },
  {
   "metadata": {
    "jupyter": {
     "is_executing": true
    }
   },
   "cell_type": "code",
   "source": [
    "# Sample data (assuming df is your DataFrame and 'is_fraud' is the target column)\n",
    "X = df[['transactions_per_day', 'avg_trans_amount', 'total_trans_amount',\n",
    "        'med_trans_amount', 'std_trans_amount', 'age', 'fraud_ratio',\n",
    "        'distance_to_merch']]\n",
    "y = df['is_fraud']\n",
    "\n",
    "# Split data into training and testing sets\n",
    "X_train, X_test, y_train, y_test = train_test_split(X, y, test_size=0.2, random_state=42)\n",
    "\n",
    "# Standardize features by removing the mean and scaling to unit variance\n",
    "from sklearn.preprocessing import StandardScaler\n",
    "scaler = StandardScaler()\n",
    "X_train_scaled = scaler.fit_transform(X_train)\n",
    "X_test_scaled = scaler.transform(X_test)\n",
    "\n",
    "# Define the parameter grid\n",
    "param_grid = {\n",
    "    'n_estimators': [100, 200, 300],\n",
    "    'max_depth': [3, 4, 5, 6],\n",
    "    'learning_rate': [0.01, 0.05, 0.1],\n",
    "    'subsample': [0.6, 0.8, 1.0],\n",
    "    'colsample_bytree': [0.6, 0.8, 1.0]\n",
    "}\n",
    "\n",
    "# Initialize the XGBoost classifier\n",
    "xgb_classifier = XGBClassifier(random_state=42)\n",
    "\n",
    "# Stratified K-Fold Cross-Validation to ensure balanced class distribution\n",
    "cv = StratifiedKFold(n_splits=3, shuffle=True, random_state=42)\n",
    "\n",
    "# Perform Grid Search with Cross-Validation\n",
    "grid_search = GridSearchCV(estimator=xgb_classifier, param_grid=param_grid, cv=cv, n_jobs=-1, verbose=1)\n",
    "grid_search.fit(X_train_scaled, y_train)\n",
    "\n",
    "# Print the best parameters found\n",
    "print(\"Best Parameters:\", grid_search.best_params_)\n",
    "\n",
    "# Evaluate the best model\n",
    "best_xgb = grid_search.best_estimator_\n",
    "\n",
    "# Predict on the test set\n",
    "y_pred = best_xgb.predict(X_test_scaled)\n",
    "\n",
    "# Print the classification report\n",
    "print(\"\\nClassification Report:\")\n",
    "print(classification_report(y_test, y_pred))\n",
    "\n",
    "# Calculate and print the confusion matrix\n",
    "conf_matrix = confusion_matrix(y_test, y_pred)\n",
    "print(\"\\nConfusion Matrix:\")\n",
    "print(conf_matrix)\n",
    "\n",
    "# Plot confusion matrix\n",
    "sns.heatmap(conf_matrix, annot=True, fmt='d', cmap='Blues')\n",
    "plt.title('Confusion Matrix')\n",
    "plt.xlabel('Predicted')\n",
    "plt.ylabel('Actual')\n",
    "plt.show()\n",
    "\n",
    "# Plot ROC curve\n",
    "y_pred_prob = best_xgb.predict_proba(X_test_scaled)[:, 1]\n",
    "fpr, tpr, thresholds = roc_curve(y_test, y_pred_prob)\n",
    "roc_auc = roc_auc_score(y_test, y_pred_prob)\n",
    "\n",
    "plt.figure(figsize=(10, 7))\n",
    "plt.plot(fpr, tpr, label=f'XGBoost (AUC = {roc_auc:.2f})', color='blue')\n",
    "plt.plot([0, 1], [0, 1], 'k--')\n",
    "plt.xlabel('False Positive Rate')\n",
    "plt.ylabel('True Positive Rate')\n",
    "plt.title('ROC Curve')\n",
    "plt.legend(loc='lower right')\n",
    "plt.show()\n"
   ],
   "id": "f666e54c655f8503",
   "outputs": [],
   "execution_count": null
  },
  {
   "metadata": {
    "jupyter": {
     "is_executing": true
    }
   },
   "cell_type": "code",
   "source": [
    "param_dist = {\n",
    "    'n_estimators': [100, 200, 300],\n",
    "    'max_depth': [3, 4, 5, 6],\n",
    "    'learning_rate': [0.01, 0.05, 0.1],\n",
    "    'subsample': [0.6, 0.8, 1.0],\n",
    "    'colsample_bytree': [0.6, 0.8, 1.0]\n",
    "}\n",
    "\n",
    "# Initialize the XGBoost classifier\n",
    "xgb_classifier = XGBClassifier(random_state=42)\n",
    "\n",
    "# Stratified K-Fold Cross-Validation to ensure balanced class distribution\n",
    "cv = StratifiedKFold(n_splits=3, shuffle=True, random_state=42)\n",
    "\n",
    "# Perform Randomized Search with Cross-Validation\n",
    "random_search = RandomizedSearchCV(xgb_classifier, param_distributions=param_dist, n_iter=50, cv=cv, random_state=42, n_jobs=-1)\n",
    "random_search.fit(X_train_scaled, y_train)\n",
    "\n",
    "# Print the best parameters found\n",
    "print(\"Best Parameters:\", random_search.best_params_)\n",
    "\n",
    "# Evaluate the best model\n",
    "best_xgb = random_search.best_estimator_\n",
    "\n",
    "# Predict on the test set\n",
    "y_pred = best_xgb.predict(X_test_scaled)\n",
    "\n",
    "# Print the classification report\n",
    "print(\"\\nClassification Report:\")\n",
    "print(classification_report(y_test, y_pred))\n",
    "\n",
    "# Calculate and print the confusion matrix\n",
    "conf_matrix = confusion_matrix(y_test, y_pred)\n",
    "print(\"\\nConfusion Matrix:\")\n",
    "print(conf_matrix)\n",
    "\n",
    "# Plot confusion matrix\n",
    "sns.heatmap(conf_matrix, annot=True, fmt='d', cmap='Blues')\n",
    "plt.title('Confusion Matrix')\n",
    "plt.xlabel('Predicted')\n",
    "plt.ylabel('Actual')\n",
    "plt.show()\n",
    "\n",
    "# Plot ROC curve\n",
    "y_pred_prob = best_xgb.predict_proba(X_test_scaled)[:, 1]\n",
    "fpr, tpr, thresholds = roc_curve(y_test, y_pred_prob)\n",
    "roc_auc = roc_auc_score(y_test, y_pred_prob)\n",
    "\n",
    "plt.figure(figsize=(10, 7))\n",
    "plt.plot(fpr, tpr, label=f'XGBoost (AUC = {roc_auc:.2f})', color='blue')\n",
    "plt.plot([0, 1], [0, 1], 'k--')\n",
    "plt.xlabel('False Positive Rate')\n",
    "plt.ylabel('True Positive Rate')\n",
    "plt.title('ROC Curve')\n",
    "plt.legend(loc='lower right')\n",
    "plt.show()"
   ],
   "id": "35ac52a26a7b4ea3",
   "outputs": [],
   "execution_count": null
  },
  {
   "metadata": {},
   "cell_type": "markdown",
   "source": "## Regularization Techniques",
   "id": "c3c4aef93e2bac6a"
  },
  {
   "metadata": {
    "jupyter": {
     "is_executing": true
    }
   },
   "cell_type": "code",
   "source": [
    "logreg_l1 = LogisticRegression(penalty='l1', solver='liblinear')\n",
    "logreg_l1.fit(X_train_scaled, y_train)"
   ],
   "id": "24c0c1a4288656f1",
   "outputs": [],
   "execution_count": null
  },
  {
   "metadata": {
    "jupyter": {
     "is_executing": true
    }
   },
   "cell_type": "code",
   "source": [
    "logreg_l2 = LogisticRegression(penalty='l2')\n",
    "logreg_l2.fit(X_train_scaled, y_train)"
   ],
   "id": "7634868ace999364",
   "outputs": [],
   "execution_count": null
  },
  {
   "metadata": {
    "jupyter": {
     "is_executing": true
    }
   },
   "cell_type": "code",
   "source": [
    "# Initialize the ElasticNet model\n",
    "elastic_net = ElasticNet(alpha=1.0, l1_ratio=0.5)\n",
    "\n",
    "# Fit the model\n",
    "elastic_net.fit(X_train_scaled, y_train)\n",
    "\n",
    "# Print the model details\n",
    "print(elastic_net)\n",
    "\n",
    "# Print coefficients and intercept\n",
    "print(\"Coefficients:\", elastic_net.coef_)\n",
    "print(\"Intercept:\", elastic_net.intercept_)\n"
   ],
   "id": "6d22e46a4cceba82",
   "outputs": [],
   "execution_count": null
  },
  {
   "metadata": {
    "jupyter": {
     "is_executing": true
    }
   },
   "cell_type": "code",
   "source": [
    "# Initialize the XGBoost classifier\n",
    "xgb_classifier = XGBClassifier(random_state=42)\n",
    "\n",
    "# Stratified K-Fold Cross-Validation to ensure balanced class distribution\n",
    "cv = StratifiedKFold(n_splits=5, shuffle=True, random_state=42)\n",
    "\n",
    "# Perform Grid Search with Cross-Validation\n",
    "grid_search = GridSearchCV(estimator=xgb_classifier, param_grid=param_grid, cv=cv, n_jobs=-1, verbose=1)\n",
    "grid_search.fit(X_train_scaled, y_train)\n",
    "\n",
    "# Print the best parameters found\n",
    "print(\"Best Parameters:\", grid_search.best_params_)\n",
    "\n",
    "# Evaluate the best model\n",
    "best_xgb = grid_search.best_estimator_\n",
    "\n",
    "# Predict on the test set\n",
    "y_pred = best_xgb.predict(X_test_scaled)\n",
    "\n",
    "# Print the classification report\n",
    "print(\"\\nClassification Report:\")\n",
    "print(classification_report(y_test, y_pred))\n",
    "\n",
    "# Calculate and print the confusion matrix\n",
    "conf_matrix = confusion_matrix(y_test, y_pred)\n",
    "print(\"\\nConfusion Matrix:\")\n",
    "print(conf_matrix)\n",
    "\n",
    "# Plot confusion matrix\n",
    "sns.heatmap(conf_matrix, annot=True, fmt='d', cmap='Blues')\n",
    "plt.title('Confusion Matrix')\n",
    "plt.xlabel('Predicted')\n",
    "plt.ylabel('Actual')\n",
    "plt.show()\n",
    "\n",
    "# Plot ROC curve\n",
    "y_pred_prob = best_xgb.predict_proba(X_test_scaled)[:, 1]\n",
    "fpr, tpr, thresholds = roc_curve(y_test, y_pred_prob)\n",
    "roc_auc = roc_auc_score(y_test, y_pred_prob)\n",
    "\n",
    "plt.figure(figsize=(10, 7))\n",
    "plt.plot(fpr, tpr, label=f'XGBoost (AUC = {roc_auc:.2f})', color='blue')\n",
    "plt.plot([0, 1], [0, 1], 'k--')\n",
    "plt.xlabel('False Positive Rate')\n",
    "plt.ylabel('True Positive Rate')\n",
    "plt.title('ROC Curve')\n",
    "plt.legend(loc='lower right')\n",
    "plt.show()"
   ],
   "id": "ff3496c91a7a4c7c",
   "outputs": [],
   "execution_count": null
  },
  {
   "metadata": {
    "jupyter": {
     "is_executing": true
    }
   },
   "cell_type": "code",
   "source": [
    "import joblib\n",
    "\n",
    "# Save the model to a file\n",
    "joblib_file = \"xgb_classifier_model.pkl\"\n",
    "joblib.dump(xgb_classifier, joblib_file)\n"
   ],
   "id": "4f0c5853ebcdf9ea",
   "outputs": [],
   "execution_count": null
  },
  {
   "metadata": {
    "jupyter": {
     "is_executing": true
    }
   },
   "cell_type": "code",
   "source": [
    "# Load the model from the file\n",
    "loaded_model = joblib.load(joblib_file)\n"
   ],
   "id": "6f7d0fce5ea6b7f0",
   "outputs": [],
   "execution_count": null
  },
  {
   "metadata": {
    "jupyter": {
     "is_executing": true
    }
   },
   "cell_type": "code",
   "source": [
    "# Use the loaded model to make predictions\n",
    "y_pred = loaded_model.predict(X_test)\n",
    "\n",
    "# Evaluate the model\n",
    "accuracy = accuracy_score(y_test, y_pred)\n",
    "print(f\"Accuracy: {accuracy:.4f}\")\n",
    "\n",
    "# Print the classification report\n",
    "from sklearn.metrics import classification_report\n",
    "print(\"\\nClassification Report:\")\n",
    "print(classification_report(y_test, y_pred))\n",
    "\n",
    "# Calculate and print the confusion matrix\n",
    "from sklearn.metrics import confusion_matrix\n",
    "conf_matrix = confusion_matrix(y_test, y_pred)\n",
    "print(\"\\nConfusion Matrix:\")\n",
    "print(conf_matrix)\n",
    "# Plot confusion matrix\n",
    "sns.heatmap(conf_matrix, annot=True, fmt='d', cmap='Blues')\n",
    "plt.title('Confusion Matrix')\n",
    "plt.xlabel('Predicted')\n",
    "plt.ylabel('Actual')\n",
    "plt.show()\n",
    "\n",
    "# Plot ROC curve\n",
    "y_pred_prob = loaded_model.predict_proba(X_test)[:, 1]\n",
    "fpr, tpr, thresholds = roc_curve(y_test, y_pred_prob)\n",
    "roc_auc = roc_auc_score(y_test, y_pred_prob)\n",
    "\n",
    "plt.figure(figsize=(10, 7))\n",
    "plt.plot(fpr, tpr, label=f'XGBoost (AUC = {roc_auc:.2f})', color='blue')\n",
    "plt.plot([0, 1], [0, 1], 'k--')\n",
    "plt.xlabel('False Positive Rate')\n",
    "plt.ylabel('True Positive Rate')\n",
    "plt.title('ROC Curve')\n",
    "plt.legend(loc='lower right')\n",
    "plt.show()\n"
   ],
   "id": "7446ae20020ff5f7",
   "outputs": [],
   "execution_count": null
  },
  {
   "metadata": {
    "jupyter": {
     "is_executing": true
    }
   },
   "cell_type": "code",
   "source": "",
   "id": "6d7b268d88b63a7e",
   "outputs": [],
   "execution_count": null
  }
 ],
 "metadata": {
  "kernelspec": {
   "display_name": "Python 3",
   "language": "python",
   "name": "python3"
  },
  "language_info": {
   "codemirror_mode": {
    "name": "ipython",
    "version": 3
   },
   "file_extension": ".py",
   "mimetype": "text/x-python",
   "name": "python",
   "nbconvert_exporter": "python",
   "pygments_lexer": "ipython3",
   "version": "3.9.12"
  }
 },
 "nbformat": 4,
 "nbformat_minor": 5
}
