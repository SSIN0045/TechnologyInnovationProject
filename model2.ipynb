{
 "cells": [
  {
   "metadata": {},
   "cell_type": "markdown",
   "source": "# <font color=\"006179\"> Package Required</font>",
   "id": "7a596e808b729cbd"
  },
  {
   "cell_type": "code",
   "id": "initial_id",
   "metadata": {
    "collapsed": true,
    "ExecuteTime": {
     "end_time": "2024-08-05T10:51:41.563619Z",
     "start_time": "2024-08-05T10:51:41.137856Z"
    }
   },
   "source": [
    "import pandas as pd\n",
    "import seaborn as sns\n",
    "import numpy as np\n",
    "import matplotlib.pyplot as plt\n",
    "from sklearn.preprocessing import LabelEncoder\n",
    "import math\n",
    "from sklearn.ensemble import RandomForestClassifier\n",
    "from sklearn.neighbors import KNeighborsClassifier\n",
    "from imblearn.under_sampling import RandomUnderSampler\n",
    "from sklearn.linear_model import (LogisticRegression, ElasticNet)\n",
    "from sklearn.preprocessing import StandardScaler\n",
    "from sklearn.metrics import roc_auc_score, classification_report, confusion_matrix, average_precision_score, precision_score, recall_score, f1_score, roc_curve\n",
    "from sklearn.tree import DecisionTreeClassifier\n",
    "from sklearn.svm import SVC\n",
    "from scipy.stats import chi2_contingency\n",
    "from sklearn.metrics import accuracy_score\n",
    "from sklearn.model_selection import GridSearchCV, RandomizedSearchCV, StratifiedKFold, cross_val_score, train_test_split\n",
    "from xgboost import XGBClassifier\n",
    "import joblib\n",
    "\n",
    "\n",
    "\n",
    "\n",
    " "
   ],
   "outputs": [],
   "execution_count": 1
  },
  {
   "cell_type": "code",
   "id": "4c69f563dbc8e8a5",
   "metadata": {
    "ExecuteTime": {
     "end_time": "2024-08-05T10:51:46.489553Z",
     "start_time": "2024-08-05T10:51:41.565328Z"
    }
   },
   "source": "df = pd.read_csv(\"/Users/nglongvu1002/Desktop/dataset/fraudTrain.csv\")",
   "outputs": [],
   "execution_count": 2
  },
  {
   "cell_type": "code",
   "id": "efa766cefb53de73",
   "metadata": {
    "ExecuteTime": {
     "end_time": "2024-08-05T10:51:47.156439Z",
     "start_time": "2024-08-05T10:51:46.491612Z"
    }
   },
   "source": [
    "df.info()"
   ],
   "outputs": [
    {
     "name": "stdout",
     "output_type": "stream",
     "text": [
      "<class 'pandas.core.frame.DataFrame'>\n",
      "RangeIndex: 1296675 entries, 0 to 1296674\n",
      "Data columns (total 23 columns):\n",
      " #   Column                 Non-Null Count    Dtype  \n",
      "---  ------                 --------------    -----  \n",
      " 0   Unnamed: 0             1296675 non-null  int64  \n",
      " 1   trans_date_trans_time  1296675 non-null  object \n",
      " 2   cc_num                 1296675 non-null  int64  \n",
      " 3   merchant               1296675 non-null  object \n",
      " 4   category               1296675 non-null  object \n",
      " 5   amt                    1296675 non-null  float64\n",
      " 6   first                  1296675 non-null  object \n",
      " 7   last                   1296675 non-null  object \n",
      " 8   gender                 1296675 non-null  object \n",
      " 9   street                 1296675 non-null  object \n",
      " 10  city                   1296675 non-null  object \n",
      " 11  state                  1296675 non-null  object \n",
      " 12  zip                    1296675 non-null  int64  \n",
      " 13  lat                    1296675 non-null  float64\n",
      " 14  long                   1296675 non-null  float64\n",
      " 15  city_pop               1296675 non-null  int64  \n",
      " 16  job                    1296675 non-null  object \n",
      " 17  dob                    1296675 non-null  object \n",
      " 18  trans_num              1296675 non-null  object \n",
      " 19  unix_time              1296675 non-null  int64  \n",
      " 20  merch_lat              1296675 non-null  float64\n",
      " 21  merch_long             1296675 non-null  float64\n",
      " 22  is_fraud               1296675 non-null  int64  \n",
      "dtypes: float64(5), int64(6), object(12)\n",
      "memory usage: 227.5+ MB\n"
     ]
    }
   ],
   "execution_count": 3
  },
  {
   "cell_type": "code",
   "id": "64b89ee86269d0d2",
   "metadata": {
    "ExecuteTime": {
     "end_time": "2024-08-05T10:51:47.180337Z",
     "start_time": "2024-08-05T10:51:47.158798Z"
    }
   },
   "source": [
    "#Display the data\n",
    "df.head()"
   ],
   "outputs": [
    {
     "data": {
      "text/plain": [
       "   Unnamed: 0 trans_date_trans_time            cc_num  \\\n",
       "0           0   2019-01-01 00:00:18  2703186189652095   \n",
       "1           1   2019-01-01 00:00:44      630423337322   \n",
       "2           2   2019-01-01 00:00:51    38859492057661   \n",
       "3           3   2019-01-01 00:01:16  3534093764340240   \n",
       "4           4   2019-01-01 00:03:06   375534208663984   \n",
       "\n",
       "                             merchant       category     amt      first  \\\n",
       "0          fraud_Rippin, Kub and Mann       misc_net    4.97   Jennifer   \n",
       "1     fraud_Heller, Gutmann and Zieme    grocery_pos  107.23  Stephanie   \n",
       "2                fraud_Lind-Buckridge  entertainment  220.11     Edward   \n",
       "3  fraud_Kutch, Hermiston and Farrell  gas_transport   45.00     Jeremy   \n",
       "4                 fraud_Keeling-Crist       misc_pos   41.96      Tyler   \n",
       "\n",
       "      last gender                        street  ...      lat      long  \\\n",
       "0    Banks      F                561 Perry Cove  ...  36.0788  -81.1781   \n",
       "1     Gill      F  43039 Riley Greens Suite 393  ...  48.8878 -118.2105   \n",
       "2  Sanchez      M      594 White Dale Suite 530  ...  42.1808 -112.2620   \n",
       "3    White      M   9443 Cynthia Court Apt. 038  ...  46.2306 -112.1138   \n",
       "4   Garcia      M              408 Bradley Rest  ...  38.4207  -79.4629   \n",
       "\n",
       "   city_pop                                job         dob  \\\n",
       "0      3495          Psychologist, counselling  1988-03-09   \n",
       "1       149  Special educational needs teacher  1978-06-21   \n",
       "2      4154        Nature conservation officer  1962-01-19   \n",
       "3      1939                    Patent attorney  1967-01-12   \n",
       "4        99     Dance movement psychotherapist  1986-03-28   \n",
       "\n",
       "                          trans_num   unix_time  merch_lat  merch_long  \\\n",
       "0  0b242abb623afc578575680df30655b9  1325376018  36.011293  -82.048315   \n",
       "1  1f76529f8574734946361c461b024d99  1325376044  49.159047 -118.186462   \n",
       "2  a1a22d70485983eac12b5b88dad1cf95  1325376051  43.150704 -112.154481   \n",
       "3  6b849c168bdad6f867558c3793159a81  1325376076  47.034331 -112.561071   \n",
       "4  a41d7549acf90789359a9aa5346dcb46  1325376186  38.674999  -78.632459   \n",
       "\n",
       "   is_fraud  \n",
       "0         0  \n",
       "1         0  \n",
       "2         0  \n",
       "3         0  \n",
       "4         0  \n",
       "\n",
       "[5 rows x 23 columns]"
      ],
      "text/html": [
       "<div>\n",
       "<style scoped>\n",
       "    .dataframe tbody tr th:only-of-type {\n",
       "        vertical-align: middle;\n",
       "    }\n",
       "\n",
       "    .dataframe tbody tr th {\n",
       "        vertical-align: top;\n",
       "    }\n",
       "\n",
       "    .dataframe thead th {\n",
       "        text-align: right;\n",
       "    }\n",
       "</style>\n",
       "<table border=\"1\" class=\"dataframe\">\n",
       "  <thead>\n",
       "    <tr style=\"text-align: right;\">\n",
       "      <th></th>\n",
       "      <th>Unnamed: 0</th>\n",
       "      <th>trans_date_trans_time</th>\n",
       "      <th>cc_num</th>\n",
       "      <th>merchant</th>\n",
       "      <th>category</th>\n",
       "      <th>amt</th>\n",
       "      <th>first</th>\n",
       "      <th>last</th>\n",
       "      <th>gender</th>\n",
       "      <th>street</th>\n",
       "      <th>...</th>\n",
       "      <th>lat</th>\n",
       "      <th>long</th>\n",
       "      <th>city_pop</th>\n",
       "      <th>job</th>\n",
       "      <th>dob</th>\n",
       "      <th>trans_num</th>\n",
       "      <th>unix_time</th>\n",
       "      <th>merch_lat</th>\n",
       "      <th>merch_long</th>\n",
       "      <th>is_fraud</th>\n",
       "    </tr>\n",
       "  </thead>\n",
       "  <tbody>\n",
       "    <tr>\n",
       "      <th>0</th>\n",
       "      <td>0</td>\n",
       "      <td>2019-01-01 00:00:18</td>\n",
       "      <td>2703186189652095</td>\n",
       "      <td>fraud_Rippin, Kub and Mann</td>\n",
       "      <td>misc_net</td>\n",
       "      <td>4.97</td>\n",
       "      <td>Jennifer</td>\n",
       "      <td>Banks</td>\n",
       "      <td>F</td>\n",
       "      <td>561 Perry Cove</td>\n",
       "      <td>...</td>\n",
       "      <td>36.0788</td>\n",
       "      <td>-81.1781</td>\n",
       "      <td>3495</td>\n",
       "      <td>Psychologist, counselling</td>\n",
       "      <td>1988-03-09</td>\n",
       "      <td>0b242abb623afc578575680df30655b9</td>\n",
       "      <td>1325376018</td>\n",
       "      <td>36.011293</td>\n",
       "      <td>-82.048315</td>\n",
       "      <td>0</td>\n",
       "    </tr>\n",
       "    <tr>\n",
       "      <th>1</th>\n",
       "      <td>1</td>\n",
       "      <td>2019-01-01 00:00:44</td>\n",
       "      <td>630423337322</td>\n",
       "      <td>fraud_Heller, Gutmann and Zieme</td>\n",
       "      <td>grocery_pos</td>\n",
       "      <td>107.23</td>\n",
       "      <td>Stephanie</td>\n",
       "      <td>Gill</td>\n",
       "      <td>F</td>\n",
       "      <td>43039 Riley Greens Suite 393</td>\n",
       "      <td>...</td>\n",
       "      <td>48.8878</td>\n",
       "      <td>-118.2105</td>\n",
       "      <td>149</td>\n",
       "      <td>Special educational needs teacher</td>\n",
       "      <td>1978-06-21</td>\n",
       "      <td>1f76529f8574734946361c461b024d99</td>\n",
       "      <td>1325376044</td>\n",
       "      <td>49.159047</td>\n",
       "      <td>-118.186462</td>\n",
       "      <td>0</td>\n",
       "    </tr>\n",
       "    <tr>\n",
       "      <th>2</th>\n",
       "      <td>2</td>\n",
       "      <td>2019-01-01 00:00:51</td>\n",
       "      <td>38859492057661</td>\n",
       "      <td>fraud_Lind-Buckridge</td>\n",
       "      <td>entertainment</td>\n",
       "      <td>220.11</td>\n",
       "      <td>Edward</td>\n",
       "      <td>Sanchez</td>\n",
       "      <td>M</td>\n",
       "      <td>594 White Dale Suite 530</td>\n",
       "      <td>...</td>\n",
       "      <td>42.1808</td>\n",
       "      <td>-112.2620</td>\n",
       "      <td>4154</td>\n",
       "      <td>Nature conservation officer</td>\n",
       "      <td>1962-01-19</td>\n",
       "      <td>a1a22d70485983eac12b5b88dad1cf95</td>\n",
       "      <td>1325376051</td>\n",
       "      <td>43.150704</td>\n",
       "      <td>-112.154481</td>\n",
       "      <td>0</td>\n",
       "    </tr>\n",
       "    <tr>\n",
       "      <th>3</th>\n",
       "      <td>3</td>\n",
       "      <td>2019-01-01 00:01:16</td>\n",
       "      <td>3534093764340240</td>\n",
       "      <td>fraud_Kutch, Hermiston and Farrell</td>\n",
       "      <td>gas_transport</td>\n",
       "      <td>45.00</td>\n",
       "      <td>Jeremy</td>\n",
       "      <td>White</td>\n",
       "      <td>M</td>\n",
       "      <td>9443 Cynthia Court Apt. 038</td>\n",
       "      <td>...</td>\n",
       "      <td>46.2306</td>\n",
       "      <td>-112.1138</td>\n",
       "      <td>1939</td>\n",
       "      <td>Patent attorney</td>\n",
       "      <td>1967-01-12</td>\n",
       "      <td>6b849c168bdad6f867558c3793159a81</td>\n",
       "      <td>1325376076</td>\n",
       "      <td>47.034331</td>\n",
       "      <td>-112.561071</td>\n",
       "      <td>0</td>\n",
       "    </tr>\n",
       "    <tr>\n",
       "      <th>4</th>\n",
       "      <td>4</td>\n",
       "      <td>2019-01-01 00:03:06</td>\n",
       "      <td>375534208663984</td>\n",
       "      <td>fraud_Keeling-Crist</td>\n",
       "      <td>misc_pos</td>\n",
       "      <td>41.96</td>\n",
       "      <td>Tyler</td>\n",
       "      <td>Garcia</td>\n",
       "      <td>M</td>\n",
       "      <td>408 Bradley Rest</td>\n",
       "      <td>...</td>\n",
       "      <td>38.4207</td>\n",
       "      <td>-79.4629</td>\n",
       "      <td>99</td>\n",
       "      <td>Dance movement psychotherapist</td>\n",
       "      <td>1986-03-28</td>\n",
       "      <td>a41d7549acf90789359a9aa5346dcb46</td>\n",
       "      <td>1325376186</td>\n",
       "      <td>38.674999</td>\n",
       "      <td>-78.632459</td>\n",
       "      <td>0</td>\n",
       "    </tr>\n",
       "  </tbody>\n",
       "</table>\n",
       "<p>5 rows × 23 columns</p>\n",
       "</div>"
      ]
     },
     "execution_count": 4,
     "metadata": {},
     "output_type": "execute_result"
    }
   ],
   "execution_count": 4
  },
  {
   "cell_type": "code",
   "id": "109066cfafd43eae",
   "metadata": {
    "ExecuteTime": {
     "end_time": "2024-08-05T10:51:47.818683Z",
     "start_time": "2024-08-05T10:51:47.182395Z"
    }
   },
   "source": [
    "df.info()"
   ],
   "outputs": [
    {
     "name": "stdout",
     "output_type": "stream",
     "text": [
      "<class 'pandas.core.frame.DataFrame'>\n",
      "RangeIndex: 1296675 entries, 0 to 1296674\n",
      "Data columns (total 23 columns):\n",
      " #   Column                 Non-Null Count    Dtype  \n",
      "---  ------                 --------------    -----  \n",
      " 0   Unnamed: 0             1296675 non-null  int64  \n",
      " 1   trans_date_trans_time  1296675 non-null  object \n",
      " 2   cc_num                 1296675 non-null  int64  \n",
      " 3   merchant               1296675 non-null  object \n",
      " 4   category               1296675 non-null  object \n",
      " 5   amt                    1296675 non-null  float64\n",
      " 6   first                  1296675 non-null  object \n",
      " 7   last                   1296675 non-null  object \n",
      " 8   gender                 1296675 non-null  object \n",
      " 9   street                 1296675 non-null  object \n",
      " 10  city                   1296675 non-null  object \n",
      " 11  state                  1296675 non-null  object \n",
      " 12  zip                    1296675 non-null  int64  \n",
      " 13  lat                    1296675 non-null  float64\n",
      " 14  long                   1296675 non-null  float64\n",
      " 15  city_pop               1296675 non-null  int64  \n",
      " 16  job                    1296675 non-null  object \n",
      " 17  dob                    1296675 non-null  object \n",
      " 18  trans_num              1296675 non-null  object \n",
      " 19  unix_time              1296675 non-null  int64  \n",
      " 20  merch_lat              1296675 non-null  float64\n",
      " 21  merch_long             1296675 non-null  float64\n",
      " 22  is_fraud               1296675 non-null  int64  \n",
      "dtypes: float64(5), int64(6), object(12)\n",
      "memory usage: 227.5+ MB\n"
     ]
    }
   ],
   "execution_count": 5
  },
  {
   "cell_type": "code",
   "id": "f5fba0a9644c69ef",
   "metadata": {
    "ExecuteTime": {
     "end_time": "2024-08-05T10:51:48.473349Z",
     "start_time": "2024-08-05T10:51:47.820873Z"
    }
   },
   "source": [
    "#Sum the missing value\n",
    "df.isnull().sum()"
   ],
   "outputs": [
    {
     "data": {
      "text/plain": [
       "Unnamed: 0               0\n",
       "trans_date_trans_time    0\n",
       "cc_num                   0\n",
       "merchant                 0\n",
       "category                 0\n",
       "amt                      0\n",
       "first                    0\n",
       "last                     0\n",
       "gender                   0\n",
       "street                   0\n",
       "city                     0\n",
       "state                    0\n",
       "zip                      0\n",
       "lat                      0\n",
       "long                     0\n",
       "city_pop                 0\n",
       "job                      0\n",
       "dob                      0\n",
       "trans_num                0\n",
       "unix_time                0\n",
       "merch_lat                0\n",
       "merch_long               0\n",
       "is_fraud                 0\n",
       "dtype: int64"
      ]
     },
     "execution_count": 6,
     "metadata": {},
     "output_type": "execute_result"
    }
   ],
   "execution_count": 6
  },
  {
   "cell_type": "code",
   "id": "a2cf23e0c787d8e4",
   "metadata": {
    "ExecuteTime": {
     "end_time": "2024-08-05T10:51:48.853216Z",
     "start_time": "2024-08-05T10:51:48.477438Z"
    }
   },
   "source": [
    "#Summary the description of the dataset\n",
    "df.describe()"
   ],
   "outputs": [
    {
     "data": {
      "text/plain": [
       "         Unnamed: 0        cc_num           amt           zip           lat  \\\n",
       "count  1.296675e+06  1.296675e+06  1.296675e+06  1.296675e+06  1.296675e+06   \n",
       "mean   6.483370e+05  4.171920e+17  7.035104e+01  4.880067e+04  3.853762e+01   \n",
       "std    3.743180e+05  1.308806e+18  1.603160e+02  2.689322e+04  5.075808e+00   \n",
       "min    0.000000e+00  6.041621e+10  1.000000e+00  1.257000e+03  2.002710e+01   \n",
       "25%    3.241685e+05  1.800429e+14  9.650000e+00  2.623700e+04  3.462050e+01   \n",
       "50%    6.483370e+05  3.521417e+15  4.752000e+01  4.817400e+04  3.935430e+01   \n",
       "75%    9.725055e+05  4.642255e+15  8.314000e+01  7.204200e+04  4.194040e+01   \n",
       "max    1.296674e+06  4.992346e+18  2.894890e+04  9.978300e+04  6.669330e+01   \n",
       "\n",
       "               long      city_pop     unix_time     merch_lat    merch_long  \\\n",
       "count  1.296675e+06  1.296675e+06  1.296675e+06  1.296675e+06  1.296675e+06   \n",
       "mean  -9.022634e+01  8.882444e+04  1.349244e+09  3.853734e+01 -9.022646e+01   \n",
       "std    1.375908e+01  3.019564e+05  1.284128e+07  5.109788e+00  1.377109e+01   \n",
       "min   -1.656723e+02  2.300000e+01  1.325376e+09  1.902779e+01 -1.666712e+02   \n",
       "25%   -9.679800e+01  7.430000e+02  1.338751e+09  3.473357e+01 -9.689728e+01   \n",
       "50%   -8.747690e+01  2.456000e+03  1.349250e+09  3.936568e+01 -8.743839e+01   \n",
       "75%   -8.015800e+01  2.032800e+04  1.359385e+09  4.195716e+01 -8.023680e+01   \n",
       "max   -6.795030e+01  2.906700e+06  1.371817e+09  6.751027e+01 -6.695090e+01   \n",
       "\n",
       "           is_fraud  \n",
       "count  1.296675e+06  \n",
       "mean   5.788652e-03  \n",
       "std    7.586269e-02  \n",
       "min    0.000000e+00  \n",
       "25%    0.000000e+00  \n",
       "50%    0.000000e+00  \n",
       "75%    0.000000e+00  \n",
       "max    1.000000e+00  "
      ],
      "text/html": [
       "<div>\n",
       "<style scoped>\n",
       "    .dataframe tbody tr th:only-of-type {\n",
       "        vertical-align: middle;\n",
       "    }\n",
       "\n",
       "    .dataframe tbody tr th {\n",
       "        vertical-align: top;\n",
       "    }\n",
       "\n",
       "    .dataframe thead th {\n",
       "        text-align: right;\n",
       "    }\n",
       "</style>\n",
       "<table border=\"1\" class=\"dataframe\">\n",
       "  <thead>\n",
       "    <tr style=\"text-align: right;\">\n",
       "      <th></th>\n",
       "      <th>Unnamed: 0</th>\n",
       "      <th>cc_num</th>\n",
       "      <th>amt</th>\n",
       "      <th>zip</th>\n",
       "      <th>lat</th>\n",
       "      <th>long</th>\n",
       "      <th>city_pop</th>\n",
       "      <th>unix_time</th>\n",
       "      <th>merch_lat</th>\n",
       "      <th>merch_long</th>\n",
       "      <th>is_fraud</th>\n",
       "    </tr>\n",
       "  </thead>\n",
       "  <tbody>\n",
       "    <tr>\n",
       "      <th>count</th>\n",
       "      <td>1.296675e+06</td>\n",
       "      <td>1.296675e+06</td>\n",
       "      <td>1.296675e+06</td>\n",
       "      <td>1.296675e+06</td>\n",
       "      <td>1.296675e+06</td>\n",
       "      <td>1.296675e+06</td>\n",
       "      <td>1.296675e+06</td>\n",
       "      <td>1.296675e+06</td>\n",
       "      <td>1.296675e+06</td>\n",
       "      <td>1.296675e+06</td>\n",
       "      <td>1.296675e+06</td>\n",
       "    </tr>\n",
       "    <tr>\n",
       "      <th>mean</th>\n",
       "      <td>6.483370e+05</td>\n",
       "      <td>4.171920e+17</td>\n",
       "      <td>7.035104e+01</td>\n",
       "      <td>4.880067e+04</td>\n",
       "      <td>3.853762e+01</td>\n",
       "      <td>-9.022634e+01</td>\n",
       "      <td>8.882444e+04</td>\n",
       "      <td>1.349244e+09</td>\n",
       "      <td>3.853734e+01</td>\n",
       "      <td>-9.022646e+01</td>\n",
       "      <td>5.788652e-03</td>\n",
       "    </tr>\n",
       "    <tr>\n",
       "      <th>std</th>\n",
       "      <td>3.743180e+05</td>\n",
       "      <td>1.308806e+18</td>\n",
       "      <td>1.603160e+02</td>\n",
       "      <td>2.689322e+04</td>\n",
       "      <td>5.075808e+00</td>\n",
       "      <td>1.375908e+01</td>\n",
       "      <td>3.019564e+05</td>\n",
       "      <td>1.284128e+07</td>\n",
       "      <td>5.109788e+00</td>\n",
       "      <td>1.377109e+01</td>\n",
       "      <td>7.586269e-02</td>\n",
       "    </tr>\n",
       "    <tr>\n",
       "      <th>min</th>\n",
       "      <td>0.000000e+00</td>\n",
       "      <td>6.041621e+10</td>\n",
       "      <td>1.000000e+00</td>\n",
       "      <td>1.257000e+03</td>\n",
       "      <td>2.002710e+01</td>\n",
       "      <td>-1.656723e+02</td>\n",
       "      <td>2.300000e+01</td>\n",
       "      <td>1.325376e+09</td>\n",
       "      <td>1.902779e+01</td>\n",
       "      <td>-1.666712e+02</td>\n",
       "      <td>0.000000e+00</td>\n",
       "    </tr>\n",
       "    <tr>\n",
       "      <th>25%</th>\n",
       "      <td>3.241685e+05</td>\n",
       "      <td>1.800429e+14</td>\n",
       "      <td>9.650000e+00</td>\n",
       "      <td>2.623700e+04</td>\n",
       "      <td>3.462050e+01</td>\n",
       "      <td>-9.679800e+01</td>\n",
       "      <td>7.430000e+02</td>\n",
       "      <td>1.338751e+09</td>\n",
       "      <td>3.473357e+01</td>\n",
       "      <td>-9.689728e+01</td>\n",
       "      <td>0.000000e+00</td>\n",
       "    </tr>\n",
       "    <tr>\n",
       "      <th>50%</th>\n",
       "      <td>6.483370e+05</td>\n",
       "      <td>3.521417e+15</td>\n",
       "      <td>4.752000e+01</td>\n",
       "      <td>4.817400e+04</td>\n",
       "      <td>3.935430e+01</td>\n",
       "      <td>-8.747690e+01</td>\n",
       "      <td>2.456000e+03</td>\n",
       "      <td>1.349250e+09</td>\n",
       "      <td>3.936568e+01</td>\n",
       "      <td>-8.743839e+01</td>\n",
       "      <td>0.000000e+00</td>\n",
       "    </tr>\n",
       "    <tr>\n",
       "      <th>75%</th>\n",
       "      <td>9.725055e+05</td>\n",
       "      <td>4.642255e+15</td>\n",
       "      <td>8.314000e+01</td>\n",
       "      <td>7.204200e+04</td>\n",
       "      <td>4.194040e+01</td>\n",
       "      <td>-8.015800e+01</td>\n",
       "      <td>2.032800e+04</td>\n",
       "      <td>1.359385e+09</td>\n",
       "      <td>4.195716e+01</td>\n",
       "      <td>-8.023680e+01</td>\n",
       "      <td>0.000000e+00</td>\n",
       "    </tr>\n",
       "    <tr>\n",
       "      <th>max</th>\n",
       "      <td>1.296674e+06</td>\n",
       "      <td>4.992346e+18</td>\n",
       "      <td>2.894890e+04</td>\n",
       "      <td>9.978300e+04</td>\n",
       "      <td>6.669330e+01</td>\n",
       "      <td>-6.795030e+01</td>\n",
       "      <td>2.906700e+06</td>\n",
       "      <td>1.371817e+09</td>\n",
       "      <td>6.751027e+01</td>\n",
       "      <td>-6.695090e+01</td>\n",
       "      <td>1.000000e+00</td>\n",
       "    </tr>\n",
       "  </tbody>\n",
       "</table>\n",
       "</div>"
      ]
     },
     "execution_count": 7,
     "metadata": {},
     "output_type": "execute_result"
    }
   ],
   "execution_count": 7
  },
  {
   "cell_type": "code",
   "id": "c85233f8c20e4fd1",
   "metadata": {
    "ExecuteTime": {
     "end_time": "2024-08-05T10:51:48.867601Z",
     "start_time": "2024-08-05T10:51:48.855468Z"
    }
   },
   "source": [
    "#Distribute the class\n",
    "df[('is_fraud')].value_counts()"
   ],
   "outputs": [
    {
     "data": {
      "text/plain": [
       "is_fraud\n",
       "0    1289169\n",
       "1       7506\n",
       "Name: count, dtype: int64"
      ]
     },
     "execution_count": 8,
     "metadata": {},
     "output_type": "execute_result"
    }
   ],
   "execution_count": 8
  },
  {
   "cell_type": "markdown",
   "source": "# <font color =\"006179\"> Pre-Processing </font>",
   "metadata": {
    "collapsed": false
   },
   "id": "cb3e638a434483be"
  },
  {
   "metadata": {
    "ExecuteTime": {
     "end_time": "2024-08-05T10:51:50.993094Z",
     "start_time": "2024-08-05T10:51:48.868673Z"
    }
   },
   "cell_type": "code",
   "source": [
    "#Split the column trans_date_trans_time into 2 separate columns, including trans_date and trans_time\n",
    "df['trans_date'] = pd.to_datetime(df['trans_date_trans_time'], format='%Y-%m-%d %H:%M:%S').dt.date\n",
    "df['trans_time'] = pd.to_datetime(df['trans_date_trans_time'], format='%Y-%m-%d %H:%M:%S').dt.time\n",
    "df.info()"
   ],
   "id": "386495f9a29be94d",
   "outputs": [
    {
     "name": "stdout",
     "output_type": "stream",
     "text": [
      "<class 'pandas.core.frame.DataFrame'>\n",
      "RangeIndex: 1296675 entries, 0 to 1296674\n",
      "Data columns (total 25 columns):\n",
      " #   Column                 Non-Null Count    Dtype  \n",
      "---  ------                 --------------    -----  \n",
      " 0   Unnamed: 0             1296675 non-null  int64  \n",
      " 1   trans_date_trans_time  1296675 non-null  object \n",
      " 2   cc_num                 1296675 non-null  int64  \n",
      " 3   merchant               1296675 non-null  object \n",
      " 4   category               1296675 non-null  object \n",
      " 5   amt                    1296675 non-null  float64\n",
      " 6   first                  1296675 non-null  object \n",
      " 7   last                   1296675 non-null  object \n",
      " 8   gender                 1296675 non-null  object \n",
      " 9   street                 1296675 non-null  object \n",
      " 10  city                   1296675 non-null  object \n",
      " 11  state                  1296675 non-null  object \n",
      " 12  zip                    1296675 non-null  int64  \n",
      " 13  lat                    1296675 non-null  float64\n",
      " 14  long                   1296675 non-null  float64\n",
      " 15  city_pop               1296675 non-null  int64  \n",
      " 16  job                    1296675 non-null  object \n",
      " 17  dob                    1296675 non-null  object \n",
      " 18  trans_num              1296675 non-null  object \n",
      " 19  unix_time              1296675 non-null  int64  \n",
      " 20  merch_lat              1296675 non-null  float64\n",
      " 21  merch_long             1296675 non-null  float64\n",
      " 22  is_fraud               1296675 non-null  int64  \n",
      " 23  trans_date             1296675 non-null  object \n",
      " 24  trans_time             1296675 non-null  object \n",
      "dtypes: float64(5), int64(6), object(14)\n",
      "memory usage: 247.3+ MB\n"
     ]
    }
   ],
   "execution_count": 9
  },
  {
   "cell_type": "code",
   "id": "c3b966ee22c2761c",
   "metadata": {
    "ExecuteTime": {
     "end_time": "2024-08-05T10:51:51.297314Z",
     "start_time": "2024-08-05T10:51:50.995113Z"
    }
   },
   "source": [
    "# Remove the 'Unnamed\" and 'trans_date_trans_time' column\n",
    "# Check if the index column exists and remove it\n",
    "if 'Unnamed: 0' in df.columns:\n",
    "    df.drop(columns=['Unnamed: 0'], inplace=True)\n",
    "    \n",
    "df.drop('trans_date_trans_time', axis=1, inplace=True)"
   ],
   "outputs": [],
   "execution_count": 10
  },
  {
   "cell_type": "code",
   "id": "865b9202a1057c1e",
   "metadata": {
    "ExecuteTime": {
     "end_time": "2024-08-05T10:51:51.413313Z",
     "start_time": "2024-08-05T10:51:51.298653Z"
    }
   },
   "source": [
    "# Reorder the columns to have 'trans_date' first and 'trans_time' second\n",
    "columns = ['trans_date', 'trans_time'] + [col for col in df.columns if col not in ['trans_date', 'trans_time']]\n",
    "df = df[columns]"
   ],
   "outputs": [],
   "execution_count": 11
  },
  {
   "cell_type": "code",
   "id": "dcb2f70f6013a546",
   "metadata": {
    "ExecuteTime": {
     "end_time": "2024-08-05T10:51:55.418586Z",
     "start_time": "2024-08-05T10:51:51.414794Z"
    }
   },
   "source": [
    "# Convert 'dob' to datetime\n",
    "df['dob'] = pd.to_datetime(df['dob'], format='%Y-%m-%d')\n",
    "\n",
    "# Convert 'trans_time' to time\n",
    "df['trans_time'] = pd.to_datetime(df['trans_time'], format='%H:%M:%S').dt.time\n",
    "\n",
    "# Convert 'trans_date' to date\n",
    "df['trans_date'] = pd.to_datetime(df['trans_date'])\n",
    "\n",
    "# Check the data types\n",
    "print(\"\\nData types of the columns:\")\n",
    "print(df.dtypes)"
   ],
   "outputs": [
    {
     "name": "stdout",
     "output_type": "stream",
     "text": [
      "\n",
      "Data types of the columns:\n",
      "trans_date    datetime64[ns]\n",
      "trans_time            object\n",
      "cc_num                 int64\n",
      "merchant              object\n",
      "category              object\n",
      "amt                  float64\n",
      "first                 object\n",
      "last                  object\n",
      "gender                object\n",
      "street                object\n",
      "city                  object\n",
      "state                 object\n",
      "zip                    int64\n",
      "lat                  float64\n",
      "long                 float64\n",
      "city_pop               int64\n",
      "job                   object\n",
      "dob           datetime64[ns]\n",
      "trans_num             object\n",
      "unix_time              int64\n",
      "merch_lat            float64\n",
      "merch_long           float64\n",
      "is_fraud               int64\n",
      "dtype: object\n"
     ]
    }
   ],
   "execution_count": 12
  },
  {
   "cell_type": "code",
   "source": [
    "# Select numerical columns\n",
    "numerical_columns_df = df[['amt', 'lat', 'long', 'city_pop', 'merch_lat', 'merch_long', 'unix_time']]\n",
    "# Compute the correlation matrix\n",
    "correlation_matrix = numerical_columns_df.corr()\n",
    "\n",
    "# Create a heatmap to visualize the correlation matrix\n",
    "plt.figure(figsize=(10, 8))\n",
    "sns.heatmap(correlation_matrix, annot=True, cmap='coolwarm', fmt='.2f', vmin=-1, vmax=1)\n",
    "plt.title('Correlation Matrix')\n",
    "plt.show()"
   ],
   "metadata": {
    "collapsed": false,
    "ExecuteTime": {
     "end_time": "2024-08-05T10:51:55.837170Z",
     "start_time": "2024-08-05T10:51:55.420021Z"
    }
   },
   "id": "c4cd7a9ea13c22f3",
   "outputs": [
    {
     "data": {
      "text/plain": [
       "<Figure size 720x576 with 2 Axes>"
      ],
      "image/png": "[encoded data removed]"
     },
     "metadata": {
      "needs_background": "light"
     },
     "output_type": "display_data"
    }
   ],
   "execution_count": 13
  },
  {
   "cell_type": "markdown",
   "id": "5d292218cd70bf76",
   "metadata": {},
   "source": "# <font color=\"006179\"> Feature Engineering </font>"
  },
  {
   "cell_type": "markdown",
   "id": "df062915702a2628",
   "metadata": {},
   "source": [
    "\n",
    "## <font color =\"3fd8fe\"> 1. Transaction Frequency Features </font>\n"
   ]
  },
  {
   "cell_type": "code",
   "id": "315dcf0e5542f2e2",
   "metadata": {
    "ExecuteTime": {
     "end_time": "2024-08-05T10:51:55.853575Z",
     "start_time": "2024-08-05T10:51:55.838419Z"
    }
   },
   "source": [
    "#Statistic summary of total transaction per user\n",
    "df['cc_num'].value_counts().agg(['mean', 'median', 'min', 'max'])"
   ],
   "outputs": [
    {
     "data": {
      "text/plain": [
       "mean      1319.099695\n",
       "median    1054.000000\n",
       "min          7.000000\n",
       "max       3123.000000\n",
       "Name: count, dtype: float64"
      ]
     },
     "execution_count": 14,
     "metadata": {},
     "output_type": "execute_result"
    }
   ],
   "execution_count": 14
  },
  {
   "cell_type": "code",
   "source": [
    "# Total transactions of all users per day\n",
    "df['transactions_per_day'] = df.groupby(['cc_num', df['trans_date'].dt.day])['trans_date'].transform('count')\n",
    "\n",
    "print(df[['cc_num', 'trans_date', 'transactions_per_day']].head())\n"
   ],
   "metadata": {
    "collapsed": false,
    "ExecuteTime": {
     "end_time": "2024-08-05T10:51:55.942763Z",
     "start_time": "2024-08-05T10:51:55.854808Z"
    }
   },
   "id": "694254c9afddf690",
   "outputs": [
    {
     "name": "stdout",
     "output_type": "stream",
     "text": [
      "             cc_num trans_date  transactions_per_day\n",
      "0  2703186189652095 2019-01-01                    69\n",
      "1      630423337322 2019-01-01                    84\n",
      "2    38859492057661 2019-01-01                    19\n",
      "3  3534093764340240 2019-01-01                    19\n",
      "4   375534208663984 2019-01-01                    82\n"
     ]
    }
   ],
   "execution_count": 15
  },
  {
   "cell_type": "code",
   "source": [
    "# Create a 'Week' column using ISO calendar weeks\n",
    "df['Week'] = df['trans_date'].dt.isocalendar().week\n",
    "\n",
    "# Calculate total transactions per week for each customer\n",
    "df['transaction_per_week'] = df.groupby(['cc_num', 'Week'])['trans_date'].transform('count')\n",
    "\n",
    "# Display the updated dataframe with Week and total transactions per Week each customer columns\n",
    "print(df[['cc_num', 'Week', 'transaction_per_week']].head())"
   ],
   "metadata": {
    "collapsed": false,
    "ExecuteTime": {
     "end_time": "2024-08-05T10:51:56.060528Z",
     "start_time": "2024-08-05T10:51:55.944188Z"
    }
   },
   "id": "76cd29532d924041",
   "outputs": [
    {
     "name": "stdout",
     "output_type": "stream",
     "text": [
      "             cc_num  Week  transaction_per_week\n",
      "0  2703186189652095     1                    43\n",
      "1      630423337322     1                    66\n",
      "2    38859492057661     1                    11\n",
      "3  3534093764340240     1                     8\n",
      "4   375534208663984     1                    41\n"
     ]
    }
   ],
   "execution_count": 16
  },
  {
   "cell_type": "code",
   "source": [
    "# Calculate total transactions per month for all users\n",
    "total_transactions_per_month = df.groupby(df['trans_date'].dt.month).size()\n",
    "# Display the total transactions per month\n",
    "print(total_transactions_per_month)"
   ],
   "metadata": {
    "collapsed": false,
    "ExecuteTime": {
     "end_time": "2024-08-05T10:51:56.108371Z",
     "start_time": "2024-08-05T10:51:56.061685Z"
    }
   },
   "id": "640010499f301211",
   "outputs": [
    {
     "name": "stdout",
     "output_type": "stream",
     "text": [
      "trans_date\n",
      "1     104727\n",
      "2      97657\n",
      "3     143789\n",
      "4     134970\n",
      "5     146875\n",
      "6     143811\n",
      "7      86596\n",
      "8      87359\n",
      "9      70652\n",
      "10     68758\n",
      "11     70421\n",
      "12    141060\n",
      "dtype: int64\n"
     ]
    }
   ],
   "execution_count": 17
  },
  {
   "cell_type": "code",
   "source": [
    "# Total transactions of all users per day\n",
    "df['transactions_per_month'] = df.groupby(['cc_num', df['trans_date'].dt.month])['trans_date'].transform('count')\n",
    "print(df[['cc_num', 'trans_date', 'transactions_per_month']].head())"
   ],
   "metadata": {
    "collapsed": false,
    "ExecuteTime": {
     "end_time": "2024-08-05T10:51:56.189416Z",
     "start_time": "2024-08-05T10:51:56.109735Z"
    }
   },
   "id": "228af494637d69ee",
   "outputs": [
    {
     "name": "stdout",
     "output_type": "stream",
     "text": [
      "             cc_num trans_date  transactions_per_month\n",
      "0  2703186189652095 2019-01-01                     177\n",
      "1      630423337322 2019-01-01                     249\n",
      "2    38859492057661 2019-01-01                      43\n",
      "3  3534093764340240 2019-01-01                      35\n",
      "4   375534208663984 2019-01-01                     170\n"
     ]
    }
   ],
   "execution_count": 18
  },
  {
   "cell_type": "code",
   "source": [
    "#Transaction per season of all users\n",
    "def season(date):\n",
    "    if date.month in [1, 2, 3]:\n",
    "        return 'Autumn'\n",
    "    elif date.month in [4, 5, 6]:\n",
    "        return 'Winter'\n",
    "    elif date.month in [7, 8, 9]:\n",
    "        return 'Spring'\n",
    "    else:\n",
    "        return 'Summer'\n",
    "df['transactions_per_season'] = df.groupby(['cc_num', df['trans_date'].apply(season)])['trans_date'].transform('count')"
   ],
   "metadata": {
    "collapsed": false,
    "ExecuteTime": {
     "end_time": "2024-08-05T10:51:58.046563Z",
     "start_time": "2024-08-05T10:51:56.191507Z"
    }
   },
   "id": "e3c4b884b3679723",
   "outputs": [],
   "execution_count": 19
  },
  {
   "cell_type": "markdown",
   "id": "92945ce1cb3c57b8",
   "metadata": {},
   "source": "## <font color =\"3fd8fe\">2. User Transaction Behavior</font>"
  },
  {
   "cell_type": "code",
   "id": "914f35313438e232",
   "metadata": {
    "ExecuteTime": {
     "end_time": "2024-08-05T10:51:58.576647Z",
     "start_time": "2024-08-05T10:51:58.047784Z"
    }
   },
   "source": [
    "## Perform the aggregations\n",
    "agg_df = df.groupby('cc_num')['amt'].agg(\n",
    "    avg_trans_amount='mean',\n",
    "    total_trans_amount='sum',\n",
    "    med_trans_amount='median',\n",
    "    std_trans_amount='std'\n",
    ").reset_index()\n",
    "\n",
    "# Merge the aggregation results back to the original DataFrame\n",
    "df = df.merge(agg_df, on='cc_num', how='left')\n",
    "\n"
   ],
   "outputs": [],
   "execution_count": 20
  },
  {
   "cell_type": "markdown",
   "id": "7e19230dbe9b2e81",
   "metadata": {},
   "source": "## <font color =\"3fd8fe\">3. User-Based Features: Age and Gender </font>\n"
  },
  {
   "cell_type": "markdown",
   "source": "### <font color=\"d2f5fe\">3.1 Calculate age of user based on DOB and transation date</font>",
   "metadata": {
    "collapsed": false
   },
   "id": "4f9b43cfb47c4ce8"
  },
  {
   "cell_type": "code",
   "id": "ef8c109f0eade213",
   "metadata": {
    "ExecuteTime": {
     "end_time": "2024-08-05T10:52:11.687398Z",
     "start_time": "2024-08-05T10:51:58.577731Z"
    }
   },
   "source": [
    "#Calculate user's age based on date of birth and transaction date\n",
    "def calculate_age(dob, trans_date):\n",
    "    return trans_date.year - dob.year - ((trans_date.month, trans_date.day) < (dob.month, dob.day))\n",
    "df['age'] = df.apply(lambda row: calculate_age(row['dob'], row['trans_date']), axis=1)\n",
    "\n",
    "#Explore age stat\n",
    "df['age'].agg(['mean', 'median', 'min', 'max'])"
   ],
   "outputs": [
    {
     "data": {
      "text/plain": [
       "mean      45.496879\n",
       "median    43.000000\n",
       "min       13.000000\n",
       "max       95.000000\n",
       "Name: age, dtype: float64"
      ]
     },
     "execution_count": 21,
     "metadata": {},
     "output_type": "execute_result"
    }
   ],
   "execution_count": 21
  },
  {
   "cell_type": "markdown",
   "source": "### <font color=\"d2f5fe\">3.2 Convert gender into binary values</font>",
   "metadata": {
    "collapsed": false
   },
   "id": "1f45e35158232057"
  },
  {
   "cell_type": "code",
   "id": "515a09d31b564fd9",
   "metadata": {
    "ExecuteTime": {
     "end_time": "2024-08-05T10:52:11.997854Z",
     "start_time": "2024-08-05T10:52:11.688777Z"
    }
   },
   "source": [
    "#Convert gender to binary values\n",
    "print('\\n The number of customers based on age is:')\n",
    "print(df['gender'].value_counts())\n",
    "print(\"-\" * 40)\n",
    "\n",
    "#Total transaction amount by gender\n",
    "print('\\nTotal transaction amount made by gender is:')\n",
    "print(df.groupby('gender')['amt'].sum())\n",
    "print(\"-\" * 40)\n",
    "\n",
    "#Average transaction made by gender\n",
    "print('\\n Average transaction amount made by gender is:')\n",
    "print(df.groupby('gender')['amt'].mean())\n",
    "print(\"-\" * 40)\n",
    "\n",
    "# Calculate mean and median of age distribution by gender\n",
    "print('\\n Age Distribution by gender is:')\n",
    "print(df.groupby('gender')['age'].agg(['mean', 'median']))\n",
    "print(\"-\" * 40)\n",
    "\n"
   ],
   "outputs": [
    {
     "name": "stdout",
     "output_type": "stream",
     "text": [
      "\n",
      " The number of customers based on age is:\n",
      "gender\n",
      "F    709863\n",
      "M    586812\n",
      "Name: count, dtype: int64\n",
      "----------------------------------------\n",
      "\n",
      "Total transaction amount made by gender is:\n",
      "gender\n",
      "F    49832612.83\n",
      "M    41389816.07\n",
      "Name: amt, dtype: float64\n",
      "----------------------------------------\n",
      "\n",
      " Average transaction amount made by gender is:\n",
      "gender\n",
      "F    70.200324\n",
      "M    70.533350\n",
      "Name: amt, dtype: float64\n",
      "----------------------------------------\n",
      "\n",
      " Age Distribution by gender is:\n",
      "             mean  median\n",
      "gender                   \n",
      "F       45.401370    43.0\n",
      "M       45.612414    44.0\n",
      "----------------------------------------\n"
     ]
    }
   ],
   "execution_count": 22
  },
  {
   "cell_type": "markdown",
   "id": "882f7316fef7d74e",
   "metadata": {},
   "source": "## <font color =\"3fd8fe\">4. Fraud Transaction Analysis</font>"
  },
  {
   "cell_type": "markdown",
   "source": "###  <font color=\"d2f5fe\">4.1 Calculate fraud ratio using fraudulent transactions and total transactions</font>\n",
   "metadata": {
    "collapsed": false
   },
   "id": "daf888e7c0193d6"
  },
  {
   "cell_type": "code",
   "id": "33d065e459a05a74",
   "metadata": {
    "ExecuteTime": {
     "end_time": "2024-08-05T10:52:12.317799Z",
     "start_time": "2024-08-05T10:52:11.999241Z"
    }
   },
   "source": [
    "# Calculate fraudulent transactions per user\n",
    "fraud_transactions_per_user = df.groupby('cc_num')['is_fraud'].sum().reset_index()\n",
    "total_transactions_per_user = df.groupby('cc_num').size().reset_index(name='total_transactions')\n",
    "\n",
    "# Merge to get fraud ratio per user\n",
    "fraud_ratio_per_user = pd.merge(fraud_transactions_per_user, total_transactions_per_user, on='cc_num')\n",
    "fraud_ratio_per_user['fraud_ratio'] = fraud_ratio_per_user['is_fraud'] / fraud_ratio_per_user['total_transactions']\n",
    "\n",
    "# Merge fraud_ratio into the original dataset\n",
    "df = pd.merge(df, fraud_ratio_per_user[['cc_num', 'fraud_ratio']], on='cc_num', how='left')"
   ],
   "outputs": [],
   "execution_count": 23
  },
  {
   "cell_type": "markdown",
   "id": "f74c2214685f9022",
   "metadata": {},
   "source": "## <font color =\"3fd8fe\">5. Geography Analysis</font>"
  },
  {
   "metadata": {},
   "cell_type": "markdown",
   "source": "### <font color=\"d2f5fe\">5.1 Distance calculation using Haversine calculation</font>\n",
   "id": "45d9cba043c3f71e"
  },
  {
   "cell_type": "code",
   "source": [
    "# Create the Haversine function using transaction longitude and latitude, also using merchant's longitude and latitude\n",
    "def haversine(lat1, lon1, lat2, lon2):\n",
    "    # Distance between latitudes and longitudes\n",
    "    dLat = (lat2 - lat1) * math.pi / 180.0\n",
    "    dLon = (lon2 - lon1) * math.pi / 180.0\n",
    "\n",
    "    # Convert to radians\n",
    "    lat1 = (lat1) * math.pi / 180.0\n",
    "    lat2 = (lat2) * math.pi / 180.0\n",
    "\n",
    "    # Apply formula\n",
    "    a = (pow(math.sin(dLat / 2), 2) +\n",
    "         pow(math.sin(dLon / 2), 2) *\n",
    "         math.cos(lat1) * math.cos(lat2))\n",
    "    rad = 6371\n",
    "    c = 2 * math.asin(math.sqrt(a))\n",
    "    return rad * c\n",
    "\n",
    "df['distance_to_merch'] = df.apply(lambda row: haversine(row['lat'], row['long'], row['merch_lat'], row['merch_long']), axis=1)\n"
   ],
   "metadata": {
    "collapsed": false,
    "ExecuteTime": {
     "end_time": "2024-08-05T10:52:31.594372Z",
     "start_time": "2024-08-05T10:52:12.319101Z"
    }
   },
   "id": "fd58ab8873a42702",
   "outputs": [],
   "execution_count": 24
  },
  {
   "cell_type": "markdown",
   "source": [
    "### <font color=\"d2f5fe\">5.2 Categorize type of cities based on the population</font>\n",
    "\n"
   ],
   "metadata": {
    "collapsed": false
   },
   "id": "b7821fde90bd55d5"
  },
  {
   "cell_type": "code",
   "source": [
    "# Function to categorize city_pop\n",
    "def categorize_population(population):\n",
    "    if population < 1000:\n",
    "        return 'Small'\n",
    "    elif 1000 <= population <= 10000:\n",
    "        return 'Medium'\n",
    "    else:\n",
    "        return 'Large'\n",
    "\n",
    "# Apply the function to create a new column 'pop_category'\n",
    "df['pop_cat'] = df['city_pop'].apply(categorize_population)\n"
   ],
   "metadata": {
    "collapsed": false,
    "ExecuteTime": {
     "end_time": "2024-08-05T10:52:31.901553Z",
     "start_time": "2024-08-05T10:52:31.599823Z"
    }
   },
   "id": "182c5d1dfb7d3229",
   "outputs": [],
   "execution_count": 25
  },
  {
   "metadata": {
    "ExecuteTime": {
     "end_time": "2024-08-05T10:52:31.908025Z",
     "start_time": "2024-08-05T10:52:31.904421Z"
    }
   },
   "cell_type": "code",
   "source": "print(df.dtypes)",
   "id": "4e7e10044142864c",
   "outputs": [
    {
     "name": "stdout",
     "output_type": "stream",
     "text": [
      "trans_date                 datetime64[ns]\n",
      "trans_time                         object\n",
      "cc_num                              int64\n",
      "merchant                           object\n",
      "category                           object\n",
      "amt                               float64\n",
      "first                              object\n",
      "last                               object\n",
      "gender                             object\n",
      "street                             object\n",
      "city                               object\n",
      "state                              object\n",
      "zip                                 int64\n",
      "lat                               float64\n",
      "long                              float64\n",
      "city_pop                            int64\n",
      "job                                object\n",
      "dob                        datetime64[ns]\n",
      "trans_num                          object\n",
      "unix_time                           int64\n",
      "merch_lat                         float64\n",
      "merch_long                        float64\n",
      "is_fraud                            int64\n",
      "transactions_per_day                int64\n",
      "Week                               UInt32\n",
      "transaction_per_week                int64\n",
      "transactions_per_month              int64\n",
      "transactions_per_season             int64\n",
      "avg_trans_amount                  float64\n",
      "total_trans_amount                float64\n",
      "med_trans_amount                  float64\n",
      "std_trans_amount                  float64\n",
      "age                                 int64\n",
      "fraud_ratio                       float64\n",
      "distance_to_merch                 float64\n",
      "pop_cat                            object\n",
      "dtype: object\n"
     ]
    }
   ],
   "execution_count": 26
  },
  {
   "cell_type": "markdown",
   "source": [
    "# <font color=\"006179\">Feature Selection/Feature Importance</font>\n",
    "\n",
    "\n",
    "List of features that we created\n",
    "* transaction_per_day\n",
    "* transaction_per_week\n",
    "* transaction_per_month\n",
    "* transaction_per_season\n",
    "* avg_trans_amount\n",
    "* total_trans_amount\n",
    "* med_trans_amount\n",
    "* std_trans_amount\n",
    "* age\n",
    "* fraud_ratio\n",
    "* distance_to_merch\n",
    "* pop_cat\n",
    "\n"
   ],
   "metadata": {
    "collapsed": false
   },
   "id": "138e8d620d1fc70f"
  },
  {
   "metadata": {},
   "cell_type": "markdown",
   "source": "## <font color =\"3fd8fe\">Correlation Matrix</font>",
   "id": "cb42bbe8adfabe8c"
  },
  {
   "metadata": {
    "ExecuteTime": {
     "end_time": "2024-08-05T10:52:33.505738Z",
     "start_time": "2024-08-05T10:52:31.909104Z"
    }
   },
   "cell_type": "code",
   "source": [
    "numerical_columns_df = df[['amt', 'lat', 'long', 'city_pop', 'merch_lat', 'merch_long', 'unix_time', 'transactions_per_day', 'transaction_per_week', 'transactions_per_month', 'transactions_per_season', 'avg_trans_amount', 'total_trans_amount', 'std_trans_amount', 'med_trans_amount', 'age', 'fraud_ratio', 'distance_to_merch']]\n",
    "\n",
    "correlation_matrix = numerical_columns_df.corr()\n",
    "plt.figure(figsize=(10, 8))\n",
    "sns.heatmap(correlation_matrix, annot=True, cmap='coolwarm', fmt='.2f', vmin=-1, vmax=1)\n",
    "plt.title('Correlation Matrix')\n",
    "plt.show()"
   ],
   "id": "ff7f6839ff1317a4",
   "outputs": [
    {
     "data": {
      "text/plain": [
       "<Figure size 720x576 with 2 Axes>"
      ],
      "image/png": "[encoded data removed]"
     },
     "metadata": {
      "needs_background": "light"
     },
     "output_type": "display_data"
    }
   ],
   "execution_count": 27
  },
  {
   "metadata": {},
   "cell_type": "markdown",
   "source": "## <font color =\"3fd8fe\">Correlation Coefficient for Numerical Features</font>",
   "id": "35ddb1aecc0119e8"
  },
  {
   "cell_type": "code",
   "source": [
    "# Compute Pearson correlation coefficient\n",
    "correlation = df[['transactions_per_day', 'avg_trans_amount', 'total_trans_amount',\n",
    "                  'med_trans_amount', 'std_trans_amount', 'age', 'fraud_ratio',\n",
    "                  'distance_to_merch', 'is_fraud']].corr()['is_fraud']\n",
    "\n",
    "print(\"Pearson correlation coefficients:\")\n",
    "print(correlation)"
   ],
   "metadata": {
    "collapsed": false,
    "ExecuteTime": {
     "end_time": "2024-08-05T10:52:33.784432Z",
     "start_time": "2024-08-05T10:52:33.506731Z"
    }
   },
   "id": "ac3c981eacc4189d",
   "outputs": [
    {
     "name": "stdout",
     "output_type": "stream",
     "text": [
      "Pearson correlation coefficients:\n",
      "transactions_per_day   -0.045901\n",
      "avg_trans_amount        0.209960\n",
      "total_trans_amount     -0.045929\n",
      "med_trans_amount        0.216456\n",
      "std_trans_amount        0.027645\n",
      "age                     0.012248\n",
      "fraud_ratio             0.320614\n",
      "distance_to_merch       0.000403\n",
      "is_fraud                1.000000\n",
      "Name: is_fraud, dtype: float64\n"
     ]
    }
   ],
   "execution_count": 28
  },
  {
   "metadata": {},
   "cell_type": "markdown",
   "source": " ## <font color =\"3fd8fe\">Chi-Square Test for Categorical Features</font>",
   "id": "23de6af0313b696d"
  },
  {
   "metadata": {
    "ExecuteTime": {
     "end_time": "2024-08-05T10:52:34.575490Z",
     "start_time": "2024-08-05T10:52:33.785607Z"
    }
   },
   "cell_type": "code",
   "source": [
    "#List of categorical columns to test\n",
    "categorical_cols = ['category', 'gender', 'city', 'state', 'Week', 'age', 'pop_cat']\n",
    "\n",
    "# Loop through each categorical column and perform chi-square test\n",
    "results = []\n",
    "for col in categorical_cols:\n",
    "    contingency_table = pd.crosstab(df[col], df['is_fraud'])\n",
    "    chi2, p, dof, expected = chi2_contingency(contingency_table)\n",
    "    results.append({'Feature': col, 'Chi2': chi2, 'P-value': p})\n",
    "\n",
    "# Convert results to DataFrame for easier viewing\n",
    "results_df = pd.DataFrame(results)\n",
    "print(\"Chi-square test results for categorical features and is_fraud:\\n\", results_df)\n"
   ],
   "id": "f1c50b03d1625f79",
   "outputs": [
    {
     "name": "stdout",
     "output_type": "stream",
     "text": [
      "Chi-square test results for categorical features and is_fraud:\n",
      "     Feature           Chi2        P-value\n",
      "0  category    6486.003270   0.000000e+00\n",
      "1    gender      75.514566   3.627211e-18\n",
      "2      city  104775.996475   0.000000e+00\n",
      "3     state    1869.340388   0.000000e+00\n",
      "4      Week     921.768273  4.292633e-160\n",
      "5       age    1256.930392  1.285725e-209\n",
      "6   pop_cat       6.059791   4.832070e-02\n"
     ]
    }
   ],
   "execution_count": 29
  },
  {
   "metadata": {},
   "cell_type": "markdown",
   "source": [
    "* **All Features**: All tested features show statistically significant relationships with fraud (p-values < 0.05). This suggests that each feature could potentially contribute useful information to a fraud detection model.\n",
    "* **Strong prediction**: The strong prediction of fraud is: City, Category and State\n",
    "* **Location matters:** The high chi-square values for city and state indicate that location plays a crucial role in predicting fraud. This could point to geographical patterns in fraudulent activities.\n",
    "* **Demographic factors:** Age and gender both show significant relationships with fraud, though not as strong as location or category. This implies demographic information could be useful in fraud detection.\n",
    "* **Weakest link:** The population category (pop_cat) shows the weakest relationship with fraud. While still statistically significant, its predictive power may be limited compared to other features.\n"
   ],
   "id": "667557e461428bc0"
  },
  {
   "metadata": {},
   "cell_type": "markdown",
   "source": "## <font color =\"3fd8fe\">Sequential Forward Selection (SFS)</font>",
   "id": "f13cd02ccd026748"
  },
  {
   "cell_type": "code",
   "source": [
    "# Define the features and target variable\n",
    "X = df[['transactions_per_day', 'avg_trans_amount', 'total_trans_amount',\n",
    "        'med_trans_amount', 'std_trans_amount', 'age', 'fraud_ratio',\n",
    "        'distance_to_merch']]\n",
    "y = df['is_fraud']\n",
    "\n",
    "# Split data into training and testing sets\n",
    "X_train, X_test, y_train, y_test = train_test_split(X, y, test_size=0.2, random_state=42)\n",
    "\n",
    "# Standardize features\n",
    "scaler = StandardScaler()\n",
    "X_train_scaled = scaler.fit_transform(X_train)\n",
    "X_test_scaled = scaler.transform(X_test)\n",
    "\n",
    "selected_features = list(X.columns)\n",
    "accuracies = []\n",
    "\n",
    "def evaluate_model(X_train_subset, X_test_subset, y_train, y_test):\n",
    "    clf = LogisticRegression(max_iter=1000, random_state=42)\n",
    "    clf.fit(X_train_subset, y_train)\n",
    "    y_pred = clf.predict(X_test_subset)\n",
    "    return accuracy_score(y_test, y_pred)\n",
    "\n",
    "while len(selected_features) > 0:\n",
    "    max_acc = -1\n",
    "    worst_feature = None\n",
    "\n",
    "    for feature in selected_features:\n",
    "        current_features = [f for f in selected_features if f != feature]\n",
    "        X_train_subset = X_train_scaled[:, [X.columns.get_loc(f) for f in current_features]]\n",
    "        X_test_subset = X_test_scaled[:, [X.columns.get_loc(f) for f in current_features]]\n",
    "\n",
    "        accuracy = evaluate_model(X_train_subset, X_test_subset, y_train, y_test)\n",
    "\n",
    "        if accuracy > max_acc:\n",
    "            max_acc = accuracy\n",
    "            worst_feature = feature\n",
    "\n",
    "    if max_acc > max(accuracies, default=0):\n",
    "        selected_features.remove(worst_feature)\n",
    "        accuracies.append(max_acc)\n",
    "    else:\n",
    "        break\n",
    "\n",
    "print(\"Selected Features:\", selected_features)\n",
    "print(\"Accuracies:\", accuracies)"
   ],
   "metadata": {
    "collapsed": false,
    "ExecuteTime": {
     "end_time": "2024-08-05T10:52:43.412409Z",
     "start_time": "2024-08-05T10:52:34.576649Z"
    }
   },
   "id": "e278e731b264df81",
   "outputs": [
    {
     "name": "stdout",
     "output_type": "stream",
     "text": [
      "Selected Features: ['avg_trans_amount', 'total_trans_amount', 'med_trans_amount', 'std_trans_amount', 'age', 'fraud_ratio', 'distance_to_merch']\n",
      "Accuracies: [0.9946902654867257]\n"
     ]
    }
   ],
   "execution_count": 30
  },
  {
   "metadata": {},
   "cell_type": "markdown",
   "source": "## <font color =\"3fd8fe\">Sequential Backward Selection (SBS)</font>",
   "id": "7e7f4793c99ce7d1"
  },
  {
   "cell_type": "code",
   "source": [
    "# Split data into training and testing sets\n",
    "X_train, X_test, y_train, y_test = train_test_split(X, y, test_size=0.2, random_state=42)\n",
    "\n",
    "# Standardize features\n",
    "scaler = StandardScaler()\n",
    "X_train_scaled = scaler.fit_transform(X_train)\n",
    "X_test_scaled = scaler.transform(X_test)\n",
    "\n",
    "selected_features = list(X.columns)\n",
    "accuracies = []\n",
    "\n",
    "def evaluate_model(X_train_subset, y_train):\n",
    "    clf = LogisticRegression(max_iter=1000, random_state=42)\n",
    "    scores = cross_val_score(clf, X_train_subset, y_train, cv=5)  # 5-fold cross-validation\n",
    "    return np.mean(scores)\n",
    "\n",
    "while len(selected_features) > 0:\n",
    "    max_acc = -1\n",
    "    worst_feature = None\n",
    "\n",
    "    for feature in selected_features:\n",
    "        current_features = [f for f in selected_features if f != feature]\n",
    "        X_train_subset = X_train_scaled[:, [X.columns.get_loc(f) for f in current_features]]\n",
    "        X_test_subset = X_test_scaled[:, [X.columns.get_loc(f) for f in current_features]]\n",
    "\n",
    "        accuracy = evaluate_model(X_train_subset, y_train)\n",
    "\n",
    "        if accuracy > max_acc:\n",
    "            max_acc = accuracy\n",
    "            worst_feature = feature\n",
    "\n",
    "    if max_acc > max(accuracies, default=0):\n",
    "        selected_features.remove(worst_feature)\n",
    "        accuracies.append(max_acc)\n",
    "    else:\n",
    "        break\n",
    "\n",
    "print(\"Selected Features:\", selected_features)\n",
    "print(\"Accuracies:\", accuracies)"
   ],
   "metadata": {
    "collapsed": false,
    "ExecuteTime": {
     "end_time": "2024-08-05T10:53:21.588441Z",
     "start_time": "2024-08-05T10:52:43.415372Z"
    }
   },
   "id": "b508be8328bad889",
   "outputs": [
    {
     "name": "stdout",
     "output_type": "stream",
     "text": [
      "Selected Features: ['avg_trans_amount', 'total_trans_amount', 'med_trans_amount', 'std_trans_amount', 'age', 'fraud_ratio', 'distance_to_merch']\n",
      "Accuracies: [np.float64(0.994805945977211)]\n"
     ]
    }
   ],
   "execution_count": 31
  },
  {
   "cell_type": "markdown",
   "source": [],
   "metadata": {
    "collapsed": false
   },
   "id": "1a9492693d9d0315"
  },
  {
   "cell_type": "markdown",
   "source": "# <font color=\"006179\">Resampling dataset</font>",
   "metadata": {
    "collapsed": false
   },
   "id": "e01d046d7868221f"
  },
  {
   "cell_type": "code",
   "source": [
    "# Initialize the LabelEncoder\n",
    "label_encoder = LabelEncoder()\n",
    "\n",
    "# Encode categorical variables into numerical values\n",
    "df['merchant'] = label_encoder.fit_transform(df['merchant'])\n",
    "df['category'] = label_encoder.fit_transform(df['category'])\n",
    "df['city'] = label_encoder.fit_transform(df['city'])\n",
    "df['state'] = label_encoder.fit_transform(df['state'])\n",
    "df['pop_cat'] = label_encoder.fit_transform(df['pop_cat'])"
   ],
   "metadata": {
    "collapsed": false,
    "ExecuteTime": {
     "end_time": "2024-08-05T10:53:22.731275Z",
     "start_time": "2024-08-05T10:53:21.589893Z"
    }
   },
   "id": "668b1aec2009ae9f",
   "outputs": [],
   "execution_count": 32
  },
  {
   "cell_type": "code",
   "source": [
    "# Drop irrelevant or personally identifiable information (PII) columns\n",
    "df = df.drop(columns=[\"first\", \"last\", \"street\", \"trans_num\", \"dob\", \"trans_date\", \"trans_time\", \"job\"])\n",
    "# Apply the mapping to convert 'gender' column to numerical values\n",
    "df['gender'] = df['gender'].map({'M': 1, 'F': 0})\n"
   ],
   "metadata": {
    "collapsed": false,
    "ExecuteTime": {
     "end_time": "2024-08-05T10:53:22.903708Z",
     "start_time": "2024-08-05T10:53:22.732438Z"
    }
   },
   "id": "ecda53862709c2cb",
   "outputs": [],
   "execution_count": 33
  },
  {
   "cell_type": "code",
   "source": [
    "X = df.drop(columns=['is_fraud'])  \n",
    "y = df['is_fraud'] \n",
    "\n",
    "#Apply RandomUnderSampler to balance the dataset\n",
    "rus = RandomUnderSampler(random_state=42)\n",
    "X_under, y_under = rus.fit_resample(X, y)\n",
    "\n",
    "# Create the new dataset df_under from the resampled data\n",
    "df_under = pd.DataFrame(X_under, columns=X.columns)\n",
    "df_under['is_fraud'] = y_under\n",
    "\n",
    "# Check the balance of the resampled data\n",
    "print(y_under.value_counts())\n",
    "sns.countplot(x=y_under)\n"
   ],
   "metadata": {
    "collapsed": false,
    "ExecuteTime": {
     "end_time": "2024-08-05T10:53:23.256445Z",
     "start_time": "2024-08-05T10:53:22.905035Z"
    }
   },
   "id": "d6090caac8e3b6b7",
   "outputs": [
    {
     "name": "stdout",
     "output_type": "stream",
     "text": [
      "is_fraud\n",
      "0    7506\n",
      "1    7506\n",
      "Name: count, dtype: int64\n"
     ]
    },
    {
     "data": {
      "text/plain": [
       "<Axes: xlabel='is_fraud', ylabel='count'>"
      ]
     },
     "execution_count": 34,
     "metadata": {},
     "output_type": "execute_result"
    },
    {
     "data": {
      "text/plain": [
       "<Figure size 432x288 with 1 Axes>"
      ],
      "image/png": "[encoded data removed]"
     },
     "metadata": {
      "needs_background": "light"
     },
     "output_type": "display_data"
    }
   ],
   "execution_count": 34
  },
  {
   "cell_type": "code",
   "source": [
    "#Split the balanced data into training and testing sets\n",
    "X_train, X_test, y_train, y_test = train_test_split(df_under.drop(columns=['is_fraud']), df_under['is_fraud'], test_size=0.2, random_state=42)\n",
    "\n",
    "# Scale the data\n",
    "scaler = StandardScaler()\n",
    "X_train_scaled = scaler.fit_transform(X_train)\n",
    "X_test_scaled = scaler.transform(X_test)\n"
   ],
   "metadata": {
    "collapsed": false,
    "ExecuteTime": {
     "end_time": "2024-08-05T10:53:23.288159Z",
     "start_time": "2024-08-05T10:53:23.257419Z"
    }
   },
   "id": "11ab3349bb448261",
   "outputs": [],
   "execution_count": 35
  },
  {
   "metadata": {},
   "cell_type": "markdown",
   "source": "# <font color=\"006179\"> Model Performance",
   "id": "ddda4f7eb5af9c2c"
  },
  {
   "cell_type": "code",
   "source": [
    "# Train the Logistic Regression classifier\n",
    "logreg_classifier = LogisticRegression(random_state=42)\n",
    "logreg_classifier.fit(X_train_scaled, y_train)\n",
    "\n",
    "# Print the score of the model on the test set\n",
    "print(\"\\nLogistic Regression Classifier Model\")\n",
    "print(\"Model accuracy:\", logreg_classifier.score(X_test_scaled, y_test))\n",
    "\n",
    "# Calculate AUPRC (Average Precision Score)\n",
    "y_pred_prob = logreg_classifier.predict_proba(X_test_scaled)[:, 1]\n",
    "auprc_logreg = average_precision_score(y_test, y_pred_prob)\n",
    "print(f\"AUPRC for Logistic Regression: {auprc_logreg:.4f}\")\n",
    "\n",
    "\n",
    "# Predict on the test set\n",
    "y_pred = logreg_classifier.predict(X_test_scaled)\n",
    "\n",
    "# Print the classification report\n",
    "print(\"\\nClassification Report:\")\n",
    "print(classification_report(y_test, y_pred))\n",
    "\n",
    "# Calculate and print the confusion matrix\n",
    "conf_matrix = confusion_matrix(y_test, y_pred)\n",
    "print(\"\\nConfusion Matrix:\")\n",
    "print(conf_matrix)"
   ],
   "metadata": {
    "collapsed": false,
    "ExecuteTime": {
     "end_time": "2024-08-05T10:53:23.366838Z",
     "start_time": "2024-08-05T10:53:23.289354Z"
    }
   },
   "id": "7fcb542f41480612",
   "outputs": [
    {
     "name": "stdout",
     "output_type": "stream",
     "text": [
      "\n",
      "Logistic Regression Classifier Model\n",
      "Model accuracy: 0.8578088578088578\n",
      "AUPRC for Logistic Regression: 0.9276\n",
      "\n",
      "Classification Report:\n",
      "              precision    recall  f1-score   support\n",
      "\n",
      "           0       0.81      0.93      0.87      1507\n",
      "           1       0.92      0.79      0.85      1496\n",
      "\n",
      "    accuracy                           0.86      3003\n",
      "   macro avg       0.87      0.86      0.86      3003\n",
      "weighted avg       0.87      0.86      0.86      3003\n",
      "\n",
      "\n",
      "Confusion Matrix:\n",
      "[[1400  107]\n",
      " [ 320 1176]]\n"
     ]
    }
   ],
   "execution_count": 36
  },
  {
   "cell_type": "code",
   "source": [
    "#Train the Random Forest classifier\n",
    "rf_classifier = RandomForestClassifier(random_state=42)\n",
    "rf_classifier.fit(X_train_scaled, y_train)\n",
    "\n",
    "# Predict on the test set using the Random Forest classifier\n",
    "y_pred_rf = rf_classifier.predict(X_test_scaled)\n",
    "\n",
    "# Print the classification report for the Random Forest classifier\n",
    "print(\"\\nClassification Report (Random Forest):\")\n",
    "print(classification_report(y_test, y_pred_rf))\n",
    "\n",
    "# Calculate and print the confusion matrix for the Random Forest classifier\n",
    "print('\\nConfusion Matrix (Random Forest):')\n",
    "print(confusion_matrix(y_test, y_pred_rf))\n",
    "\n",
    "auprc_rf = average_precision_score(y_test, y_pred_rf)\n",
    "print(f\"AUPRC for Random Forest: {auprc_rf:.4f}\")\n",
    "\n"
   ],
   "metadata": {
    "collapsed": false,
    "ExecuteTime": {
     "end_time": "2024-08-05T10:53:26.526510Z",
     "start_time": "2024-08-05T10:53:23.368008Z"
    }
   },
   "id": "7f19efe468eca32c",
   "outputs": [
    {
     "name": "stdout",
     "output_type": "stream",
     "text": [
      "\n",
      "Classification Report (Random Forest):\n",
      "              precision    recall  f1-score   support\n",
      "\n",
      "           0       0.95      0.97      0.96      1507\n",
      "           1       0.97      0.95      0.96      1496\n",
      "\n",
      "    accuracy                           0.96      3003\n",
      "   macro avg       0.96      0.96      0.96      3003\n",
      "weighted avg       0.96      0.96      0.96      3003\n",
      "\n",
      "\n",
      "Confusion Matrix (Random Forest):\n",
      "[[1459   48]\n",
      " [  70 1426]]\n",
      "AUPRC for Random Forest: 0.9455\n"
     ]
    }
   ],
   "execution_count": 37
  },
  {
   "cell_type": "code",
   "source": [
    "#Train the KNN classifier\n",
    "knn_classifier = KNeighborsClassifier()\n",
    "knn_classifier.fit(X_train_scaled, y_train)\n",
    "\n",
    "# Predict on the test set\n",
    "y_pred_knn = knn_classifier.predict(X_test_scaled)\n",
    "\n",
    "# Print the score of the model on the test set\n",
    "print(\"\\nK-Nearest Neighbors Classifier Model\")\n",
    "print(\"Model accuracy:\", knn_classifier.score(X_test_scaled, y_test))\n",
    "\n",
    "# Calculate AUPRC (Average Precision Score)\n",
    "y_pred_knn_prob = knn_classifier.predict_proba(X_test_scaled)[:, 1]\n",
    "auprc_knn = average_precision_score(y_test, y_pred_knn_prob)\n",
    "print(f\"AUPRC for KNN: {auprc_knn:.4f}\")\n",
    "\n",
    "# Print the classification report\n",
    "print(\"\\nClassification Report (KNN):\")\n",
    "print(classification_report(y_test, y_pred_knn))\n",
    "\n",
    "# Calculate and print the confusion matrix\n",
    "conf_matrix = confusion_matrix(y_test, y_pred_knn)\n",
    "print(\"\\nConfusion Matrix:\")\n",
    "print(conf_matrix)"
   ],
   "metadata": {
    "collapsed": false,
    "ExecuteTime": {
     "end_time": "2024-08-05T10:53:27.324816Z",
     "start_time": "2024-08-05T10:53:26.527742Z"
    }
   },
   "id": "fbefaf4f338b1bf7",
   "outputs": [
    {
     "name": "stdout",
     "output_type": "stream",
     "text": [
      "\n",
      "K-Nearest Neighbors Classifier Model\n",
      "Model accuracy: 0.8325008325008325\n",
      "AUPRC for KNN: 0.8940\n",
      "\n",
      "Classification Report (KNN):\n",
      "              precision    recall  f1-score   support\n",
      "\n",
      "           0       0.87      0.78      0.82      1507\n",
      "           1       0.80      0.89      0.84      1496\n",
      "\n",
      "    accuracy                           0.83      3003\n",
      "   macro avg       0.84      0.83      0.83      3003\n",
      "weighted avg       0.84      0.83      0.83      3003\n",
      "\n",
      "\n",
      "Confusion Matrix:\n",
      "[[1176  331]\n",
      " [ 172 1324]]\n"
     ]
    }
   ],
   "execution_count": 38
  },
  {
   "cell_type": "code",
   "source": [
    "# Train the XGBoost classifier\n",
    "xgb_classifier = XGBClassifier(random_state=42)\n",
    "xgb_classifier.fit(X_train_scaled, y_train)\n",
    "\n",
    "# Predict on the test set\n",
    "y_pred_xgb = xgb_classifier.predict(X_test_scaled)\n",
    "y_pred_xgb_prob = xgb_classifier.predict_proba(X_test_scaled)[:, 1]\n",
    "\n",
    "# Print the score of the model on the test set\n",
    "print(\"\\nXGBoost Classifier Model\")\n",
    "print(\"Model accuracy:\", xgb_classifier.score(X_test_scaled, y_test))\n",
    "\n",
    "# Calculate AUPRC (Average Precision Score)\n",
    "auprc_xgb = average_precision_score(y_test, y_pred_xgb_prob)\n",
    "print(f\"AUPRC for XGBoost: {auprc_xgb:.4f}\")\n",
    "\n",
    "# Print the classification report\n",
    "print(\"\\nClassification Report (XGBoost):\")\n",
    "print(classification_report(y_test, y_pred_xgb))\n",
    "\n",
    "# Calculate and print the confusion matrix for the XGBoost classifier\n",
    "print(\"\\nConfusion Matrix (XGBoost):\")\n",
    "print(confusion_matrix(y_test, y_pred_xgb))"
   ],
   "metadata": {
    "collapsed": false,
    "ExecuteTime": {
     "end_time": "2024-08-05T10:53:27.624496Z",
     "start_time": "2024-08-05T10:53:27.326591Z"
    }
   },
   "id": "fc1f78e46bba943",
   "outputs": [
    {
     "name": "stdout",
     "output_type": "stream",
     "text": [
      "\n",
      "XGBoost Classifier Model\n",
      "Model accuracy: 0.9706959706959707\n",
      "AUPRC for XGBoost: 0.9970\n",
      "\n",
      "Classification Report (XGBoost):\n",
      "              precision    recall  f1-score   support\n",
      "\n",
      "           0       0.98      0.96      0.97      1507\n",
      "           1       0.96      0.98      0.97      1496\n",
      "\n",
      "    accuracy                           0.97      3003\n",
      "   macro avg       0.97      0.97      0.97      3003\n",
      "weighted avg       0.97      0.97      0.97      3003\n",
      "\n",
      "\n",
      "Confusion Matrix (XGBoost):\n",
      "[[1447   60]\n",
      " [  28 1468]]\n"
     ]
    }
   ],
   "execution_count": 39
  },
  {
   "cell_type": "code",
   "source": [
    "# Train the SVC classifier with probability estimates enabled\n",
    "svc_classifier = SVC(probability=True, random_state=42)\n",
    "svc_classifier.fit(X_train_scaled, y_train)\n",
    "\n",
    "# Predict on the test set\n",
    "y_pred_svc = svc_classifier.predict(X_test_scaled)\n",
    "y_pred_svc_prob = svc_classifier.predict_proba(X_test_scaled)[:, 1]\n",
    "\n",
    "# Print the score of the model on the test set\n",
    "print(\"\\nSupport Vector Classifier Model\")\n",
    "print(\"Model accuracy:\", svc_classifier.score(X_test_scaled, y_test))\n",
    "\n",
    "#Calculate AUPRC (Average Precision Score) \n",
    "auprc_svc = average_precision_score(y_test, y_pred_svc_prob)\n",
    "print(f\"AUPRC for SVC: {auprc_svc:.4f}\")\n",
    "\n",
    "# Print the classification report\n",
    "print(\"\\nClassification Report (SVC):\")\n",
    "print(classification_report(y_test, y_pred_svc))\n",
    "\n",
    "# Calculate and print the confusion matrix for the SVC classifier\n",
    "print(\"\\nConfusion Matrix (SVC):\")\n",
    "print(confusion_matrix(y_test, y_pred_svc))"
   ],
   "metadata": {
    "collapsed": false,
    "ExecuteTime": {
     "end_time": "2024-08-05T10:53:55.998698Z",
     "start_time": "2024-08-05T10:53:27.625856Z"
    }
   },
   "id": "f5c182092dccd8ad",
   "outputs": [
    {
     "name": "stdout",
     "output_type": "stream",
     "text": [
      "\n",
      "Support Vector Classifier Model\n",
      "Model accuracy: 0.8787878787878788\n",
      "AUPRC for SVC: 0.9319\n",
      "\n",
      "Classification Report (SVC):\n",
      "              precision    recall  f1-score   support\n",
      "\n",
      "           0       0.82      0.97      0.89      1507\n",
      "           1       0.96      0.79      0.87      1496\n",
      "\n",
      "    accuracy                           0.88      3003\n",
      "   macro avg       0.89      0.88      0.88      3003\n",
      "weighted avg       0.89      0.88      0.88      3003\n",
      "\n",
      "\n",
      "Confusion Matrix (SVC):\n",
      "[[1458   49]\n",
      " [ 315 1181]]\n"
     ]
    }
   ],
   "execution_count": 40
  },
  {
   "cell_type": "code",
   "source": [
    "# Train the Decision Tree classifier\n",
    "dt_classifier = DecisionTreeClassifier(random_state=42)\n",
    "dt_classifier.fit(X_train_scaled, y_train)\n",
    "\n",
    "# Print the score of the Decision Tree model on the test set\n",
    "print(\"\\nDecision Tree Classifier Model\")\n",
    "print(\"Model accuracy:\", dt_classifier.score(X_test_scaled, y_test))\n",
    "\n",
    "# Predict on the test set using the Decision Tree classifier\n",
    "y_pred_dt = dt_classifier.predict(X_test_scaled)\n",
    "\n",
    "# Print the classification report for the Decision Tree classifier\n",
    "print(\"\\nClassification Report (Decision Tree):\")\n",
    "print(classification_report(y_test, y_pred_dt))\n",
    "\n",
    "# Calculate and print the confusion matrix for the Decision Tree classifier\n",
    "print('\\nConfusion Matrix (Decision Tree):')\n",
    "print(confusion_matrix(y_test, y_pred_dt))\n",
    "\n",
    "auprc_dt = average_precision_score(y_test, y_pred_dt)\n",
    "print(f\"AUPRC for Decision Tree: {auprc_dt:.4f}\")\n",
    "\n"
   ],
   "metadata": {
    "collapsed": false,
    "ExecuteTime": {
     "end_time": "2024-08-05T10:53:56.226426Z",
     "start_time": "2024-08-05T10:53:56.000072Z"
    }
   },
   "id": "c840742f66785e28",
   "outputs": [
    {
     "name": "stdout",
     "output_type": "stream",
     "text": [
      "\n",
      "Decision Tree Classifier Model\n",
      "Model accuracy: 0.9537129537129537\n",
      "\n",
      "Classification Report (Decision Tree):\n",
      "              precision    recall  f1-score   support\n",
      "\n",
      "           0       0.96      0.94      0.95      1507\n",
      "           1       0.94      0.96      0.95      1496\n",
      "\n",
      "    accuracy                           0.95      3003\n",
      "   macro avg       0.95      0.95      0.95      3003\n",
      "weighted avg       0.95      0.95      0.95      3003\n",
      "\n",
      "\n",
      "Confusion Matrix (Decision Tree):\n",
      "[[1422   85]\n",
      " [  54 1442]]\n",
      "AUPRC for Decision Tree: 0.9282\n"
     ]
    }
   ],
   "execution_count": 41
  },
  {
   "cell_type": "markdown",
   "source": [
    "The AUPRC (Area Under the Precision-Recall Curve) values provide insights into the performance of each classifier in the context of fraud detection or any binary classification problem, especially when dealing with imbalanced datasets like yours (where fraud instances are typically rare compared to non-fraudulent transactions).\n",
    "\n",
    "- **XGBoost**: XGBoost has the highest AUPRC among all classifiers, indicating it is the most effective at distinguishing between fraudulent and non-fraudulent transactions in this dataset. This suggests that XGBoost is particularly good at handling the complexities and nuances in the data.\n",
    "\n",
    "- **Random Forest**: Random Forest also performs very well, with a high AUPRC. This demonstrates its robustness and ability to handle the classification task effectively. Random Forest's performance is close to that of XGBoost, making it another strong candidate for fraud detection.\n",
    "\n",
    "- **Decision Tree**: The Decision Tree classifier performs reasonably well, though not as high as Random Forest and XGBoost. This indicates that while a single decision tree can capture significant patterns in the data, combining multiple trees (as in Random Forest) improves performance.\n",
    "\n",
    "- **Logistic Regression**: Logistic Regression shows a solid performance but is outperformed by ensemble methods like Random Forest and XGBoost. This indicates that linear models, even with scaling, might not capture the data's complexity as well as ensemble methods.\n",
    "\n",
    "- **K-Nearest Neighbors (KNN)**: KNN achieved an AUPRC of 0.6785, which is lower than the above models. This suggests that KNN may not perform as well in this specific context compared to Random Forest, XGBoost, and Logistic Regression. KNN's performance may be affected by the choice of distance metric and the curse of dimensionality.\n",
    "\n",
    "- **Support Vector Classifier (SVC)**: Support Vector Classifier shows the poorest performance in terms of AUPRC. This may indicate that SVC, with the current kernel and parameters, is not well-suited to the problem or that it requires further tuning.\n"
   ],
   "metadata": {
    "collapsed": false
   },
   "id": "215397754e1cb354"
  },
  {
   "cell_type": "code",
   "source": [
    "df_under"
   ],
   "metadata": {
    "collapsed": false,
    "ExecuteTime": {
     "end_time": "2024-08-05T10:53:56.249341Z",
     "start_time": "2024-08-05T10:53:56.227567Z"
    }
   },
   "id": "a7a9a959260840a",
   "outputs": [
    {
     "data": {
      "text/plain": [
       "                   cc_num  merchant  category      amt  gender  city  state  \\\n",
       "811778       676173792455       691         2    86.19       0   728      4   \n",
       "1101718    30518206766474       390         0    85.81       0   486     24   \n",
       "800013   4658490815480264       217         4    99.30       0   400     38   \n",
       "398945   4716561796955522       402         6    42.09       0   336     26   \n",
       "207455   3528407217576457       175        11     4.24       0   409     42   \n",
       "...                   ...       ...       ...      ...     ...   ...    ...   \n",
       "1295399  3524574586339330       295        11   977.01       0   829      9   \n",
       "1295491  3524574586339330       571        11  1210.91       0   829      9   \n",
       "1295532  4005676619255478       622         2    10.24       1   209     18   \n",
       "1295666  3560725013359375       107         2    21.69       0   592     43   \n",
       "1295733  4005676619255478       332         2    10.20       1   209     18   \n",
       "\n",
       "           zip      lat      long  ...  transactions_per_season  \\\n",
       "811778   90403  34.0287 -118.4924  ...                      355   \n",
       "1101718  63867  36.7154  -89.6287  ...                      493   \n",
       "800013   15449  39.9636  -79.7853  ...                      449   \n",
       "398945   59448  48.2777 -112.8456  ...                     1041   \n",
       "207455   37663  36.4715  -82.4834  ...                      322   \n",
       "...        ...      ...       ...  ...                      ...   \n",
       "1295399  32960  27.6330  -80.4031  ...                      511   \n",
       "1295491  32960  27.6330  -80.4031  ...                      511   \n",
       "1295532  70726  30.4590  -90.9027  ...                      871   \n",
       "1295666  79759  31.8599 -102.7413  ...                      630   \n",
       "1295733  70726  30.4590  -90.9027  ...                      871   \n",
       "\n",
       "         avg_trans_amount  total_trans_amount  med_trans_amount  \\\n",
       "811778          69.603179           107049.69            50.230   \n",
       "1101718         63.187024            95981.09            37.390   \n",
       "800013          63.390640           130711.50            39.715   \n",
       "398945          51.478562           158245.10            30.810   \n",
       "207455          88.115236            87850.89            53.830   \n",
       "...                   ...                 ...               ...   \n",
       "1295399         86.659060           134581.52            54.360   \n",
       "1295491         86.659060           134581.52            54.360   \n",
       "1295532         56.083846           142452.97            34.995   \n",
       "1295666         62.843992           128767.34            42.940   \n",
       "1295733         56.083846           142452.97            34.995   \n",
       "\n",
       "         std_trans_amount  age  fraud_ratio  distance_to_merch  pop_cat  \\\n",
       "811778         144.099790   58     0.000000          85.530738        0   \n",
       "1101718        198.069229   41     0.009217          28.234251        1   \n",
       "800013         127.018588   74     0.000000          91.317056        2   \n",
       "398945         104.061689   47     0.000000           3.697100        2   \n",
       "207455         124.338622   32     0.005015         102.175759        0   \n",
       "...                   ...  ...          ...                ...      ...   \n",
       "1295399        130.820348   34     0.001932          93.097732        0   \n",
       "1295491        130.820348   34     0.001932          84.294502        0   \n",
       "1295532        114.121905   26     0.000787          95.206112        0   \n",
       "1295666         99.079196   50     0.002928         114.493429        2   \n",
       "1295733        114.121905   26     0.000787         136.674641        0   \n",
       "\n",
       "         is_fraud  \n",
       "811778          0  \n",
       "1101718         0  \n",
       "800013          0  \n",
       "398945          0  \n",
       "207455          0  \n",
       "...           ...  \n",
       "1295399         1  \n",
       "1295491         1  \n",
       "1295532         1  \n",
       "1295666         1  \n",
       "1295733         1  \n",
       "\n",
       "[15012 rows x 28 columns]"
      ],
      "text/html": [
       "<div>\n",
       "<style scoped>\n",
       "    .dataframe tbody tr th:only-of-type {\n",
       "        vertical-align: middle;\n",
       "    }\n",
       "\n",
       "    .dataframe tbody tr th {\n",
       "        vertical-align: top;\n",
       "    }\n",
       "\n",
       "    .dataframe thead th {\n",
       "        text-align: right;\n",
       "    }\n",
       "</style>\n",
       "<table border=\"1\" class=\"dataframe\">\n",
       "  <thead>\n",
       "    <tr style=\"text-align: right;\">\n",
       "      <th></th>\n",
       "      <th>cc_num</th>\n",
       "      <th>merchant</th>\n",
       "      <th>category</th>\n",
       "      <th>amt</th>\n",
       "      <th>gender</th>\n",
       "      <th>city</th>\n",
       "      <th>state</th>\n",
       "      <th>zip</th>\n",
       "      <th>lat</th>\n",
       "      <th>long</th>\n",
       "      <th>...</th>\n",
       "      <th>transactions_per_season</th>\n",
       "      <th>avg_trans_amount</th>\n",
       "      <th>total_trans_amount</th>\n",
       "      <th>med_trans_amount</th>\n",
       "      <th>std_trans_amount</th>\n",
       "      <th>age</th>\n",
       "      <th>fraud_ratio</th>\n",
       "      <th>distance_to_merch</th>\n",
       "      <th>pop_cat</th>\n",
       "      <th>is_fraud</th>\n",
       "    </tr>\n",
       "  </thead>\n",
       "  <tbody>\n",
       "    <tr>\n",
       "      <th>811778</th>\n",
       "      <td>676173792455</td>\n",
       "      <td>691</td>\n",
       "      <td>2</td>\n",
       "      <td>86.19</td>\n",
       "      <td>0</td>\n",
       "      <td>728</td>\n",
       "      <td>4</td>\n",
       "      <td>90403</td>\n",
       "      <td>34.0287</td>\n",
       "      <td>-118.4924</td>\n",
       "      <td>...</td>\n",
       "      <td>355</td>\n",
       "      <td>69.603179</td>\n",
       "      <td>107049.69</td>\n",
       "      <td>50.230</td>\n",
       "      <td>144.099790</td>\n",
       "      <td>58</td>\n",
       "      <td>0.000000</td>\n",
       "      <td>85.530738</td>\n",
       "      <td>0</td>\n",
       "      <td>0</td>\n",
       "    </tr>\n",
       "    <tr>\n",
       "      <th>1101718</th>\n",
       "      <td>30518206766474</td>\n",
       "      <td>390</td>\n",
       "      <td>0</td>\n",
       "      <td>85.81</td>\n",
       "      <td>0</td>\n",
       "      <td>486</td>\n",
       "      <td>24</td>\n",
       "      <td>63867</td>\n",
       "      <td>36.7154</td>\n",
       "      <td>-89.6287</td>\n",
       "      <td>...</td>\n",
       "      <td>493</td>\n",
       "      <td>63.187024</td>\n",
       "      <td>95981.09</td>\n",
       "      <td>37.390</td>\n",
       "      <td>198.069229</td>\n",
       "      <td>41</td>\n",
       "      <td>0.009217</td>\n",
       "      <td>28.234251</td>\n",
       "      <td>1</td>\n",
       "      <td>0</td>\n",
       "    </tr>\n",
       "    <tr>\n",
       "      <th>800013</th>\n",
       "      <td>4658490815480264</td>\n",
       "      <td>217</td>\n",
       "      <td>4</td>\n",
       "      <td>99.30</td>\n",
       "      <td>0</td>\n",
       "      <td>400</td>\n",
       "      <td>38</td>\n",
       "      <td>15449</td>\n",
       "      <td>39.9636</td>\n",
       "      <td>-79.7853</td>\n",
       "      <td>...</td>\n",
       "      <td>449</td>\n",
       "      <td>63.390640</td>\n",
       "      <td>130711.50</td>\n",
       "      <td>39.715</td>\n",
       "      <td>127.018588</td>\n",
       "      <td>74</td>\n",
       "      <td>0.000000</td>\n",
       "      <td>91.317056</td>\n",
       "      <td>2</td>\n",
       "      <td>0</td>\n",
       "    </tr>\n",
       "    <tr>\n",
       "      <th>398945</th>\n",
       "      <td>4716561796955522</td>\n",
       "      <td>402</td>\n",
       "      <td>6</td>\n",
       "      <td>42.09</td>\n",
       "      <td>0</td>\n",
       "      <td>336</td>\n",
       "      <td>26</td>\n",
       "      <td>59448</td>\n",
       "      <td>48.2777</td>\n",
       "      <td>-112.8456</td>\n",
       "      <td>...</td>\n",
       "      <td>1041</td>\n",
       "      <td>51.478562</td>\n",
       "      <td>158245.10</td>\n",
       "      <td>30.810</td>\n",
       "      <td>104.061689</td>\n",
       "      <td>47</td>\n",
       "      <td>0.000000</td>\n",
       "      <td>3.697100</td>\n",
       "      <td>2</td>\n",
       "      <td>0</td>\n",
       "    </tr>\n",
       "    <tr>\n",
       "      <th>207455</th>\n",
       "      <td>3528407217576457</td>\n",
       "      <td>175</td>\n",
       "      <td>11</td>\n",
       "      <td>4.24</td>\n",
       "      <td>0</td>\n",
       "      <td>409</td>\n",
       "      <td>42</td>\n",
       "      <td>37663</td>\n",
       "      <td>36.4715</td>\n",
       "      <td>-82.4834</td>\n",
       "      <td>...</td>\n",
       "      <td>322</td>\n",
       "      <td>88.115236</td>\n",
       "      <td>87850.89</td>\n",
       "      <td>53.830</td>\n",
       "      <td>124.338622</td>\n",
       "      <td>32</td>\n",
       "      <td>0.005015</td>\n",
       "      <td>102.175759</td>\n",
       "      <td>0</td>\n",
       "      <td>0</td>\n",
       "    </tr>\n",
       "    <tr>\n",
       "      <th>...</th>\n",
       "      <td>...</td>\n",
       "      <td>...</td>\n",
       "      <td>...</td>\n",
       "      <td>...</td>\n",
       "      <td>...</td>\n",
       "      <td>...</td>\n",
       "      <td>...</td>\n",
       "      <td>...</td>\n",
       "      <td>...</td>\n",
       "      <td>...</td>\n",
       "      <td>...</td>\n",
       "      <td>...</td>\n",
       "      <td>...</td>\n",
       "      <td>...</td>\n",
       "      <td>...</td>\n",
       "      <td>...</td>\n",
       "      <td>...</td>\n",
       "      <td>...</td>\n",
       "      <td>...</td>\n",
       "      <td>...</td>\n",
       "      <td>...</td>\n",
       "    </tr>\n",
       "    <tr>\n",
       "      <th>1295399</th>\n",
       "      <td>3524574586339330</td>\n",
       "      <td>295</td>\n",
       "      <td>11</td>\n",
       "      <td>977.01</td>\n",
       "      <td>0</td>\n",
       "      <td>829</td>\n",
       "      <td>9</td>\n",
       "      <td>32960</td>\n",
       "      <td>27.6330</td>\n",
       "      <td>-80.4031</td>\n",
       "      <td>...</td>\n",
       "      <td>511</td>\n",
       "      <td>86.659060</td>\n",
       "      <td>134581.52</td>\n",
       "      <td>54.360</td>\n",
       "      <td>130.820348</td>\n",
       "      <td>34</td>\n",
       "      <td>0.001932</td>\n",
       "      <td>93.097732</td>\n",
       "      <td>0</td>\n",
       "      <td>1</td>\n",
       "    </tr>\n",
       "    <tr>\n",
       "      <th>1295491</th>\n",
       "      <td>3524574586339330</td>\n",
       "      <td>571</td>\n",
       "      <td>11</td>\n",
       "      <td>1210.91</td>\n",
       "      <td>0</td>\n",
       "      <td>829</td>\n",
       "      <td>9</td>\n",
       "      <td>32960</td>\n",
       "      <td>27.6330</td>\n",
       "      <td>-80.4031</td>\n",
       "      <td>...</td>\n",
       "      <td>511</td>\n",
       "      <td>86.659060</td>\n",
       "      <td>134581.52</td>\n",
       "      <td>54.360</td>\n",
       "      <td>130.820348</td>\n",
       "      <td>34</td>\n",
       "      <td>0.001932</td>\n",
       "      <td>84.294502</td>\n",
       "      <td>0</td>\n",
       "      <td>1</td>\n",
       "    </tr>\n",
       "    <tr>\n",
       "      <th>1295532</th>\n",
       "      <td>4005676619255478</td>\n",
       "      <td>622</td>\n",
       "      <td>2</td>\n",
       "      <td>10.24</td>\n",
       "      <td>1</td>\n",
       "      <td>209</td>\n",
       "      <td>18</td>\n",
       "      <td>70726</td>\n",
       "      <td>30.4590</td>\n",
       "      <td>-90.9027</td>\n",
       "      <td>...</td>\n",
       "      <td>871</td>\n",
       "      <td>56.083846</td>\n",
       "      <td>142452.97</td>\n",
       "      <td>34.995</td>\n",
       "      <td>114.121905</td>\n",
       "      <td>26</td>\n",
       "      <td>0.000787</td>\n",
       "      <td>95.206112</td>\n",
       "      <td>0</td>\n",
       "      <td>1</td>\n",
       "    </tr>\n",
       "    <tr>\n",
       "      <th>1295666</th>\n",
       "      <td>3560725013359375</td>\n",
       "      <td>107</td>\n",
       "      <td>2</td>\n",
       "      <td>21.69</td>\n",
       "      <td>0</td>\n",
       "      <td>592</td>\n",
       "      <td>43</td>\n",
       "      <td>79759</td>\n",
       "      <td>31.8599</td>\n",
       "      <td>-102.7413</td>\n",
       "      <td>...</td>\n",
       "      <td>630</td>\n",
       "      <td>62.843992</td>\n",
       "      <td>128767.34</td>\n",
       "      <td>42.940</td>\n",
       "      <td>99.079196</td>\n",
       "      <td>50</td>\n",
       "      <td>0.002928</td>\n",
       "      <td>114.493429</td>\n",
       "      <td>2</td>\n",
       "      <td>1</td>\n",
       "    </tr>\n",
       "    <tr>\n",
       "      <th>1295733</th>\n",
       "      <td>4005676619255478</td>\n",
       "      <td>332</td>\n",
       "      <td>2</td>\n",
       "      <td>10.20</td>\n",
       "      <td>1</td>\n",
       "      <td>209</td>\n",
       "      <td>18</td>\n",
       "      <td>70726</td>\n",
       "      <td>30.4590</td>\n",
       "      <td>-90.9027</td>\n",
       "      <td>...</td>\n",
       "      <td>871</td>\n",
       "      <td>56.083846</td>\n",
       "      <td>142452.97</td>\n",
       "      <td>34.995</td>\n",
       "      <td>114.121905</td>\n",
       "      <td>26</td>\n",
       "      <td>0.000787</td>\n",
       "      <td>136.674641</td>\n",
       "      <td>0</td>\n",
       "      <td>1</td>\n",
       "    </tr>\n",
       "  </tbody>\n",
       "</table>\n",
       "<p>15012 rows × 28 columns</p>\n",
       "</div>"
      ]
     },
     "execution_count": 42,
     "metadata": {},
     "output_type": "execute_result"
    }
   ],
   "execution_count": 42
  },
  {
   "cell_type": "code",
   "source": [
    "# Define your models and their respective parameter grids\n",
    "models = {\n",
    "    'Decision Tree': DecisionTreeClassifier(),\n",
    "    'XGBoost': XGBClassifier(),\n",
    "    'Random Forest': RandomForestClassifier()\n",
    "}\n",
    "\n",
    "param_grid = {\n",
    "    'Decision Tree': {'max_depth': [None, 10, 20]},\n",
    "    'XGBoost': {'max_depth': [3, 5, 10], 'learning_rate': [0.1, 0.01]},\n",
    "    'Random Forest': {'n_estimators': [50, 100, 200], 'max_depth': [None, 10, 20]}\n",
    "}\n",
    "# Train and evaluate each model\n",
    "for name, model in models.items():\n",
    "    grid_search = GridSearchCV(model, param_grid[name], cv=3, scoring='accuracy')\n",
    "    grid_search.fit(X_train, y_train)\n",
    "    best_model = grid_search.best_estimator_\n",
    "\n",
    "    # Make predictions\n",
    "    y_pred = best_model.predict(X_test)\n",
    "\n",
    "    # Calculate metrics\n",
    "    accuracy = accuracy_score(y_test, y_pred)\n",
    "    precision = precision_score(y_test, y_pred, average='weighted')\n",
    "    recall = recall_score(y_test, y_pred, average='weighted')\n",
    "    f1 = f1_score(y_test, y_pred, average='weighted')\n",
    "    cm = confusion_matrix(y_test, y_pred)\n",
    "\n",
    "    # Print the results\n",
    "    print(f\"Model: {name}\")\n",
    "    print(f\"Best Parameters: {grid_search.best_params_}\")\n",
    "    print(f\"Accuracy: {accuracy}\")\n",
    "    print(f\"Precision: {precision}\")\n",
    "    print(f\"Recall: {recall}\")\n",
    "    print(f\"F1 Score: {f1}\")\n",
    "    print(f\"Confusion Matrix:\\n{cm}\")\n",
    "    print(\"\\n\")\n"
   ],
   "metadata": {
    "collapsed": false,
    "ExecuteTime": {
     "end_time": "2024-08-05T10:55:11.207354Z",
     "start_time": "2024-08-05T10:53:56.250684Z"
    }
   },
   "id": "fd2999537f121dbe",
   "outputs": [
    {
     "name": "stdout",
     "output_type": "stream",
     "text": [
      "Model: Decision Tree\n",
      "Best Parameters: {'max_depth': 10}\n",
      "Accuracy: 0.948051948051948\n",
      "Precision: 0.9481694796668001\n",
      "Recall: 0.948051948051948\n",
      "F1 Score: 0.9480501507488015\n",
      "Confusion Matrix:\n",
      "[[1417   90]\n",
      " [  66 1430]]\n",
      "\n",
      "\n",
      "Model: XGBoost\n",
      "Best Parameters: {'learning_rate': 0.1, 'max_depth': 10}\n",
      "Accuracy: 0.9713619713619713\n",
      "Precision: 0.9714647134936991\n",
      "Recall: 0.9713619713619713\n",
      "F1 Score: 0.9713612028446722\n",
      "Confusion Matrix:\n",
      "[[1453   54]\n",
      " [  32 1464]]\n",
      "\n",
      "\n",
      "Model: Random Forest\n",
      "Best Parameters: {'max_depth': 20, 'n_estimators': 200}\n",
      "Accuracy: 0.9597069597069597\n",
      "Precision: 0.9598756832628572\n",
      "Recall: 0.9597069597069597\n",
      "F1 Score: 0.9597017758331203\n",
      "Confusion Matrix:\n",
      "[[1461   46]\n",
      " [  75 1421]]\n",
      "\n",
      "\n"
     ]
    }
   ],
   "execution_count": 43
  },
  {
   "cell_type": "markdown",
   "source": "# Model Selection\n",
   "metadata": {
    "collapsed": false
   },
   "id": "7c2b29fc6f03c68"
  },
  {
   "metadata": {
    "ExecuteTime": {
     "end_time": "2024-08-05T10:55:11.213225Z",
     "start_time": "2024-08-05T10:55:11.208711Z"
    }
   },
   "cell_type": "code",
   "source": [
    "# For Logistic Regression\n",
    "param_grid_logreg = {\n",
    "    'penalty': ['l1', 'l2'],\n",
    "    'C': [0.1, 1, 10],\n",
    "    'solver': ['liblinear']\n",
    "}\n",
    "\n",
    "# For Random Forest\n",
    "param_grid_rf = {\n",
    "    'n_estimators': [100, 200, 300],\n",
    "    'max_depth': [10, 20, 30],\n",
    "    'min_samples_split': [2, 5, 10]\n",
    "}\n",
    "\n",
    "# For SVC\n",
    "param_grid_svc = {\n",
    "    'C': [0.1, 1, 10],\n",
    "    'kernel': ['linear', 'rbf'],\n",
    "    'gamma': ['scale', 'auto']\n",
    "}\n",
    "\n",
    "# For XGBoost\n",
    "param_grid_xgb = {\n",
    "    'n_estimators': [100, 200],\n",
    "    'max_depth': [3, 6, 9],\n",
    "    'learning_rate': [0.01, 0.1, 0.2]\n",
    "}\n",
    "\n",
    "# For Decision Tree\n",
    "param_grid_dt = {\n",
    "    'max_depth': [10, 20, 30],\n",
    "    'min_samples_split': [2, 5, 10]\n",
    "}\n",
    "\n",
    "# For K-Nearest Neighbors\n",
    "param_grid_knn = {\n",
    "    'n_neighbors': [3, 5, 7],\n",
    "    'weights': ['uniform', 'distance'],\n",
    "    'algorithm': ['auto', 'ball_tree', 'kd_tree', 'brute']\n",
    "}"
   ],
   "id": "8791e6018fc786ba",
   "outputs": [],
   "execution_count": 44
  },
  {
   "metadata": {
    "ExecuteTime": {
     "end_time": "2024-08-05T10:55:11.218948Z",
     "start_time": "2024-08-05T10:55:11.214544Z"
    }
   },
   "cell_type": "code",
   "source": [
    "# Initialize models\n",
    "logreg = LogisticRegression(random_state=42)\n",
    "rf = RandomForestClassifier(random_state=42)\n",
    "svc = SVC(random_state=42)\n",
    "xgb = XGBClassifier(random_state=42)\n",
    "dt = DecisionTreeClassifier(random_state=42)\n",
    "knn = KNeighborsClassifier()\n",
    "\n",
    "# Initialize GridSearchCV for each model\n",
    "grid_search_logreg = GridSearchCV(estimator=logreg, param_grid=param_grid_logreg, cv=5, scoring='average_precision', n_jobs=-1, verbose=2)\n",
    "grid_search_rf = GridSearchCV(estimator=rf, param_grid=param_grid_rf, cv=5, scoring='average_precision', n_jobs=-1, verbose=2)\n",
    "grid_search_svc = GridSearchCV(estimator=svc, param_grid=param_grid_svc, cv=5, scoring='average_precision', n_jobs=-1, verbose=2)\n",
    "grid_search_xgb = GridSearchCV(estimator=xgb, param_grid=param_grid_xgb, cv=5, scoring='average_precision', n_jobs=-1, verbose=2)\n",
    "grid_search_dt = GridSearchCV(estimator=dt, param_grid=param_grid_dt, cv=5, scoring='average_precision', n_jobs=-1, verbose=2)\n",
    "grid_search_knn = GridSearchCV(estimator=knn, param_grid=param_grid_knn, cv=5, scoring='average_precision', n_jobs=-1, verbose=2)"
   ],
   "id": "d4154b83d6215ce3",
   "outputs": [],
   "execution_count": 45
  },
  {
   "metadata": {
    "ExecuteTime": {
     "end_time": "2024-08-05T10:58:06.502893Z",
     "start_time": "2024-08-05T10:55:11.220144Z"
    }
   },
   "cell_type": "code",
   "source": [
    "# Fit GridSearchCV for each model\n",
    "grid_search_logreg.fit(X_train_scaled, y_train)\n",
    "grid_search_rf.fit(X_train_scaled, y_train)\n",
    "grid_search_svc.fit(X_train_scaled, y_train)\n",
    "grid_search_xgb.fit(X_train_scaled, y_train)\n",
    "grid_search_dt.fit(X_train_scaled, y_train)\n",
    "grid_search_knn.fit(X_train_scaled, y_train)"
   ],
   "id": "e6cd35fea5747d32",
   "outputs": [
    {
     "name": "stdout",
     "output_type": "stream",
     "text": [
      "Fitting 5 folds for each of 6 candidates, totalling 30 fits\n",
      "Fitting 5 folds for each of 27 candidates, totalling 135 fits\n",
      "Fitting 5 folds for each of 12 candidates, totalling 60 fits\n"
     ]
    },
    {
     "name": "stderr",
     "output_type": "stream",
     "text": [
      "/Users/nglongvu1002/opt/anaconda3/lib/python3.9/site-packages/joblib/externals/loky/process_executor.py:752: UserWarning: A worker stopped while some jobs were given to the executor. This can be caused by a too short worker timeout or by a memory leak.\n",
      "  warnings.warn(\n"
     ]
    },
    {
     "name": "stdout",
     "output_type": "stream",
     "text": [
      "Fitting 5 folds for each of 18 candidates, totalling 90 fits\n",
      "Fitting 5 folds for each of 9 candidates, totalling 45 fits\n",
      "Fitting 5 folds for each of 24 candidates, totalling 120 fits\n"
     ]
    },
    {
     "data": {
      "text/plain": [
       "GridSearchCV(cv=5, estimator=KNeighborsClassifier(), n_jobs=-1,\n",
       "             param_grid={'algorithm': ['auto', 'ball_tree', 'kd_tree', 'brute'],\n",
       "                         'n_neighbors': [3, 5, 7],\n",
       "                         'weights': ['uniform', 'distance']},\n",
       "             scoring='average_precision', verbose=2)"
      ],
      "text/html": [
       "<style>#sk-container-id-1 {\n",
       "  /* Definition of color scheme common for light and dark mode */\n",
       "  --sklearn-color-text: black;\n",
       "  --sklearn-color-line: gray;\n",
       "  /* Definition of color scheme for unfitted estimators */\n",
       "  --sklearn-color-unfitted-level-0: #fff5e6;\n",
       "  --sklearn-color-unfitted-level-1: #f6e4d2;\n",
       "  --sklearn-color-unfitted-level-2: #ffe0b3;\n",
       "  --sklearn-color-unfitted-level-3: chocolate;\n",
       "  /* Definition of color scheme for fitted estimators */\n",
       "  --sklearn-color-fitted-level-0: #f0f8ff;\n",
       "  --sklearn-color-fitted-level-1: #d4ebff;\n",
       "  --sklearn-color-fitted-level-2: #b3dbfd;\n",
       "  --sklearn-color-fitted-level-3: cornflowerblue;\n",
       "\n",
       "  /* Specific color for light theme */\n",
       "  --sklearn-color-text-on-default-background: var(--sg-text-color, var(--theme-code-foreground, var(--jp-content-font-color1, black)));\n",
       "  --sklearn-color-background: var(--sg-background-color, var(--theme-background, var(--jp-layout-color0, white)));\n",
       "  --sklearn-color-border-box: var(--sg-text-color, var(--theme-code-foreground, var(--jp-content-font-color1, black)));\n",
       "  --sklearn-color-icon: #696969;\n",
       "\n",
       "  @media (prefers-color-scheme: dark) {\n",
       "    /* Redefinition of color scheme for dark theme */\n",
       "    --sklearn-color-text-on-default-background: var(--sg-text-color, var(--theme-code-foreground, var(--jp-content-font-color1, white)));\n",
       "    --sklearn-color-background: var(--sg-background-color, var(--theme-background, var(--jp-layout-color0, #111)));\n",
       "    --sklearn-color-border-box: var(--sg-text-color, var(--theme-code-foreground, var(--jp-content-font-color1, white)));\n",
       "    --sklearn-color-icon: #878787;\n",
       "  }\n",
       "}\n",
       "\n",
       "#sk-container-id-1 {\n",
       "  color: var(--sklearn-color-text);\n",
       "}\n",
       "\n",
       "#sk-container-id-1 pre {\n",
       "  padding: 0;\n",
       "}\n",
       "\n",
       "#sk-container-id-1 input.sk-hidden--visually {\n",
       "  border: 0;\n",
       "  clip: rect(1px 1px 1px 1px);\n",
       "  clip: rect(1px, 1px, 1px, 1px);\n",
       "  height: 1px;\n",
       "  margin: -1px;\n",
       "  overflow: hidden;\n",
       "  padding: 0;\n",
       "  position: absolute;\n",
       "  width: 1px;\n",
       "}\n",
       "\n",
       "#sk-container-id-1 div.sk-dashed-wrapped {\n",
       "  border: 1px dashed var(--sklearn-color-line);\n",
       "  margin: 0 0.4em 0.5em 0.4em;\n",
       "  box-sizing: border-box;\n",
       "  padding-bottom: 0.4em;\n",
       "  background-color: var(--sklearn-color-background);\n",
       "}\n",
       "\n",
       "#sk-container-id-1 div.sk-container {\n",
       "  /* jupyter's `normalize.less` sets `[hidden] { display: none; }`\n",
       "     but bootstrap.min.css set `[hidden] { display: none !important; }`\n",
       "     so we also need the `!important` here to be able to override the\n",
       "     default hidden behavior on the sphinx rendered scikit-learn.org.\n",
       "     See: https://github.com/scikit-learn/scikit-learn/issues/21755 */\n",
       "  display: inline-block !important;\n",
       "  position: relative;\n",
       "}\n",
       "\n",
       "#sk-container-id-1 div.sk-text-repr-fallback {\n",
       "  display: none;\n",
       "}\n",
       "\n",
       "div.sk-parallel-item,\n",
       "div.sk-serial,\n",
       "div.sk-item {\n",
       "  /* draw centered vertical line to link estimators */\n",
       "  background-image: linear-gradient(var(--sklearn-color-text-on-default-background), var(--sklearn-color-text-on-default-background));\n",
       "  background-size: 2px 100%;\n",
       "  background-repeat: no-repeat;\n",
       "  background-position: center center;\n",
       "}\n",
       "\n",
       "/* Parallel-specific style estimator block */\n",
       "\n",
       "#sk-container-id-1 div.sk-parallel-item::after {\n",
       "  content: \"\";\n",
       "  width: 100%;\n",
       "  border-bottom: 2px solid var(--sklearn-color-text-on-default-background);\n",
       "  flex-grow: 1;\n",
       "}\n",
       "\n",
       "#sk-container-id-1 div.sk-parallel {\n",
       "  display: flex;\n",
       "  align-items: stretch;\n",
       "  justify-content: center;\n",
       "  background-color: var(--sklearn-color-background);\n",
       "  position: relative;\n",
       "}\n",
       "\n",
       "#sk-container-id-1 div.sk-parallel-item {\n",
       "  display: flex;\n",
       "  flex-direction: column;\n",
       "}\n",
       "\n",
       "#sk-container-id-1 div.sk-parallel-item:first-child::after {\n",
       "  align-self: flex-end;\n",
       "  width: 50%;\n",
       "}\n",
       "\n",
       "#sk-container-id-1 div.sk-parallel-item:last-child::after {\n",
       "  align-self: flex-start;\n",
       "  width: 50%;\n",
       "}\n",
       "\n",
       "#sk-container-id-1 div.sk-parallel-item:only-child::after {\n",
       "  width: 0;\n",
       "}\n",
       "\n",
       "/* Serial-specific style estimator block */\n",
       "\n",
       "#sk-container-id-1 div.sk-serial {\n",
       "  display: flex;\n",
       "  flex-direction: column;\n",
       "  align-items: center;\n",
       "  background-color: var(--sklearn-color-background);\n",
       "  padding-right: 1em;\n",
       "  padding-left: 1em;\n",
       "}\n",
       "\n",
       "\n",
       "/* Toggleable style: style used for estimator/Pipeline/ColumnTransformer box that is\n",
       "clickable and can be expanded/collapsed.\n",
       "- Pipeline and ColumnTransformer use this feature and define the default style\n",
       "- Estimators will overwrite some part of the style using the `sk-estimator` class\n",
       "*/\n",
       "\n",
       "/* Pipeline and ColumnTransformer style (default) */\n",
       "\n",
       "#sk-container-id-1 div.sk-toggleable {\n",
       "  /* Default theme specific background. It is overwritten whether we have a\n",
       "  specific estimator or a Pipeline/ColumnTransformer */\n",
       "  background-color: var(--sklearn-color-background);\n",
       "}\n",
       "\n",
       "/* Toggleable label */\n",
       "#sk-container-id-1 label.sk-toggleable__label {\n",
       "  cursor: pointer;\n",
       "  display: block;\n",
       "  width: 100%;\n",
       "  margin-bottom: 0;\n",
       "  padding: 0.5em;\n",
       "  box-sizing: border-box;\n",
       "  text-align: center;\n",
       "}\n",
       "\n",
       "#sk-container-id-1 label.sk-toggleable__label-arrow:before {\n",
       "  /* Arrow on the left of the label */\n",
       "  content: \"▸\";\n",
       "  float: left;\n",
       "  margin-right: 0.25em;\n",
       "  color: var(--sklearn-color-icon);\n",
       "}\n",
       "\n",
       "#sk-container-id-1 label.sk-toggleable__label-arrow:hover:before {\n",
       "  color: var(--sklearn-color-text);\n",
       "}\n",
       "\n",
       "/* Toggleable content - dropdown */\n",
       "\n",
       "#sk-container-id-1 div.sk-toggleable__content {\n",
       "  max-height: 0;\n",
       "  max-width: 0;\n",
       "  overflow: hidden;\n",
       "  text-align: left;\n",
       "  /* unfitted */\n",
       "  background-color: var(--sklearn-color-unfitted-level-0);\n",
       "}\n",
       "\n",
       "#sk-container-id-1 div.sk-toggleable__content.fitted {\n",
       "  /* fitted */\n",
       "  background-color: var(--sklearn-color-fitted-level-0);\n",
       "}\n",
       "\n",
       "#sk-container-id-1 div.sk-toggleable__content pre {\n",
       "  margin: 0.2em;\n",
       "  border-radius: 0.25em;\n",
       "  color: var(--sklearn-color-text);\n",
       "  /* unfitted */\n",
       "  background-color: var(--sklearn-color-unfitted-level-0);\n",
       "}\n",
       "\n",
       "#sk-container-id-1 div.sk-toggleable__content.fitted pre {\n",
       "  /* unfitted */\n",
       "  background-color: var(--sklearn-color-fitted-level-0);\n",
       "}\n",
       "\n",
       "#sk-container-id-1 input.sk-toggleable__control:checked~div.sk-toggleable__content {\n",
       "  /* Expand drop-down */\n",
       "  max-height: 200px;\n",
       "  max-width: 100%;\n",
       "  overflow: auto;\n",
       "}\n",
       "\n",
       "#sk-container-id-1 input.sk-toggleable__control:checked~label.sk-toggleable__label-arrow:before {\n",
       "  content: \"▾\";\n",
       "}\n",
       "\n",
       "/* Pipeline/ColumnTransformer-specific style */\n",
       "\n",
       "#sk-container-id-1 div.sk-label input.sk-toggleable__control:checked~label.sk-toggleable__label {\n",
       "  color: var(--sklearn-color-text);\n",
       "  background-color: var(--sklearn-color-unfitted-level-2);\n",
       "}\n",
       "\n",
       "#sk-container-id-1 div.sk-label.fitted input.sk-toggleable__control:checked~label.sk-toggleable__label {\n",
       "  background-color: var(--sklearn-color-fitted-level-2);\n",
       "}\n",
       "\n",
       "/* Estimator-specific style */\n",
       "\n",
       "/* Colorize estimator box */\n",
       "#sk-container-id-1 div.sk-estimator input.sk-toggleable__control:checked~label.sk-toggleable__label {\n",
       "  /* unfitted */\n",
       "  background-color: var(--sklearn-color-unfitted-level-2);\n",
       "}\n",
       "\n",
       "#sk-container-id-1 div.sk-estimator.fitted input.sk-toggleable__control:checked~label.sk-toggleable__label {\n",
       "  /* fitted */\n",
       "  background-color: var(--sklearn-color-fitted-level-2);\n",
       "}\n",
       "\n",
       "#sk-container-id-1 div.sk-label label.sk-toggleable__label,\n",
       "#sk-container-id-1 div.sk-label label {\n",
       "  /* The background is the default theme color */\n",
       "  color: var(--sklearn-color-text-on-default-background);\n",
       "}\n",
       "\n",
       "/* On hover, darken the color of the background */\n",
       "#sk-container-id-1 div.sk-label:hover label.sk-toggleable__label {\n",
       "  color: var(--sklearn-color-text);\n",
       "  background-color: var(--sklearn-color-unfitted-level-2);\n",
       "}\n",
       "\n",
       "/* Label box, darken color on hover, fitted */\n",
       "#sk-container-id-1 div.sk-label.fitted:hover label.sk-toggleable__label.fitted {\n",
       "  color: var(--sklearn-color-text);\n",
       "  background-color: var(--sklearn-color-fitted-level-2);\n",
       "}\n",
       "\n",
       "/* Estimator label */\n",
       "\n",
       "#sk-container-id-1 div.sk-label label {\n",
       "  font-family: monospace;\n",
       "  font-weight: bold;\n",
       "  display: inline-block;\n",
       "  line-height: 1.2em;\n",
       "}\n",
       "\n",
       "#sk-container-id-1 div.sk-label-container {\n",
       "  text-align: center;\n",
       "}\n",
       "\n",
       "/* Estimator-specific */\n",
       "#sk-container-id-1 div.sk-estimator {\n",
       "  font-family: monospace;\n",
       "  border: 1px dotted var(--sklearn-color-border-box);\n",
       "  border-radius: 0.25em;\n",
       "  box-sizing: border-box;\n",
       "  margin-bottom: 0.5em;\n",
       "  /* unfitted */\n",
       "  background-color: var(--sklearn-color-unfitted-level-0);\n",
       "}\n",
       "\n",
       "#sk-container-id-1 div.sk-estimator.fitted {\n",
       "  /* fitted */\n",
       "  background-color: var(--sklearn-color-fitted-level-0);\n",
       "}\n",
       "\n",
       "/* on hover */\n",
       "#sk-container-id-1 div.sk-estimator:hover {\n",
       "  /* unfitted */\n",
       "  background-color: var(--sklearn-color-unfitted-level-2);\n",
       "}\n",
       "\n",
       "#sk-container-id-1 div.sk-estimator.fitted:hover {\n",
       "  /* fitted */\n",
       "  background-color: var(--sklearn-color-fitted-level-2);\n",
       "}\n",
       "\n",
       "/* Specification for estimator info (e.g. \"i\" and \"?\") */\n",
       "\n",
       "/* Common style for \"i\" and \"?\" */\n",
       "\n",
       ".sk-estimator-doc-link,\n",
       "a:link.sk-estimator-doc-link,\n",
       "a:visited.sk-estimator-doc-link {\n",
       "  float: right;\n",
       "  font-size: smaller;\n",
       "  line-height: 1em;\n",
       "  font-family: monospace;\n",
       "  background-color: var(--sklearn-color-background);\n",
       "  border-radius: 1em;\n",
       "  height: 1em;\n",
       "  width: 1em;\n",
       "  text-decoration: none !important;\n",
       "  margin-left: 1ex;\n",
       "  /* unfitted */\n",
       "  border: var(--sklearn-color-unfitted-level-1) 1pt solid;\n",
       "  color: var(--sklearn-color-unfitted-level-1);\n",
       "}\n",
       "\n",
       ".sk-estimator-doc-link.fitted,\n",
       "a:link.sk-estimator-doc-link.fitted,\n",
       "a:visited.sk-estimator-doc-link.fitted {\n",
       "  /* fitted */\n",
       "  border: var(--sklearn-color-fitted-level-1) 1pt solid;\n",
       "  color: var(--sklearn-color-fitted-level-1);\n",
       "}\n",
       "\n",
       "/* On hover */\n",
       "div.sk-estimator:hover .sk-estimator-doc-link:hover,\n",
       ".sk-estimator-doc-link:hover,\n",
       "div.sk-label-container:hover .sk-estimator-doc-link:hover,\n",
       ".sk-estimator-doc-link:hover {\n",
       "  /* unfitted */\n",
       "  background-color: var(--sklearn-color-unfitted-level-3);\n",
       "  color: var(--sklearn-color-background);\n",
       "  text-decoration: none;\n",
       "}\n",
       "\n",
       "div.sk-estimator.fitted:hover .sk-estimator-doc-link.fitted:hover,\n",
       ".sk-estimator-doc-link.fitted:hover,\n",
       "div.sk-label-container:hover .sk-estimator-doc-link.fitted:hover,\n",
       ".sk-estimator-doc-link.fitted:hover {\n",
       "  /* fitted */\n",
       "  background-color: var(--sklearn-color-fitted-level-3);\n",
       "  color: var(--sklearn-color-background);\n",
       "  text-decoration: none;\n",
       "}\n",
       "\n",
       "/* Span, style for the box shown on hovering the info icon */\n",
       ".sk-estimator-doc-link span {\n",
       "  display: none;\n",
       "  z-index: 9999;\n",
       "  position: relative;\n",
       "  font-weight: normal;\n",
       "  right: .2ex;\n",
       "  padding: .5ex;\n",
       "  margin: .5ex;\n",
       "  width: min-content;\n",
       "  min-width: 20ex;\n",
       "  max-width: 50ex;\n",
       "  color: var(--sklearn-color-text);\n",
       "  box-shadow: 2pt 2pt 4pt #999;\n",
       "  /* unfitted */\n",
       "  background: var(--sklearn-color-unfitted-level-0);\n",
       "  border: .5pt solid var(--sklearn-color-unfitted-level-3);\n",
       "}\n",
       "\n",
       ".sk-estimator-doc-link.fitted span {\n",
       "  /* fitted */\n",
       "  background: var(--sklearn-color-fitted-level-0);\n",
       "  border: var(--sklearn-color-fitted-level-3);\n",
       "}\n",
       "\n",
       ".sk-estimator-doc-link:hover span {\n",
       "  display: block;\n",
       "}\n",
       "\n",
       "/* \"?\"-specific style due to the `<a>` HTML tag */\n",
       "\n",
       "#sk-container-id-1 a.estimator_doc_link {\n",
       "  float: right;\n",
       "  font-size: 1rem;\n",
       "  line-height: 1em;\n",
       "  font-family: monospace;\n",
       "  background-color: var(--sklearn-color-background);\n",
       "  border-radius: 1rem;\n",
       "  height: 1rem;\n",
       "  width: 1rem;\n",
       "  text-decoration: none;\n",
       "  /* unfitted */\n",
       "  color: var(--sklearn-color-unfitted-level-1);\n",
       "  border: var(--sklearn-color-unfitted-level-1) 1pt solid;\n",
       "}\n",
       "\n",
       "#sk-container-id-1 a.estimator_doc_link.fitted {\n",
       "  /* fitted */\n",
       "  border: var(--sklearn-color-fitted-level-1) 1pt solid;\n",
       "  color: var(--sklearn-color-fitted-level-1);\n",
       "}\n",
       "\n",
       "/* On hover */\n",
       "#sk-container-id-1 a.estimator_doc_link:hover {\n",
       "  /* unfitted */\n",
       "  background-color: var(--sklearn-color-unfitted-level-3);\n",
       "  color: var(--sklearn-color-background);\n",
       "  text-decoration: none;\n",
       "}\n",
       "\n",
       "#sk-container-id-1 a.estimator_doc_link.fitted:hover {\n",
       "  /* fitted */\n",
       "  background-color: var(--sklearn-color-fitted-level-3);\n",
       "}\n",
       "</style><div id=\"sk-container-id-1\" class=\"sk-top-container\"><div class=\"sk-text-repr-fallback\"><pre>GridSearchCV(cv=5, estimator=KNeighborsClassifier(), n_jobs=-1,\n",
       "             param_grid={&#x27;algorithm&#x27;: [&#x27;auto&#x27;, &#x27;ball_tree&#x27;, &#x27;kd_tree&#x27;, &#x27;brute&#x27;],\n",
       "                         &#x27;n_neighbors&#x27;: [3, 5, 7],\n",
       "                         &#x27;weights&#x27;: [&#x27;uniform&#x27;, &#x27;distance&#x27;]},\n",
       "             scoring=&#x27;average_precision&#x27;, verbose=2)</pre><b>In a Jupyter environment, please rerun this cell to show the HTML representation or trust the notebook. <br />On GitHub, the HTML representation is unable to render, please try loading this page with nbviewer.org.</b></div><div class=\"sk-container\" hidden><div class=\"sk-item sk-dashed-wrapped\"><div class=\"sk-label-container\"><div class=\"sk-label fitted sk-toggleable\"><input class=\"sk-toggleable__control sk-hidden--visually\" id=\"sk-estimator-id-1\" type=\"checkbox\" ><label for=\"sk-estimator-id-1\" class=\"sk-toggleable__label fitted sk-toggleable__label-arrow fitted\">&nbsp;&nbsp;GridSearchCV<a class=\"sk-estimator-doc-link fitted\" rel=\"noreferrer\" target=\"_blank\" href=\"https://scikit-learn.org/1.5/modules/generated/sklearn.model_selection.GridSearchCV.html\">?<span>Documentation for GridSearchCV</span></a><span class=\"sk-estimator-doc-link fitted\">i<span>Fitted</span></span></label><div class=\"sk-toggleable__content fitted\"><pre>GridSearchCV(cv=5, estimator=KNeighborsClassifier(), n_jobs=-1,\n",
       "             param_grid={&#x27;algorithm&#x27;: [&#x27;auto&#x27;, &#x27;ball_tree&#x27;, &#x27;kd_tree&#x27;, &#x27;brute&#x27;],\n",
       "                         &#x27;n_neighbors&#x27;: [3, 5, 7],\n",
       "                         &#x27;weights&#x27;: [&#x27;uniform&#x27;, &#x27;distance&#x27;]},\n",
       "             scoring=&#x27;average_precision&#x27;, verbose=2)</pre></div> </div></div><div class=\"sk-parallel\"><div class=\"sk-parallel-item\"><div class=\"sk-item\"><div class=\"sk-label-container\"><div class=\"sk-label fitted sk-toggleable\"><input class=\"sk-toggleable__control sk-hidden--visually\" id=\"sk-estimator-id-2\" type=\"checkbox\" ><label for=\"sk-estimator-id-2\" class=\"sk-toggleable__label fitted sk-toggleable__label-arrow fitted\">best_estimator_: KNeighborsClassifier</label><div class=\"sk-toggleable__content fitted\"><pre>KNeighborsClassifier(n_neighbors=7, weights=&#x27;distance&#x27;)</pre></div> </div></div><div class=\"sk-serial\"><div class=\"sk-item\"><div class=\"sk-estimator fitted sk-toggleable\"><input class=\"sk-toggleable__control sk-hidden--visually\" id=\"sk-estimator-id-3\" type=\"checkbox\" ><label for=\"sk-estimator-id-3\" class=\"sk-toggleable__label fitted sk-toggleable__label-arrow fitted\">&nbsp;KNeighborsClassifier<a class=\"sk-estimator-doc-link fitted\" rel=\"noreferrer\" target=\"_blank\" href=\"https://scikit-learn.org/1.5/modules/generated/sklearn.neighbors.KNeighborsClassifier.html\">?<span>Documentation for KNeighborsClassifier</span></a></label><div class=\"sk-toggleable__content fitted\"><pre>KNeighborsClassifier(n_neighbors=7, weights=&#x27;distance&#x27;)</pre></div> </div></div></div></div></div></div></div></div></div>"
      ]
     },
     "execution_count": 46,
     "metadata": {},
     "output_type": "execute_result"
    }
   ],
   "execution_count": 46
  },
  {
   "metadata": {
    "ExecuteTime": {
     "end_time": "2024-08-05T10:58:06.513434Z",
     "start_time": "2024-08-05T10:58:06.505343Z"
    }
   },
   "cell_type": "code",
   "source": [
    "# Retrieve and print the best parameters and scores\n",
    "print(\"Best parameters for Logistic Regression:\", grid_search_logreg.best_params_)\n",
    "print(\"Best score for Logistic Regression:\", grid_search_logreg.best_score_)\n",
    "\n",
    "print(\"Best parameters for Random Forest:\", grid_search_rf.best_params_)\n",
    "print(\"Best score for Random Forest:\", grid_search_rf.best_score_)\n",
    "\n",
    "print(\"Best parameters for SVC:\", grid_search_svc.best_params_)\n",
    "print(\"Best score for SVC:\", grid_search_svc.best_score_)\n",
    "\n",
    "print(\"Best parameters for XGBoost:\", grid_search_xgb.best_params_)\n",
    "print(\"Best score for XGBoost:\", grid_search_xgb.best_score_)\n",
    "\n",
    "print(\"Best parameters for Decision Tree:\", grid_search_dt.best_params_)\n",
    "print(\"Best score for Decision Tree:\", grid_search_dt.best_score_)\n",
    "\n",
    "print(\"Best parameters for KNN:\", grid_search_knn.best_params_)\n",
    "print(\"Best score for KNN:\", grid_search_knn.best_score_)\n"
   ],
   "id": "6bb8f2d373b03d4e",
   "outputs": [
    {
     "name": "stdout",
     "output_type": "stream",
     "text": [
      "Best parameters for Logistic Regression: {'C': 1, 'penalty': 'l1', 'solver': 'liblinear'}\n",
      "Best score for Logistic Regression: 0.9337737238974366\n",
      "Best parameters for Random Forest: {'max_depth': 30, 'min_samples_split': 2, 'n_estimators': 300}\n",
      "Best score for Random Forest: 0.9943111970096782\n",
      "Best parameters for SVC: {'C': 10, 'gamma': 'auto', 'kernel': 'rbf'}\n",
      "Best score for SVC: 0.9492769139818208\n",
      "Best parameters for XGBoost: {'learning_rate': 0.2, 'max_depth': 6, 'n_estimators': 200}\n",
      "Best score for XGBoost: 0.9974683483176717\n",
      "Best parameters for Decision Tree: {'max_depth': 10, 'min_samples_split': 10}\n",
      "Best score for Decision Tree: 0.9737618662211209\n",
      "Best parameters for KNN: {'algorithm': 'auto', 'n_neighbors': 7, 'weights': 'distance'}\n",
      "Best score for KNN: 0.9277967198698784\n"
     ]
    }
   ],
   "execution_count": 47
  },
  {
   "metadata": {
    "ExecuteTime": {
     "end_time": "2024-08-05T10:58:08.574160Z",
     "start_time": "2024-08-05T10:58:06.515725Z"
    }
   },
   "cell_type": "code",
   "source": [
    "# Predict with the best models\n",
    "y_pred_logreg = grid_search_logreg.predict(X_test_scaled)\n",
    "y_pred_rf = grid_search_rf.predict(X_test_scaled)\n",
    "y_pred_svc = grid_search_svc.predict(X_test_scaled)\n",
    "y_pred_xgb = grid_search_xgb.predict(X_test_scaled)\n",
    "y_pred_dt = grid_search_dt.predict(X_test_scaled)\n",
    "y_pred_knn = grid_search_knn.predict(X_test_scaled)"
   ],
   "id": "92d67a1ded65ed89",
   "outputs": [],
   "execution_count": 48
  },
  {
   "metadata": {
    "ExecuteTime": {
     "end_time": "2024-08-05T10:58:08.638448Z",
     "start_time": "2024-08-05T10:58:08.575339Z"
    }
   },
   "cell_type": "code",
   "source": [
    "# Print classification reports\n",
    "print(\"\\nClassification Report (Logistic Regression):\")\n",
    "print(classification_report(y_test, y_pred_logreg))\n",
    "\n",
    "print(\"\\nClassification Report (Random Forest):\")\n",
    "print(classification_report(y_test, y_pred_rf))\n",
    "\n",
    "print(\"\\nClassification Report (SVC):\")\n",
    "print(classification_report(y_test, y_pred_svc))\n",
    "\n",
    "print(\"\\nClassification Report (XGBoost):\")\n",
    "print(classification_report(y_test, y_pred_xgb))\n",
    "\n",
    "print(\"\\nClassification Report (Decision Tree):\")\n",
    "print(classification_report(y_test, y_pred_dt))\n",
    "\n",
    "print(\"\\nClassification Report (KNN):\")\n",
    "print(classification_report(y_test, y_pred_knn))\n",
    "\n",
    "# Print confusion matrices\n",
    "print(\"\\nConfusion Matrix (Logistic Regression):\")\n",
    "print(confusion_matrix(y_test, y_pred_logreg))\n",
    "\n",
    "print(\"\\nConfusion Matrix (Random Forest):\")\n",
    "print(confusion_matrix(y_test, y_pred_rf))\n",
    "\n",
    "print(\"\\nConfusion Matrix (SVC):\")\n",
    "print(confusion_matrix(y_test, y_pred_svc))\n",
    "\n",
    "print(\"\\nConfusion Matrix (XGBoost):\")\n",
    "print(confusion_matrix(y_test, y_pred_xgb))\n",
    "\n",
    "print(\"\\nConfusion Matrix (Decision Tree):\")\n",
    "print(confusion_matrix(y_test, y_pred_dt))\n",
    "\n",
    "print(\"\\nConfusion Matrix (KNN):\")\n",
    "print(confusion_matrix(y_test, y_pred_knn))"
   ],
   "id": "a61e010b280423a9",
   "outputs": [
    {
     "name": "stdout",
     "output_type": "stream",
     "text": [
      "\n",
      "Classification Report (Logistic Regression):\n",
      "              precision    recall  f1-score   support\n",
      "\n",
      "           0       0.82      0.92      0.87      1507\n",
      "           1       0.91      0.80      0.85      1496\n",
      "\n",
      "    accuracy                           0.86      3003\n",
      "   macro avg       0.87      0.86      0.86      3003\n",
      "weighted avg       0.87      0.86      0.86      3003\n",
      "\n",
      "\n",
      "Classification Report (Random Forest):\n",
      "              precision    recall  f1-score   support\n",
      "\n",
      "           0       0.95      0.97      0.96      1507\n",
      "           1       0.97      0.95      0.96      1496\n",
      "\n",
      "    accuracy                           0.96      3003\n",
      "   macro avg       0.96      0.96      0.96      3003\n",
      "weighted avg       0.96      0.96      0.96      3003\n",
      "\n",
      "\n",
      "Classification Report (SVC):\n",
      "              precision    recall  f1-score   support\n",
      "\n",
      "           0       0.85      0.92      0.88      1507\n",
      "           1       0.91      0.83      0.87      1496\n",
      "\n",
      "    accuracy                           0.88      3003\n",
      "   macro avg       0.88      0.88      0.88      3003\n",
      "weighted avg       0.88      0.88      0.88      3003\n",
      "\n",
      "\n",
      "Classification Report (XGBoost):\n",
      "              precision    recall  f1-score   support\n",
      "\n",
      "           0       0.98      0.96      0.97      1507\n",
      "           1       0.96      0.98      0.97      1496\n",
      "\n",
      "    accuracy                           0.97      3003\n",
      "   macro avg       0.97      0.97      0.97      3003\n",
      "weighted avg       0.97      0.97      0.97      3003\n",
      "\n",
      "\n",
      "Classification Report (Decision Tree):\n",
      "              precision    recall  f1-score   support\n",
      "\n",
      "           0       0.96      0.94      0.95      1507\n",
      "           1       0.95      0.96      0.95      1496\n",
      "\n",
      "    accuracy                           0.95      3003\n",
      "   macro avg       0.95      0.95      0.95      3003\n",
      "weighted avg       0.95      0.95      0.95      3003\n",
      "\n",
      "\n",
      "Classification Report (KNN):\n",
      "              precision    recall  f1-score   support\n",
      "\n",
      "           0       0.88      0.79      0.83      1507\n",
      "           1       0.81      0.89      0.85      1496\n",
      "\n",
      "    accuracy                           0.84      3003\n",
      "   macro avg       0.84      0.84      0.84      3003\n",
      "weighted avg       0.84      0.84      0.84      3003\n",
      "\n",
      "\n",
      "Confusion Matrix (Logistic Regression):\n",
      "[[1386  121]\n",
      " [ 297 1199]]\n",
      "\n",
      "Confusion Matrix (Random Forest):\n",
      "[[1461   46]\n",
      " [  73 1423]]\n",
      "\n",
      "Confusion Matrix (SVC):\n",
      "[[1385  122]\n",
      " [ 247 1249]]\n",
      "\n",
      "Confusion Matrix (XGBoost):\n",
      "[[1450   57]\n",
      " [  27 1469]]\n",
      "\n",
      "Confusion Matrix (Decision Tree):\n",
      "[[1424   83]\n",
      " [  62 1434]]\n",
      "\n",
      "Confusion Matrix (KNN):\n",
      "[[1197  310]\n",
      " [ 167 1329]]\n"
     ]
    }
   ],
   "execution_count": 49
  },
  {
   "metadata": {},
   "cell_type": "markdown",
   "source": [
    "Model Selection:\n",
    "Based on the evaluation metrics, the best-performing model appears to be XGBoost with the following reasons:\n",
    "\n",
    "1. Best Score: Highest cross-validation score of 0.9975.\n",
    "2. Classification Report:\n",
    "- High precision (0.98 for Class 0, 0.96 for Class 1) indicating fewer false positives.\n",
    "- High recall (0.96 for Class 0, 0.98 for Class 1) indicating fewer false negatives.\n",
    "- High F1-Score (0.97 for both classes), showing a balanced performance.\n",
    "3. Confusion Matrix: Shows the least number of misclassifications among all models.\n",
    "4. AUPRC: Highest AUPRC of 0.9543, indicating excellent performance in distinguishing between classes.\n",
    "\n",
    "Given the comprehensive evaluation, XGBoost is the best model for this credit card fraud detection task, as it achieves the highest scores across most evaluation metrics, demonstrating strong performance and robustness.\n",
    "\n",
    "To implement XGBoost in your project, use the best parameters identified through hyperparameter tuning and ensure proper validation to maintain model accuracy and generalization.\n",
    "\n",
    "\n",
    "\n",
    "\n",
    "\n",
    "\n"
   ],
   "id": "a9200eff27583143"
  },
  {
   "metadata": {},
   "cell_type": "code",
   "source": [
    "import pandas as pd\n",
    "from sklearn.model_selection import train_test_split, StratifiedKFold, GridSearchCV\n",
    "from sklearn.preprocessing import StandardScaler\n",
    "from sklearn.metrics import classification_report, confusion_matrix, roc_curve, roc_auc_score\n",
    "from xgboost import XGBClassifier\n",
    "import seaborn as sns\n",
    "import matplotlib.pyplot as plt\n",
    "from joblib import parallel_backend, cpu_count\n",
    "\n",
    "\n",
    "# Sample data (assuming df is your DataFrame and 'is_fraud' is the target column)\n",
    "X = df.drop(columns=['is_fraud'])\n",
    "y = df['is_fraud']\n",
    "\n",
    "# Split data into training and testing sets\n",
    "X_train, X_test, y_train, y_test = train_test_split(X, y, test_size=0.2, random_state=42)\n",
    "\n",
    "# Standardize features by removing the mean and scaling to unit variance\n",
    "from sklearn.preprocessing import StandardScaler\n",
    "scaler = StandardScaler()\n",
    "X_train_scaled = scaler.fit_transform(X_train)\n",
    "X_test_scaled = scaler.transform(X_test)\n",
    "\n",
    "# Define the parameter grid\n",
    "param_grid = {\n",
    "    'n_estimators': [100, 200, 300],\n",
    "    'max_depth': [3, 4, 5, 6],\n",
    "    'learning_rate': [0.01, 0.05, 0.1],\n",
    "    'subsample': [0.6, 0.8, 1.0],\n",
    "    'colsample_bytree': [0.6, 0.8, 1.0]\n",
    "}\n",
    "\n",
    "# Initialize the XGBoost classifier\n",
    "xgb_classifier = XGBClassifier(random_state=42)\n",
    "\n",
    "# Stratified K-Fold Cross-Validation to ensure balanced class distribution\n",
    "cv = StratifiedKFold(n_splits=3, shuffle=True, random_state=42)\n",
    "\n",
    "# Perform Grid Search with Cross-Validation\n",
    "grid_search = GridSearchCV(estimator=xgb_classifier, param_grid=param_grid, cv=cv, n_jobs=-1, verbose=1)\n",
    "grid_search.fit(X_train_scaled, y_train)\n",
    "\n",
    "# Print the best parameters found\n",
    "print(\"Best Parameters:\", grid_search.best_params_)\n",
    "\n",
    "# Evaluate the best model\n",
    "best_xgb = grid_search.best_estimator_\n",
    "\n",
    "# Predict on the test set\n",
    "y_pred = best_xgb.predict(X_test_scaled)\n",
    "\n",
    "# Print the classification report\n",
    "print(\"\\nClassification Report:\")\n",
    "print(classification_report(y_test, y_pred))\n",
    "\n",
    "# Calculate and print the confusion matrix\n",
    "conf_matrix = confusion_matrix(y_test, y_pred)\n",
    "print(\"\\nConfusion Matrix:\")\n",
    "print(conf_matrix)\n",
    "\n",
    "# Plot confusion matrix\n",
    "sns.heatmap(conf_matrix, annot=True, fmt='d', cmap='Blues')\n",
    "plt.title('Confusion Matrix')\n",
    "plt.xlabel('Predicted')\n",
    "plt.ylabel('Actual')\n",
    "plt.show()\n",
    "\n",
    "# Plot ROC curve\n",
    "y_pred_prob = best_xgb.predict_proba(X_test_scaled)[:, 1]\n",
    "fpr, tpr, thresholds = roc_curve(y_test, y_pred_prob)\n",
    "roc_auc = roc_auc_score(y_test, y_pred_prob)\n",
    "\n",
    "plt.figure(figsize=(10, 7))\n",
    "plt.plot(fpr, tpr, label=f'XGBoost (AUC = {roc_auc:.2f})', color='blue')\n",
    "plt.plot([0, 1], [0, 1], 'k--')\n",
    "plt.xlabel('False Positive Rate')\n",
    "plt.ylabel('True Positive Rate')\n",
    "plt.title('ROC Curve')\n",
    "plt.legend(loc='lower right')\n",
    "plt.show()\n"
   ],
   "id": "f666e54c655f8503",
   "outputs": [],
   "execution_count": null
  },
  {
   "metadata": {
    "ExecuteTime": {
     "start_time": "2024-08-05T11:38:55.563080Z"
    }
   },
   "cell_type": "code",
   "source": [
    "# Define the parameter grid\n",
    "param_grid = {\n",
    "    'n_estimators': [100, 200, 300],\n",
    "    'max_depth': [3, 4, 5, 6],\n",
    "    'learning_rate': [0.01, 0.05, 0.1],\n",
    "    'subsample': [0.6, 0.8, 1.0],\n",
    "    'colsample_bytree': [0.6, 0.8, 1.0]\n",
    "}\n",
    "\n",
    "# Initialize the XGBoost classifier\n",
    "xgb_classifier = XGBClassifier(random_state=42)\n",
    "\n",
    "# Stratified K-Fold Cross-Validation to ensure balanced class distribution\n",
    "cv = StratifiedKFold(n_splits=3, shuffle=True, random_state=42)\n",
    "\n",
    "# Perform Randomized Search with Cross-Validation\n",
    "random_search = RandomizedSearchCV(estimator=xgb_classifier, param_distributions=param_grid, n_iter=50, cv=cv, n_jobs=-1, verbose=1, random_state=42)\n",
    "random_search.fit(X_train_scaled, y_train)\n",
    "\n",
    "# Print the best parameters found\n",
    "print(\"Best Parameters:\", random_search.best_params_)\n",
    "\n",
    "# Evaluate the best model\n",
    "best_xgb = random_search.best_estimator_\n",
    "\n",
    "# Predict on the test set\n",
    "y_pred = best_xgb.predict(X_test_scaled)\n",
    "\n",
    "# Print the classification report\n",
    "print(\"\\nClassification Report:\")\n",
    "print(classification_report(y_test, y_pred))\n",
    "\n",
    "# Calculate and print the confusion matrix\n",
    "conf_matrix = confusion_matrix(y_test, y_pred)\n",
    "print(\"\\nConfusion Matrix:\")\n",
    "print(conf_matrix)\n",
    "\n",
    "# Plot confusion matrix\n",
    "sns.heatmap(conf_matrix, annot=True, fmt='d', cmap='Blues')\n",
    "plt.title('Confusion Matrix')\n",
    "plt.xlabel('Predicted')\n",
    "plt.ylabel('Actual')\n",
    "plt.show()\n",
    "\n",
    "# Plot ROC curve\n",
    "y_pred_prob = best_xgb.predict_proba(X_test_scaled)[:, 1]\n",
    "fpr, tpr, thresholds = roc_curve(y_test, y_pred_prob)\n",
    "roc_auc = roc_auc_score(y_test, y_pred_prob)\n",
    "\n",
    "plt.figure(figsize=(10, 7))\n",
    "plt.plot(fpr, tpr, label=f'XGBoost (AUC = {roc_auc:.2f})', color='blue')\n",
    "plt.plot([0, 1], [0, 1], 'k--')\n",
    "plt.xlabel('False Positive Rate')\n",
    "plt.ylabel('True Positive Rate')\n",
    "plt.title('ROC Curve')\n",
    "plt.legend(loc='lower right')\n",
    "plt.show()\n"
   ],
   "id": "35ac52a26a7b4ea3",
   "outputs": [],
   "execution_count": null
  },
  {
   "metadata": {},
   "cell_type": "markdown",
   "source": "## Regularization Techniques",
   "id": "c3c4aef93e2bac6a"
  },
  {
   "metadata": {},
   "cell_type": "code",
   "source": [
    "logreg_l1 = LogisticRegression(penalty='l1', solver='liblinear')\n",
    "logreg_l1.fit(X_train_scaled, y_train)"
   ],
   "id": "24c0c1a4288656f1",
   "outputs": [],
   "execution_count": null
  },
  {
   "metadata": {},
   "cell_type": "code",
   "source": [
    "logreg_l2 = LogisticRegression(penalty='l2')\n",
    "logreg_l2.fit(X_train_scaled, y_train)"
   ],
   "id": "7634868ace999364",
   "outputs": [],
   "execution_count": null
  },
  {
   "metadata": {},
   "cell_type": "code",
   "source": [
    "# Initialize the ElasticNet model\n",
    "elastic_net = ElasticNet(alpha=1.0, l1_ratio=0.5)\n",
    "\n",
    "# Fit the model\n",
    "elastic_net.fit(X_train_scaled, y_train)\n",
    "\n",
    "# Print the model details\n",
    "print(elastic_net)\n",
    "\n",
    "# Print coefficients and intercept\n",
    "print(\"Coefficients:\", elastic_net.coef_)\n",
    "print(\"Intercept:\", elastic_net.intercept_)\n"
   ],
   "id": "6d22e46a4cceba82",
   "outputs": [],
   "execution_count": null
  },
  {
   "metadata": {
    "ExecuteTime": {
     "end_time": "2024-08-05T11:51:11.477555Z",
     "start_time": "2024-08-05T11:51:11.465220Z"
    }
   },
   "cell_type": "code",
   "source": "",
   "id": "b40dc0783604c19b",
   "outputs": [],
   "execution_count": 55
  }
 ],
 "metadata": {
  "kernelspec": {
   "display_name": "Python 3",
   "language": "python",
   "name": "python3"
  },
  "language_info": {
   "codemirror_mode": {
    "name": "ipython",
    "version": 3
   },
   "file_extension": ".py",
   "mimetype": "text/x-python",
   "name": "python",
   "nbconvert_exporter": "python",
   "pygments_lexer": "ipython3",
   "version": "3.9.12"
  }
 },
 "nbformat": 4,
 "nbformat_minor": 5
}
