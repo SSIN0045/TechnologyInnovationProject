{
 "cells": [
  {
   "cell_type": "code",
   "execution_count": 1,
   "id": "initial_id",
   "metadata": {
    "collapsed": true,
    "ExecuteTime": {
     "end_time": "2024-07-02T23:29:34.868549Z",
     "start_time": "2024-07-02T23:29:34.508466Z"
    }
   },
   "outputs": [],
   "source": [
    "    import pandas as pd\n",
    "import numpy as np\n",
    "import matplotlib.pyplot as plt\n",
    "import seaborn as sns\n",
    "import datetime\n",
    "from xgboost import XGBClassifier\n",
    "from sklearn.model_selection import train_test_split\n",
    "from sklearn.metrics import accuracy_score\n",
    "from sklearn.datasets import load_iris\n",
    "import math"
   ]
  },
  {
   "cell_type": "code",
   "execution_count": 2,
   "id": "4c69f563dbc8e8a5",
   "metadata": {
    "ExecuteTime": {
     "end_time": "2024-07-02T23:29:37.052172Z",
     "start_time": "2024-07-02T23:29:34.865654Z"
    }
   },
   "outputs": [],
   "source": [
    "df = pd.read_csv(\"/Users/nglongvu1002/Desktop/fraudTest.csv\")"
   ]
  },
  {
   "cell_type": "code",
   "execution_count": 3,
   "id": "efa766cefb53de73",
   "metadata": {
    "ExecuteTime": {
     "end_time": "2024-07-02T23:29:37.335494Z",
     "start_time": "2024-07-02T23:29:37.046717Z"
    }
   },
   "outputs": [
    {
     "name": "stdout",
     "output_type": "stream",
     "text": [
      "<class 'pandas.core.frame.DataFrame'>\n",
      "RangeIndex: 555719 entries, 0 to 555718\n",
      "Data columns (total 23 columns):\n",
      " #   Column                 Non-Null Count   Dtype  \n",
      "---  ------                 --------------   -----  \n",
      " 0   Unnamed: 0             555719 non-null  int64  \n",
      " 1   trans_date_trans_time  555719 non-null  object \n",
      " 2   cc_num                 555719 non-null  int64  \n",
      " 3   merchant               555719 non-null  object \n",
      " 4   category               555719 non-null  object \n",
      " 5   amt                    555719 non-null  float64\n",
      " 6   first                  555719 non-null  object \n",
      " 7   last                   555719 non-null  object \n",
      " 8   gender                 555719 non-null  object \n",
      " 9   street                 555719 non-null  object \n",
      " 10  city                   555719 non-null  object \n",
      " 11  state                  555719 non-null  object \n",
      " 12  zip                    555719 non-null  int64  \n",
      " 13  lat                    555719 non-null  float64\n",
      " 14  long                   555719 non-null  float64\n",
      " 15  city_pop               555719 non-null  int64  \n",
      " 16  job                    555719 non-null  object \n",
      " 17  dob                    555719 non-null  object \n",
      " 18  trans_num              555719 non-null  object \n",
      " 19  unix_time              555719 non-null  int64  \n",
      " 20  merch_lat              555719 non-null  float64\n",
      " 21  merch_long             555719 non-null  float64\n",
      " 22  is_fraud               555719 non-null  int64  \n",
      "dtypes: float64(5), int64(6), object(12)\n",
      "memory usage: 97.5+ MB\n"
     ]
    }
   ],
   "source": [
    "df.info()"
   ]
  },
  {
   "cell_type": "code",
   "execution_count": 4,
   "id": "64b89ee86269d0d2",
   "metadata": {
    "ExecuteTime": {
     "end_time": "2024-07-02T23:29:37.375615Z",
     "start_time": "2024-07-02T23:29:37.339756Z"
    }
   },
   "outputs": [
    {
     "data": {
      "text/plain": "   Unnamed: 0 trans_date_trans_time            cc_num  \\\n0           0   2020-06-21 12:14:25  2291163933867244   \n1           1   2020-06-21 12:14:33  3573030041201292   \n2           2   2020-06-21 12:14:53  3598215285024754   \n3           3   2020-06-21 12:15:15  3591919803438423   \n4           4   2020-06-21 12:15:17  3526826139003047   \n\n                               merchant        category    amt   first  \\\n0                 fraud_Kirlin and Sons   personal_care   2.86    Jeff   \n1                  fraud_Sporer-Keebler   personal_care  29.84  Joanne   \n2  fraud_Swaniawski, Nitzsche and Welch  health_fitness  41.28  Ashley   \n3                     fraud_Haley Group        misc_pos  60.05   Brian   \n4                 fraud_Johnston-Casper          travel   3.19  Nathan   \n\n       last gender                       street  ...      lat      long  \\\n0   Elliott      M            351 Darlene Green  ...  33.9659  -80.9355   \n1  Williams      F             3638 Marsh Union  ...  40.3207 -110.4360   \n2     Lopez      F         9333 Valentine Point  ...  40.6729  -73.5365   \n3  Williams      M  32941 Krystal Mill Apt. 552  ...  28.5697  -80.8191   \n4    Massey      M     5783 Evan Roads Apt. 465  ...  44.2529  -85.0170   \n\n   city_pop                     job         dob  \\\n0    333497     Mechanical engineer  1968-03-19   \n1       302  Sales professional, IT  1990-01-17   \n2     34496       Librarian, public  1970-10-21   \n3     54767            Set designer  1987-07-25   \n4      1126      Furniture designer  1955-07-06   \n\n                          trans_num   unix_time  merch_lat  merch_long  \\\n0  2da90c7d74bd46a0caf3777415b3ebd3  1371816865  33.986391  -81.200714   \n1  324cc204407e99f51b0d6ca0055005e7  1371816873  39.450498 -109.960431   \n2  c81755dbbbea9d5c77f094348a7579be  1371816893  40.495810  -74.196111   \n3  2159175b9efe66dc301f149d3d5abf8c  1371816915  28.812398  -80.883061   \n4  57ff021bd3f328f8738bb535c302a31b  1371816917  44.959148  -85.884734   \n\n   is_fraud  \n0         0  \n1         0  \n2         0  \n3         0  \n4         0  \n\n[5 rows x 23 columns]",
      "text/html": "<div>\n<style scoped>\n    .dataframe tbody tr th:only-of-type {\n        vertical-align: middle;\n    }\n\n    .dataframe tbody tr th {\n        vertical-align: top;\n    }\n\n    .dataframe thead th {\n        text-align: right;\n    }\n</style>\n<table border=\"1\" class=\"dataframe\">\n  <thead>\n    <tr style=\"text-align: right;\">\n      <th></th>\n      <th>Unnamed: 0</th>\n      <th>trans_date_trans_time</th>\n      <th>cc_num</th>\n      <th>merchant</th>\n      <th>category</th>\n      <th>amt</th>\n      <th>first</th>\n      <th>last</th>\n      <th>gender</th>\n      <th>street</th>\n      <th>...</th>\n      <th>lat</th>\n      <th>long</th>\n      <th>city_pop</th>\n      <th>job</th>\n      <th>dob</th>\n      <th>trans_num</th>\n      <th>unix_time</th>\n      <th>merch_lat</th>\n      <th>merch_long</th>\n      <th>is_fraud</th>\n    </tr>\n  </thead>\n  <tbody>\n    <tr>\n      <th>0</th>\n      <td>0</td>\n      <td>2020-06-21 12:14:25</td>\n      <td>2291163933867244</td>\n      <td>fraud_Kirlin and Sons</td>\n      <td>personal_care</td>\n      <td>2.86</td>\n      <td>Jeff</td>\n      <td>Elliott</td>\n      <td>M</td>\n      <td>351 Darlene Green</td>\n      <td>...</td>\n      <td>33.9659</td>\n      <td>-80.9355</td>\n      <td>333497</td>\n      <td>Mechanical engineer</td>\n      <td>1968-03-19</td>\n      <td>2da90c7d74bd46a0caf3777415b3ebd3</td>\n      <td>1371816865</td>\n      <td>33.986391</td>\n      <td>-81.200714</td>\n      <td>0</td>\n    </tr>\n    <tr>\n      <th>1</th>\n      <td>1</td>\n      <td>2020-06-21 12:14:33</td>\n      <td>3573030041201292</td>\n      <td>fraud_Sporer-Keebler</td>\n      <td>personal_care</td>\n      <td>29.84</td>\n      <td>Joanne</td>\n      <td>Williams</td>\n      <td>F</td>\n      <td>3638 Marsh Union</td>\n      <td>...</td>\n      <td>40.3207</td>\n      <td>-110.4360</td>\n      <td>302</td>\n      <td>Sales professional, IT</td>\n      <td>1990-01-17</td>\n      <td>324cc204407e99f51b0d6ca0055005e7</td>\n      <td>1371816873</td>\n      <td>39.450498</td>\n      <td>-109.960431</td>\n      <td>0</td>\n    </tr>\n    <tr>\n      <th>2</th>\n      <td>2</td>\n      <td>2020-06-21 12:14:53</td>\n      <td>3598215285024754</td>\n      <td>fraud_Swaniawski, Nitzsche and Welch</td>\n      <td>health_fitness</td>\n      <td>41.28</td>\n      <td>Ashley</td>\n      <td>Lopez</td>\n      <td>F</td>\n      <td>9333 Valentine Point</td>\n      <td>...</td>\n      <td>40.6729</td>\n      <td>-73.5365</td>\n      <td>34496</td>\n      <td>Librarian, public</td>\n      <td>1970-10-21</td>\n      <td>c81755dbbbea9d5c77f094348a7579be</td>\n      <td>1371816893</td>\n      <td>40.495810</td>\n      <td>-74.196111</td>\n      <td>0</td>\n    </tr>\n    <tr>\n      <th>3</th>\n      <td>3</td>\n      <td>2020-06-21 12:15:15</td>\n      <td>3591919803438423</td>\n      <td>fraud_Haley Group</td>\n      <td>misc_pos</td>\n      <td>60.05</td>\n      <td>Brian</td>\n      <td>Williams</td>\n      <td>M</td>\n      <td>32941 Krystal Mill Apt. 552</td>\n      <td>...</td>\n      <td>28.5697</td>\n      <td>-80.8191</td>\n      <td>54767</td>\n      <td>Set designer</td>\n      <td>1987-07-25</td>\n      <td>2159175b9efe66dc301f149d3d5abf8c</td>\n      <td>1371816915</td>\n      <td>28.812398</td>\n      <td>-80.883061</td>\n      <td>0</td>\n    </tr>\n    <tr>\n      <th>4</th>\n      <td>4</td>\n      <td>2020-06-21 12:15:17</td>\n      <td>3526826139003047</td>\n      <td>fraud_Johnston-Casper</td>\n      <td>travel</td>\n      <td>3.19</td>\n      <td>Nathan</td>\n      <td>Massey</td>\n      <td>M</td>\n      <td>5783 Evan Roads Apt. 465</td>\n      <td>...</td>\n      <td>44.2529</td>\n      <td>-85.0170</td>\n      <td>1126</td>\n      <td>Furniture designer</td>\n      <td>1955-07-06</td>\n      <td>57ff021bd3f328f8738bb535c302a31b</td>\n      <td>1371816917</td>\n      <td>44.959148</td>\n      <td>-85.884734</td>\n      <td>0</td>\n    </tr>\n  </tbody>\n</table>\n<p>5 rows × 23 columns</p>\n</div>"
     },
     "execution_count": 4,
     "metadata": {},
     "output_type": "execute_result"
    }
   ],
   "source": [
    "#Display the data\n",
    "df.head()"
   ]
  },
  {
   "cell_type": "code",
   "execution_count": 5,
   "id": "109066cfafd43eae",
   "metadata": {
    "ExecuteTime": {
     "end_time": "2024-07-02T23:29:37.637636Z",
     "start_time": "2024-07-02T23:29:37.355502Z"
    }
   },
   "outputs": [
    {
     "name": "stdout",
     "output_type": "stream",
     "text": [
      "<class 'pandas.core.frame.DataFrame'>\n",
      "RangeIndex: 555719 entries, 0 to 555718\n",
      "Data columns (total 23 columns):\n",
      " #   Column                 Non-Null Count   Dtype  \n",
      "---  ------                 --------------   -----  \n",
      " 0   Unnamed: 0             555719 non-null  int64  \n",
      " 1   trans_date_trans_time  555719 non-null  object \n",
      " 2   cc_num                 555719 non-null  int64  \n",
      " 3   merchant               555719 non-null  object \n",
      " 4   category               555719 non-null  object \n",
      " 5   amt                    555719 non-null  float64\n",
      " 6   first                  555719 non-null  object \n",
      " 7   last                   555719 non-null  object \n",
      " 8   gender                 555719 non-null  object \n",
      " 9   street                 555719 non-null  object \n",
      " 10  city                   555719 non-null  object \n",
      " 11  state                  555719 non-null  object \n",
      " 12  zip                    555719 non-null  int64  \n",
      " 13  lat                    555719 non-null  float64\n",
      " 14  long                   555719 non-null  float64\n",
      " 15  city_pop               555719 non-null  int64  \n",
      " 16  job                    555719 non-null  object \n",
      " 17  dob                    555719 non-null  object \n",
      " 18  trans_num              555719 non-null  object \n",
      " 19  unix_time              555719 non-null  int64  \n",
      " 20  merch_lat              555719 non-null  float64\n",
      " 21  merch_long             555719 non-null  float64\n",
      " 22  is_fraud               555719 non-null  int64  \n",
      "dtypes: float64(5), int64(6), object(12)\n",
      "memory usage: 97.5+ MB\n"
     ]
    }
   ],
   "source": [
    "df.info()"
   ]
  },
  {
   "cell_type": "code",
   "execution_count": 6,
   "id": "f5fba0a9644c69ef",
   "metadata": {
    "ExecuteTime": {
     "end_time": "2024-07-02T23:29:37.919631Z",
     "start_time": "2024-07-02T23:29:37.625870Z"
    }
   },
   "outputs": [
    {
     "data": {
      "text/plain": "Unnamed: 0               0\ntrans_date_trans_time    0\ncc_num                   0\nmerchant                 0\ncategory                 0\namt                      0\nfirst                    0\nlast                     0\ngender                   0\nstreet                   0\ncity                     0\nstate                    0\nzip                      0\nlat                      0\nlong                     0\ncity_pop                 0\njob                      0\ndob                      0\ntrans_num                0\nunix_time                0\nmerch_lat                0\nmerch_long               0\nis_fraud                 0\ndtype: int64"
     },
     "execution_count": 6,
     "metadata": {},
     "output_type": "execute_result"
    }
   ],
   "source": [
    "#Sum the missing value\n",
    "df.isnull().sum()"
   ]
  },
  {
   "cell_type": "code",
   "execution_count": 7,
   "id": "a2cf23e0c787d8e4",
   "metadata": {
    "ExecuteTime": {
     "end_time": "2024-07-02T23:29:38.068323Z",
     "start_time": "2024-07-02T23:29:37.891301Z"
    }
   },
   "outputs": [
    {
     "data": {
      "text/plain": "          Unnamed: 0        cc_num            amt            zip  \\\ncount  555719.000000  5.557190e+05  555719.000000  555719.000000   \nmean   277859.000000  4.178387e+17      69.392810   48842.628015   \nstd    160422.401459  1.309837e+18     156.745941   26855.283328   \nmin         0.000000  6.041621e+10       1.000000    1257.000000   \n25%    138929.500000  1.800429e+14       9.630000   26292.000000   \n50%    277859.000000  3.521417e+15      47.290000   48174.000000   \n75%    416788.500000  4.635331e+15      83.010000   72011.000000   \nmax    555718.000000  4.992346e+18   22768.110000   99921.000000   \n\n                 lat           long      city_pop     unix_time  \\\ncount  555719.000000  555719.000000  5.557190e+05  5.557190e+05   \nmean       38.543253     -90.231325  8.822189e+04  1.380679e+09   \nstd         5.061336      13.721780  3.003909e+05  5.201104e+06   \nmin        20.027100    -165.672300  2.300000e+01  1.371817e+09   \n25%        34.668900     -96.798000  7.410000e+02  1.376029e+09   \n50%        39.371600     -87.476900  2.408000e+03  1.380762e+09   \n75%        41.894800     -80.175200  1.968500e+04  1.385867e+09   \nmax        65.689900     -67.950300  2.906700e+06  1.388534e+09   \n\n           merch_lat     merch_long       is_fraud  \ncount  555719.000000  555719.000000  555719.000000  \nmean       38.542798     -90.231380       0.003860  \nstd         5.095829      13.733071       0.062008  \nmin        19.027422    -166.671575       0.000000  \n25%        34.755302     -96.905129       0.000000  \n50%        39.376593     -87.445204       0.000000  \n75%        41.954163     -80.264637       0.000000  \nmax        66.679297     -66.952026       1.000000  ",
      "text/html": "<div>\n<style scoped>\n    .dataframe tbody tr th:only-of-type {\n        vertical-align: middle;\n    }\n\n    .dataframe tbody tr th {\n        vertical-align: top;\n    }\n\n    .dataframe thead th {\n        text-align: right;\n    }\n</style>\n<table border=\"1\" class=\"dataframe\">\n  <thead>\n    <tr style=\"text-align: right;\">\n      <th></th>\n      <th>Unnamed: 0</th>\n      <th>cc_num</th>\n      <th>amt</th>\n      <th>zip</th>\n      <th>lat</th>\n      <th>long</th>\n      <th>city_pop</th>\n      <th>unix_time</th>\n      <th>merch_lat</th>\n      <th>merch_long</th>\n      <th>is_fraud</th>\n    </tr>\n  </thead>\n  <tbody>\n    <tr>\n      <th>count</th>\n      <td>555719.000000</td>\n      <td>5.557190e+05</td>\n      <td>555719.000000</td>\n      <td>555719.000000</td>\n      <td>555719.000000</td>\n      <td>555719.000000</td>\n      <td>5.557190e+05</td>\n      <td>5.557190e+05</td>\n      <td>555719.000000</td>\n      <td>555719.000000</td>\n      <td>555719.000000</td>\n    </tr>\n    <tr>\n      <th>mean</th>\n      <td>277859.000000</td>\n      <td>4.178387e+17</td>\n      <td>69.392810</td>\n      <td>48842.628015</td>\n      <td>38.543253</td>\n      <td>-90.231325</td>\n      <td>8.822189e+04</td>\n      <td>1.380679e+09</td>\n      <td>38.542798</td>\n      <td>-90.231380</td>\n      <td>0.003860</td>\n    </tr>\n    <tr>\n      <th>std</th>\n      <td>160422.401459</td>\n      <td>1.309837e+18</td>\n      <td>156.745941</td>\n      <td>26855.283328</td>\n      <td>5.061336</td>\n      <td>13.721780</td>\n      <td>3.003909e+05</td>\n      <td>5.201104e+06</td>\n      <td>5.095829</td>\n      <td>13.733071</td>\n      <td>0.062008</td>\n    </tr>\n    <tr>\n      <th>min</th>\n      <td>0.000000</td>\n      <td>6.041621e+10</td>\n      <td>1.000000</td>\n      <td>1257.000000</td>\n      <td>20.027100</td>\n      <td>-165.672300</td>\n      <td>2.300000e+01</td>\n      <td>1.371817e+09</td>\n      <td>19.027422</td>\n      <td>-166.671575</td>\n      <td>0.000000</td>\n    </tr>\n    <tr>\n      <th>25%</th>\n      <td>138929.500000</td>\n      <td>1.800429e+14</td>\n      <td>9.630000</td>\n      <td>26292.000000</td>\n      <td>34.668900</td>\n      <td>-96.798000</td>\n      <td>7.410000e+02</td>\n      <td>1.376029e+09</td>\n      <td>34.755302</td>\n      <td>-96.905129</td>\n      <td>0.000000</td>\n    </tr>\n    <tr>\n      <th>50%</th>\n      <td>277859.000000</td>\n      <td>3.521417e+15</td>\n      <td>47.290000</td>\n      <td>48174.000000</td>\n      <td>39.371600</td>\n      <td>-87.476900</td>\n      <td>2.408000e+03</td>\n      <td>1.380762e+09</td>\n      <td>39.376593</td>\n      <td>-87.445204</td>\n      <td>0.000000</td>\n    </tr>\n    <tr>\n      <th>75%</th>\n      <td>416788.500000</td>\n      <td>4.635331e+15</td>\n      <td>83.010000</td>\n      <td>72011.000000</td>\n      <td>41.894800</td>\n      <td>-80.175200</td>\n      <td>1.968500e+04</td>\n      <td>1.385867e+09</td>\n      <td>41.954163</td>\n      <td>-80.264637</td>\n      <td>0.000000</td>\n    </tr>\n    <tr>\n      <th>max</th>\n      <td>555718.000000</td>\n      <td>4.992346e+18</td>\n      <td>22768.110000</td>\n      <td>99921.000000</td>\n      <td>65.689900</td>\n      <td>-67.950300</td>\n      <td>2.906700e+06</td>\n      <td>1.388534e+09</td>\n      <td>66.679297</td>\n      <td>-66.952026</td>\n      <td>1.000000</td>\n    </tr>\n  </tbody>\n</table>\n</div>"
     },
     "execution_count": 7,
     "metadata": {},
     "output_type": "execute_result"
    }
   ],
   "source": [
    "#Summary the description of the dataset\n",
    "df.describe()"
   ]
  },
  {
   "cell_type": "code",
   "execution_count": 8,
   "id": "c85233f8c20e4fd1",
   "metadata": {
    "ExecuteTime": {
     "end_time": "2024-07-02T23:29:38.068746Z",
     "start_time": "2024-07-02T23:29:38.060809Z"
    }
   },
   "outputs": [
    {
     "data": {
      "text/plain": "is_fraud\n0    553574\n1      2145\nName: count, dtype: int64"
     },
     "execution_count": 8,
     "metadata": {},
     "output_type": "execute_result"
    }
   ],
   "source": [
    "#Distribute the class\n",
    "df[('is_fraud')].value_counts()"
   ]
  },
  {
   "cell_type": "code",
   "execution_count": 9,
   "id": "386495f9a29be94d",
   "metadata": {
    "ExecuteTime": {
     "end_time": "2024-07-02T23:29:39.003892Z",
     "start_time": "2024-07-02T23:29:38.201703Z"
    }
   },
   "outputs": [
    {
     "name": "stdout",
     "output_type": "stream",
     "text": [
      "<class 'pandas.core.frame.DataFrame'>\n",
      "RangeIndex: 555719 entries, 0 to 555718\n",
      "Data columns (total 25 columns):\n",
      " #   Column                 Non-Null Count   Dtype  \n",
      "---  ------                 --------------   -----  \n",
      " 0   Unnamed: 0             555719 non-null  int64  \n",
      " 1   trans_date_trans_time  555719 non-null  object \n",
      " 2   cc_num                 555719 non-null  int64  \n",
      " 3   merchant               555719 non-null  object \n",
      " 4   category               555719 non-null  object \n",
      " 5   amt                    555719 non-null  float64\n",
      " 6   first                  555719 non-null  object \n",
      " 7   last                   555719 non-null  object \n",
      " 8   gender                 555719 non-null  object \n",
      " 9   street                 555719 non-null  object \n",
      " 10  city                   555719 non-null  object \n",
      " 11  state                  555719 non-null  object \n",
      " 12  zip                    555719 non-null  int64  \n",
      " 13  lat                    555719 non-null  float64\n",
      " 14  long                   555719 non-null  float64\n",
      " 15  city_pop               555719 non-null  int64  \n",
      " 16  job                    555719 non-null  object \n",
      " 17  dob                    555719 non-null  object \n",
      " 18  trans_num              555719 non-null  object \n",
      " 19  unix_time              555719 non-null  int64  \n",
      " 20  merch_lat              555719 non-null  float64\n",
      " 21  merch_long             555719 non-null  float64\n",
      " 22  is_fraud               555719 non-null  int64  \n",
      " 23  trans_date             555719 non-null  object \n",
      " 24  trans_time             555719 non-null  object \n",
      "dtypes: float64(5), int64(6), object(14)\n",
      "memory usage: 106.0+ MB\n"
     ]
    }
   ],
   "source": [
    "#Split the column trans_date_trans_time into 2 separate columns, including trans_date and trans_time\n",
    "df['trans_date'] = pd.to_datetime(df['trans_date_trans_time'], format='%Y-%m-%d %H:%M:%S').dt.date\n",
    "df['trans_time'] = pd.to_datetime(df['trans_date_trans_time'], format='%Y-%m-%d %H:%M:%S').dt.time\n",
    "df.info()"
   ]
  },
  {
   "cell_type": "code",
   "execution_count": 10,
   "id": "c3b966ee22c2761c",
   "metadata": {
    "ExecuteTime": {
     "end_time": "2024-07-02T23:29:39.135501Z",
     "start_time": "2024-07-02T23:29:39.003550Z"
    }
   },
   "outputs": [],
   "source": [
    "# Remove the 'trans_date_trans_time' column\n",
    "# Check if the index column exists and remove it\n",
    "if 'Unnamed: 0' in df.columns:\n",
    "    df.drop(columns=['Unnamed: 0'], inplace=True)\n",
    "df.drop('trans_date_trans_time', axis=1, inplace=True)"
   ]
  },
  {
   "cell_type": "code",
   "execution_count": 11,
   "id": "865b9202a1057c1e",
   "metadata": {
    "ExecuteTime": {
     "end_time": "2024-07-02T23:29:39.203628Z",
     "start_time": "2024-07-02T23:29:39.126531Z"
    }
   },
   "outputs": [],
   "source": [
    "# Reorder the columns to have 'trans_date' first and 'trans_time' second\n",
    "columns = ['trans_date', 'trans_time'] + [col for col in df.columns if col not in ['trans_date', 'trans_time']]\n",
    "df = df[columns]"
   ]
  },
  {
   "cell_type": "code",
   "execution_count": 12,
   "id": "895cad7ada35ffea",
   "metadata": {
    "ExecuteTime": {
     "end_time": "2024-07-02T23:29:39.486218Z",
     "start_time": "2024-07-02T23:29:39.454057Z"
    }
   },
   "outputs": [
    {
     "name": "stdout",
     "output_type": "stream",
     "text": [
      "<class 'pandas.core.frame.DataFrame'>\n",
      "RangeIndex: 555719 entries, 0 to 555718\n",
      "Data columns (total 23 columns):\n",
      " #   Column      Non-Null Count   Dtype  \n",
      "---  ------      --------------   -----  \n",
      " 0   trans_date  555719 non-null  object \n",
      " 1   trans_time  555719 non-null  object \n",
      " 2   cc_num      555719 non-null  int64  \n",
      " 3   merchant    555719 non-null  object \n",
      " 4   category    555719 non-null  object \n",
      " 5   amt         555719 non-null  float64\n",
      " 6   first       555719 non-null  object \n",
      " 7   last        555719 non-null  object \n",
      " 8   gender      555719 non-null  object \n",
      " 9   street      555719 non-null  object \n",
      " 10  city        555719 non-null  object \n",
      " 11  state       555719 non-null  object \n",
      " 12  zip         555719 non-null  int64  \n",
      " 13  lat         555719 non-null  float64\n",
      " 14  long        555719 non-null  float64\n",
      " 15  city_pop    555719 non-null  int64  \n",
      " 16  job         555719 non-null  object \n",
      " 17  dob         555719 non-null  object \n",
      " 18  trans_num   555719 non-null  object \n",
      " 19  unix_time   555719 non-null  int64  \n",
      " 20  merch_lat   555719 non-null  float64\n",
      " 21  merch_long  555719 non-null  float64\n",
      " 22  is_fraud    555719 non-null  int64  \n",
      "dtypes: float64(5), int64(5), object(13)\n",
      "memory usage: 97.5+ MB\n"
     ]
    }
   ],
   "source": [
    "df.info()"
   ]
  },
  {
   "cell_type": "markdown",
   "id": "b170ffb865cb972e",
   "metadata": {},
   "source": [
    "From the dtype of the dataset, we still have some tasks to do with the dtype. First of all, trans_date needed to be transferred from object/string to datetime"
   ]
  },
  {
   "cell_type": "code",
   "execution_count": 13,
   "id": "dcb2f70f6013a546",
   "metadata": {
    "ExecuteTime": {
     "end_time": "2024-07-02T23:29:41.285376Z",
     "start_time": "2024-07-02T23:29:39.580873Z"
    }
   },
   "outputs": [
    {
     "name": "stdout",
     "output_type": "stream",
     "text": [
      "\n",
      "Data types of the columns:\n",
      "trans_date    datetime64[ns]\n",
      "trans_time            object\n",
      "cc_num                 int64\n",
      "merchant              object\n",
      "category              object\n",
      "amt                  float64\n",
      "first                 object\n",
      "last                  object\n",
      "gender                object\n",
      "street                object\n",
      "city                  object\n",
      "state                 object\n",
      "zip                    int64\n",
      "lat                  float64\n",
      "long                 float64\n",
      "city_pop               int64\n",
      "job                   object\n",
      "dob           datetime64[ns]\n",
      "trans_num             object\n",
      "unix_time              int64\n",
      "merch_lat            float64\n",
      "merch_long           float64\n",
      "is_fraud               int64\n",
      "dtype: object\n"
     ]
    }
   ],
   "source": [
    "# Convert 'dob' to datetime\n",
    "df['dob'] = pd.to_datetime(df['dob'], format='%Y-%m-%d')\n",
    "\n",
    "# Convert 'trans_time' to time\n",
    "df['trans_time'] = pd.to_datetime(df['trans_time'], format='%H:%M:%S').dt.time\n",
    "\n",
    "# Convert 'trans_date' to date\n",
    "df['trans_date'] = pd.to_datetime(df['trans_date'])\n",
    "\n",
    "# Check the data types\n",
    "print(\"\\nData types of the columns:\")\n",
    "print(df.dtypes)"
   ]
  },
  {
   "cell_type": "markdown",
   "id": "9ee9de8c1c175e0c",
   "metadata": {},
   "source": []
  },
  {
   "cell_type": "markdown",
   "id": "5d292218cd70bf76",
   "metadata": {},
   "source": [
    "# Feature Engineering"
   ]
  },
  {
   "cell_type": "markdown",
   "id": "df062915702a2628",
   "metadata": {},
   "source": [
    "## 1. Transaction Frequency Features\n"
   ]
  },
  {
   "cell_type": "code",
   "execution_count": 14,
   "id": "315dcf0e5542f2e2",
   "metadata": {
    "ExecuteTime": {
     "end_time": "2024-07-02T23:29:41.286036Z",
     "start_time": "2024-07-02T23:29:41.261652Z"
    }
   },
   "outputs": [
    {
     "data": {
      "text/plain": "mean       601.427489\nmedian     634.500000\nmin          6.000000\nmax       1474.000000\nName: count, dtype: float64"
     },
     "execution_count": 14,
     "metadata": {},
     "output_type": "execute_result"
    }
   ],
   "source": [
    "#Statistic summary of total transaction per user\n",
    "df['cc_num'].value_counts().agg(['mean', 'median', 'min', 'max'])"
   ]
  },
  {
   "cell_type": "code",
   "execution_count": 15,
   "outputs": [
    {
     "name": "stdout",
     "output_type": "stream",
     "text": [
      "             cc_num trans_date  transactions_per_day\n",
      "0  2291163933867244 2020-06-21                    21\n",
      "1  3573030041201292 2020-06-21                    36\n",
      "2  3598215285024754 2020-06-21                    45\n",
      "3  3591919803438423 2020-06-21                    29\n",
      "4  3526826139003047 2020-06-21                    29\n"
     ]
    }
   ],
   "source": [
    "# Total transactions of all users per day\n",
    "df['transactions_per_day'] = df.groupby(['cc_num', df['trans_date'].dt.day])['trans_date'].transform('count')\n",
    "\n",
    "print(df[['cc_num', 'trans_date', 'transactions_per_day']].head())\n"
   ],
   "metadata": {
    "collapsed": false,
    "ExecuteTime": {
     "end_time": "2024-07-02T23:29:41.336339Z",
     "start_time": "2024-07-02T23:29:41.268913Z"
    }
   },
   "id": "694254c9afddf690"
  },
  {
   "cell_type": "code",
   "execution_count": 16,
   "outputs": [
    {
     "name": "stdout",
     "output_type": "stream",
     "text": [
      "             cc_num  Week  transaction_per_week\n",
      "0  2291163933867244    25                     2\n",
      "1  3573030041201292    25                     4\n",
      "2  3598215285024754    25                     3\n",
      "3  3591919803438423    25                     3\n",
      "4  3526826139003047    25                     4\n"
     ]
    }
   ],
   "source": [
    "# Create a 'Week' column using ISO calendar weeks\n",
    "df['Week'] = df['trans_date'].dt.isocalendar().week\n",
    "\n",
    "# Calculate total transactions per week for each customer\n",
    "df['transaction_per_week'] = df.groupby(['cc_num', 'Week'])['trans_date'].transform('count')\n",
    "\n",
    "# Display the updated dataframe with Week and total transactions per Week each customer columns\n",
    "print(df[['cc_num', 'Week', 'transaction_per_week']].head())"
   ],
   "metadata": {
    "collapsed": false,
    "ExecuteTime": {
     "end_time": "2024-07-02T23:29:41.421017Z",
     "start_time": "2024-07-02T23:29:41.320457Z"
    }
   },
   "id": "76cd29532d924041"
  },
  {
   "cell_type": "code",
   "execution_count": 17,
   "outputs": [
    {
     "name": "stdout",
     "output_type": "stream",
     "text": [
      "trans_date\n",
      "6      30058\n",
      "7      85848\n",
      "8      88759\n",
      "9      69533\n",
      "10     69348\n",
      "11     72635\n",
      "12    139538\n",
      "dtype: int64\n"
     ]
    }
   ],
   "source": [
    "# Calculate total transactions per month for all users\n",
    "total_transactions_per_month = df.groupby(df['trans_date'].dt.month).size()\n",
    "# Display the total transactions per month\n",
    "print(total_transactions_per_month)"
   ],
   "metadata": {
    "collapsed": false,
    "ExecuteTime": {
     "end_time": "2024-07-02T23:29:41.421850Z",
     "start_time": "2024-07-02T23:29:41.386855Z"
    }
   },
   "id": "640010499f301211"
  },
  {
   "cell_type": "code",
   "execution_count": 18,
   "outputs": [
    {
     "name": "stdout",
     "output_type": "stream",
     "text": [
      "             cc_num trans_date  transactions_per_month\n",
      "0  2291163933867244 2020-06-21                      34\n",
      "1  3573030041201292 2020-06-21                      49\n",
      "2  3598215285024754 2020-06-21                      55\n",
      "3  3591919803438423 2020-06-21                      33\n",
      "4  3526826139003047 2020-06-21                      56\n"
     ]
    }
   ],
   "source": [
    "# Total transactions of all users per day\n",
    "df['transactions_per_month'] = df.groupby(['cc_num', df['trans_date'].dt.month])['trans_date'].transform('count')\n",
    "print(df[['cc_num', 'trans_date', 'transactions_per_month']].head())"
   ],
   "metadata": {
    "collapsed": false,
    "ExecuteTime": {
     "end_time": "2024-07-02T23:29:41.537603Z",
     "start_time": "2024-07-02T23:29:41.411481Z"
    }
   },
   "id": "228af494637d69ee"
  },
  {
   "cell_type": "code",
   "execution_count": 19,
   "outputs": [],
   "source": [
    "#Transaction per season of all users\n",
    "def season(date):\n",
    "    if date.month in [1, 2, 3]:\n",
    "        return 'Autumn'\n",
    "    elif date.month in [4, 5, 6]:\n",
    "        return 'Winter'\n",
    "    elif date.month in [7, 8, 9]:\n",
    "        return 'Spring'\n",
    "    else:\n",
    "        return 'Summer'\n",
    "df['transactions_per_season'] = df.groupby(['cc_num', df['trans_date'].apply(season)])['trans_date'].transform('count')"
   ],
   "metadata": {
    "collapsed": false,
    "ExecuteTime": {
     "end_time": "2024-07-02T23:29:42.353014Z",
     "start_time": "2024-07-02T23:29:42.079017Z"
    }
   },
   "id": "e3c4b884b3679723"
  },
  {
   "cell_type": "markdown",
   "id": "92945ce1cb3c57b8",
   "metadata": {},
   "source": [
    "## 2. User Transaction Behavior"
   ]
  },
  {
   "cell_type": "code",
   "execution_count": 20,
   "id": "914f35313438e232",
   "metadata": {
    "ExecuteTime": {
     "end_time": "2024-07-02T23:29:42.568193Z",
     "start_time": "2024-07-02T23:29:42.346686Z"
    }
   },
   "outputs": [],
   "source": [
    "## Perform the aggregations\n",
    "agg_df = df.groupby('cc_num')['amt'].agg(\n",
    "    avg_trans_amount='mean',\n",
    "    total_trans_amount='sum',\n",
    "    med_trans_amount='median',\n",
    "    std_trans_amount='std'\n",
    ").reset_index()\n",
    "\n",
    "# Merge the aggregation results back to the original DataFrame\n",
    "df = df.merge(agg_df, on='cc_num', how='left')\n",
    "\n"
   ]
  },
  {
   "cell_type": "code",
   "execution_count": 21,
   "id": "21e9cbbe944f24e9",
   "metadata": {
    "ExecuteTime": {
     "end_time": "2024-07-02T23:29:42.737338Z",
     "start_time": "2024-07-02T23:29:42.569600Z"
    }
   },
   "outputs": [
    {
     "data": {
      "text/plain": "       trans_date trans_time            cc_num  \\\n0      2020-06-21   12:14:25  2291163933867244   \n1      2020-06-21   12:14:33  3573030041201292   \n2      2020-06-21   12:14:53  3598215285024754   \n3      2020-06-21   12:15:15  3591919803438423   \n4      2020-06-21   12:15:17  3526826139003047   \n...           ...        ...               ...   \n555714 2020-12-31   23:59:07    30560609640617   \n555715 2020-12-31   23:59:09  3556613125071656   \n555716 2020-12-31   23:59:15  6011724471098086   \n555717 2020-12-31   23:59:24     4079773899158   \n555718 2020-12-31   23:59:34  4170689372027579   \n\n                                    merchant        category     amt    first  \\\n0                      fraud_Kirlin and Sons   personal_care    2.86     Jeff   \n1                       fraud_Sporer-Keebler   personal_care   29.84   Joanne   \n2       fraud_Swaniawski, Nitzsche and Welch  health_fitness   41.28   Ashley   \n3                          fraud_Haley Group        misc_pos   60.05    Brian   \n4                      fraud_Johnston-Casper          travel    3.19   Nathan   \n...                                      ...             ...     ...      ...   \n555714                 fraud_Reilly and Sons  health_fitness   43.77  Michael   \n555715                  fraud_Hoppe-Parisian       kids_pets  111.84     Jose   \n555716                       fraud_Rau-Robel       kids_pets   86.88      Ann   \n555717                 fraud_Breitenberg LLC          travel    7.99     Eric   \n555718                     fraud_Dare-Marvin   entertainment   38.13   Samuel   \n\n            last gender                       street  ... is_fraud  \\\n0        Elliott      M            351 Darlene Green  ...        0   \n1       Williams      F             3638 Marsh Union  ...        0   \n2          Lopez      F         9333 Valentine Point  ...        0   \n3       Williams      M  32941 Krystal Mill Apt. 552  ...        0   \n4         Massey      M     5783 Evan Roads Apt. 465  ...        0   \n...          ...    ...                          ...  ...      ...   \n555714     Olson      M          558 Michael Estates  ...        0   \n555715   Vasquez      M          572 Davis Mountains  ...        0   \n555716    Lawson      F   144 Evans Islands Apt. 683  ...        0   \n555717   Preston      M   7020 Doyle Stream Apt. 951  ...        0   \n555718      Frey      M     830 Myers Plaza Apt. 384  ...        0   \n\n       transactions_per_day  Week  transaction_per_week  \\\n0                        21    25                     2   \n1                        36    25                     4   \n2                        45    25                     3   \n3                        29    25                     3   \n4                        29    25                     4   \n...                     ...   ...                   ...   \n555714                    8    53                    24   \n555715                   23    53                    47   \n555716                   20    53                    36   \n555717                   11    53                    25   \n555718                   32    53                    38   \n\n        transactions_per_month  transactions_per_season avg_trans_amount  \\\n0                           34                       34        61.893062   \n1                           49                       49        53.596523   \n2                           55                       55        83.053812   \n3                           33                       33        59.207526   \n4                           56                       56        55.274501   \n...                        ...                      ...              ...   \n555714                     172                      335        72.595446   \n555715                     286                      557        46.529792   \n555716                     295                      540        92.682790   \n555717                     201                      441        58.129411   \n555718                     294                      588        61.315165   \n\n       total_trans_amount med_trans_amount  std_trans_amount  \n0                39611.56           44.230        158.690646  \n1                44860.29           35.590        102.395948  \n2                89116.74           54.290        103.740968  \n3                39254.59           39.680        108.530732  \n4                49249.58           37.670         76.159193  \n...                   ...              ...               ...  \n555714           45589.94           40.395        158.873104  \n555715           51415.42           20.690        108.069341  \n555716          100004.73           54.360        143.328587  \n555717           51328.27           36.880         79.056680  \n555718           66833.53           36.245        136.004899  \n\n[555719 rows x 32 columns]",
      "text/html": "<div>\n<style scoped>\n    .dataframe tbody tr th:only-of-type {\n        vertical-align: middle;\n    }\n\n    .dataframe tbody tr th {\n        vertical-align: top;\n    }\n\n    .dataframe thead th {\n        text-align: right;\n    }\n</style>\n<table border=\"1\" class=\"dataframe\">\n  <thead>\n    <tr style=\"text-align: right;\">\n      <th></th>\n      <th>trans_date</th>\n      <th>trans_time</th>\n      <th>cc_num</th>\n      <th>merchant</th>\n      <th>category</th>\n      <th>amt</th>\n      <th>first</th>\n      <th>last</th>\n      <th>gender</th>\n      <th>street</th>\n      <th>...</th>\n      <th>is_fraud</th>\n      <th>transactions_per_day</th>\n      <th>Week</th>\n      <th>transaction_per_week</th>\n      <th>transactions_per_month</th>\n      <th>transactions_per_season</th>\n      <th>avg_trans_amount</th>\n      <th>total_trans_amount</th>\n      <th>med_trans_amount</th>\n      <th>std_trans_amount</th>\n    </tr>\n  </thead>\n  <tbody>\n    <tr>\n      <th>0</th>\n      <td>2020-06-21</td>\n      <td>12:14:25</td>\n      <td>2291163933867244</td>\n      <td>fraud_Kirlin and Sons</td>\n      <td>personal_care</td>\n      <td>2.86</td>\n      <td>Jeff</td>\n      <td>Elliott</td>\n      <td>M</td>\n      <td>351 Darlene Green</td>\n      <td>...</td>\n      <td>0</td>\n      <td>21</td>\n      <td>25</td>\n      <td>2</td>\n      <td>34</td>\n      <td>34</td>\n      <td>61.893062</td>\n      <td>39611.56</td>\n      <td>44.230</td>\n      <td>158.690646</td>\n    </tr>\n    <tr>\n      <th>1</th>\n      <td>2020-06-21</td>\n      <td>12:14:33</td>\n      <td>3573030041201292</td>\n      <td>fraud_Sporer-Keebler</td>\n      <td>personal_care</td>\n      <td>29.84</td>\n      <td>Joanne</td>\n      <td>Williams</td>\n      <td>F</td>\n      <td>3638 Marsh Union</td>\n      <td>...</td>\n      <td>0</td>\n      <td>36</td>\n      <td>25</td>\n      <td>4</td>\n      <td>49</td>\n      <td>49</td>\n      <td>53.596523</td>\n      <td>44860.29</td>\n      <td>35.590</td>\n      <td>102.395948</td>\n    </tr>\n    <tr>\n      <th>2</th>\n      <td>2020-06-21</td>\n      <td>12:14:53</td>\n      <td>3598215285024754</td>\n      <td>fraud_Swaniawski, Nitzsche and Welch</td>\n      <td>health_fitness</td>\n      <td>41.28</td>\n      <td>Ashley</td>\n      <td>Lopez</td>\n      <td>F</td>\n      <td>9333 Valentine Point</td>\n      <td>...</td>\n      <td>0</td>\n      <td>45</td>\n      <td>25</td>\n      <td>3</td>\n      <td>55</td>\n      <td>55</td>\n      <td>83.053812</td>\n      <td>89116.74</td>\n      <td>54.290</td>\n      <td>103.740968</td>\n    </tr>\n    <tr>\n      <th>3</th>\n      <td>2020-06-21</td>\n      <td>12:15:15</td>\n      <td>3591919803438423</td>\n      <td>fraud_Haley Group</td>\n      <td>misc_pos</td>\n      <td>60.05</td>\n      <td>Brian</td>\n      <td>Williams</td>\n      <td>M</td>\n      <td>32941 Krystal Mill Apt. 552</td>\n      <td>...</td>\n      <td>0</td>\n      <td>29</td>\n      <td>25</td>\n      <td>3</td>\n      <td>33</td>\n      <td>33</td>\n      <td>59.207526</td>\n      <td>39254.59</td>\n      <td>39.680</td>\n      <td>108.530732</td>\n    </tr>\n    <tr>\n      <th>4</th>\n      <td>2020-06-21</td>\n      <td>12:15:17</td>\n      <td>3526826139003047</td>\n      <td>fraud_Johnston-Casper</td>\n      <td>travel</td>\n      <td>3.19</td>\n      <td>Nathan</td>\n      <td>Massey</td>\n      <td>M</td>\n      <td>5783 Evan Roads Apt. 465</td>\n      <td>...</td>\n      <td>0</td>\n      <td>29</td>\n      <td>25</td>\n      <td>4</td>\n      <td>56</td>\n      <td>56</td>\n      <td>55.274501</td>\n      <td>49249.58</td>\n      <td>37.670</td>\n      <td>76.159193</td>\n    </tr>\n    <tr>\n      <th>...</th>\n      <td>...</td>\n      <td>...</td>\n      <td>...</td>\n      <td>...</td>\n      <td>...</td>\n      <td>...</td>\n      <td>...</td>\n      <td>...</td>\n      <td>...</td>\n      <td>...</td>\n      <td>...</td>\n      <td>...</td>\n      <td>...</td>\n      <td>...</td>\n      <td>...</td>\n      <td>...</td>\n      <td>...</td>\n      <td>...</td>\n      <td>...</td>\n      <td>...</td>\n      <td>...</td>\n    </tr>\n    <tr>\n      <th>555714</th>\n      <td>2020-12-31</td>\n      <td>23:59:07</td>\n      <td>30560609640617</td>\n      <td>fraud_Reilly and Sons</td>\n      <td>health_fitness</td>\n      <td>43.77</td>\n      <td>Michael</td>\n      <td>Olson</td>\n      <td>M</td>\n      <td>558 Michael Estates</td>\n      <td>...</td>\n      <td>0</td>\n      <td>8</td>\n      <td>53</td>\n      <td>24</td>\n      <td>172</td>\n      <td>335</td>\n      <td>72.595446</td>\n      <td>45589.94</td>\n      <td>40.395</td>\n      <td>158.873104</td>\n    </tr>\n    <tr>\n      <th>555715</th>\n      <td>2020-12-31</td>\n      <td>23:59:09</td>\n      <td>3556613125071656</td>\n      <td>fraud_Hoppe-Parisian</td>\n      <td>kids_pets</td>\n      <td>111.84</td>\n      <td>Jose</td>\n      <td>Vasquez</td>\n      <td>M</td>\n      <td>572 Davis Mountains</td>\n      <td>...</td>\n      <td>0</td>\n      <td>23</td>\n      <td>53</td>\n      <td>47</td>\n      <td>286</td>\n      <td>557</td>\n      <td>46.529792</td>\n      <td>51415.42</td>\n      <td>20.690</td>\n      <td>108.069341</td>\n    </tr>\n    <tr>\n      <th>555716</th>\n      <td>2020-12-31</td>\n      <td>23:59:15</td>\n      <td>6011724471098086</td>\n      <td>fraud_Rau-Robel</td>\n      <td>kids_pets</td>\n      <td>86.88</td>\n      <td>Ann</td>\n      <td>Lawson</td>\n      <td>F</td>\n      <td>144 Evans Islands Apt. 683</td>\n      <td>...</td>\n      <td>0</td>\n      <td>20</td>\n      <td>53</td>\n      <td>36</td>\n      <td>295</td>\n      <td>540</td>\n      <td>92.682790</td>\n      <td>100004.73</td>\n      <td>54.360</td>\n      <td>143.328587</td>\n    </tr>\n    <tr>\n      <th>555717</th>\n      <td>2020-12-31</td>\n      <td>23:59:24</td>\n      <td>4079773899158</td>\n      <td>fraud_Breitenberg LLC</td>\n      <td>travel</td>\n      <td>7.99</td>\n      <td>Eric</td>\n      <td>Preston</td>\n      <td>M</td>\n      <td>7020 Doyle Stream Apt. 951</td>\n      <td>...</td>\n      <td>0</td>\n      <td>11</td>\n      <td>53</td>\n      <td>25</td>\n      <td>201</td>\n      <td>441</td>\n      <td>58.129411</td>\n      <td>51328.27</td>\n      <td>36.880</td>\n      <td>79.056680</td>\n    </tr>\n    <tr>\n      <th>555718</th>\n      <td>2020-12-31</td>\n      <td>23:59:34</td>\n      <td>4170689372027579</td>\n      <td>fraud_Dare-Marvin</td>\n      <td>entertainment</td>\n      <td>38.13</td>\n      <td>Samuel</td>\n      <td>Frey</td>\n      <td>M</td>\n      <td>830 Myers Plaza Apt. 384</td>\n      <td>...</td>\n      <td>0</td>\n      <td>32</td>\n      <td>53</td>\n      <td>38</td>\n      <td>294</td>\n      <td>588</td>\n      <td>61.315165</td>\n      <td>66833.53</td>\n      <td>36.245</td>\n      <td>136.004899</td>\n    </tr>\n  </tbody>\n</table>\n<p>555719 rows × 32 columns</p>\n</div>"
     },
     "execution_count": 21,
     "metadata": {},
     "output_type": "execute_result"
    }
   ],
   "source": [
    "df"
   ]
  },
  {
   "cell_type": "markdown",
   "id": "7e19230dbe9b2e81",
   "metadata": {},
   "source": [
    "## 3. User-Based Features: Age and Gender"
   ]
  },
  {
   "cell_type": "code",
   "execution_count": 22,
   "id": "ef8c109f0eade213",
   "metadata": {
    "ExecuteTime": {
     "end_time": "2024-07-02T23:29:48.368287Z",
     "start_time": "2024-07-02T23:29:42.791339Z"
    }
   },
   "outputs": [
    {
     "data": {
      "text/plain": "mean      46.390496\nmedian    44.000000\nmin       15.000000\nmax       96.000000\nName: age, dtype: float64"
     },
     "execution_count": 22,
     "metadata": {},
     "output_type": "execute_result"
    }
   ],
   "source": [
    "#Calculate user's age based on date of birth and transaction date\n",
    "def calculate_age(dob, trans_date):\n",
    "    return trans_date.year - dob.year - ((trans_date.month, trans_date.day) < (dob.month, dob.day))\n",
    "df['age'] = df.apply(lambda row: calculate_age(row['dob'], row['trans_date']), axis=1)\n",
    "\n",
    "#Explore age stat\n",
    "df['age'].agg(['mean', 'median', 'min', 'max'])"
   ]
  },
  {
   "cell_type": "code",
   "execution_count": 23,
   "id": "515a09d31b564fd9",
   "metadata": {
    "ExecuteTime": {
     "end_time": "2024-07-02T23:29:48.499354Z",
     "start_time": "2024-07-02T23:29:48.367259Z"
    }
   },
   "outputs": [
    {
     "name": "stdout",
     "output_type": "stream",
     "text": [
      "\n",
      " The number of cutomers based on age is:\n",
      "gender\n",
      "F    304886\n",
      "M    250833\n",
      "Name: count, dtype: int64\n",
      "----------------------------------------\n",
      "\n",
      "Total transaction amount made by gender is:\n",
      "gender\n",
      "F    21155705.55\n",
      "M    17407197.56\n",
      "Name: amt, dtype: float64\n",
      "----------------------------------------\n",
      "\n",
      " Average transaction amount made by gender is:\n",
      "gender\n",
      "F    69.388905\n",
      "M    69.397558\n",
      "Name: amt, dtype: float64\n",
      "----------------------------------------\n",
      "\n",
      " Age Distribution by gender is:\n",
      "             mean  median\n",
      "gender                   \n",
      "F       46.300604    44.0\n",
      "M       46.499759    45.0\n",
      "----------------------------------------\n"
     ]
    }
   ],
   "source": [
    "#Convert gender to binary values\n",
    "print('\\n The number of cutomers based on age is:')\n",
    "print(df['gender'].value_counts())\n",
    "print(\"-\" * 40)\n",
    "\n",
    "#Total transaction amount by gender\n",
    "print('\\nTotal transaction amount made by gender is:')\n",
    "print(df.groupby('gender')['amt'].sum())\n",
    "print(\"-\" * 40)\n",
    "\n",
    "#Average transaction made by gender\n",
    "print('\\n Average transaction amount made by gender is:')\n",
    "print(df.groupby('gender')['amt'].mean())\n",
    "print(\"-\" * 40)\n",
    "\n",
    "# Calculate mean and median of age distribution by gender\n",
    "print('\\n Age Distribution by gender is:')\n",
    "print(df.groupby('gender')['age'].agg(['mean', 'median']))\n",
    "print(\"-\" * 40)\n",
    "\n"
   ]
  },
  {
   "cell_type": "markdown",
   "id": "882f7316fef7d74e",
   "metadata": {},
   "source": [
    "## 4. Fraud Transaction Analysis"
   ]
  },
  {
   "cell_type": "code",
   "execution_count": 24,
   "id": "33d065e459a05a74",
   "metadata": {
    "ExecuteTime": {
     "end_time": "2024-07-02T23:29:48.587863Z",
     "start_time": "2024-07-02T23:29:48.483416Z"
    }
   },
   "outputs": [
    {
     "name": "stdout",
     "output_type": "stream",
     "text": [
      "\n",
      "The ratio of fraudulent transaction to total transaction per user:\n",
      "Credit Card Number 60416207185: 0.00%\n",
      "Credit Card Number 60422928733: 0.00%\n",
      "Credit Card Number 60423098130: 0.00%\n",
      "Credit Card Number 60427851591: 0.00%\n",
      "Credit Card Number 60487002085: 3.35%\n",
      "Credit Card Number 60490596305: 0.00%\n",
      "Credit Card Number 60495593109: 5.36%\n",
      "Credit Card Number 501802953619: 0.00%\n",
      "Credit Card Number 501828204849: 0.00%\n",
      "Credit Card Number 501831082224: 0.00%\n",
      "Credit Card Number 501882822387: 5.08%\n",
      "Credit Card Number 501899453424: 0.00%\n",
      "Credit Card Number 502012776709: 0.00%\n",
      "Credit Card Number 502038091380: 0.00%\n",
      "Credit Card Number 502049568400: 0.00%\n",
      "Credit Card Number 503848303379: 0.00%\n",
      "Credit Card Number 503851367360: 100.00%\n",
      "Credit Card Number 503874407318: 0.00%\n",
      "Credit Card Number 560881134780: 0.00%\n",
      "Credit Card Number 561942763351: 0.00%\n",
      "Credit Card Number 565399283797: 0.00%\n",
      "Credit Card Number 567868110212: 0.00%\n",
      "Credit Card Number 568279015842: 0.00%\n",
      "Credit Card Number 570273151375: 5.58%\n",
      "Credit Card Number 571314334723: 0.00%\n",
      "Credit Card Number 571365235126: 0.00%\n",
      "Credit Card Number 571465035400: 0.00%\n",
      "Credit Card Number 571844099986: 1.85%\n",
      "Credit Card Number 573283817795: 3.96%\n",
      "Credit Card Number 573860193545: 0.00%\n",
      "Credit Card Number 577588686219: 1.14%\n",
      "Credit Card Number 580954173374: 0.00%\n",
      "Credit Card Number 581293083266: 0.00%\n",
      "Credit Card Number 581508178315: 3.91%\n",
      "Credit Card Number 581686439828: 0.00%\n",
      "Credit Card Number 583699482621: 1.30%\n",
      "Credit Card Number 584673555952: 0.00%\n",
      "Credit Card Number 586100864972: 100.00%\n",
      "Credit Card Number 630412733309: 0.00%\n",
      "Credit Card Number 630423337322: 0.53%\n",
      "Credit Card Number 630424987505: 0.00%\n",
      "Credit Card Number 630425673344: 0.00%\n",
      "Credit Card Number 630441765090: 0.00%\n",
      "Credit Card Number 630451534402: 0.00%\n",
      "Credit Card Number 630469040731: 0.92%\n",
      "Credit Card Number 630471368021: 0.00%\n",
      "Credit Card Number 630484879808: 0.00%\n",
      "Credit Card Number 639023984367: 0.00%\n",
      "Credit Card Number 639030014711: 0.00%\n",
      "Credit Card Number 639046421587: 2.36%\n",
      "Credit Card Number 639077309909: 0.00%\n",
      "Credit Card Number 639095706599: 0.00%\n",
      "Credit Card Number 675909898057: 0.00%\n",
      "Credit Card Number 675945690716: 0.00%\n",
      "Credit Card Number 675961917837: 6.40%\n",
      "Credit Card Number 675990301623: 0.00%\n",
      "Credit Card Number 676102124465: 0.00%\n",
      "Credit Card Number 676118385837: 0.00%\n",
      "Credit Card Number 676148621961: 0.00%\n",
      "Credit Card Number 676173792455: 1.38%\n",
      "Credit Card Number 676195318214: 0.00%\n",
      "Credit Card Number 676234256292: 0.00%\n",
      "Credit Card Number 676245600876: 0.00%\n",
      "Credit Card Number 676248282243: 0.00%\n",
      "Credit Card Number 676275912597: 6.51%\n",
      "Credit Card Number 676281772837: 1.34%\n",
      "Credit Card Number 676292294938: 0.00%\n",
      "Credit Card Number 676298633337: 0.00%\n",
      "Credit Card Number 676308307625: 0.00%\n",
      "Credit Card Number 676309913934: 0.00%\n",
      "Credit Card Number 676314217768: 1.44%\n",
      "Credit Card Number 676326610042: 0.00%\n",
      "Credit Card Number 676369110710: 1.37%\n",
      "Credit Card Number 676372984911: 0.00%\n",
      "Credit Card Number 4006047418382: 0.00%\n",
      "Credit Card Number 4026222041577: 6.36%\n",
      "Credit Card Number 4066595222529: 1.04%\n",
      "Credit Card Number 4079773899158: 0.00%\n",
      "Credit Card Number 4103158249977: 5.13%\n",
      "Credit Card Number 4149635823017: 0.00%\n",
      "Credit Card Number 4158008602445: 0.00%\n",
      "Credit Card Number 4169388510116: 0.61%\n",
      "Credit Card Number 4186530744674: 0.00%\n",
      "Credit Card Number 4189814094741: 0.00%\n",
      "Credit Card Number 4195740185974: 2.68%\n",
      "Credit Card Number 4198470814557: 0.00%\n",
      "Credit Card Number 4220345354880: 0.00%\n",
      "Credit Card Number 4239436242473: 0.00%\n",
      "Credit Card Number 4247921790666: 0.00%\n",
      "Credit Card Number 4259996134423: 0.00%\n",
      "Credit Card Number 4260128500325: 0.00%\n",
      "Credit Card Number 4279161831637: 0.00%\n",
      "Credit Card Number 4294930380592: 0.00%\n",
      "Credit Card Number 4295296907373: 100.00%\n",
      "Credit Card Number 4306630852918: 0.00%\n",
      "Credit Card Number 4383521454815: 0.00%\n",
      "Credit Card Number 4393520897625: 0.00%\n",
      "Credit Card Number 4396682467723: 0.00%\n",
      "Credit Card Number 4427805710168: 1.52%\n",
      "Credit Card Number 4440581794652: 0.00%\n",
      "Credit Card Number 4464457352619: 0.00%\n",
      "Credit Card Number 4471568287204: 1.71%\n",
      "Credit Card Number 4476840372112: 1.23%\n",
      "Credit Card Number 4481131401752: 2.03%\n",
      "Credit Card Number 4500002361389: 0.00%\n",
      "Credit Card Number 4505383113689: 1.53%\n",
      "Credit Card Number 4538566639857: 0.00%\n",
      "Credit Card Number 4561546772499: 0.00%\n",
      "Credit Card Number 4561892980175: 0.00%\n",
      "Credit Card Number 4562827002127: 0.00%\n",
      "Credit Card Number 4585132874641: 0.00%\n",
      "Credit Card Number 4586260469584: 1.69%\n",
      "Credit Card Number 4600155880464: 0.00%\n",
      "Credit Card Number 4601636330889: 0.00%\n",
      "Credit Card Number 4605902936394: 0.00%\n",
      "Credit Card Number 4613314721966: 0.00%\n",
      "Credit Card Number 4623560839669: 1.41%\n",
      "Credit Card Number 4640395708703: 0.00%\n",
      "Credit Card Number 4642894980163: 0.00%\n",
      "Credit Card Number 4658117080136: 0.00%\n",
      "Credit Card Number 4681699462969: 0.00%\n",
      "Credit Card Number 4683638447911: 0.00%\n",
      "Credit Card Number 4687263141103: 0.00%\n",
      "Credit Card Number 4745996322265: 0.00%\n",
      "Credit Card Number 4755696071492: 0.66%\n",
      "Credit Card Number 4760122961662: 0.00%\n",
      "Credit Card Number 4783226709001: 0.00%\n",
      "Credit Card Number 4788103653396: 0.00%\n",
      "Credit Card Number 4806443445305: 0.00%\n",
      "Credit Card Number 4807552641361: 0.00%\n",
      "Credit Card Number 4809701904914: 0.00%\n",
      "Credit Card Number 4862293128558: 0.00%\n",
      "Credit Card Number 4883407061576: 100.00%\n",
      "Credit Card Number 4900628639996: 0.00%\n",
      "Credit Card Number 4917226033950: 0.00%\n",
      "Credit Card Number 4957924165498: 0.00%\n",
      "Credit Card Number 4981132848794: 0.60%\n",
      "Credit Card Number 4988304376504: 0.00%\n",
      "Credit Card Number 4990494243023: 0.00%\n",
      "Credit Card Number 30011465039817: 6.61%\n",
      "Credit Card Number 30026790933302: 0.00%\n",
      "Credit Card Number 30029052116970: 1.30%\n",
      "Credit Card Number 30030380240193: 0.00%\n",
      "Credit Card Number 30033162392091: 0.00%\n",
      "Credit Card Number 30042378430132: 4.15%\n",
      "Credit Card Number 30044330818990: 0.00%\n",
      "Credit Card Number 30074693890476: 0.00%\n",
      "Credit Card Number 30082025922891: 0.00%\n",
      "Credit Card Number 30092964733035: 1.23%\n",
      "Credit Card Number 30103132002433: 0.00%\n",
      "Credit Card Number 30118423745458: 0.00%\n",
      "Credit Card Number 30131826429364: 0.00%\n",
      "Credit Card Number 30135235368675: 0.00%\n",
      "Credit Card Number 30143535920989: 0.00%\n",
      "Credit Card Number 30143713661454: 0.00%\n",
      "Credit Card Number 30150717898388: 0.00%\n",
      "Credit Card Number 30153452207526: 0.00%\n",
      "Credit Card Number 30175986190993: 0.00%\n",
      "Credit Card Number 30181367542315: 0.00%\n",
      "Credit Card Number 30197398657930: 1.42%\n",
      "Credit Card Number 30199621383748: 1.37%\n",
      "Credit Card Number 30230540139182: 0.00%\n",
      "Credit Card Number 30234966027947: 0.00%\n",
      "Credit Card Number 30235268718158: 1.34%\n",
      "Credit Card Number 30235438713303: 0.00%\n",
      "Credit Card Number 30238755902988: 0.92%\n",
      "Credit Card Number 30242921189660: 1.61%\n",
      "Credit Card Number 30248898834493: 0.00%\n",
      "Credit Card Number 30263540414123: 0.00%\n",
      "Credit Card Number 30266994494236: 1.03%\n",
      "Credit Card Number 30270432095985: 1.08%\n",
      "Credit Card Number 30273037698427: 0.00%\n",
      "Credit Card Number 30290551782700: 1.50%\n",
      "Credit Card Number 30328384440870: 0.00%\n",
      "Credit Card Number 30343344410970: 0.00%\n",
      "Credit Card Number 30344654314976: 0.00%\n",
      "Credit Card Number 30357372465631: 0.00%\n",
      "Credit Card Number 30360260465747: 0.00%\n",
      "Credit Card Number 30364087349027: 0.00%\n",
      "Credit Card Number 30371006069917: 0.00%\n",
      "Credit Card Number 30373802285317: 0.00%\n",
      "Credit Card Number 30376238035123: 0.00%\n",
      "Credit Card Number 30404291151692: 0.00%\n",
      "Credit Card Number 30407675418785: 0.00%\n",
      "Credit Card Number 30408301059761: 0.00%\n",
      "Credit Card Number 30427035050508: 0.00%\n",
      "Credit Card Number 30428204673351: 0.00%\n",
      "Credit Card Number 30434173205605: 0.00%\n",
      "Credit Card Number 30442439074871: 0.00%\n",
      "Credit Card Number 30446018552504: 0.00%\n",
      "Credit Card Number 30487648872433: 2.72%\n",
      "Credit Card Number 30491348102802: 2.59%\n",
      "Credit Card Number 30501624614310: 0.00%\n",
      "Credit Card Number 30510856607165: 5.63%\n",
      "Credit Card Number 30518196150127: 2.94%\n",
      "Credit Card Number 30518206766474: 0.00%\n",
      "Credit Card Number 30541100351706: 0.00%\n",
      "Credit Card Number 30546453310167: 2.55%\n",
      "Credit Card Number 30551643947183: 0.57%\n",
      "Credit Card Number 30560609640617: 1.75%\n",
      "Credit Card Number 30561214688470: 0.00%\n",
      "Credit Card Number 30570197515105: 3.93%\n",
      "Credit Card Number 30596478689301: 0.00%\n",
      "Credit Card Number 36078114201167: 0.00%\n",
      "Credit Card Number 36153880429415: 0.00%\n",
      "Credit Card Number 36192615525683: 0.00%\n",
      "Credit Card Number 36360452125889: 0.00%\n",
      "Credit Card Number 36485887555770: 0.00%\n",
      "Credit Card Number 36581538659449: 0.00%\n",
      "Credit Card Number 36721445180895: 0.00%\n",
      "Credit Card Number 36722699017270: 0.00%\n",
      "Credit Card Number 36890292963032: 0.00%\n",
      "Credit Card Number 36913587729122: 0.44%\n",
      "Credit Card Number 38014427445058: 5.38%\n",
      "Credit Card Number 38052002992326: 0.00%\n",
      "Credit Card Number 38057513087029: 0.00%\n",
      "Credit Card Number 38199021865320: 0.00%\n",
      "Credit Card Number 38295635583927: 0.00%\n",
      "Credit Card Number 38530489946071: 1.37%\n",
      "Credit Card Number 38544312728630: 1.40%\n",
      "Credit Card Number 38580485618059: 0.00%\n",
      "Credit Card Number 38588538868506: 0.00%\n",
      "Credit Card Number 38797410705641: 0.00%\n",
      "Credit Card Number 38859492057661: 3.45%\n",
      "Credit Card Number 38947654498698: 0.00%\n",
      "Credit Card Number 180011453250192: 0.93%\n",
      "Credit Card Number 180014262259255: 0.00%\n",
      "Credit Card Number 180017442990269: 0.00%\n",
      "Credit Card Number 180018375329178: 0.00%\n",
      "Credit Card Number 180020605265701: 100.00%\n",
      "Credit Card Number 180031190491743: 0.00%\n",
      "Credit Card Number 180036456789979: 0.00%\n",
      "Credit Card Number 180040027502291: 4.84%\n",
      "Credit Card Number 180042946491150: 0.00%\n",
      "Credit Card Number 180046165512893: 2.82%\n",
      "Credit Card Number 180046617132290: 1.82%\n",
      "Credit Card Number 180046765320457: 0.00%\n",
      "Credit Card Number 180047222886866: 0.00%\n",
      "Credit Card Number 180048185037117: 0.00%\n",
      "Credit Card Number 180049032966888: 0.00%\n",
      "Credit Card Number 180052752563109: 100.00%\n",
      "Credit Card Number 180056173248083: 0.00%\n",
      "Credit Card Number 180058696935600: 0.00%\n",
      "Credit Card Number 180064817343047: 0.00%\n",
      "Credit Card Number 180065479077096: 0.00%\n",
      "Credit Card Number 180067151859700: 0.00%\n",
      "Credit Card Number 180067784565096: 0.00%\n",
      "Credit Card Number 180068353086472: 0.00%\n",
      "Credit Card Number 180069253480336: 0.00%\n",
      "Credit Card Number 180072527505094: 0.00%\n",
      "Credit Card Number 180081032825079: 0.00%\n",
      "Credit Card Number 180084576295055: 0.00%\n",
      "Credit Card Number 180084695172649: 0.00%\n",
      "Credit Card Number 180094419304907: 0.00%\n",
      "Credit Card Number 180094608895855: 0.00%\n",
      "Credit Card Number 180098888332620: 100.00%\n",
      "Credit Card Number 213102873001603: 0.00%\n",
      "Credit Card Number 213107169859697: 0.00%\n",
      "Credit Card Number 213112402583773: 1.27%\n",
      "Credit Card Number 213113028819344: 0.00%\n",
      "Credit Card Number 213113338379864: 0.00%\n",
      "Credit Card Number 213114122496591: 0.00%\n",
      "Credit Card Number 213120463918358: 0.00%\n",
      "Credit Card Number 213124978348176: 0.00%\n",
      "Credit Card Number 213125815021702: 0.00%\n",
      "Credit Card Number 213126662687660: 0.00%\n",
      "Credit Card Number 213136802746375: 0.00%\n",
      "Credit Card Number 213141712584544: 0.00%\n",
      "Credit Card Number 213148039875802: 0.00%\n",
      "Credit Card Number 213153151785052: 0.00%\n",
      "Credit Card Number 213154573301411: 0.00%\n",
      "Credit Card Number 213155997615567: 0.00%\n",
      "Credit Card Number 213156747557083: 0.86%\n",
      "Credit Card Number 213157767990030: 0.00%\n",
      "Credit Card Number 213161231269724: 1.53%\n",
      "Credit Card Number 213161293389774: 1.52%\n",
      "Credit Card Number 213161869125933: 0.00%\n",
      "Credit Card Number 213163860545705: 0.00%\n",
      "Credit Card Number 213173753804333: 0.00%\n",
      "Credit Card Number 213174467670432: 0.00%\n",
      "Credit Card Number 213175487106448: 0.00%\n",
      "Credit Card Number 213178765398315: 0.00%\n",
      "Credit Card Number 213178850083780: 0.00%\n",
      "Credit Card Number 213180742685905: 1.69%\n",
      "Credit Card Number 213186334552049: 0.00%\n",
      "Credit Card Number 213186551511454: 0.00%\n",
      "Credit Card Number 213186880359195: 0.00%\n",
      "Credit Card Number 213191402330021: 0.00%\n",
      "Credit Card Number 213193596103206: 0.00%\n",
      "Credit Card Number 213195754007681: 0.00%\n",
      "Credit Card Number 213198837352314: 0.00%\n",
      "Credit Card Number 213199865312311: 1.02%\n",
      "Credit Card Number 340103199302564: 0.00%\n",
      "Credit Card Number 340951438290556: 0.00%\n",
      "Credit Card Number 340953839692349: 0.00%\n",
      "Credit Card Number 341283058448499: 2.39%\n",
      "Credit Card Number 341542810616333: 3.00%\n",
      "Credit Card Number 341546199006537: 0.00%\n",
      "Credit Card Number 342035762534413: 0.00%\n",
      "Credit Card Number 342319985983023: 0.00%\n",
      "Credit Card Number 342351256941125: 0.00%\n",
      "Credit Card Number 342360239917375: 0.00%\n",
      "Credit Card Number 342952484382519: 0.85%\n",
      "Credit Card Number 343464013864032: 0.00%\n",
      "Credit Card Number 343472729187663: 0.00%\n",
      "Credit Card Number 343668971234893: 0.00%\n",
      "Credit Card Number 343746486082492: 1.37%\n",
      "Credit Card Number 343819048608995: 2.84%\n",
      "Credit Card Number 344342339068828: 1.21%\n",
      "Credit Card Number 344709867813900: 0.00%\n",
      "Credit Card Number 345060451158891: 0.00%\n",
      "Credit Card Number 345389171551808: 0.00%\n",
      "Credit Card Number 345832460465610: 0.00%\n",
      "Credit Card Number 345933964507467: 0.00%\n",
      "Credit Card Number 346208242862904: 0.00%\n",
      "Credit Card Number 346243940647414: 0.00%\n",
      "Credit Card Number 346273234529002: 0.00%\n",
      "Credit Card Number 347073228412010: 0.00%\n",
      "Credit Card Number 347399333635231: 100.00%\n",
      "Credit Card Number 347612609554823: 0.00%\n",
      "Credit Card Number 348253506557335: 3.42%\n",
      "Credit Card Number 348379466427142: 0.00%\n",
      "Credit Card Number 348789608637806: 0.00%\n",
      "Credit Card Number 349612764943496: 0.00%\n",
      "Credit Card Number 370348764075623: 0.00%\n",
      "Credit Card Number 370612217861404: 2.18%\n",
      "Credit Card Number 370818583810103: 0.00%\n",
      "Credit Card Number 370877495212014: 0.00%\n",
      "Credit Card Number 371009169330125: 0.00%\n",
      "Credit Card Number 371034293500716: 0.00%\n",
      "Credit Card Number 371226440126102: 0.00%\n",
      "Credit Card Number 371284100299909: 0.00%\n",
      "Credit Card Number 371284424780634: 0.00%\n",
      "Credit Card Number 371683116218417: 0.00%\n",
      "Credit Card Number 371985236239474: 1.12%\n",
      "Credit Card Number 372246459334925: 0.00%\n",
      "Credit Card Number 372382441451095: 1.94%\n",
      "Credit Card Number 372509258176510: 0.00%\n",
      "Credit Card Number 372520049757633: 0.00%\n",
      "Credit Card Number 372965408103277: 100.00%\n",
      "Credit Card Number 373043435942726: 0.00%\n",
      "Credit Card Number 373213026644490: 0.00%\n",
      "Credit Card Number 373905417449658: 0.00%\n",
      "Credit Card Number 374125201044065: 1.52%\n",
      "Credit Card Number 374238209524200: 0.00%\n",
      "Credit Card Number 374497717543058: 1.25%\n",
      "Credit Card Number 374656033243756: 0.00%\n",
      "Credit Card Number 374821819075109: 0.00%\n",
      "Credit Card Number 374930071163758: 0.00%\n",
      "Credit Card Number 375082648741747: 1.59%\n",
      "Credit Card Number 375237305371366: 0.00%\n",
      "Credit Card Number 375248307838179: 0.00%\n",
      "Credit Card Number 375534208663984: 1.44%\n",
      "Credit Card Number 375767678113375: 0.00%\n",
      "Credit Card Number 375848982312810: 0.00%\n",
      "Credit Card Number 375904527651269: 0.00%\n",
      "Credit Card Number 375974680629816: 1.66%\n",
      "Credit Card Number 376012912828093: 1.55%\n",
      "Credit Card Number 376028110684021: 0.00%\n",
      "Credit Card Number 376262134119629: 0.00%\n",
      "Credit Card Number 376445266762684: 1.14%\n",
      "Credit Card Number 376656886990758: 1.82%\n",
      "Credit Card Number 376944481517097: 0.00%\n",
      "Credit Card Number 377026671291680: 0.00%\n",
      "Credit Card Number 377113842678100: 0.00%\n",
      "Credit Card Number 377234009633447: 0.00%\n",
      "Credit Card Number 377264520876399: 0.00%\n",
      "Credit Card Number 377550167323848: 1.67%\n",
      "Credit Card Number 377654590313960: 0.00%\n",
      "Credit Card Number 377834944388609: 4.13%\n",
      "Credit Card Number 377895991033232: 0.00%\n",
      "Credit Card Number 377993105397617: 0.00%\n",
      "Credit Card Number 378006354724784: 5.31%\n",
      "Credit Card Number 378278619832195: 0.00%\n",
      "Credit Card Number 378858024506425: 2.76%\n",
      "Credit Card Number 378904938837132: 1.36%\n",
      "Credit Card Number 379141394109214: 0.00%\n",
      "Credit Card Number 379897244598068: 0.00%\n",
      "Credit Card Number 2222001896600109: 0.00%\n",
      "Credit Card Number 2222157926772399: 3.14%\n",
      "Credit Card Number 2224100459250597: 0.00%\n",
      "Credit Card Number 2227671554547514: 0.00%\n",
      "Credit Card Number 2229378226512508: 1.84%\n",
      "Credit Card Number 2229824890647120: 0.00%\n",
      "Credit Card Number 2231186809828225: 0.00%\n",
      "Credit Card Number 2233882705243596: 0.00%\n",
      "Credit Card Number 2235335206132667: 0.00%\n",
      "Credit Card Number 2235613922823698: 0.76%\n",
      "Credit Card Number 2242176657877538: 100.00%\n",
      "Credit Card Number 2242542703101233: 0.00%\n",
      "Credit Card Number 2248348993063230: 0.00%\n",
      "Credit Card Number 2248735346244816: 0.00%\n",
      "Credit Card Number 2252055259910912: 0.00%\n",
      "Credit Card Number 2254799658404120: 0.45%\n",
      "Credit Card Number 2254917871818484: 0.00%\n",
      "Credit Card Number 2256234701263057: 0.00%\n",
      "Credit Card Number 2260801330657968: 0.00%\n",
      "Credit Card Number 2264937662466770: 0.00%\n",
      "Credit Card Number 2266735643685262: 0.00%\n",
      "Credit Card Number 2268221587779419: 1.30%\n",
      "Credit Card Number 2269768987945882: 0.00%\n",
      "Credit Card Number 2274911989136158: 0.00%\n",
      "Credit Card Number 2280870154157385: 0.00%\n",
      "Credit Card Number 2283743876903625: 0.00%\n",
      "Credit Card Number 2284059275940012: 2.99%\n",
      "Credit Card Number 2285066385084291: 0.00%\n",
      "Credit Card Number 2286236465059468: 0.73%\n",
      "Credit Card Number 2288748891690227: 0.00%\n",
      "Credit Card Number 2288813824604479: 0.00%\n",
      "Credit Card Number 2291163933867244: 0.00%\n",
      "Credit Card Number 2296006538441789: 0.00%\n",
      "Credit Card Number 2297447006766555: 1.53%\n",
      "Credit Card Number 2305336922781618: 0.00%\n",
      "Credit Card Number 2318062975163331: 0.00%\n",
      "Credit Card Number 2348245054386329: 0.00%\n",
      "Credit Card Number 2356276337669917: 0.00%\n",
      "Credit Card Number 2358122155477959: 3.52%\n",
      "Credit Card Number 2383461948823908: 0.00%\n",
      "Credit Card Number 2450829271795901: 0.00%\n",
      "Credit Card Number 2454076758463217: 5.05%\n",
      "Credit Card Number 2475085306462014: 1.66%\n",
      "Credit Card Number 2512312531485080: 0.00%\n",
      "Credit Card Number 2576709887791552: 0.00%\n",
      "Credit Card Number 2610529083834453: 0.00%\n",
      "Credit Card Number 2657850734909997: 0.00%\n",
      "Credit Card Number 2703186189652095: 1.22%\n",
      "Credit Card Number 2706977570537524: 0.00%\n",
      "Credit Card Number 2712209726293386: 0.38%\n",
      "Credit Card Number 2713913904780408: 0.00%\n",
      "Credit Card Number 2714019737356678: 3.73%\n",
      "Credit Card Number 2719496466799416: 0.00%\n",
      "Credit Card Number 2720012583106919: 0.00%\n",
      "Credit Card Number 2720433095629877: 0.00%\n",
      "Credit Card Number 2720830304681674: 0.00%\n",
      "Credit Card Number 2720894374956739: 0.00%\n",
      "Credit Card Number 3500165543009955: 3.02%\n",
      "Credit Card Number 3500969075198072: 0.00%\n",
      "Credit Card Number 3501365119557234: 4.45%\n",
      "Credit Card Number 3501509250702469: 0.00%\n",
      "Credit Card Number 3501942333500073: 1.71%\n",
      "Credit Card Number 3502088871723054: 0.00%\n",
      "Credit Card Number 3502377050801561: 0.00%\n",
      "Credit Card Number 3504178999463051: 0.00%\n",
      "Credit Card Number 3506040590383211: 0.00%\n",
      "Credit Card Number 3506042666828517: 0.00%\n",
      "Credit Card Number 3506592072985012: 0.00%\n",
      "Credit Card Number 3508104404056005: 0.00%\n",
      "Credit Card Number 3511058278399773: 0.00%\n",
      "Credit Card Number 3511378610369890: 0.00%\n",
      "Credit Card Number 3512365128314616: 0.00%\n",
      "Credit Card Number 3513285035244624: 0.00%\n",
      "Credit Card Number 3513506355699497: 2.66%\n",
      "Credit Card Number 3513618443244549: 0.00%\n",
      "Credit Card Number 3514865930894695: 0.00%\n",
      "Credit Card Number 3514897282719543: 1.30%\n",
      "Credit Card Number 3517527805128735: 0.00%\n",
      "Credit Card Number 3517814635263522: 0.00%\n",
      "Credit Card Number 3518234918950662: 0.19%\n",
      "Credit Card Number 3518669219150142: 0.00%\n",
      "Credit Card Number 3518758680062249: 0.00%\n",
      "Credit Card Number 3519232971341141: 0.00%\n",
      "Credit Card Number 3519607465576254: 0.00%\n",
      "Credit Card Number 3520550088202337: 0.00%\n",
      "Credit Card Number 3521417320836166: 0.00%\n",
      "Credit Card Number 3521815216091574: 0.00%\n",
      "Credit Card Number 3523843138706408: 0.00%\n",
      "Credit Card Number 3523898249167098: 0.00%\n",
      "Credit Card Number 3524574586339330: 1.41%\n",
      "Credit Card Number 3525590521269779: 0.00%\n",
      "Credit Card Number 3525668150756629: 0.00%\n",
      "Credit Card Number 3526826139003047: 0.00%\n",
      "Credit Card Number 3527063666782582: 5.44%\n",
      "Credit Card Number 3527536963490470: 0.00%\n",
      "Credit Card Number 3528231451607350: 3.57%\n",
      "Credit Card Number 3528407217576457: 0.00%\n",
      "Credit Card Number 3529597810116815: 0.00%\n",
      "Credit Card Number 3529597930342630: 0.00%\n",
      "Credit Card Number 3530503964418806: 4.72%\n",
      "Credit Card Number 3531129874770000: 0.00%\n",
      "Credit Card Number 3531606252458308: 0.00%\n",
      "Credit Card Number 3533012926413100: 0.00%\n",
      "Credit Card Number 3533177016567295: 0.00%\n",
      "Credit Card Number 3533742182628021: 0.00%\n",
      "Credit Card Number 3533800906065217: 0.00%\n",
      "Credit Card Number 3534093764340240: 0.00%\n",
      "Credit Card Number 3534330126107879: 1.43%\n",
      "Credit Card Number 3534718226968689: 0.00%\n",
      "Credit Card Number 3535808924394848: 1.20%\n",
      "Credit Card Number 3536818734263520: 0.00%\n",
      "Credit Card Number 3536918668124647: 0.00%\n",
      "Credit Card Number 3537797820923602: 0.00%\n",
      "Credit Card Number 3538520143479972: 0.00%\n",
      "Credit Card Number 3540017235499519: 0.00%\n",
      "Credit Card Number 3540075240003197: 1.01%\n",
      "Credit Card Number 3540210836308425: 0.00%\n",
      "Credit Card Number 3540416671210051: 100.00%\n",
      "Credit Card Number 3540862542587229: 0.00%\n",
      "Credit Card Number 3541160328600277: 0.00%\n",
      "Credit Card Number 3541554378551366: 0.00%\n",
      "Credit Card Number 3541687240161491: 0.00%\n",
      "Credit Card Number 3542162746848552: 0.00%\n",
      "Credit Card Number 3543299015720986: 0.00%\n",
      "Credit Card Number 3543591270174051: 0.00%\n",
      "Credit Card Number 3544606805704278: 0.00%\n",
      "Credit Card Number 3545109339866548: 1.04%\n",
      "Credit Card Number 3546674063249004: 0.00%\n",
      "Credit Card Number 3546897637165774: 0.00%\n",
      "Credit Card Number 3547560454237873: 0.00%\n",
      "Credit Card Number 3547574373318979: 0.00%\n",
      "Credit Card Number 3549202406645667: 0.00%\n",
      "Credit Card Number 3550412175018089: 100.00%\n",
      "Credit Card Number 3550554389581384: 0.00%\n",
      "Credit Card Number 3551217896304745: 0.00%\n",
      "Credit Card Number 3551512895305309: 0.00%\n",
      "Credit Card Number 3552581383553463: 0.00%\n",
      "Credit Card Number 3553629419254918: 0.00%\n",
      "Credit Card Number 3554818239968984: 0.00%\n",
      "Credit Card Number 3554849923339851: 0.00%\n",
      "Credit Card Number 3556613125071656: 0.00%\n",
      "Credit Card Number 3557442674264531: 0.00%\n",
      "Credit Card Number 3558652751678952: 0.00%\n",
      "Credit Card Number 3558881852140592: 0.00%\n",
      "Credit Card Number 3559160581764413: 0.00%\n",
      "Credit Card Number 3559679414981506: 0.00%\n",
      "Credit Card Number 3559723917628303: 0.00%\n",
      "Credit Card Number 3560246577314524: 0.00%\n",
      "Credit Card Number 3560318482131952: 0.00%\n",
      "Credit Card Number 3560336828629935: 2.38%\n",
      "Credit Card Number 3560697798177746: 0.00%\n",
      "Credit Card Number 3560725013359375: 0.23%\n",
      "Credit Card Number 3560797065840735: 0.00%\n",
      "Credit Card Number 3561212938177173: 0.00%\n",
      "Credit Card Number 3561963695236764: 0.00%\n",
      "Credit Card Number 3562264947797243: 0.00%\n",
      "Credit Card Number 3562679455732797: 0.00%\n",
      "Credit Card Number 3563837241599446: 1.99%\n",
      "Credit Card Number 3564182536169293: 2.18%\n",
      "Credit Card Number 3564839259330465: 0.00%\n",
      "Credit Card Number 3565196229855512: 0.00%\n",
      "Credit Card Number 3565414434959494: 0.00%\n",
      "Credit Card Number 3565423334076143: 0.00%\n",
      "Credit Card Number 3565943051129759: 0.00%\n",
      "Credit Card Number 3565996340207976: 0.00%\n",
      "Credit Card Number 3566094707272327: 0.00%\n",
      "Credit Card Number 3566373869538620: 0.00%\n",
      "Credit Card Number 3566875419572867: 0.00%\n",
      "Credit Card Number 3567527758368741: 0.00%\n",
      "Credit Card Number 3567697931646329: 0.00%\n",
      "Credit Card Number 3567879740649740: 0.00%\n",
      "Credit Card Number 3568255211412877: 0.00%\n",
      "Credit Card Number 3568736585751727: 0.00%\n",
      "Credit Card Number 3572976568630035: 0.00%\n",
      "Credit Card Number 3573030041201292: 0.00%\n",
      "Credit Card Number 3573386445588324: 1.59%\n",
      "Credit Card Number 3575540972310993: 0.00%\n",
      "Credit Card Number 3575789281659026: 0.00%\n",
      "Credit Card Number 3576021480694169: 0.00%\n",
      "Credit Card Number 3576144910346950: 0.00%\n",
      "Credit Card Number 3576281490078437: 4.07%\n",
      "Credit Card Number 3576431665303017: 0.00%\n",
      "Credit Card Number 3576511691045060: 0.00%\n",
      "Credit Card Number 3577578023716568: 0.67%\n",
      "Credit Card Number 3577596616955856: 0.00%\n",
      "Credit Card Number 3577663406369449: 0.00%\n",
      "Credit Card Number 3577794103155425: 3.39%\n",
      "Credit Card Number 3579200383632826: 3.67%\n",
      "Credit Card Number 3581130339108561: 4.05%\n",
      "Credit Card Number 3582402971899057: 3.88%\n",
      "Credit Card Number 3582754887089201: 0.00%\n",
      "Credit Card Number 3583093681934489: 0.00%\n",
      "Credit Card Number 3583293909206278: 0.00%\n",
      "Credit Card Number 3583635130604947: 0.00%\n",
      "Credit Card Number 3583793405872580: 0.90%\n",
      "Credit Card Number 3585052663373890: 2.93%\n",
      "Credit Card Number 3585740823295298: 0.00%\n",
      "Credit Card Number 3586008444788268: 1.05%\n",
      "Credit Card Number 3586955669388457: 2.24%\n",
      "Credit Card Number 3587044315915002: 1.83%\n",
      "Credit Card Number 3587960728692500: 0.00%\n",
      "Credit Card Number 3588001568691267: 100.00%\n",
      "Credit Card Number 3589255887819806: 1.06%\n",
      "Credit Card Number 3589289942931264: 0.00%\n",
      "Credit Card Number 3590736522064285: 0.00%\n",
      "Credit Card Number 3591919803438423: 1.51%\n",
      "Credit Card Number 3592325941359225: 0.00%\n",
      "Credit Card Number 3592931352252641: 0.00%\n",
      "Credit Card Number 3593118134380341: 0.95%\n",
      "Credit Card Number 3593399694467427: 0.00%\n",
      "Credit Card Number 3595111028444131: 0.00%\n",
      "Credit Card Number 3595192916105588: 0.00%\n",
      "Credit Card Number 3596217206093829: 1.06%\n",
      "Credit Card Number 3596357274378601: 0.83%\n",
      "Credit Card Number 3597337756918966: 0.00%\n",
      "Credit Card Number 3597926034019603: 1.69%\n",
      "Credit Card Number 3597980945245815: 0.00%\n",
      "Credit Card Number 3598014571045296: 0.00%\n",
      "Credit Card Number 3598215285024754: 0.00%\n",
      "Credit Card Number 3598304579370089: 0.00%\n",
      "Credit Card Number 3598634130286287: 0.00%\n",
      "Credit Card Number 3598895972308782: 0.00%\n",
      "Credit Card Number 3599237318576484: 0.00%\n",
      "Credit Card Number 4003771737807706: 0.00%\n",
      "Credit Card Number 4003989662068504: 0.73%\n",
      "Credit Card Number 4005676619255478: 0.73%\n",
      "Credit Card Number 4010002218955876: 0.00%\n",
      "Credit Card Number 4025612008285111: 0.00%\n",
      "Credit Card Number 4048508450704760: 0.00%\n",
      "Credit Card Number 4060579726528237: 0.00%\n",
      "Credit Card Number 4067137330196900: 0.00%\n",
      "Credit Card Number 4069975342931683: 0.00%\n",
      "Credit Card Number 4070511711385545: 0.00%\n",
      "Credit Card Number 4087542780207162: 100.00%\n",
      "Credit Card Number 4099707841315751: 0.00%\n",
      "Credit Card Number 4104312520615374: 1.77%\n",
      "Credit Card Number 4116554952971686: 0.00%\n",
      "Credit Card Number 4119762878330989: 1.48%\n",
      "Credit Card Number 4124536010991657: 0.00%\n",
      "Credit Card Number 4128027264554082: 0.00%\n",
      "Credit Card Number 4129767952109660: 2.29%\n",
      "Credit Card Number 4134456652433447: 0.00%\n",
      "Credit Card Number 4147608975828480: 0.00%\n",
      "Credit Card Number 4149238353975790: 0.00%\n",
      "Credit Card Number 4155021259183870: 0.00%\n",
      "Credit Card Number 4158758517677931: 0.00%\n",
      "Credit Card Number 4158945090781624: 0.00%\n",
      "Credit Card Number 4169759661243568: 0.00%\n",
      "Credit Card Number 4170689372027579: 0.92%\n",
      "Credit Card Number 4171397999167005: 0.00%\n",
      "Credit Card Number 4173950183554608: 1.01%\n",
      "Credit Card Number 4178097073221156: 0.00%\n",
      "Credit Card Number 4179719215697782: 0.00%\n",
      "Credit Card Number 4191109180926792: 0.00%\n",
      "Credit Card Number 4195832462863385: 0.00%\n",
      "Credit Card Number 4228411452607671: 0.00%\n",
      "Credit Card Number 4229733778084049: 1.26%\n",
      "Credit Card Number 4239552724014407: 0.00%\n",
      "Credit Card Number 4254074738931278: 0.00%\n",
      "Credit Card Number 4260059589824237: 0.00%\n",
      "Credit Card Number 4265776278887457: 0.00%\n",
      "Credit Card Number 4266200684857219: 0.00%\n",
      "Credit Card Number 4277232699798846: 0.00%\n",
      "Credit Card Number 4294040533480516: 0.00%\n",
      "Credit Card Number 4302475216404898: 0.00%\n",
      "Credit Card Number 4302480582202074: 0.00%\n",
      "Credit Card Number 4306586894261180: 2.20%\n",
      "Credit Card Number 4308156300921054: 0.00%\n",
      "Credit Card Number 4328928491302401: 0.00%\n",
      "Credit Card Number 4334230547694630: 0.00%\n",
      "Credit Card Number 4335531783520911: 5.42%\n",
      "Credit Card Number 4342532437704183: 0.00%\n",
      "Credit Card Number 4344955088481397: 0.00%\n",
      "Credit Card Number 4348786085525522: 0.00%\n",
      "Credit Card Number 4364010865167176: 0.00%\n",
      "Credit Card Number 4365382885912355: 0.00%\n",
      "Credit Card Number 4377338765909719: 0.00%\n",
      "Credit Card Number 4378993458389626: 0.00%\n",
      "Credit Card Number 4384910379661778: 0.00%\n",
      "Credit Card Number 4412720572684931: 4.61%\n",
      "Credit Card Number 4417677808209716: 100.00%\n",
      "Credit Card Number 4423489490781412: 0.77%\n",
      "Credit Card Number 4424338559877976: 0.00%\n",
      "Credit Card Number 4425161475596168: 0.00%\n",
      "Credit Card Number 4428154703770710: 0.00%\n",
      "Credit Card Number 4430881574719618: 0.00%\n",
      "Credit Card Number 4433091568498503: 0.00%\n",
      "Credit Card Number 4446368897795790: 0.00%\n",
      "Credit Card Number 4449530933957323: 0.00%\n",
      "Credit Card Number 4450831335606294: 0.00%\n",
      "Credit Card Number 4451438912406400: 0.00%\n",
      "Credit Card Number 4451952084362894: 0.00%\n",
      "Credit Card Number 4452366298769043: 0.00%\n",
      "Credit Card Number 4474324669797121: 0.00%\n",
      "Credit Card Number 4482427013979020: 0.00%\n",
      "Credit Card Number 4488941175228467: 0.00%\n",
      "Credit Card Number 4492491748959010: 0.00%\n",
      "Credit Card Number 4501449508569485: 0.00%\n",
      "Credit Card Number 4509142395811241: 0.88%\n",
      "Credit Card Number 4509922033272157: 0.00%\n",
      "Credit Card Number 4514242065619750: 0.23%\n",
      "Credit Card Number 4518350514020532: 2.60%\n",
      "Credit Card Number 4550599031376731: 0.00%\n",
      "Credit Card Number 4555104582813474: 0.00%\n",
      "Credit Card Number 4561368699336875: 0.00%\n",
      "Credit Card Number 4570636521433188: 0.69%\n",
      "Credit Card Number 4586810168620942: 0.00%\n",
      "Credit Card Number 4587577161160601: 0.00%\n",
      "Credit Card Number 4599285557366057: 3.78%\n",
      "Credit Card Number 4607072969078276: 1.93%\n",
      "Credit Card Number 4610050989831291: 0.00%\n",
      "Credit Card Number 4610064888664703: 0.00%\n",
      "Credit Card Number 4629451965224809: 0.00%\n",
      "Credit Card Number 4633065159406313: 0.00%\n",
      "Credit Card Number 4634955908138648: 0.92%\n",
      "Credit Card Number 4635330563105903: 0.00%\n",
      "Credit Card Number 4642255475285942: 0.00%\n",
      "Credit Card Number 4651007077623147: 0.00%\n",
      "Credit Card Number 4653879239169997: 1.29%\n",
      "Credit Card Number 4657269323674365: 0.00%\n",
      "Credit Card Number 4658490815480264: 1.29%\n",
      "Credit Card Number 4670613943676271: 0.00%\n",
      "Credit Card Number 4671727014157745: 0.57%\n",
      "Credit Card Number 4681601008538160: 0.00%\n",
      "Credit Card Number 4682744518117239: 0.00%\n",
      "Credit Card Number 4683520018489354: 0.00%\n",
      "Credit Card Number 4698163635895795: 0.00%\n",
      "Credit Card Number 4707867759656333: 0.00%\n",
      "Credit Card Number 4708992452821239: 0.00%\n",
      "Credit Card Number 4710792708725663: 1.99%\n",
      "Credit Card Number 4713464490314802: 5.39%\n",
      "Credit Card Number 4716561796955522: 0.85%\n",
      "Credit Card Number 4725673654161314: 1.85%\n",
      "Credit Card Number 4727244663135968: 1.10%\n",
      "Credit Card Number 4740713119940984: 2.64%\n",
      "Credit Card Number 4764202053279782: 0.00%\n",
      "Credit Card Number 4767265376804500: 0.00%\n",
      "Credit Card Number 4777065439639721: 0.00%\n",
      "Credit Card Number 4789911625179723: 0.00%\n",
      "Credit Card Number 4800395067176717: 0.00%\n",
      "Credit Card Number 4822367783500458: 0.00%\n",
      "Credit Card Number 4824023901222438: 0.00%\n",
      "Credit Card Number 4826655832045236: 0.00%\n",
      "Credit Card Number 4836998673805450: 0.00%\n",
      "Credit Card Number 4839043708100390: 0.00%\n",
      "Credit Card Number 4839615922685395: 0.00%\n",
      "Credit Card Number 4841313716651064: 0.00%\n",
      "Credit Card Number 4859525594182537: 0.00%\n",
      "Credit Card Number 4873783502705038: 0.00%\n",
      "Credit Card Number 4874006077381178: 0.00%\n",
      "Credit Card Number 4874017206859125: 1.13%\n",
      "Credit Card Number 4878364946692291: 0.00%\n",
      "Credit Card Number 4879265611163287: 0.00%\n",
      "Credit Card Number 4904681492230012: 1.16%\n",
      "Credit Card Number 4908846471916297: 0.00%\n",
      "Credit Card Number 4914700582394237: 0.00%\n",
      "Credit Card Number 4917187576956394: 0.00%\n",
      "Credit Card Number 4922710831011201: 0.00%\n",
      "Credit Card Number 4926376199189801: 0.00%\n",
      "Credit Card Number 4933461930348832: 0.00%\n",
      "Credit Card Number 4935858973307492: 0.00%\n",
      "Credit Card Number 4939976756738216: 0.00%\n",
      "Credit Card Number 4951647200979051: 0.00%\n",
      "Credit Card Number 4952583804639909: 0.00%\n",
      "Credit Card Number 4961003488432306: 2.49%\n",
      "Credit Card Number 4969856774088583: 0.00%\n",
      "Credit Card Number 4972228199573984: 3.38%\n",
      "Credit Card Number 4979422371139333: 0.00%\n",
      "Credit Card Number 4986925034905735: 0.00%\n",
      "Credit Card Number 4996263498048679: 0.00%\n",
      "Credit Card Number 4997733566924489: 0.00%\n",
      "Credit Card Number 4998109455173950: 0.00%\n",
      "Credit Card Number 5104807169438134: 0.00%\n",
      "Credit Card Number 5127412150261034: 0.00%\n",
      "Credit Card Number 5130484058948421: 0.00%\n",
      "Credit Card Number 5152054598359927: 0.00%\n",
      "Credit Card Number 5154903938030655: 0.00%\n",
      "Credit Card Number 5289285402893489: 0.00%\n",
      "Credit Card Number 5359543825610251: 0.00%\n",
      "Credit Card Number 5388659976630693: 0.00%\n",
      "Credit Card Number 5410056176712193: 3.64%\n",
      "Credit Card Number 5456712664803820: 1.81%\n",
      "Credit Card Number 5456776410929288: 0.00%\n",
      "Credit Card Number 5501083170975659: 0.00%\n",
      "Credit Card Number 5540636818935089: 0.00%\n",
      "Credit Card Number 5559857416065248: 0.00%\n",
      "Credit Card Number 5580563567307107: 0.00%\n",
      "Credit Card Number 5596347693144598: 0.00%\n",
      "Credit Card Number 6011104316292105: 0.64%\n",
      "Credit Card Number 6011109736646996: 0.00%\n",
      "Credit Card Number 6011148190095209: 0.00%\n",
      "Credit Card Number 6011149206456997: 0.00%\n",
      "Credit Card Number 6011197122270059: 0.00%\n",
      "Credit Card Number 6011231546538393: 0.00%\n",
      "Credit Card Number 6011252220172077: 0.00%\n",
      "Credit Card Number 6011305591981276: 0.00%\n",
      "Credit Card Number 6011329966782895: 0.00%\n",
      "Credit Card Number 6011348830550197: 0.00%\n",
      "Credit Card Number 6011360759745864: 0.00%\n",
      "Credit Card Number 6011366578560244: 0.00%\n",
      "Credit Card Number 6011367958204270: 0.00%\n",
      "Credit Card Number 6011381817520024: 0.00%\n",
      "Credit Card Number 6011382886333463: 0.00%\n",
      "Credit Card Number 6011388901471808: 0.00%\n",
      "Credit Card Number 6011393492413821: 0.00%\n",
      "Credit Card Number 6011399591920186: 1.00%\n",
      "Credit Card Number 6011438889172900: 0.00%\n",
      "Credit Card Number 6011477612335392: 4.85%\n",
      "Credit Card Number 6011492816282597: 1.57%\n",
      "Credit Card Number 6011504998544485: 0.00%\n",
      "Credit Card Number 6011542681743618: 0.00%\n",
      "Credit Card Number 6011552879910390: 0.00%\n",
      "Credit Card Number 6011581063717667: 0.00%\n",
      "Credit Card Number 6011603272871604: 0.00%\n",
      "Credit Card Number 6011626928491360: 0.00%\n",
      "Credit Card Number 6011652924285713: 0.00%\n",
      "Credit Card Number 6011679934075347: 0.00%\n",
      "Credit Card Number 6011681934117244: 0.00%\n",
      "Credit Card Number 6011693194885790: 0.00%\n",
      "Credit Card Number 6011706277606006: 0.00%\n",
      "Credit Card Number 6011724471098086: 0.00%\n",
      "Credit Card Number 6011860238257910: 0.00%\n",
      "Credit Card Number 6011893664860915: 0.16%\n",
      "Credit Card Number 6011917798331152: 0.00%\n",
      "Credit Card Number 6011934240159560: 0.00%\n",
      "Credit Card Number 6011948324228984: 0.00%\n",
      "Credit Card Number 6011975266774121: 5.53%\n",
      "Credit Card Number 6011999606625827: 0.00%\n",
      "Credit Card Number 6501313409525696: 0.00%\n",
      "Credit Card Number 6502195877055606: 0.00%\n",
      "Credit Card Number 6506116513503136: 0.00%\n",
      "Credit Card Number 6506982560413523: 0.00%\n",
      "Credit Card Number 6511349151405438: 0.00%\n",
      "Credit Card Number 6515067575568369: 0.00%\n",
      "Credit Card Number 6517217825320610: 0.00%\n",
      "Credit Card Number 6523180720198790: 0.00%\n",
      "Credit Card Number 6524376634971418: 0.00%\n",
      "Credit Card Number 6526448584969862: 0.00%\n",
      "Credit Card Number 6526777409109795: 0.00%\n",
      "Credit Card Number 6526955903501879: 0.00%\n",
      "Credit Card Number 6528911529051375: 0.00%\n",
      "Credit Card Number 6534628260579800: 0.00%\n",
      "Credit Card Number 6535328428560433: 0.00%\n",
      "Credit Card Number 6538441737335434: 1.22%\n",
      "Credit Card Number 6538891242532018: 0.00%\n",
      "Credit Card Number 6539653032686894: 0.00%\n",
      "Credit Card Number 6540981358631302: 0.00%\n",
      "Credit Card Number 6544734391390261: 1.35%\n",
      "Credit Card Number 6547670341037171: 0.00%\n",
      "Credit Card Number 6550399784335736: 0.00%\n",
      "Credit Card Number 6554245334757802: 0.00%\n",
      "Credit Card Number 6564459919350820: 1.36%\n",
      "Credit Card Number 6569097840281287: 0.00%\n",
      "Credit Card Number 6573561108825071: 0.00%\n",
      "Credit Card Number 6592074504369261: 0.00%\n",
      "Credit Card Number 6592243974328236: 0.00%\n",
      "Credit Card Number 6592861994408652: 0.00%\n",
      "Credit Card Number 6593250708747804: 0.00%\n",
      "Credit Card Number 6593939509150446: 4.62%\n",
      "Credit Card Number 6595970453799027: 1.54%\n",
      "Credit Card Number 6596735789587928: 2.27%\n",
      "Credit Card Number 6597248210463122: 6.25%\n",
      "Credit Card Number 6597888193422452: 0.00%\n",
      "Credit Card Number 4018105808392773632: 0.00%\n",
      "Credit Card Number 4040099974063068672: 0.00%\n",
      "Credit Card Number 4044436772018844672: 0.00%\n",
      "Credit Card Number 4045036286570100736: 0.00%\n",
      "Credit Card Number 4063094974360571392: 0.00%\n",
      "Credit Card Number 4089096483689733632: 0.00%\n",
      "Credit Card Number 4092452671396169728: 0.00%\n",
      "Credit Card Number 4102003771126577664: 0.00%\n",
      "Credit Card Number 4110266553600176128: 0.00%\n",
      "Credit Card Number 4128730454058057728: 0.00%\n",
      "Credit Card Number 4181833256558614016: 0.00%\n",
      "Credit Card Number 4208110975550360064: 0.00%\n",
      "Credit Card Number 4209696857872688640: 0.00%\n",
      "Credit Card Number 4210078554961358848: 0.00%\n",
      "Credit Card Number 4220495028289516544: 0.00%\n",
      "Credit Card Number 4223708906367574016: 0.00%\n",
      "Credit Card Number 4225990116481262592: 2.09%\n",
      "Credit Card Number 4226219726886853120: 0.00%\n",
      "Credit Card Number 4244953610136705536: 4.09%\n",
      "Credit Card Number 4255397449664185856: 0.00%\n",
      "Credit Card Number 4292743669224717824: 1.28%\n",
      "Credit Card Number 4292902571056973312: 0.00%\n",
      "Credit Card Number 4301028321766222336: 0.00%\n",
      "Credit Card Number 4311368326621415936: 0.00%\n",
      "Credit Card Number 4312133045694601216: 0.00%\n",
      "Credit Card Number 4319584480204988928: 0.00%\n",
      "Credit Card Number 4352307151555405312: 100.00%\n",
      "Credit Card Number 4355790796238264832: 0.00%\n",
      "Credit Card Number 4358137750029944832: 0.00%\n",
      "Credit Card Number 4373370572092720640: 0.00%\n",
      "Credit Card Number 4379260813815979520: 0.00%\n",
      "Credit Card Number 4390966588600992768: 0.00%\n",
      "Credit Card Number 4400011257587661824: 0.00%\n",
      "Credit Card Number 4410582919485061632: 0.00%\n",
      "Credit Card Number 4426075337087318528: 0.00%\n",
      "Credit Card Number 4428780983793657344: 2.55%\n",
      "Credit Card Number 4457732997086323712: 0.00%\n",
      "Credit Card Number 4462038234743679488: 3.95%\n",
      "Credit Card Number 4467456915153312256: 0.00%\n",
      "Credit Card Number 4469777115158235136: 0.00%\n",
      "Credit Card Number 4477156602511939584: 0.00%\n",
      "Credit Card Number 4488258847705225728: 0.00%\n",
      "Credit Card Number 4497451418073896960: 0.00%\n",
      "Credit Card Number 4497913965512794112: 0.00%\n",
      "Credit Card Number 4502539526809430016: 0.00%\n",
      "Credit Card Number 4503101193493052928: 0.00%\n",
      "Credit Card Number 4512828414983801856: 1.03%\n",
      "Credit Card Number 4536996888716062208: 0.00%\n",
      "Credit Card Number 4560004149983868416: 0.00%\n",
      "Credit Card Number 4560395181594436096: 1.40%\n",
      "Credit Card Number 4584931703207308288: 0.00%\n",
      "Credit Card Number 4587657402165341696: 0.00%\n",
      "Credit Card Number 4599735407877244928: 0.00%\n",
      "Credit Card Number 4646845581490335744: 0.75%\n",
      "Credit Card Number 4653178848915022848: 0.00%\n",
      "Credit Card Number 4661996144291812352: 0.00%\n",
      "Credit Card Number 4666314527820882944: 0.00%\n",
      "Credit Card Number 4689147265057948672: 0.00%\n",
      "Credit Card Number 4710826438164847616: 2.10%\n",
      "Credit Card Number 4715741951931168768: 0.00%\n",
      "Credit Card Number 4725837176265195520: 6.61%\n",
      "Credit Card Number 4736845434667908096: 0.00%\n",
      "Credit Card Number 4742883543039288320: 0.00%\n",
      "Credit Card Number 4756039869079881728: 0.00%\n",
      "Credit Card Number 4761403817546679296: 2.16%\n",
      "Credit Card Number 4769426683924059136: 0.00%\n",
      "Credit Card Number 4792627764422477824: 0.00%\n",
      "Credit Card Number 4797297220948468736: 1.26%\n",
      "Credit Card Number 4798937978667559936: 0.00%\n",
      "Credit Card Number 4810789809665942528: 0.00%\n",
      "Credit Card Number 4810839835482793984: 0.00%\n",
      "Credit Card Number 4855488158131690496: 0.00%\n",
      "Credit Card Number 4855853415727304704: 0.00%\n",
      "Credit Card Number 4861310130652566528: 0.80%\n",
      "Credit Card Number 4890424426862857216: 0.00%\n",
      "Credit Card Number 4897067971111209984: 0.00%\n",
      "Credit Card Number 4906628655840914432: 0.00%\n",
      "Credit Card Number 4956828990005110784: 0.00%\n",
      "Credit Card Number 4958589671582727168: 0.98%\n",
      "Credit Card Number 4973530368125489152: 0.00%\n",
      "Credit Card Number 4980323467523544064: 0.00%\n",
      "Credit Card Number 4989847570577635328: 3.23%\n",
      "Credit Card Number 4992346398065154048: 0.00%\n"
     ]
    }
   ],
   "source": [
    "fraud_transactions_per_user = df.groupby('cc_num')['is_fraud'].sum().reset_index()\n",
    "total_transactions_per_user = df.groupby('cc_num').size().reset_index(name='total_transactions')\n",
    "fraud_ratio_per_user = pd.merge(fraud_transactions_per_user, total_transactions_per_user, on='cc_num')\n",
    "\n",
    "\n",
    "#Calculate ratio of fraudulent transactions to total transactions\n",
    "fraud_ratio_per_user['fraud_ratio'] = fraud_ratio_per_user['is_fraud'] /fraud_ratio_per_user['total_transactions']\n",
    "\n",
    "# Print formatted output\n",
    "print('\\nThe ratio of fraudulent transaction to total transaction per user:')\n",
    "for index, row in fraud_ratio_per_user.iterrows():\n",
    "    print(f\"Credit Card Number {int(row['cc_num'])}: {row['fraud_ratio']:.2%}\")\n"
   ]
  },
  {
   "cell_type": "markdown",
   "id": "f74c2214685f9022",
   "metadata": {},
   "source": [
    "## 5. Geography Analysis\n",
    "\n",
    "### 5.1 Distance calculation using Haversine calculation\n",
    "\n",
    "This function  the great-circle distance between two points on the Earth's surface given their latitude and longitude coordinates. This function can be applied to gain insights from a dataset that includes geographical information, such as the coordinates of customer locations and merchant locations. \n",
    "* Are customers close to their preferred merchants? \n",
    "* Customer segmentation (near, moderate, far)\n",
    "* "
   ]
  },
  {
   "cell_type": "code",
   "execution_count": 25,
   "outputs": [],
   "source": [
    "# Create the Haversine function using transaction longitude and latitude, also using merchant's longitude and latitude\n",
    "def haversine(lat1, lon1, lat2, lon2):\n",
    "    # Distance between latitudes and longitudes\n",
    "    dLat = (lat2 - lat1) * math.pi / 180.0\n",
    "    dLon = (lon2 - lon1) * math.pi / 180.0\n",
    "\n",
    "    # Convert to radians\n",
    "    lat1 = (lat1) * math.pi / 180.0\n",
    "    lat2 = (lat2) * math.pi / 180.0\n",
    "\n",
    "    # Apply formula\n",
    "    a = (pow(math.sin(dLat / 2), 2) +\n",
    "         pow(math.sin(dLon / 2), 2) *\n",
    "         math.cos(lat1) * math.cos(lat2))\n",
    "    rad = 6371\n",
    "    c = 2 * math.asin(math.sqrt(a))\n",
    "    return rad * c\n",
    "\n",
    "df['distance_to_merch'] = df.apply(lambda row: haversine(row['lat'], row['long'], row['merch_lat'], row['merch_long']), axis=1)\n"
   ],
   "metadata": {
    "collapsed": false,
    "ExecuteTime": {
     "end_time": "2024-07-02T23:29:56.943110Z",
     "start_time": "2024-07-02T23:29:48.586046Z"
    }
   },
   "id": "fd58ab8873a42702"
  },
  {
   "cell_type": "code",
   "execution_count": 26,
   "outputs": [
    {
     "data": {
      "text/plain": "       trans_date trans_time            cc_num  \\\n0      2020-06-21   12:14:25  2291163933867244   \n1      2020-06-21   12:14:33  3573030041201292   \n2      2020-06-21   12:14:53  3598215285024754   \n3      2020-06-21   12:15:15  3591919803438423   \n4      2020-06-21   12:15:17  3526826139003047   \n...           ...        ...               ...   \n555714 2020-12-31   23:59:07    30560609640617   \n555715 2020-12-31   23:59:09  3556613125071656   \n555716 2020-12-31   23:59:15  6011724471098086   \n555717 2020-12-31   23:59:24     4079773899158   \n555718 2020-12-31   23:59:34  4170689372027579   \n\n                                    merchant        category     amt    first  \\\n0                      fraud_Kirlin and Sons   personal_care    2.86     Jeff   \n1                       fraud_Sporer-Keebler   personal_care   29.84   Joanne   \n2       fraud_Swaniawski, Nitzsche and Welch  health_fitness   41.28   Ashley   \n3                          fraud_Haley Group        misc_pos   60.05    Brian   \n4                      fraud_Johnston-Casper          travel    3.19   Nathan   \n...                                      ...             ...     ...      ...   \n555714                 fraud_Reilly and Sons  health_fitness   43.77  Michael   \n555715                  fraud_Hoppe-Parisian       kids_pets  111.84     Jose   \n555716                       fraud_Rau-Robel       kids_pets   86.88      Ann   \n555717                 fraud_Breitenberg LLC          travel    7.99     Eric   \n555718                     fraud_Dare-Marvin   entertainment   38.13   Samuel   \n\n            last gender                       street  ... Week  \\\n0        Elliott      M            351 Darlene Green  ...   25   \n1       Williams      F             3638 Marsh Union  ...   25   \n2          Lopez      F         9333 Valentine Point  ...   25   \n3       Williams      M  32941 Krystal Mill Apt. 552  ...   25   \n4         Massey      M     5783 Evan Roads Apt. 465  ...   25   \n...          ...    ...                          ...  ...  ...   \n555714     Olson      M          558 Michael Estates  ...   53   \n555715   Vasquez      M          572 Davis Mountains  ...   53   \n555716    Lawson      F   144 Evans Islands Apt. 683  ...   53   \n555717   Preston      M   7020 Doyle Stream Apt. 951  ...   53   \n555718      Frey      M     830 Myers Plaza Apt. 384  ...   53   \n\n       transaction_per_week  transactions_per_month  transactions_per_season  \\\n0                         2                      34                       34   \n1                         4                      49                       49   \n2                         3                      55                       55   \n3                         3                      33                       33   \n4                         4                      56                       56   \n...                     ...                     ...                      ...   \n555714                   24                     172                      335   \n555715                   47                     286                      557   \n555716                   36                     295                      540   \n555717                   25                     201                      441   \n555718                   38                     294                      588   \n\n        avg_trans_amount  total_trans_amount med_trans_amount  \\\n0              61.893062            39611.56           44.230   \n1              53.596523            44860.29           35.590   \n2              83.053812            89116.74           54.290   \n3              59.207526            39254.59           39.680   \n4              55.274501            49249.58           37.670   \n...                  ...                 ...              ...   \n555714         72.595446            45589.94           40.395   \n555715         46.529792            51415.42           20.690   \n555716         92.682790           100004.73           54.360   \n555717         58.129411            51328.27           36.880   \n555718         61.315165            66833.53           36.245   \n\n       std_trans_amount age  distance_to_merch  \n0            158.690646  52          24.561462  \n1            102.395948  30         104.925092  \n2            103.740968  49          59.080078  \n3            108.530732  32          27.698567  \n4             76.159193  64         104.335106  \n...                 ...  ..                ...  \n555714       158.873104  54          77.026148  \n555715       108.069341  21         100.074420  \n555716       143.328587  39          80.759302  \n555717        79.056680  55          52.933240  \n555718       136.004899  27          72.438289  \n\n[555719 rows x 34 columns]",
      "text/html": "<div>\n<style scoped>\n    .dataframe tbody tr th:only-of-type {\n        vertical-align: middle;\n    }\n\n    .dataframe tbody tr th {\n        vertical-align: top;\n    }\n\n    .dataframe thead th {\n        text-align: right;\n    }\n</style>\n<table border=\"1\" class=\"dataframe\">\n  <thead>\n    <tr style=\"text-align: right;\">\n      <th></th>\n      <th>trans_date</th>\n      <th>trans_time</th>\n      <th>cc_num</th>\n      <th>merchant</th>\n      <th>category</th>\n      <th>amt</th>\n      <th>first</th>\n      <th>last</th>\n      <th>gender</th>\n      <th>street</th>\n      <th>...</th>\n      <th>Week</th>\n      <th>transaction_per_week</th>\n      <th>transactions_per_month</th>\n      <th>transactions_per_season</th>\n      <th>avg_trans_amount</th>\n      <th>total_trans_amount</th>\n      <th>med_trans_amount</th>\n      <th>std_trans_amount</th>\n      <th>age</th>\n      <th>distance_to_merch</th>\n    </tr>\n  </thead>\n  <tbody>\n    <tr>\n      <th>0</th>\n      <td>2020-06-21</td>\n      <td>12:14:25</td>\n      <td>2291163933867244</td>\n      <td>fraud_Kirlin and Sons</td>\n      <td>personal_care</td>\n      <td>2.86</td>\n      <td>Jeff</td>\n      <td>Elliott</td>\n      <td>M</td>\n      <td>351 Darlene Green</td>\n      <td>...</td>\n      <td>25</td>\n      <td>2</td>\n      <td>34</td>\n      <td>34</td>\n      <td>61.893062</td>\n      <td>39611.56</td>\n      <td>44.230</td>\n      <td>158.690646</td>\n      <td>52</td>\n      <td>24.561462</td>\n    </tr>\n    <tr>\n      <th>1</th>\n      <td>2020-06-21</td>\n      <td>12:14:33</td>\n      <td>3573030041201292</td>\n      <td>fraud_Sporer-Keebler</td>\n      <td>personal_care</td>\n      <td>29.84</td>\n      <td>Joanne</td>\n      <td>Williams</td>\n      <td>F</td>\n      <td>3638 Marsh Union</td>\n      <td>...</td>\n      <td>25</td>\n      <td>4</td>\n      <td>49</td>\n      <td>49</td>\n      <td>53.596523</td>\n      <td>44860.29</td>\n      <td>35.590</td>\n      <td>102.395948</td>\n      <td>30</td>\n      <td>104.925092</td>\n    </tr>\n    <tr>\n      <th>2</th>\n      <td>2020-06-21</td>\n      <td>12:14:53</td>\n      <td>3598215285024754</td>\n      <td>fraud_Swaniawski, Nitzsche and Welch</td>\n      <td>health_fitness</td>\n      <td>41.28</td>\n      <td>Ashley</td>\n      <td>Lopez</td>\n      <td>F</td>\n      <td>9333 Valentine Point</td>\n      <td>...</td>\n      <td>25</td>\n      <td>3</td>\n      <td>55</td>\n      <td>55</td>\n      <td>83.053812</td>\n      <td>89116.74</td>\n      <td>54.290</td>\n      <td>103.740968</td>\n      <td>49</td>\n      <td>59.080078</td>\n    </tr>\n    <tr>\n      <th>3</th>\n      <td>2020-06-21</td>\n      <td>12:15:15</td>\n      <td>3591919803438423</td>\n      <td>fraud_Haley Group</td>\n      <td>misc_pos</td>\n      <td>60.05</td>\n      <td>Brian</td>\n      <td>Williams</td>\n      <td>M</td>\n      <td>32941 Krystal Mill Apt. 552</td>\n      <td>...</td>\n      <td>25</td>\n      <td>3</td>\n      <td>33</td>\n      <td>33</td>\n      <td>59.207526</td>\n      <td>39254.59</td>\n      <td>39.680</td>\n      <td>108.530732</td>\n      <td>32</td>\n      <td>27.698567</td>\n    </tr>\n    <tr>\n      <th>4</th>\n      <td>2020-06-21</td>\n      <td>12:15:17</td>\n      <td>3526826139003047</td>\n      <td>fraud_Johnston-Casper</td>\n      <td>travel</td>\n      <td>3.19</td>\n      <td>Nathan</td>\n      <td>Massey</td>\n      <td>M</td>\n      <td>5783 Evan Roads Apt. 465</td>\n      <td>...</td>\n      <td>25</td>\n      <td>4</td>\n      <td>56</td>\n      <td>56</td>\n      <td>55.274501</td>\n      <td>49249.58</td>\n      <td>37.670</td>\n      <td>76.159193</td>\n      <td>64</td>\n      <td>104.335106</td>\n    </tr>\n    <tr>\n      <th>...</th>\n      <td>...</td>\n      <td>...</td>\n      <td>...</td>\n      <td>...</td>\n      <td>...</td>\n      <td>...</td>\n      <td>...</td>\n      <td>...</td>\n      <td>...</td>\n      <td>...</td>\n      <td>...</td>\n      <td>...</td>\n      <td>...</td>\n      <td>...</td>\n      <td>...</td>\n      <td>...</td>\n      <td>...</td>\n      <td>...</td>\n      <td>...</td>\n      <td>...</td>\n      <td>...</td>\n    </tr>\n    <tr>\n      <th>555714</th>\n      <td>2020-12-31</td>\n      <td>23:59:07</td>\n      <td>30560609640617</td>\n      <td>fraud_Reilly and Sons</td>\n      <td>health_fitness</td>\n      <td>43.77</td>\n      <td>Michael</td>\n      <td>Olson</td>\n      <td>M</td>\n      <td>558 Michael Estates</td>\n      <td>...</td>\n      <td>53</td>\n      <td>24</td>\n      <td>172</td>\n      <td>335</td>\n      <td>72.595446</td>\n      <td>45589.94</td>\n      <td>40.395</td>\n      <td>158.873104</td>\n      <td>54</td>\n      <td>77.026148</td>\n    </tr>\n    <tr>\n      <th>555715</th>\n      <td>2020-12-31</td>\n      <td>23:59:09</td>\n      <td>3556613125071656</td>\n      <td>fraud_Hoppe-Parisian</td>\n      <td>kids_pets</td>\n      <td>111.84</td>\n      <td>Jose</td>\n      <td>Vasquez</td>\n      <td>M</td>\n      <td>572 Davis Mountains</td>\n      <td>...</td>\n      <td>53</td>\n      <td>47</td>\n      <td>286</td>\n      <td>557</td>\n      <td>46.529792</td>\n      <td>51415.42</td>\n      <td>20.690</td>\n      <td>108.069341</td>\n      <td>21</td>\n      <td>100.074420</td>\n    </tr>\n    <tr>\n      <th>555716</th>\n      <td>2020-12-31</td>\n      <td>23:59:15</td>\n      <td>6011724471098086</td>\n      <td>fraud_Rau-Robel</td>\n      <td>kids_pets</td>\n      <td>86.88</td>\n      <td>Ann</td>\n      <td>Lawson</td>\n      <td>F</td>\n      <td>144 Evans Islands Apt. 683</td>\n      <td>...</td>\n      <td>53</td>\n      <td>36</td>\n      <td>295</td>\n      <td>540</td>\n      <td>92.682790</td>\n      <td>100004.73</td>\n      <td>54.360</td>\n      <td>143.328587</td>\n      <td>39</td>\n      <td>80.759302</td>\n    </tr>\n    <tr>\n      <th>555717</th>\n      <td>2020-12-31</td>\n      <td>23:59:24</td>\n      <td>4079773899158</td>\n      <td>fraud_Breitenberg LLC</td>\n      <td>travel</td>\n      <td>7.99</td>\n      <td>Eric</td>\n      <td>Preston</td>\n      <td>M</td>\n      <td>7020 Doyle Stream Apt. 951</td>\n      <td>...</td>\n      <td>53</td>\n      <td>25</td>\n      <td>201</td>\n      <td>441</td>\n      <td>58.129411</td>\n      <td>51328.27</td>\n      <td>36.880</td>\n      <td>79.056680</td>\n      <td>55</td>\n      <td>52.933240</td>\n    </tr>\n    <tr>\n      <th>555718</th>\n      <td>2020-12-31</td>\n      <td>23:59:34</td>\n      <td>4170689372027579</td>\n      <td>fraud_Dare-Marvin</td>\n      <td>entertainment</td>\n      <td>38.13</td>\n      <td>Samuel</td>\n      <td>Frey</td>\n      <td>M</td>\n      <td>830 Myers Plaza Apt. 384</td>\n      <td>...</td>\n      <td>53</td>\n      <td>38</td>\n      <td>294</td>\n      <td>588</td>\n      <td>61.315165</td>\n      <td>66833.53</td>\n      <td>36.245</td>\n      <td>136.004899</td>\n      <td>27</td>\n      <td>72.438289</td>\n    </tr>\n  </tbody>\n</table>\n<p>555719 rows × 34 columns</p>\n</div>"
     },
     "execution_count": 26,
     "metadata": {},
     "output_type": "execute_result"
    }
   ],
   "source": [
    "df"
   ],
   "metadata": {
    "collapsed": false,
    "ExecuteTime": {
     "end_time": "2024-07-02T23:29:57.093509Z",
     "start_time": "2024-07-02T23:29:56.944782Z"
    }
   },
   "id": "2fa78d7e295665c7"
  },
  {
   "cell_type": "code",
   "execution_count": 27,
   "outputs": [
    {
     "name": "stdout",
     "output_type": "stream",
     "text": [
      "Aggregated transaction amounts by city:\n",
      "                          city       amt\n",
      "0                      Achille   9511.00\n",
      "1                      Acworth  80383.39\n",
      "2                        Adams  20631.64\n",
      "3                        Afton  59000.66\n",
      "4                        Akron  18512.11\n",
      "..                         ...       ...\n",
      "844                Woods Cross  20281.72\n",
      "845                  Woodville  42032.17\n",
      "846  Yellowstone National Park  16073.89\n",
      "847                    Zaleski  59080.41\n",
      "848                    Zavalla  47801.39\n",
      "\n",
      "[849 rows x 2 columns]\n",
      "----------------------------------------\n",
      "Aggregated transaction amounts by state:\n",
      "   state         amt\n",
      "0     AK    66071.94\n",
      "1     AL  1127922.81\n",
      "2     AR  1027950.44\n",
      "3     AZ   347901.59\n",
      "4     CA  1768791.26\n",
      "5     CO   447073.46\n",
      "6     CT   205176.90\n",
      "7     DC   108781.32\n",
      "8     FL  1293183.50\n",
      "9     GA   780302.43\n",
      "10    HI    64858.25\n",
      "11    IA   770590.61\n",
      "12    ID   197705.27\n",
      "13    IL  1309975.89\n",
      "14    IN   846750.31\n",
      "15    KS   711303.48\n",
      "16    KY   856554.04\n",
      "17    LA   660432.25\n",
      "18    MA   324452.99\n",
      "19    MD   681750.67\n",
      "20    ME   433931.40\n",
      "21    MI  1399976.96\n",
      "22    MN   958127.38\n",
      "23    MO  1100293.98\n",
      "24    MS   599533.28\n",
      "25    MT   391608.59\n",
      "26    NC  1000257.31\n",
      "27    ND   419204.52\n",
      "28    NE   644839.24\n",
      "29    NH   277038.04\n",
      "30    NJ   713518.34\n",
      "31    NM   432206.50\n",
      "32    NV   131077.59\n",
      "33    NY  2529741.65\n",
      "34    OH  1427389.97\n",
      "35    OK   748404.90\n",
      "36    OR   530045.43\n",
      "37    PA  2434619.31\n",
      "38    RI     7330.92\n",
      "39    SC   769101.76\n",
      "40    SD   362452.69\n",
      "41    TN   514060.15\n",
      "42    TX  2756497.24\n",
      "43    UT   286190.19\n",
      "44    VA   868156.17\n",
      "45    VT   388414.99\n",
      "46    WA   586232.31\n",
      "47    WI   873762.57\n",
      "48    WV   745815.56\n",
      "49    WY   635544.76\n",
      "----------------------------------------\n"
     ]
    }
   ],
   "source": [
    "# Aggregate transaction amounts by city\n",
    "print(\"Aggregated transaction amounts by city:\")\n",
    "print(df.groupby('city')['amt'].sum().reset_index())\n",
    "print(\"-\" * 40)\n",
    "\n",
    "# Aggregate transaction amounts by state\n",
    "state_agg = df.groupby('state')['amt'].sum().reset_index()\n",
    "print(\"Aggregated transaction amounts by state:\")\n",
    "print(df.groupby('state')['amt'].sum().reset_index())\n",
    "print(\"-\" * 40)\n",
    "\n"
   ],
   "metadata": {
    "collapsed": false,
    "ExecuteTime": {
     "end_time": "2024-07-02T23:29:57.276907Z",
     "start_time": "2024-07-02T23:29:57.113741Z"
    }
   },
   "id": "3c180a5a75169be6"
  },
  {
   "cell_type": "code",
   "execution_count": 28,
   "outputs": [
    {
     "data": {
      "text/plain": "       trans_date trans_time            cc_num  \\\n0      2020-06-21   12:14:25  2291163933867244   \n1      2020-06-21   12:14:33  3573030041201292   \n2      2020-06-21   12:14:53  3598215285024754   \n3      2020-06-21   12:15:15  3591919803438423   \n4      2020-06-21   12:15:17  3526826139003047   \n...           ...        ...               ...   \n555714 2020-12-31   23:59:07    30560609640617   \n555715 2020-12-31   23:59:09  3556613125071656   \n555716 2020-12-31   23:59:15  6011724471098086   \n555717 2020-12-31   23:59:24     4079773899158   \n555718 2020-12-31   23:59:34  4170689372027579   \n\n                                    merchant        category     amt    first  \\\n0                      fraud_Kirlin and Sons   personal_care    2.86     Jeff   \n1                       fraud_Sporer-Keebler   personal_care   29.84   Joanne   \n2       fraud_Swaniawski, Nitzsche and Welch  health_fitness   41.28   Ashley   \n3                          fraud_Haley Group        misc_pos   60.05    Brian   \n4                      fraud_Johnston-Casper          travel    3.19   Nathan   \n...                                      ...             ...     ...      ...   \n555714                 fraud_Reilly and Sons  health_fitness   43.77  Michael   \n555715                  fraud_Hoppe-Parisian       kids_pets  111.84     Jose   \n555716                       fraud_Rau-Robel       kids_pets   86.88      Ann   \n555717                 fraud_Breitenberg LLC          travel    7.99     Eric   \n555718                     fraud_Dare-Marvin   entertainment   38.13   Samuel   \n\n            last gender                       street  ... Week  \\\n0        Elliott      M            351 Darlene Green  ...   25   \n1       Williams      F             3638 Marsh Union  ...   25   \n2          Lopez      F         9333 Valentine Point  ...   25   \n3       Williams      M  32941 Krystal Mill Apt. 552  ...   25   \n4         Massey      M     5783 Evan Roads Apt. 465  ...   25   \n...          ...    ...                          ...  ...  ...   \n555714     Olson      M          558 Michael Estates  ...   53   \n555715   Vasquez      M          572 Davis Mountains  ...   53   \n555716    Lawson      F   144 Evans Islands Apt. 683  ...   53   \n555717   Preston      M   7020 Doyle Stream Apt. 951  ...   53   \n555718      Frey      M     830 Myers Plaza Apt. 384  ...   53   \n\n       transaction_per_week  transactions_per_month  transactions_per_season  \\\n0                         2                      34                       34   \n1                         4                      49                       49   \n2                         3                      55                       55   \n3                         3                      33                       33   \n4                         4                      56                       56   \n...                     ...                     ...                      ...   \n555714                   24                     172                      335   \n555715                   47                     286                      557   \n555716                   36                     295                      540   \n555717                   25                     201                      441   \n555718                   38                     294                      588   \n\n        avg_trans_amount  total_trans_amount med_trans_amount  \\\n0              61.893062            39611.56           44.230   \n1              53.596523            44860.29           35.590   \n2              83.053812            89116.74           54.290   \n3              59.207526            39254.59           39.680   \n4              55.274501            49249.58           37.670   \n...                  ...                 ...              ...   \n555714         72.595446            45589.94           40.395   \n555715         46.529792            51415.42           20.690   \n555716         92.682790           100004.73           54.360   \n555717         58.129411            51328.27           36.880   \n555718         61.315165            66833.53           36.245   \n\n       std_trans_amount age  distance_to_merch  \n0            158.690646  52          24.561462  \n1            102.395948  30         104.925092  \n2            103.740968  49          59.080078  \n3            108.530732  32          27.698567  \n4             76.159193  64         104.335106  \n...                 ...  ..                ...  \n555714       158.873104  54          77.026148  \n555715       108.069341  21         100.074420  \n555716       143.328587  39          80.759302  \n555717        79.056680  55          52.933240  \n555718       136.004899  27          72.438289  \n\n[555719 rows x 34 columns]",
      "text/html": "<div>\n<style scoped>\n    .dataframe tbody tr th:only-of-type {\n        vertical-align: middle;\n    }\n\n    .dataframe tbody tr th {\n        vertical-align: top;\n    }\n\n    .dataframe thead th {\n        text-align: right;\n    }\n</style>\n<table border=\"1\" class=\"dataframe\">\n  <thead>\n    <tr style=\"text-align: right;\">\n      <th></th>\n      <th>trans_date</th>\n      <th>trans_time</th>\n      <th>cc_num</th>\n      <th>merchant</th>\n      <th>category</th>\n      <th>amt</th>\n      <th>first</th>\n      <th>last</th>\n      <th>gender</th>\n      <th>street</th>\n      <th>...</th>\n      <th>Week</th>\n      <th>transaction_per_week</th>\n      <th>transactions_per_month</th>\n      <th>transactions_per_season</th>\n      <th>avg_trans_amount</th>\n      <th>total_trans_amount</th>\n      <th>med_trans_amount</th>\n      <th>std_trans_amount</th>\n      <th>age</th>\n      <th>distance_to_merch</th>\n    </tr>\n  </thead>\n  <tbody>\n    <tr>\n      <th>0</th>\n      <td>2020-06-21</td>\n      <td>12:14:25</td>\n      <td>2291163933867244</td>\n      <td>fraud_Kirlin and Sons</td>\n      <td>personal_care</td>\n      <td>2.86</td>\n      <td>Jeff</td>\n      <td>Elliott</td>\n      <td>M</td>\n      <td>351 Darlene Green</td>\n      <td>...</td>\n      <td>25</td>\n      <td>2</td>\n      <td>34</td>\n      <td>34</td>\n      <td>61.893062</td>\n      <td>39611.56</td>\n      <td>44.230</td>\n      <td>158.690646</td>\n      <td>52</td>\n      <td>24.561462</td>\n    </tr>\n    <tr>\n      <th>1</th>\n      <td>2020-06-21</td>\n      <td>12:14:33</td>\n      <td>3573030041201292</td>\n      <td>fraud_Sporer-Keebler</td>\n      <td>personal_care</td>\n      <td>29.84</td>\n      <td>Joanne</td>\n      <td>Williams</td>\n      <td>F</td>\n      <td>3638 Marsh Union</td>\n      <td>...</td>\n      <td>25</td>\n      <td>4</td>\n      <td>49</td>\n      <td>49</td>\n      <td>53.596523</td>\n      <td>44860.29</td>\n      <td>35.590</td>\n      <td>102.395948</td>\n      <td>30</td>\n      <td>104.925092</td>\n    </tr>\n    <tr>\n      <th>2</th>\n      <td>2020-06-21</td>\n      <td>12:14:53</td>\n      <td>3598215285024754</td>\n      <td>fraud_Swaniawski, Nitzsche and Welch</td>\n      <td>health_fitness</td>\n      <td>41.28</td>\n      <td>Ashley</td>\n      <td>Lopez</td>\n      <td>F</td>\n      <td>9333 Valentine Point</td>\n      <td>...</td>\n      <td>25</td>\n      <td>3</td>\n      <td>55</td>\n      <td>55</td>\n      <td>83.053812</td>\n      <td>89116.74</td>\n      <td>54.290</td>\n      <td>103.740968</td>\n      <td>49</td>\n      <td>59.080078</td>\n    </tr>\n    <tr>\n      <th>3</th>\n      <td>2020-06-21</td>\n      <td>12:15:15</td>\n      <td>3591919803438423</td>\n      <td>fraud_Haley Group</td>\n      <td>misc_pos</td>\n      <td>60.05</td>\n      <td>Brian</td>\n      <td>Williams</td>\n      <td>M</td>\n      <td>32941 Krystal Mill Apt. 552</td>\n      <td>...</td>\n      <td>25</td>\n      <td>3</td>\n      <td>33</td>\n      <td>33</td>\n      <td>59.207526</td>\n      <td>39254.59</td>\n      <td>39.680</td>\n      <td>108.530732</td>\n      <td>32</td>\n      <td>27.698567</td>\n    </tr>\n    <tr>\n      <th>4</th>\n      <td>2020-06-21</td>\n      <td>12:15:17</td>\n      <td>3526826139003047</td>\n      <td>fraud_Johnston-Casper</td>\n      <td>travel</td>\n      <td>3.19</td>\n      <td>Nathan</td>\n      <td>Massey</td>\n      <td>M</td>\n      <td>5783 Evan Roads Apt. 465</td>\n      <td>...</td>\n      <td>25</td>\n      <td>4</td>\n      <td>56</td>\n      <td>56</td>\n      <td>55.274501</td>\n      <td>49249.58</td>\n      <td>37.670</td>\n      <td>76.159193</td>\n      <td>64</td>\n      <td>104.335106</td>\n    </tr>\n    <tr>\n      <th>...</th>\n      <td>...</td>\n      <td>...</td>\n      <td>...</td>\n      <td>...</td>\n      <td>...</td>\n      <td>...</td>\n      <td>...</td>\n      <td>...</td>\n      <td>...</td>\n      <td>...</td>\n      <td>...</td>\n      <td>...</td>\n      <td>...</td>\n      <td>...</td>\n      <td>...</td>\n      <td>...</td>\n      <td>...</td>\n      <td>...</td>\n      <td>...</td>\n      <td>...</td>\n      <td>...</td>\n    </tr>\n    <tr>\n      <th>555714</th>\n      <td>2020-12-31</td>\n      <td>23:59:07</td>\n      <td>30560609640617</td>\n      <td>fraud_Reilly and Sons</td>\n      <td>health_fitness</td>\n      <td>43.77</td>\n      <td>Michael</td>\n      <td>Olson</td>\n      <td>M</td>\n      <td>558 Michael Estates</td>\n      <td>...</td>\n      <td>53</td>\n      <td>24</td>\n      <td>172</td>\n      <td>335</td>\n      <td>72.595446</td>\n      <td>45589.94</td>\n      <td>40.395</td>\n      <td>158.873104</td>\n      <td>54</td>\n      <td>77.026148</td>\n    </tr>\n    <tr>\n      <th>555715</th>\n      <td>2020-12-31</td>\n      <td>23:59:09</td>\n      <td>3556613125071656</td>\n      <td>fraud_Hoppe-Parisian</td>\n      <td>kids_pets</td>\n      <td>111.84</td>\n      <td>Jose</td>\n      <td>Vasquez</td>\n      <td>M</td>\n      <td>572 Davis Mountains</td>\n      <td>...</td>\n      <td>53</td>\n      <td>47</td>\n      <td>286</td>\n      <td>557</td>\n      <td>46.529792</td>\n      <td>51415.42</td>\n      <td>20.690</td>\n      <td>108.069341</td>\n      <td>21</td>\n      <td>100.074420</td>\n    </tr>\n    <tr>\n      <th>555716</th>\n      <td>2020-12-31</td>\n      <td>23:59:15</td>\n      <td>6011724471098086</td>\n      <td>fraud_Rau-Robel</td>\n      <td>kids_pets</td>\n      <td>86.88</td>\n      <td>Ann</td>\n      <td>Lawson</td>\n      <td>F</td>\n      <td>144 Evans Islands Apt. 683</td>\n      <td>...</td>\n      <td>53</td>\n      <td>36</td>\n      <td>295</td>\n      <td>540</td>\n      <td>92.682790</td>\n      <td>100004.73</td>\n      <td>54.360</td>\n      <td>143.328587</td>\n      <td>39</td>\n      <td>80.759302</td>\n    </tr>\n    <tr>\n      <th>555717</th>\n      <td>2020-12-31</td>\n      <td>23:59:24</td>\n      <td>4079773899158</td>\n      <td>fraud_Breitenberg LLC</td>\n      <td>travel</td>\n      <td>7.99</td>\n      <td>Eric</td>\n      <td>Preston</td>\n      <td>M</td>\n      <td>7020 Doyle Stream Apt. 951</td>\n      <td>...</td>\n      <td>53</td>\n      <td>25</td>\n      <td>201</td>\n      <td>441</td>\n      <td>58.129411</td>\n      <td>51328.27</td>\n      <td>36.880</td>\n      <td>79.056680</td>\n      <td>55</td>\n      <td>52.933240</td>\n    </tr>\n    <tr>\n      <th>555718</th>\n      <td>2020-12-31</td>\n      <td>23:59:34</td>\n      <td>4170689372027579</td>\n      <td>fraud_Dare-Marvin</td>\n      <td>entertainment</td>\n      <td>38.13</td>\n      <td>Samuel</td>\n      <td>Frey</td>\n      <td>M</td>\n      <td>830 Myers Plaza Apt. 384</td>\n      <td>...</td>\n      <td>53</td>\n      <td>38</td>\n      <td>294</td>\n      <td>588</td>\n      <td>61.315165</td>\n      <td>66833.53</td>\n      <td>36.245</td>\n      <td>136.004899</td>\n      <td>27</td>\n      <td>72.438289</td>\n    </tr>\n  </tbody>\n</table>\n<p>555719 rows × 34 columns</p>\n</div>"
     },
     "execution_count": 28,
     "metadata": {},
     "output_type": "execute_result"
    }
   ],
   "source": [
    "df"
   ],
   "metadata": {
    "collapsed": false,
    "ExecuteTime": {
     "end_time": "2024-07-02T23:29:57.371702Z",
     "start_time": "2024-07-02T23:29:57.198804Z"
    }
   },
   "id": "122be8c34e9d4384"
  },
  {
   "cell_type": "code",
   "execution_count": 29,
   "id": "6ab32506358a7673",
   "metadata": {
    "ExecuteTime": {
     "end_time": "2024-07-02T23:29:57.372966Z",
     "start_time": "2024-07-02T23:29:57.341256Z"
    }
   },
   "outputs": [
    {
     "data": {
      "text/plain": "is_fraud\n0    553574\n1      2145\nName: count, dtype: int64"
     },
     "execution_count": 29,
     "metadata": {},
     "output_type": "execute_result"
    }
   ],
   "source": [
    "df['is_fraud'].value_counts()"
   ]
  },
  {
   "cell_type": "markdown",
   "source": [],
   "metadata": {
    "collapsed": false
   },
   "id": "1a9492693d9d0315"
  },
  {
   "cell_type": "markdown",
   "source": [
    "#### Resampling dataset"
   ],
   "metadata": {
    "collapsed": false
   },
   "id": "e01d046d7868221f"
  },
  {
   "cell_type": "code",
   "execution_count": 30,
   "outputs": [
    {
     "name": "stdout",
     "output_type": "stream",
     "text": [
      "Class 0: (553574, 34)\n",
      "Class 1: (2145, 34)\n"
     ]
    }
   ],
   "source": [
    "\n",
    "class_count_0, class_count_1 = df['is_fraud'].value_counts()\n",
    "\n",
    "# Separate the DataFrame into two classes\n",
    "class_0 = df[df['is_fraud'] == 0]\n",
    "class_1 = df[df['is_fraud'] == 1]\n",
    "\n",
    "# Print the shape of each class\n",
    "print('Class 0:', class_0.shape)\n",
    "print('Class 1:', class_1.shape)"
   ],
   "metadata": {
    "collapsed": false,
    "ExecuteTime": {
     "end_time": "2024-07-02T23:29:57.438050Z",
     "start_time": "2024-07-02T23:29:57.348883Z"
    }
   },
   "id": "8add4d3709fe7725"
  },
  {
   "cell_type": "code",
   "execution_count": 31,
   "outputs": [
    {
     "name": "stdout",
     "output_type": "stream",
     "text": [
      "Undersampled dataset shape: (4290, 34)\n",
      "is_fraud\n",
      "0    2145\n",
      "1    2145\n",
      "Name: count, dtype: int64\n"
     ]
    },
    {
     "data": {
      "text/plain": "<Axes: title={'center': 'count(target)'}, xlabel='is_fraud'>"
     },
     "execution_count": 31,
     "metadata": {},
     "output_type": "execute_result"
    },
    {
     "data": {
      "text/plain": "<Figure size 432x288 with 1 Axes>",
      "image/png": "[encoded data removed]"
     },
     "metadata": {
      "needs_background": "light"
     },
     "output_type": "display_data"
    }
   ],
   "source": [
    "# Undersample the majority class\n",
    "class_0_under = class_0.sample(class_count_1)\n",
    "\n",
    "# Combine the undersampled majority class with the minority class\n",
    "df_under = pd.concat([class_0_under, class_1], axis=0)\n",
    "\n",
    "print('Undersampled dataset shape:', df_under.shape)\n",
    "print(df_under['is_fraud'].value_counts())\n",
    "df_under['is_fraud'].value_counts().plot(kind ='bar', title='count(target)')"
   ],
   "metadata": {
    "collapsed": false,
    "ExecuteTime": {
     "end_time": "2024-07-02T23:29:57.642512Z",
     "start_time": "2024-07-02T23:29:57.406448Z"
    }
   },
   "id": "bb0877484b2f2c5a"
  },
  {
   "cell_type": "code",
   "execution_count": 32,
   "outputs": [
    {
     "data": {
      "text/plain": "       trans_date trans_time               cc_num  \\\n485683 2020-12-15   23:21:13      370877495212014   \n158810 2020-08-16   08:16:18         571844099986   \n118634 2020-08-02   03:45:45  4761403817546679245   \n303331 2020-10-13   15:27:15      180011453250192   \n131317 2020-08-05   23:25:27       38588538868506   \n...           ...        ...                  ...   \n517197 2020-12-22   22:05:48     2242176657877538   \n517274 2020-12-22   22:18:07     2242176657877538   \n517341 2020-12-22   22:31:48     2242176657877538   \n517529 2020-12-22   23:06:03     2242176657877538   \n517571 2020-12-22   23:13:39     2242176657877538   \n\n                                   merchant       category      amt  \\\n485683  fraud_Douglas, Schneider and Turner   shopping_pos    97.36   \n158810                  fraud_Ankunding LLC   shopping_net    35.69   \n118634         fraud_Olson, Becker and Koch  gas_transport    67.76   \n303331                fraud_Lubowitz-Walter      kids_pets    57.78   \n131317                      fraud_Upton PLC  entertainment    10.96   \n...                                     ...            ...      ...   \n517197      fraud_Willms, Kris and Bergnaum   shopping_pos  1041.51   \n517274                       fraud_Kuhn LLC   shopping_pos   868.09   \n517341  fraud_Mosciski, Ziemann and Farrell   shopping_net  1039.42   \n517529                   fraud_Bauch-Raynor    grocery_pos   289.27   \n517571           fraud_Jaskolski-Vandervort       misc_net   766.38   \n\n             first    last gender                         street  ... Week  \\\n485683       Sarah   Clark      F   25961 Beverly Union Apt. 042  ...   51   \n158810       Susan   Mills      F               005 Cody Estates  ...   33   \n118634       Diana  Jacobs      F  69608 Perez Mountain Apt. 006  ...   31   \n303331       Craig    Dunn      M          721 Jacqueline Brooks  ...   42   \n131317  Jacqueline   Curry      F                3047 Jeff Place  ...   32   \n...            ...     ...    ...                            ...  ...  ...   \n517197      Travis  Daniel      M    1327 Rose Causeway Apt. 610  ...   52   \n517274      Travis  Daniel      M    1327 Rose Causeway Apt. 610  ...   52   \n517341      Travis  Daniel      M    1327 Rose Causeway Apt. 610  ...   52   \n517529      Travis  Daniel      M    1327 Rose Causeway Apt. 610  ...   52   \n517571      Travis  Daniel      M    1327 Rose Causeway Apt. 610  ...   52   \n\n       transaction_per_week  transactions_per_month  transactions_per_season  \\\n485683                   65                     275                      542   \n158810                   25                      92                      267   \n118634                   26                     103                      293   \n303331                   23                     102                      438   \n131317                   25                     139                      390   \n...                     ...                     ...                      ...   \n517197                   10                      10                       10   \n517274                   10                      10                       10   \n517341                   10                      10                       10   \n517529                   10                      10                       10   \n517571                   10                      10                       10   \n\n        avg_trans_amount  total_trans_amount med_trans_amount  \\\n485683         90.894272            97438.66           55.220   \n158810         74.581400            48477.91           53.475   \n118634         60.878688            39449.39           35.480   \n303331         97.984877            83973.04           75.490   \n131317         55.301033            48167.20           32.090   \n...                  ...                 ...              ...   \n517197        686.806000             6868.06          867.050   \n517274        686.806000             6868.06          867.050   \n517341        686.806000             6868.06          867.050   \n517529        686.806000             6868.06          867.050   \n517571        686.806000             6868.06          867.050   \n\n       std_trans_amount age  distance_to_merch  \n485683       126.128936  36          86.080790  \n158810       132.040926  68          81.588311  \n118634       114.020127  34          53.691356  \n303331        97.454044  27         118.316175  \n131317       117.561412  29          52.175281  \n...                 ...  ..                ...  \n517197       419.152774  61           6.945705  \n517274       419.152774  61          75.956505  \n517341       419.152774  61          36.534673  \n517529       419.152774  61          48.808449  \n517571       419.152774  61         118.839046  \n\n[4290 rows x 34 columns]",
      "text/html": "<div>\n<style scoped>\n    .dataframe tbody tr th:only-of-type {\n        vertical-align: middle;\n    }\n\n    .dataframe tbody tr th {\n        vertical-align: top;\n    }\n\n    .dataframe thead th {\n        text-align: right;\n    }\n</style>\n<table border=\"1\" class=\"dataframe\">\n  <thead>\n    <tr style=\"text-align: right;\">\n      <th></th>\n      <th>trans_date</th>\n      <th>trans_time</th>\n      <th>cc_num</th>\n      <th>merchant</th>\n      <th>category</th>\n      <th>amt</th>\n      <th>first</th>\n      <th>last</th>\n      <th>gender</th>\n      <th>street</th>\n      <th>...</th>\n      <th>Week</th>\n      <th>transaction_per_week</th>\n      <th>transactions_per_month</th>\n      <th>transactions_per_season</th>\n      <th>avg_trans_amount</th>\n      <th>total_trans_amount</th>\n      <th>med_trans_amount</th>\n      <th>std_trans_amount</th>\n      <th>age</th>\n      <th>distance_to_merch</th>\n    </tr>\n  </thead>\n  <tbody>\n    <tr>\n      <th>485683</th>\n      <td>2020-12-15</td>\n      <td>23:21:13</td>\n      <td>370877495212014</td>\n      <td>fraud_Douglas, Schneider and Turner</td>\n      <td>shopping_pos</td>\n      <td>97.36</td>\n      <td>Sarah</td>\n      <td>Clark</td>\n      <td>F</td>\n      <td>25961 Beverly Union Apt. 042</td>\n      <td>...</td>\n      <td>51</td>\n      <td>65</td>\n      <td>275</td>\n      <td>542</td>\n      <td>90.894272</td>\n      <td>97438.66</td>\n      <td>55.220</td>\n      <td>126.128936</td>\n      <td>36</td>\n      <td>86.080790</td>\n    </tr>\n    <tr>\n      <th>158810</th>\n      <td>2020-08-16</td>\n      <td>08:16:18</td>\n      <td>571844099986</td>\n      <td>fraud_Ankunding LLC</td>\n      <td>shopping_net</td>\n      <td>35.69</td>\n      <td>Susan</td>\n      <td>Mills</td>\n      <td>F</td>\n      <td>005 Cody Estates</td>\n      <td>...</td>\n      <td>33</td>\n      <td>25</td>\n      <td>92</td>\n      <td>267</td>\n      <td>74.581400</td>\n      <td>48477.91</td>\n      <td>53.475</td>\n      <td>132.040926</td>\n      <td>68</td>\n      <td>81.588311</td>\n    </tr>\n    <tr>\n      <th>118634</th>\n      <td>2020-08-02</td>\n      <td>03:45:45</td>\n      <td>4761403817546679245</td>\n      <td>fraud_Olson, Becker and Koch</td>\n      <td>gas_transport</td>\n      <td>67.76</td>\n      <td>Diana</td>\n      <td>Jacobs</td>\n      <td>F</td>\n      <td>69608 Perez Mountain Apt. 006</td>\n      <td>...</td>\n      <td>31</td>\n      <td>26</td>\n      <td>103</td>\n      <td>293</td>\n      <td>60.878688</td>\n      <td>39449.39</td>\n      <td>35.480</td>\n      <td>114.020127</td>\n      <td>34</td>\n      <td>53.691356</td>\n    </tr>\n    <tr>\n      <th>303331</th>\n      <td>2020-10-13</td>\n      <td>15:27:15</td>\n      <td>180011453250192</td>\n      <td>fraud_Lubowitz-Walter</td>\n      <td>kids_pets</td>\n      <td>57.78</td>\n      <td>Craig</td>\n      <td>Dunn</td>\n      <td>M</td>\n      <td>721 Jacqueline Brooks</td>\n      <td>...</td>\n      <td>42</td>\n      <td>23</td>\n      <td>102</td>\n      <td>438</td>\n      <td>97.984877</td>\n      <td>83973.04</td>\n      <td>75.490</td>\n      <td>97.454044</td>\n      <td>27</td>\n      <td>118.316175</td>\n    </tr>\n    <tr>\n      <th>131317</th>\n      <td>2020-08-05</td>\n      <td>23:25:27</td>\n      <td>38588538868506</td>\n      <td>fraud_Upton PLC</td>\n      <td>entertainment</td>\n      <td>10.96</td>\n      <td>Jacqueline</td>\n      <td>Curry</td>\n      <td>F</td>\n      <td>3047 Jeff Place</td>\n      <td>...</td>\n      <td>32</td>\n      <td>25</td>\n      <td>139</td>\n      <td>390</td>\n      <td>55.301033</td>\n      <td>48167.20</td>\n      <td>32.090</td>\n      <td>117.561412</td>\n      <td>29</td>\n      <td>52.175281</td>\n    </tr>\n    <tr>\n      <th>...</th>\n      <td>...</td>\n      <td>...</td>\n      <td>...</td>\n      <td>...</td>\n      <td>...</td>\n      <td>...</td>\n      <td>...</td>\n      <td>...</td>\n      <td>...</td>\n      <td>...</td>\n      <td>...</td>\n      <td>...</td>\n      <td>...</td>\n      <td>...</td>\n      <td>...</td>\n      <td>...</td>\n      <td>...</td>\n      <td>...</td>\n      <td>...</td>\n      <td>...</td>\n      <td>...</td>\n    </tr>\n    <tr>\n      <th>517197</th>\n      <td>2020-12-22</td>\n      <td>22:05:48</td>\n      <td>2242176657877538</td>\n      <td>fraud_Willms, Kris and Bergnaum</td>\n      <td>shopping_pos</td>\n      <td>1041.51</td>\n      <td>Travis</td>\n      <td>Daniel</td>\n      <td>M</td>\n      <td>1327 Rose Causeway Apt. 610</td>\n      <td>...</td>\n      <td>52</td>\n      <td>10</td>\n      <td>10</td>\n      <td>10</td>\n      <td>686.806000</td>\n      <td>6868.06</td>\n      <td>867.050</td>\n      <td>419.152774</td>\n      <td>61</td>\n      <td>6.945705</td>\n    </tr>\n    <tr>\n      <th>517274</th>\n      <td>2020-12-22</td>\n      <td>22:18:07</td>\n      <td>2242176657877538</td>\n      <td>fraud_Kuhn LLC</td>\n      <td>shopping_pos</td>\n      <td>868.09</td>\n      <td>Travis</td>\n      <td>Daniel</td>\n      <td>M</td>\n      <td>1327 Rose Causeway Apt. 610</td>\n      <td>...</td>\n      <td>52</td>\n      <td>10</td>\n      <td>10</td>\n      <td>10</td>\n      <td>686.806000</td>\n      <td>6868.06</td>\n      <td>867.050</td>\n      <td>419.152774</td>\n      <td>61</td>\n      <td>75.956505</td>\n    </tr>\n    <tr>\n      <th>517341</th>\n      <td>2020-12-22</td>\n      <td>22:31:48</td>\n      <td>2242176657877538</td>\n      <td>fraud_Mosciski, Ziemann and Farrell</td>\n      <td>shopping_net</td>\n      <td>1039.42</td>\n      <td>Travis</td>\n      <td>Daniel</td>\n      <td>M</td>\n      <td>1327 Rose Causeway Apt. 610</td>\n      <td>...</td>\n      <td>52</td>\n      <td>10</td>\n      <td>10</td>\n      <td>10</td>\n      <td>686.806000</td>\n      <td>6868.06</td>\n      <td>867.050</td>\n      <td>419.152774</td>\n      <td>61</td>\n      <td>36.534673</td>\n    </tr>\n    <tr>\n      <th>517529</th>\n      <td>2020-12-22</td>\n      <td>23:06:03</td>\n      <td>2242176657877538</td>\n      <td>fraud_Bauch-Raynor</td>\n      <td>grocery_pos</td>\n      <td>289.27</td>\n      <td>Travis</td>\n      <td>Daniel</td>\n      <td>M</td>\n      <td>1327 Rose Causeway Apt. 610</td>\n      <td>...</td>\n      <td>52</td>\n      <td>10</td>\n      <td>10</td>\n      <td>10</td>\n      <td>686.806000</td>\n      <td>6868.06</td>\n      <td>867.050</td>\n      <td>419.152774</td>\n      <td>61</td>\n      <td>48.808449</td>\n    </tr>\n    <tr>\n      <th>517571</th>\n      <td>2020-12-22</td>\n      <td>23:13:39</td>\n      <td>2242176657877538</td>\n      <td>fraud_Jaskolski-Vandervort</td>\n      <td>misc_net</td>\n      <td>766.38</td>\n      <td>Travis</td>\n      <td>Daniel</td>\n      <td>M</td>\n      <td>1327 Rose Causeway Apt. 610</td>\n      <td>...</td>\n      <td>52</td>\n      <td>10</td>\n      <td>10</td>\n      <td>10</td>\n      <td>686.806000</td>\n      <td>6868.06</td>\n      <td>867.050</td>\n      <td>419.152774</td>\n      <td>61</td>\n      <td>118.839046</td>\n    </tr>\n  </tbody>\n</table>\n<p>4290 rows × 34 columns</p>\n</div>"
     },
     "execution_count": 32,
     "metadata": {},
     "output_type": "execute_result"
    }
   ],
   "source": [
    "df_under\n"
   ],
   "metadata": {
    "collapsed": false,
    "ExecuteTime": {
     "end_time": "2024-07-02T23:29:57.700051Z",
     "start_time": "2024-07-02T23:29:57.572453Z"
    }
   },
   "id": "bd6d1638c8e2c4da"
  },
  {
   "cell_type": "code",
   "execution_count": 32,
   "outputs": [],
   "source": [],
   "metadata": {
    "collapsed": false,
    "ExecuteTime": {
     "end_time": "2024-07-02T23:29:57.720423Z",
     "start_time": "2024-07-02T23:29:57.591620Z"
    }
   },
   "id": "f7f323aeff18edf6"
  }
 ],
 "metadata": {
  "kernelspec": {
   "display_name": "Python 3",
   "language": "python",
   "name": "python3"
  },
  "language_info": {
   "codemirror_mode": {
    "name": "ipython",
    "version": 3
   },
   "file_extension": ".py",
   "mimetype": "text/x-python",
   "name": "python",
   "nbconvert_exporter": "python",
   "pygments_lexer": "ipython3",
   "version": "3.9.12"
  }
 },
 "nbformat": 4,
 "nbformat_minor": 5
}
