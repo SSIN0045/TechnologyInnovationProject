{
 "cells": [
  {
   "cell_type": "code",
   "metadata": {
    "ExecuteTime": {
     "end_time": "2024-08-12T00:31:47.109168Z",
     "start_time": "2024-08-12T00:31:45.502964Z"
    }
   },
   "source": [
    "pip install xgboost"
   ],
   "outputs": [
    {
     "name": "stdout",
     "output_type": "stream",
     "text": [
      "Requirement already satisfied: xgboost in /Users/nglongvu1002/opt/anaconda3/lib/python3.9/site-packages (2.1.0)\r\n",
      "Requirement already satisfied: numpy in /Users/nglongvu1002/opt/anaconda3/lib/python3.9/site-packages (from xgboost) (2.0.0)\r\n",
      "Requirement already satisfied: scipy in /Users/nglongvu1002/opt/anaconda3/lib/python3.9/site-packages (from xgboost) (1.13.1)\r\n",
      "\r\n",
      "\u001B[1m[\u001B[0m\u001B[34;49mnotice\u001B[0m\u001B[1;39;49m]\u001B[0m\u001B[39;49m A new release of pip is available: \u001B[0m\u001B[31;49m24.1\u001B[0m\u001B[39;49m -> \u001B[0m\u001B[32;49m24.2\u001B[0m\r\n",
      "\u001B[1m[\u001B[0m\u001B[34;49mnotice\u001B[0m\u001B[1;39;49m]\u001B[0m\u001B[39;49m To update, run: \u001B[0m\u001B[32;49mpip install --upgrade pip\u001B[0m\r\n",
      "Note: you may need to restart the kernel to use updated packages.\n"
     ]
    }
   ],
   "execution_count": 298
  },
  {
   "cell_type": "code",
   "metadata": {
    "ExecuteTime": {
     "end_time": "2024-08-12T00:31:47.113763Z",
     "start_time": "2024-08-12T00:31:47.111161Z"
    }
   },
   "source": [
    "import xgboost as xgb\n",
    "print(xgb.__version__)"
   ],
   "outputs": [
    {
     "name": "stdout",
     "output_type": "stream",
     "text": [
      "2.1.0\n"
     ]
    }
   ],
   "execution_count": 299
  },
  {
   "cell_type": "code",
   "metadata": {
    "ExecuteTime": {
     "end_time": "2024-08-12T00:31:47.121665Z",
     "start_time": "2024-08-12T00:31:47.116323Z"
    }
   },
   "source": [
    "import pandas as pd\n",
    "import seaborn as sns\n",
    "import matplotlib.pyplot as plt\n",
    "from xgboost import XGBClassifier\n",
    "from sklearn.model_selection import train_test_split\n",
    "from sklearn.preprocessing import LabelEncoder\n",
    "import math\n",
    "from sklearn.ensemble import RandomForestClassifier\n",
    "from sklearn.neighbors import KNeighborsClassifier\n",
    "from sklearn.linear_model import LogisticRegression\n",
    "from sklearn.preprocessing import StandardScaler\n",
    "from sklearn.metrics import roc_auc_score, classification_report, confusion_matrix, average_precision_score, precision_score, recall_score, f1_score\n",
    "from sklearn.tree import DecisionTreeClassifier\n",
    "from sklearn.svm import SVC\n",
    "from scipy.stats import chi2_contingency\n",
    "from sklearn.metrics import accuracy_score\n",
    "from sklearn.model_selection import GridSearchCV\n",
    "from xgboost import XGBClassifier\n",
    "from datetime import datetime\n",
    "import pandas as pd\n",
    "from sklearn.model_selection import train_test_split\n",
    "from sklearn.metrics import accuracy_score, classification_report, confusion_matrix\n",
    "import seaborn as sns\n",
    "import matplotlib.pyplot as plt\n",
    "import joblib"
   ],
   "outputs": [],
   "execution_count": 300
  },
  {
   "cell_type": "code",
   "metadata": {
    "ExecuteTime": {
     "end_time": "2024-08-12T00:31:49.662855Z",
     "start_time": "2024-08-12T00:31:47.123480Z"
    }
   },
   "source": [
    "df = pd.read_csv('/Users/nglongvu1002/Desktop/dataset/fraudTest.csv')   \n",
    "df.info()"
   ],
   "outputs": [
    {
     "name": "stdout",
     "output_type": "stream",
     "text": [
      "<class 'pandas.core.frame.DataFrame'>\n",
      "RangeIndex: 555719 entries, 0 to 555718\n",
      "Data columns (total 23 columns):\n",
      " #   Column                 Non-Null Count   Dtype  \n",
      "---  ------                 --------------   -----  \n",
      " 0   Unnamed: 0             555719 non-null  int64  \n",
      " 1   trans_date_trans_time  555719 non-null  object \n",
      " 2   cc_num                 555719 non-null  int64  \n",
      " 3   merchant               555719 non-null  object \n",
      " 4   category               555719 non-null  object \n",
      " 5   amt                    555719 non-null  float64\n",
      " 6   first                  555719 non-null  object \n",
      " 7   last                   555719 non-null  object \n",
      " 8   gender                 555719 non-null  object \n",
      " 9   street                 555719 non-null  object \n",
      " 10  city                   555719 non-null  object \n",
      " 11  state                  555719 non-null  object \n",
      " 12  zip                    555719 non-null  int64  \n",
      " 13  lat                    555719 non-null  float64\n",
      " 14  long                   555719 non-null  float64\n",
      " 15  city_pop               555719 non-null  int64  \n",
      " 16  job                    555719 non-null  object \n",
      " 17  dob                    555719 non-null  object \n",
      " 18  trans_num              555719 non-null  object \n",
      " 19  unix_time              555719 non-null  int64  \n",
      " 20  merch_lat              555719 non-null  float64\n",
      " 21  merch_long             555719 non-null  float64\n",
      " 22  is_fraud               555719 non-null  int64  \n",
      "dtypes: float64(5), int64(6), object(12)\n",
      "memory usage: 97.5+ MB\n"
     ]
    }
   ],
   "execution_count": 301
  },
  {
   "cell_type": "code",
   "metadata": {
    "ExecuteTime": {
     "end_time": "2024-08-12T00:31:49.678193Z",
     "start_time": "2024-08-12T00:31:49.664192Z"
    }
   },
   "source": [
    "#Display the data\n",
    "df.head()"
   ],
   "outputs": [
    {
     "data": {
      "text/plain": [
       "   Unnamed: 0 trans_date_trans_time            cc_num  \\\n",
       "0           0   2020-06-21 12:14:25  2291163933867244   \n",
       "1           1   2020-06-21 12:14:33  3573030041201292   \n",
       "2           2   2020-06-21 12:14:53  3598215285024754   \n",
       "3           3   2020-06-21 12:15:15  3591919803438423   \n",
       "4           4   2020-06-21 12:15:17  3526826139003047   \n",
       "\n",
       "                               merchant        category    amt   first  \\\n",
       "0                 fraud_Kirlin and Sons   personal_care   2.86    Jeff   \n",
       "1                  fraud_Sporer-Keebler   personal_care  29.84  Joanne   \n",
       "2  fraud_Swaniawski, Nitzsche and Welch  health_fitness  41.28  Ashley   \n",
       "3                     fraud_Haley Group        misc_pos  60.05   Brian   \n",
       "4                 fraud_Johnston-Casper          travel   3.19  Nathan   \n",
       "\n",
       "       last gender                       street  ...      lat      long  \\\n",
       "0   Elliott      M            351 Darlene Green  ...  33.9659  -80.9355   \n",
       "1  Williams      F             3638 Marsh Union  ...  40.3207 -110.4360   \n",
       "2     Lopez      F         9333 Valentine Point  ...  40.6729  -73.5365   \n",
       "3  Williams      M  32941 Krystal Mill Apt. 552  ...  28.5697  -80.8191   \n",
       "4    Massey      M     5783 Evan Roads Apt. 465  ...  44.2529  -85.0170   \n",
       "\n",
       "   city_pop                     job         dob  \\\n",
       "0    333497     Mechanical engineer  1968-03-19   \n",
       "1       302  Sales professional, IT  1990-01-17   \n",
       "2     34496       Librarian, public  1970-10-21   \n",
       "3     54767            Set designer  1987-07-25   \n",
       "4      1126      Furniture designer  1955-07-06   \n",
       "\n",
       "                          trans_num   unix_time  merch_lat  merch_long  \\\n",
       "0  2da90c7d74bd46a0caf3777415b3ebd3  1371816865  33.986391  -81.200714   \n",
       "1  324cc204407e99f51b0d6ca0055005e7  1371816873  39.450498 -109.960431   \n",
       "2  c81755dbbbea9d5c77f094348a7579be  1371816893  40.495810  -74.196111   \n",
       "3  2159175b9efe66dc301f149d3d5abf8c  1371816915  28.812398  -80.883061   \n",
       "4  57ff021bd3f328f8738bb535c302a31b  1371816917  44.959148  -85.884734   \n",
       "\n",
       "   is_fraud  \n",
       "0         0  \n",
       "1         0  \n",
       "2         0  \n",
       "3         0  \n",
       "4         0  \n",
       "\n",
       "[5 rows x 23 columns]"
      ],
      "text/html": [
       "<div>\n",
       "<style scoped>\n",
       "    .dataframe tbody tr th:only-of-type {\n",
       "        vertical-align: middle;\n",
       "    }\n",
       "\n",
       "    .dataframe tbody tr th {\n",
       "        vertical-align: top;\n",
       "    }\n",
       "\n",
       "    .dataframe thead th {\n",
       "        text-align: right;\n",
       "    }\n",
       "</style>\n",
       "<table border=\"1\" class=\"dataframe\">\n",
       "  <thead>\n",
       "    <tr style=\"text-align: right;\">\n",
       "      <th></th>\n",
       "      <th>Unnamed: 0</th>\n",
       "      <th>trans_date_trans_time</th>\n",
       "      <th>cc_num</th>\n",
       "      <th>merchant</th>\n",
       "      <th>category</th>\n",
       "      <th>amt</th>\n",
       "      <th>first</th>\n",
       "      <th>last</th>\n",
       "      <th>gender</th>\n",
       "      <th>street</th>\n",
       "      <th>...</th>\n",
       "      <th>lat</th>\n",
       "      <th>long</th>\n",
       "      <th>city_pop</th>\n",
       "      <th>job</th>\n",
       "      <th>dob</th>\n",
       "      <th>trans_num</th>\n",
       "      <th>unix_time</th>\n",
       "      <th>merch_lat</th>\n",
       "      <th>merch_long</th>\n",
       "      <th>is_fraud</th>\n",
       "    </tr>\n",
       "  </thead>\n",
       "  <tbody>\n",
       "    <tr>\n",
       "      <th>0</th>\n",
       "      <td>0</td>\n",
       "      <td>2020-06-21 12:14:25</td>\n",
       "      <td>2291163933867244</td>\n",
       "      <td>fraud_Kirlin and Sons</td>\n",
       "      <td>personal_care</td>\n",
       "      <td>2.86</td>\n",
       "      <td>Jeff</td>\n",
       "      <td>Elliott</td>\n",
       "      <td>M</td>\n",
       "      <td>351 Darlene Green</td>\n",
       "      <td>...</td>\n",
       "      <td>33.9659</td>\n",
       "      <td>-80.9355</td>\n",
       "      <td>333497</td>\n",
       "      <td>Mechanical engineer</td>\n",
       "      <td>1968-03-19</td>\n",
       "      <td>2da90c7d74bd46a0caf3777415b3ebd3</td>\n",
       "      <td>1371816865</td>\n",
       "      <td>33.986391</td>\n",
       "      <td>-81.200714</td>\n",
       "      <td>0</td>\n",
       "    </tr>\n",
       "    <tr>\n",
       "      <th>1</th>\n",
       "      <td>1</td>\n",
       "      <td>2020-06-21 12:14:33</td>\n",
       "      <td>3573030041201292</td>\n",
       "      <td>fraud_Sporer-Keebler</td>\n",
       "      <td>personal_care</td>\n",
       "      <td>29.84</td>\n",
       "      <td>Joanne</td>\n",
       "      <td>Williams</td>\n",
       "      <td>F</td>\n",
       "      <td>3638 Marsh Union</td>\n",
       "      <td>...</td>\n",
       "      <td>40.3207</td>\n",
       "      <td>-110.4360</td>\n",
       "      <td>302</td>\n",
       "      <td>Sales professional, IT</td>\n",
       "      <td>1990-01-17</td>\n",
       "      <td>324cc204407e99f51b0d6ca0055005e7</td>\n",
       "      <td>1371816873</td>\n",
       "      <td>39.450498</td>\n",
       "      <td>-109.960431</td>\n",
       "      <td>0</td>\n",
       "    </tr>\n",
       "    <tr>\n",
       "      <th>2</th>\n",
       "      <td>2</td>\n",
       "      <td>2020-06-21 12:14:53</td>\n",
       "      <td>3598215285024754</td>\n",
       "      <td>fraud_Swaniawski, Nitzsche and Welch</td>\n",
       "      <td>health_fitness</td>\n",
       "      <td>41.28</td>\n",
       "      <td>Ashley</td>\n",
       "      <td>Lopez</td>\n",
       "      <td>F</td>\n",
       "      <td>9333 Valentine Point</td>\n",
       "      <td>...</td>\n",
       "      <td>40.6729</td>\n",
       "      <td>-73.5365</td>\n",
       "      <td>34496</td>\n",
       "      <td>Librarian, public</td>\n",
       "      <td>1970-10-21</td>\n",
       "      <td>c81755dbbbea9d5c77f094348a7579be</td>\n",
       "      <td>1371816893</td>\n",
       "      <td>40.495810</td>\n",
       "      <td>-74.196111</td>\n",
       "      <td>0</td>\n",
       "    </tr>\n",
       "    <tr>\n",
       "      <th>3</th>\n",
       "      <td>3</td>\n",
       "      <td>2020-06-21 12:15:15</td>\n",
       "      <td>3591919803438423</td>\n",
       "      <td>fraud_Haley Group</td>\n",
       "      <td>misc_pos</td>\n",
       "      <td>60.05</td>\n",
       "      <td>Brian</td>\n",
       "      <td>Williams</td>\n",
       "      <td>M</td>\n",
       "      <td>32941 Krystal Mill Apt. 552</td>\n",
       "      <td>...</td>\n",
       "      <td>28.5697</td>\n",
       "      <td>-80.8191</td>\n",
       "      <td>54767</td>\n",
       "      <td>Set designer</td>\n",
       "      <td>1987-07-25</td>\n",
       "      <td>2159175b9efe66dc301f149d3d5abf8c</td>\n",
       "      <td>1371816915</td>\n",
       "      <td>28.812398</td>\n",
       "      <td>-80.883061</td>\n",
       "      <td>0</td>\n",
       "    </tr>\n",
       "    <tr>\n",
       "      <th>4</th>\n",
       "      <td>4</td>\n",
       "      <td>2020-06-21 12:15:17</td>\n",
       "      <td>3526826139003047</td>\n",
       "      <td>fraud_Johnston-Casper</td>\n",
       "      <td>travel</td>\n",
       "      <td>3.19</td>\n",
       "      <td>Nathan</td>\n",
       "      <td>Massey</td>\n",
       "      <td>M</td>\n",
       "      <td>5783 Evan Roads Apt. 465</td>\n",
       "      <td>...</td>\n",
       "      <td>44.2529</td>\n",
       "      <td>-85.0170</td>\n",
       "      <td>1126</td>\n",
       "      <td>Furniture designer</td>\n",
       "      <td>1955-07-06</td>\n",
       "      <td>57ff021bd3f328f8738bb535c302a31b</td>\n",
       "      <td>1371816917</td>\n",
       "      <td>44.959148</td>\n",
       "      <td>-85.884734</td>\n",
       "      <td>0</td>\n",
       "    </tr>\n",
       "  </tbody>\n",
       "</table>\n",
       "<p>5 rows × 23 columns</p>\n",
       "</div>"
      ]
     },
     "execution_count": 302,
     "metadata": {},
     "output_type": "execute_result"
    }
   ],
   "execution_count": 302
  },
  {
   "cell_type": "code",
   "metadata": {
    "ExecuteTime": {
     "end_time": "2024-08-12T00:31:49.856998Z",
     "start_time": "2024-08-12T00:31:49.679621Z"
    }
   },
   "source": [
    "#Summary the description of the dataset\n",
    "df.describe()"
   ],
   "outputs": [
    {
     "data": {
      "text/plain": [
       "          Unnamed: 0        cc_num            amt            zip  \\\n",
       "count  555719.000000  5.557190e+05  555719.000000  555719.000000   \n",
       "mean   277859.000000  4.178387e+17      69.392810   48842.628015   \n",
       "std    160422.401459  1.309837e+18     156.745941   26855.283328   \n",
       "min         0.000000  6.041621e+10       1.000000    1257.000000   \n",
       "25%    138929.500000  1.800429e+14       9.630000   26292.000000   \n",
       "50%    277859.000000  3.521417e+15      47.290000   48174.000000   \n",
       "75%    416788.500000  4.635331e+15      83.010000   72011.000000   \n",
       "max    555718.000000  4.992346e+18   22768.110000   99921.000000   \n",
       "\n",
       "                 lat           long      city_pop     unix_time  \\\n",
       "count  555719.000000  555719.000000  5.557190e+05  5.557190e+05   \n",
       "mean       38.543253     -90.231325  8.822189e+04  1.380679e+09   \n",
       "std         5.061336      13.721780  3.003909e+05  5.201104e+06   \n",
       "min        20.027100    -165.672300  2.300000e+01  1.371817e+09   \n",
       "25%        34.668900     -96.798000  7.410000e+02  1.376029e+09   \n",
       "50%        39.371600     -87.476900  2.408000e+03  1.380762e+09   \n",
       "75%        41.894800     -80.175200  1.968500e+04  1.385867e+09   \n",
       "max        65.689900     -67.950300  2.906700e+06  1.388534e+09   \n",
       "\n",
       "           merch_lat     merch_long       is_fraud  \n",
       "count  555719.000000  555719.000000  555719.000000  \n",
       "mean       38.542798     -90.231380       0.003860  \n",
       "std         5.095829      13.733071       0.062008  \n",
       "min        19.027422    -166.671575       0.000000  \n",
       "25%        34.755302     -96.905129       0.000000  \n",
       "50%        39.376593     -87.445204       0.000000  \n",
       "75%        41.954163     -80.264637       0.000000  \n",
       "max        66.679297     -66.952026       1.000000  "
      ],
      "text/html": [
       "<div>\n",
       "<style scoped>\n",
       "    .dataframe tbody tr th:only-of-type {\n",
       "        vertical-align: middle;\n",
       "    }\n",
       "\n",
       "    .dataframe tbody tr th {\n",
       "        vertical-align: top;\n",
       "    }\n",
       "\n",
       "    .dataframe thead th {\n",
       "        text-align: right;\n",
       "    }\n",
       "</style>\n",
       "<table border=\"1\" class=\"dataframe\">\n",
       "  <thead>\n",
       "    <tr style=\"text-align: right;\">\n",
       "      <th></th>\n",
       "      <th>Unnamed: 0</th>\n",
       "      <th>cc_num</th>\n",
       "      <th>amt</th>\n",
       "      <th>zip</th>\n",
       "      <th>lat</th>\n",
       "      <th>long</th>\n",
       "      <th>city_pop</th>\n",
       "      <th>unix_time</th>\n",
       "      <th>merch_lat</th>\n",
       "      <th>merch_long</th>\n",
       "      <th>is_fraud</th>\n",
       "    </tr>\n",
       "  </thead>\n",
       "  <tbody>\n",
       "    <tr>\n",
       "      <th>count</th>\n",
       "      <td>555719.000000</td>\n",
       "      <td>5.557190e+05</td>\n",
       "      <td>555719.000000</td>\n",
       "      <td>555719.000000</td>\n",
       "      <td>555719.000000</td>\n",
       "      <td>555719.000000</td>\n",
       "      <td>5.557190e+05</td>\n",
       "      <td>5.557190e+05</td>\n",
       "      <td>555719.000000</td>\n",
       "      <td>555719.000000</td>\n",
       "      <td>555719.000000</td>\n",
       "    </tr>\n",
       "    <tr>\n",
       "      <th>mean</th>\n",
       "      <td>277859.000000</td>\n",
       "      <td>4.178387e+17</td>\n",
       "      <td>69.392810</td>\n",
       "      <td>48842.628015</td>\n",
       "      <td>38.543253</td>\n",
       "      <td>-90.231325</td>\n",
       "      <td>8.822189e+04</td>\n",
       "      <td>1.380679e+09</td>\n",
       "      <td>38.542798</td>\n",
       "      <td>-90.231380</td>\n",
       "      <td>0.003860</td>\n",
       "    </tr>\n",
       "    <tr>\n",
       "      <th>std</th>\n",
       "      <td>160422.401459</td>\n",
       "      <td>1.309837e+18</td>\n",
       "      <td>156.745941</td>\n",
       "      <td>26855.283328</td>\n",
       "      <td>5.061336</td>\n",
       "      <td>13.721780</td>\n",
       "      <td>3.003909e+05</td>\n",
       "      <td>5.201104e+06</td>\n",
       "      <td>5.095829</td>\n",
       "      <td>13.733071</td>\n",
       "      <td>0.062008</td>\n",
       "    </tr>\n",
       "    <tr>\n",
       "      <th>min</th>\n",
       "      <td>0.000000</td>\n",
       "      <td>6.041621e+10</td>\n",
       "      <td>1.000000</td>\n",
       "      <td>1257.000000</td>\n",
       "      <td>20.027100</td>\n",
       "      <td>-165.672300</td>\n",
       "      <td>2.300000e+01</td>\n",
       "      <td>1.371817e+09</td>\n",
       "      <td>19.027422</td>\n",
       "      <td>-166.671575</td>\n",
       "      <td>0.000000</td>\n",
       "    </tr>\n",
       "    <tr>\n",
       "      <th>25%</th>\n",
       "      <td>138929.500000</td>\n",
       "      <td>1.800429e+14</td>\n",
       "      <td>9.630000</td>\n",
       "      <td>26292.000000</td>\n",
       "      <td>34.668900</td>\n",
       "      <td>-96.798000</td>\n",
       "      <td>7.410000e+02</td>\n",
       "      <td>1.376029e+09</td>\n",
       "      <td>34.755302</td>\n",
       "      <td>-96.905129</td>\n",
       "      <td>0.000000</td>\n",
       "    </tr>\n",
       "    <tr>\n",
       "      <th>50%</th>\n",
       "      <td>277859.000000</td>\n",
       "      <td>3.521417e+15</td>\n",
       "      <td>47.290000</td>\n",
       "      <td>48174.000000</td>\n",
       "      <td>39.371600</td>\n",
       "      <td>-87.476900</td>\n",
       "      <td>2.408000e+03</td>\n",
       "      <td>1.380762e+09</td>\n",
       "      <td>39.376593</td>\n",
       "      <td>-87.445204</td>\n",
       "      <td>0.000000</td>\n",
       "    </tr>\n",
       "    <tr>\n",
       "      <th>75%</th>\n",
       "      <td>416788.500000</td>\n",
       "      <td>4.635331e+15</td>\n",
       "      <td>83.010000</td>\n",
       "      <td>72011.000000</td>\n",
       "      <td>41.894800</td>\n",
       "      <td>-80.175200</td>\n",
       "      <td>1.968500e+04</td>\n",
       "      <td>1.385867e+09</td>\n",
       "      <td>41.954163</td>\n",
       "      <td>-80.264637</td>\n",
       "      <td>0.000000</td>\n",
       "    </tr>\n",
       "    <tr>\n",
       "      <th>max</th>\n",
       "      <td>555718.000000</td>\n",
       "      <td>4.992346e+18</td>\n",
       "      <td>22768.110000</td>\n",
       "      <td>99921.000000</td>\n",
       "      <td>65.689900</td>\n",
       "      <td>-67.950300</td>\n",
       "      <td>2.906700e+06</td>\n",
       "      <td>1.388534e+09</td>\n",
       "      <td>66.679297</td>\n",
       "      <td>-66.952026</td>\n",
       "      <td>1.000000</td>\n",
       "    </tr>\n",
       "  </tbody>\n",
       "</table>\n",
       "</div>"
      ]
     },
     "execution_count": 303,
     "metadata": {},
     "output_type": "execute_result"
    }
   ],
   "execution_count": 303
  },
  {
   "cell_type": "code",
   "metadata": {
    "ExecuteTime": {
     "end_time": "2024-08-12T00:31:49.865947Z",
     "start_time": "2024-08-12T00:31:49.858770Z"
    }
   },
   "source": [
    "#Distribute the class\n",
    "df[('is_fraud')].value_counts()"
   ],
   "outputs": [
    {
     "data": {
      "text/plain": [
       "is_fraud\n",
       "0    553574\n",
       "1      2145\n",
       "Name: count, dtype: int64"
      ]
     },
     "execution_count": 304,
     "metadata": {},
     "output_type": "execute_result"
    }
   ],
   "execution_count": 304
  },
  {
   "cell_type": "code",
   "metadata": {
    "ExecuteTime": {
     "end_time": "2024-08-12T00:31:50.828583Z",
     "start_time": "2024-08-12T00:31:49.869128Z"
    }
   },
   "source": [
    "# Convert the 'trans_date_trans_time' column to datetime and then extract the date and time\n",
    "df['trans_date'] = pd.to_datetime(df['trans_date_trans_time'], format='%Y-%m-%d %H:%M:%S').dt.date\n",
    "df['trans_time'] = pd.to_datetime(df['trans_date_trans_time'], format='%Y-%m-%d %H:%M:%S').dt.time\n",
    "\n",
    "# Check the data types of the columns\n",
    "df.info()\n",
    "\n"
   ],
   "outputs": [
    {
     "name": "stdout",
     "output_type": "stream",
     "text": [
      "<class 'pandas.core.frame.DataFrame'>\n",
      "RangeIndex: 555719 entries, 0 to 555718\n",
      "Data columns (total 25 columns):\n",
      " #   Column                 Non-Null Count   Dtype  \n",
      "---  ------                 --------------   -----  \n",
      " 0   Unnamed: 0             555719 non-null  int64  \n",
      " 1   trans_date_trans_time  555719 non-null  object \n",
      " 2   cc_num                 555719 non-null  int64  \n",
      " 3   merchant               555719 non-null  object \n",
      " 4   category               555719 non-null  object \n",
      " 5   amt                    555719 non-null  float64\n",
      " 6   first                  555719 non-null  object \n",
      " 7   last                   555719 non-null  object \n",
      " 8   gender                 555719 non-null  object \n",
      " 9   street                 555719 non-null  object \n",
      " 10  city                   555719 non-null  object \n",
      " 11  state                  555719 non-null  object \n",
      " 12  zip                    555719 non-null  int64  \n",
      " 13  lat                    555719 non-null  float64\n",
      " 14  long                   555719 non-null  float64\n",
      " 15  city_pop               555719 non-null  int64  \n",
      " 16  job                    555719 non-null  object \n",
      " 17  dob                    555719 non-null  object \n",
      " 18  trans_num              555719 non-null  object \n",
      " 19  unix_time              555719 non-null  int64  \n",
      " 20  merch_lat              555719 non-null  float64\n",
      " 21  merch_long             555719 non-null  float64\n",
      " 22  is_fraud               555719 non-null  int64  \n",
      " 23  trans_date             555719 non-null  object \n",
      " 24  trans_time             555719 non-null  object \n",
      "dtypes: float64(5), int64(6), object(14)\n",
      "memory usage: 106.0+ MB\n"
     ]
    }
   ],
   "execution_count": 305
  },
  {
   "cell_type": "markdown",
   "metadata": {},
   "source": [
    "## Pre-Processing"
   ]
  },
  {
   "cell_type": "code",
   "metadata": {
    "ExecuteTime": {
     "end_time": "2024-08-12T00:31:50.952724Z",
     "start_time": "2024-08-12T00:31:50.830427Z"
    }
   },
   "source": [
    "# Remove the 'trans_date_trans_time' column\n",
    "# Check if the index column exists and remove it\n",
    "if 'Unnamed: 0' in df.columns:\n",
    "    df.drop(columns=['Unnamed: 0'], inplace=True)\n",
    "df.drop('trans_date_trans_time', axis=1, inplace=True)"
   ],
   "outputs": [],
   "execution_count": 306
  },
  {
   "cell_type": "code",
   "metadata": {
    "ExecuteTime": {
     "end_time": "2024-08-12T00:31:51.005103Z",
     "start_time": "2024-08-12T00:31:50.953998Z"
    }
   },
   "source": [
    "# Reorder the columns to have 'trans_date' first and 'trans_time' second\n",
    "columns = ['trans_date', 'trans_time'] + [col for col in df.columns if col not in ['trans_date', 'trans_time']]\n",
    "df = df[columns]"
   ],
   "outputs": [],
   "execution_count": 307
  },
  {
   "cell_type": "markdown",
   "metadata": {},
   "source": [
    "From the dtype of the dataset, we still have some tasks to do with the dtype. First of all, trans_date needed to be transferred from object/string to datetime"
   ]
  },
  {
   "cell_type": "code",
   "metadata": {
    "ExecuteTime": {
     "end_time": "2024-08-12T00:31:52.907112Z",
     "start_time": "2024-08-12T00:31:51.006131Z"
    }
   },
   "source": [
    "# Convert 'dob' to datetime using the correct format\n",
    "df['dob'] = pd.to_datetime(df['dob'], format='%Y-%m-%d')\n",
    "\n",
    "# Convert 'trans_time' to time\n",
    "df['trans_time'] = pd.to_datetime(df['trans_time'], format='%H:%M:%S').dt.time\n",
    "\n",
    "# Convert 'trans_date' to date\n",
    "df['trans_date'] = pd.to_datetime(df['trans_date']).dt.date\n",
    "\n",
    "# Check the data types\n",
    "print(\"\\nData types of the columns:\")\n",
    "print(df.dtypes)\n"
   ],
   "outputs": [
    {
     "name": "stdout",
     "output_type": "stream",
     "text": [
      "\n",
      "Data types of the columns:\n",
      "trans_date            object\n",
      "trans_time            object\n",
      "cc_num                 int64\n",
      "merchant              object\n",
      "category              object\n",
      "amt                  float64\n",
      "first                 object\n",
      "last                  object\n",
      "gender                object\n",
      "street                object\n",
      "city                  object\n",
      "state                 object\n",
      "zip                    int64\n",
      "lat                  float64\n",
      "long                 float64\n",
      "city_pop               int64\n",
      "job                   object\n",
      "dob           datetime64[ns]\n",
      "trans_num             object\n",
      "unix_time              int64\n",
      "merch_lat            float64\n",
      "merch_long           float64\n",
      "is_fraud               int64\n",
      "dtype: object\n"
     ]
    }
   ],
   "execution_count": 308
  },
  {
   "cell_type": "code",
   "metadata": {
    "ExecuteTime": {
     "end_time": "2024-08-12T00:31:52.913384Z",
     "start_time": "2024-08-12T00:31:52.908786Z"
    }
   },
   "source": [
    "df.dtypes"
   ],
   "outputs": [
    {
     "data": {
      "text/plain": [
       "trans_date            object\n",
       "trans_time            object\n",
       "cc_num                 int64\n",
       "merchant              object\n",
       "category              object\n",
       "amt                  float64\n",
       "first                 object\n",
       "last                  object\n",
       "gender                object\n",
       "street                object\n",
       "city                  object\n",
       "state                 object\n",
       "zip                    int64\n",
       "lat                  float64\n",
       "long                 float64\n",
       "city_pop               int64\n",
       "job                   object\n",
       "dob           datetime64[ns]\n",
       "trans_num             object\n",
       "unix_time              int64\n",
       "merch_lat            float64\n",
       "merch_long           float64\n",
       "is_fraud               int64\n",
       "dtype: object"
      ]
     },
     "execution_count": 309,
     "metadata": {},
     "output_type": "execute_result"
    }
   ],
   "execution_count": 309
  },
  {
   "cell_type": "code",
   "metadata": {
    "ExecuteTime": {
     "end_time": "2024-08-12T00:31:53.232972Z",
     "start_time": "2024-08-12T00:31:52.914632Z"
    }
   },
   "source": [
    "# Select numerical columns\n",
    "numerical_columns_df = df[['amt', 'lat', 'long', 'city_pop', 'merch_lat', 'merch_long', 'unix_time']]\n",
    "# Compute the correlation matrix\n",
    "correlation_matrix = numerical_columns_df.corr()\n",
    "\n",
    "# Create a heatmap to visualize the correlation matrix\n",
    "plt.figure(figsize=(10, 8))\n",
    "sns.heatmap(correlation_matrix, annot=True, cmap='coolwarm', fmt='.2f', vmin=-1, vmax=1)\n",
    "plt.title('Correlation Matrix')\n",
    "plt.show()"
   ],
   "outputs": [
    {
     "data": {
      "text/plain": [
       "<Figure size 720x576 with 2 Axes>"
      ],
      "image/png": "[encoded data removed]"
     },
     "metadata": {
      "needs_background": "light"
     },
     "output_type": "display_data"
    }
   ],
   "execution_count": 310
  },
  {
   "cell_type": "markdown",
   "metadata": {},
   "source": [
    "## Feature Engineering"
   ]
  },
  {
   "cell_type": "markdown",
   "metadata": {},
   "source": [
    "1. Transaction Frequency Features"
   ]
  },
  {
   "cell_type": "code",
   "metadata": {
    "ExecuteTime": {
     "end_time": "2024-08-12T00:31:53.245478Z",
     "start_time": "2024-08-12T00:31:53.234320Z"
    }
   },
   "source": [
    "#Statistic summary of total transaction per user\n",
    "df['cc_num'].value_counts().agg(['mean', 'median', 'min', 'max'])"
   ],
   "outputs": [
    {
     "data": {
      "text/plain": [
       "mean       601.427489\n",
       "median     634.500000\n",
       "min          6.000000\n",
       "max       1474.000000\n",
       "Name: count, dtype: float64"
      ]
     },
     "execution_count": 311,
     "metadata": {},
     "output_type": "execute_result"
    }
   ],
   "execution_count": 311
  },
  {
   "cell_type": "code",
   "metadata": {
    "ExecuteTime": {
     "end_time": "2024-08-12T00:31:53.553774Z",
     "start_time": "2024-08-12T00:31:53.246652Z"
    }
   },
   "source": [
    "# Ensure 'trans_date' is in datetime format and extract the date part\n",
    "df['trans_date'] = pd.to_datetime(df['trans_date']).dt.date\n",
    "\n",
    "# Total transactions of all users per day\n",
    "df['transactions_per_day'] = df.groupby(['cc_num', 'trans_date'])['trans_date'].transform('count')\n",
    "\n",
    "print(df[['cc_num', 'trans_date', 'transactions_per_day']].head())"
   ],
   "outputs": [
    {
     "name": "stdout",
     "output_type": "stream",
     "text": [
      "             cc_num  trans_date  transactions_per_day\n",
      "0  2291163933867244  2020-06-21                     2\n",
      "1  3573030041201292  2020-06-21                     4\n",
      "2  3598215285024754  2020-06-21                     3\n",
      "3  3591919803438423  2020-06-21                     3\n",
      "4  3526826139003047  2020-06-21                     4\n"
     ]
    }
   ],
   "execution_count": 312
  },
  {
   "cell_type": "code",
   "metadata": {
    "ExecuteTime": {
     "end_time": "2024-08-12T00:31:53.568984Z",
     "start_time": "2024-08-12T00:31:53.555355Z"
    }
   },
   "source": [
    "# Compute the number of transactions per user in the training data\n",
    "transactions_per_user_train = df['cc_num'].value_counts()\n",
    "\n",
    "# Statistical summary of total transactions per user\n",
    "stats_summary_train = transactions_per_user_train.agg(['mean', 'median', 'min', 'max'])\n",
    "print(\"Statistical Summary of Total Transactions per User (Training Data):\")\n",
    "print(stats_summary_train)\n",
    "\n",
    "# Compute the number of transactions per user in the test data\n",
    "transactions_per_user_test = df['cc_num'].value_counts()\n",
    "\n",
    "# Ensure the same aggregation is applied\n",
    "# Adding this step to ensure proper transformation\n",
    "stats_summary_test = transactions_per_user_test.agg(['mean', 'median', 'min', 'max'])\n",
    "print(\"\\nStatistical Summary of Total Transactions per User (Test Data):\")\n",
    "print(stats_summary_test)"
   ],
   "outputs": [
    {
     "name": "stdout",
     "output_type": "stream",
     "text": [
      "Statistical Summary of Total Transactions per User (Training Data):\n",
      "mean       601.427489\n",
      "median     634.500000\n",
      "min          6.000000\n",
      "max       1474.000000\n",
      "Name: count, dtype: float64\n",
      "\n",
      "Statistical Summary of Total Transactions per User (Test Data):\n",
      "mean       601.427489\n",
      "median     634.500000\n",
      "min          6.000000\n",
      "max       1474.000000\n",
      "Name: count, dtype: float64\n"
     ]
    }
   ],
   "execution_count": 313
  },
  {
   "cell_type": "code",
   "metadata": {
    "ExecuteTime": {
     "end_time": "2024-08-12T00:31:53.692184Z",
     "start_time": "2024-08-12T00:31:53.570145Z"
    }
   },
   "source": [
    "# Ensure 'trans_date' is in datetime format\n",
    "df['trans_date'] = pd.to_datetime(df['trans_date'])\n",
    "\n",
    "# Create a 'Week' column using ISO calendar weeks\n",
    "df['Week'] = df['trans_date'].dt.isocalendar().week\n",
    "\n",
    "# Calculate total transactions per week for each customer\n",
    "df['transaction_per_week'] = df.groupby(['cc_num', 'Week'])['trans_date'].transform('count')\n",
    "\n",
    "# Display the updated dataframe with Week and total transactions per Week for each customer\n",
    "print(df[['cc_num', 'Week', 'transaction_per_week']].head())"
   ],
   "outputs": [
    {
     "name": "stdout",
     "output_type": "stream",
     "text": [
      "             cc_num  Week  transaction_per_week\n",
      "0  2291163933867244    25                     2\n",
      "1  3573030041201292    25                     4\n",
      "2  3598215285024754    25                     3\n",
      "3  3591919803438423    25                     3\n",
      "4  3526826139003047    25                     4\n"
     ]
    }
   ],
   "execution_count": 314
  },
  {
   "cell_type": "code",
   "metadata": {
    "ExecuteTime": {
     "end_time": "2024-08-12T00:31:53.717643Z",
     "start_time": "2024-08-12T00:31:53.693526Z"
    }
   },
   "source": [
    "# Calculate total transactions per month for all users\n",
    "total_transactions_per_month = df.groupby(df['trans_date'].dt.month).size()\n",
    "# Display the total transactions per month\n",
    "print(total_transactions_per_month)"
   ],
   "outputs": [
    {
     "name": "stdout",
     "output_type": "stream",
     "text": [
      "trans_date\n",
      "6      30058\n",
      "7      85848\n",
      "8      88759\n",
      "9      69533\n",
      "10     69348\n",
      "11     72635\n",
      "12    139538\n",
      "dtype: int64\n"
     ]
    }
   ],
   "execution_count": 315
  },
  {
   "cell_type": "code",
   "metadata": {
    "ExecuteTime": {
     "end_time": "2024-08-12T00:31:53.759478Z",
     "start_time": "2024-08-12T00:31:53.719051Z"
    }
   },
   "source": [
    "# Total transactions of all users per day\n",
    "df['transactions_per_month'] = df.groupby(['cc_num', df['trans_date'].dt.month])['trans_date'].transform('count')\n",
    "print(df[['cc_num', 'trans_date', 'transactions_per_month']].head())"
   ],
   "outputs": [
    {
     "name": "stdout",
     "output_type": "stream",
     "text": [
      "             cc_num trans_date  transactions_per_month\n",
      "0  2291163933867244 2020-06-21                      34\n",
      "1  3573030041201292 2020-06-21                      49\n",
      "2  3598215285024754 2020-06-21                      55\n",
      "3  3591919803438423 2020-06-21                      33\n",
      "4  3526826139003047 2020-06-21                      56\n"
     ]
    }
   ],
   "execution_count": 316
  },
  {
   "cell_type": "code",
   "metadata": {
    "ExecuteTime": {
     "end_time": "2024-08-12T00:31:55.861293Z",
     "start_time": "2024-08-12T00:31:53.760769Z"
    }
   },
   "source": [
    "#Transaction per season of all users\n",
    "def season(date):\n",
    "    if date.month in [1, 2, 3]:\n",
    "        return 'Autumn'\n",
    "    elif date.month in [4, 5, 6]:\n",
    "        return 'Winter'\n",
    "    elif date.month in [7, 8, 9]:\n",
    "        return 'Spring'\n",
    "    else:\n",
    "        return 'Summer'\n",
    "df['transactions_per_season'] = df.groupby(['cc_num', df['trans_date'].apply(season)])['trans_date'].transform('count')\n",
    "df['season'] = df['trans_date'].apply(season)\n"
   ],
   "outputs": [],
   "execution_count": 317
  },
  {
   "cell_type": "code",
   "metadata": {
    "ExecuteTime": {
     "end_time": "2024-08-12T00:31:57.296610Z",
     "start_time": "2024-08-12T00:31:55.863116Z"
    }
   },
   "source": [
    "import pandas as pd\n",
    "from datetime import datetime, time  # Import time class from datetime\n",
    "from sklearn.preprocessing import LabelEncoder\n",
    "\n",
    "# Define the function to map hours to parts of the day\n",
    "def part_of_day(hour):\n",
    "    if 5 <= hour < 12:\n",
    "        return 'morning'\n",
    "    elif 12 <= hour < 17:\n",
    "        return 'afternoon'\n",
    "    elif 17 <= hour < 21:\n",
    "        return 'evening'\n",
    "    else:\n",
    "        return 'night'\n",
    "\n",
    "# Define a function to process 'trans_time' and extract part of the day\n",
    "def process_time(df):\n",
    "    # If trans_time is a time object, combine with a dummy date\n",
    "    if isinstance(df['trans_time'].iloc[0], time):\n",
    "        df['trans_time'] = df['trans_time'].apply(lambda t: datetime.combine(datetime.today(), t))\n",
    "    \n",
    "    # Convert to datetime if it's not already\n",
    "    if not pd.api.types.is_datetime64_any_dtype(df['trans_time']):\n",
    "        df['trans_time'] = pd.to_datetime(df['trans_time'])\n",
    "    \n",
    "    # Extract hour from the trans_time column\n",
    "    df['hour'] = df['trans_time'].dt.hour\n",
    "\n",
    "    # Apply the part_of_day function\n",
    "    df['part_of_day'] = df['hour'].apply(part_of_day)\n",
    "\n",
    "    # Drop the hour column if not needed\n",
    "    df.drop(columns=['hour'], inplace=True)\n",
    "\n",
    "    return df\n",
    "\n",
    "# Apply the function to your DataFrame\n",
    "df = process_time(df)\n",
    "\n",
    "# Initialize the LabelEncoder for the part_of_day feature\n",
    "part_of_day_encoder = LabelEncoder()\n",
    "\n",
    "# Fit and transform on the DataFrame\n",
    "df['part_of_day'] = part_of_day_encoder.fit_transform(df['part_of_day'])"
   ],
   "outputs": [],
   "execution_count": 318
  },
  {
   "cell_type": "markdown",
   "metadata": {},
   "source": [
    "2. User Transaction Behavior"
   ]
  },
  {
   "cell_type": "code",
   "metadata": {
    "ExecuteTime": {
     "end_time": "2024-08-12T00:31:57.465302Z",
     "start_time": "2024-08-12T00:31:57.298092Z"
    }
   },
   "source": [
    "## Perform the aggregations\n",
    "agg_df = df.groupby('cc_num')['amt'].agg(\n",
    "    avg_trans_amount='mean',\n",
    "    total_trans_amount='sum',\n",
    "    med_trans_amount='median',\n",
    "    std_trans_amount='std'\n",
    ").reset_index()\n",
    "\n",
    "# Merge the aggregation results back to the original DataFrame\n",
    "df = df.merge(agg_df, on='cc_num', how='left')"
   ],
   "outputs": [],
   "execution_count": 319
  },
  {
   "cell_type": "markdown",
   "metadata": {},
   "source": [
    "## 3. User-Based Features: Age and Gender"
   ]
  },
  {
   "cell_type": "markdown",
   "metadata": {},
   "source": [
    "3.1 Calculate age of user based on DOB and transation date"
   ]
  },
  {
   "cell_type": "code",
   "metadata": {
    "ExecuteTime": {
     "end_time": "2024-08-12T00:32:03.812179Z",
     "start_time": "2024-08-12T00:31:57.469288Z"
    }
   },
   "source": [
    "#Calculate user's age based on date of birth and transaction date\n",
    "def calculate_age(dob, trans_date):\n",
    "    return trans_date.year - dob.year - ((trans_date.month, trans_date.day) < (dob.month, dob.day))\n",
    "df['age'] = df.apply(lambda row: calculate_age(row['dob'], row['trans_date']), axis=1)\n",
    "\n",
    "#Explore age stat\n",
    "df['age'].agg(['mean', 'median', 'min', 'max'])"
   ],
   "outputs": [
    {
     "data": {
      "text/plain": [
       "mean      46.390496\n",
       "median    44.000000\n",
       "min       15.000000\n",
       "max       96.000000\n",
       "Name: age, dtype: float64"
      ]
     },
     "execution_count": 320,
     "metadata": {},
     "output_type": "execute_result"
    }
   ],
   "execution_count": 320
  },
  {
   "cell_type": "markdown",
   "metadata": {},
   "source": [
    "3.2 Convert gender into binary values"
   ]
  },
  {
   "cell_type": "code",
   "metadata": {
    "ExecuteTime": {
     "end_time": "2024-08-12T00:32:03.955285Z",
     "start_time": "2024-08-12T00:32:03.814002Z"
    }
   },
   "source": [
    "#Convert gender to binary values\n",
    "print('\\n The number of cutomers based on age is:')\n",
    "print(df['gender'].value_counts())\n",
    "print(\"-\" * 40)\n",
    "\n",
    "#Total transaction amount by gender\n",
    "print('\\nTotal transaction amount made by gender is:')\n",
    "print(df.groupby('gender')['amt'].sum())\n",
    "print(\"-\" * 40)\n",
    "\n",
    "#Average transaction made by gender\n",
    "print('\\n Average transaction amount made by gender is:')\n",
    "print(df.groupby('gender')['amt'].mean())\n",
    "print(\"-\" * 40)\n",
    "\n",
    "# Calculate mean and median of age distribution by gender\n",
    "print('\\n Age Distribution by gender is:')\n",
    "print(df.groupby('gender')['age'].agg(['mean', 'median']))\n",
    "print(\"-\" * 40)"
   ],
   "outputs": [
    {
     "name": "stdout",
     "output_type": "stream",
     "text": [
      "\n",
      " The number of cutomers based on age is:\n",
      "gender\n",
      "F    304886\n",
      "M    250833\n",
      "Name: count, dtype: int64\n",
      "----------------------------------------\n",
      "\n",
      "Total transaction amount made by gender is:\n",
      "gender\n",
      "F    21155705.55\n",
      "M    17407197.56\n",
      "Name: amt, dtype: float64\n",
      "----------------------------------------\n",
      "\n",
      " Average transaction amount made by gender is:\n",
      "gender\n",
      "F    69.388905\n",
      "M    69.397558\n",
      "Name: amt, dtype: float64\n",
      "----------------------------------------\n",
      "\n",
      " Age Distribution by gender is:\n",
      "             mean  median\n",
      "gender                   \n",
      "F       46.300604    44.0\n",
      "M       46.499759    45.0\n",
      "----------------------------------------\n"
     ]
    }
   ],
   "execution_count": 321
  },
  {
   "cell_type": "markdown",
   "metadata": {},
   "source": [
    "## 4. Fraud Transaction Analysis"
   ]
  },
  {
   "cell_type": "markdown",
   "metadata": {},
   "source": [
    "4.1 Calculate fraud ratio using fraudulent transactions and total transactions"
   ]
  },
  {
   "cell_type": "code",
   "metadata": {
    "ExecuteTime": {
     "end_time": "2024-08-12T00:32:04.092083Z",
     "start_time": "2024-08-12T00:32:03.956472Z"
    }
   },
   "source": [
    "# Calculate fraudulent transactions per user\n",
    "fraud_transactions_per_user = df.groupby('cc_num')['is_fraud'].sum().reset_index()\n",
    "total_transactions_per_user = df.groupby('cc_num').size().reset_index(name='total_transactions')\n",
    "\n",
    "# Merge to get fraud ratio per user\n",
    "fraud_ratio_per_user = pd.merge(fraud_transactions_per_user, total_transactions_per_user, on='cc_num')\n",
    "fraud_ratio_per_user['fraud_ratio'] = fraud_ratio_per_user['is_fraud'] / fraud_ratio_per_user['total_transactions']\n",
    "\n",
    "# Merge fraud_ratio into the original dataset\n",
    "df = pd.merge(df, fraud_ratio_per_user[['cc_num', 'fraud_ratio']], on='cc_num', how='left')"
   ],
   "outputs": [],
   "execution_count": 322
  },
  {
   "cell_type": "markdown",
   "metadata": {},
   "source": [
    "## 5. Geography Analysis"
   ]
  },
  {
   "cell_type": "markdown",
   "metadata": {},
   "source": [
    "5.1 Distance calculation using Haversine calculation"
   ]
  },
  {
   "cell_type": "code",
   "metadata": {
    "ExecuteTime": {
     "end_time": "2024-08-12T00:32:13.164037Z",
     "start_time": "2024-08-12T00:32:04.093354Z"
    }
   },
   "source": [
    "# Create the Haversine function using transaction longitude and latitude, also using merchant's longitude and latitude\n",
    "def haversine(lat1, lon1, lat2, lon2):\n",
    "    # Distance between latitudes and longitudes\n",
    "    dLat = (lat2 - lat1) * math.pi / 180.0\n",
    "    dLon = (lon2 - lon1) * math.pi / 180.0\n",
    "\n",
    "    # Convert to radians\n",
    "    lat1 = (lat1) * math.pi / 180.0\n",
    "    lat2 = (lat2) * math.pi / 180.0\n",
    "\n",
    "    # Apply formula\n",
    "    a = (pow(math.sin(dLat / 2), 2) +\n",
    "         pow(math.sin(dLon / 2), 2) *\n",
    "         math.cos(lat1) * math.cos(lat2))\n",
    "    rad = 6371\n",
    "    c = 2 * math.asin(math.sqrt(a))\n",
    "    return rad * c\n",
    "\n",
    "df['distance_to_merch'] = df.apply(lambda row: haversine(row['lat'], row['long'], row['merch_lat'], row['merch_long']), axis=1)"
   ],
   "outputs": [],
   "execution_count": 323
  },
  {
   "cell_type": "markdown",
   "metadata": {},
   "source": [
    "5.2 Categorize type of cities based on the population"
   ]
  },
  {
   "cell_type": "code",
   "metadata": {
    "ExecuteTime": {
     "end_time": "2024-08-12T00:32:13.267427Z",
     "start_time": "2024-08-12T00:32:13.165030Z"
    }
   },
   "source": [
    "# Aggregate transaction amounts by city\n",
    "print(\"Aggregated transaction amounts by city:\")\n",
    "print(df.groupby('city')['amt'].sum().reset_index())\n",
    "print(\"-\" * 40)\n",
    "\n",
    "# Aggregate transaction amounts by state\n",
    "state_agg = df.groupby('state')['amt'].sum().reset_index()\n",
    "print(\"Aggregated transaction amounts by state:\")\n",
    "print(df.groupby('state')['amt'].sum().reset_index())\n",
    "print(\"-\" * 40)\n"
   ],
   "outputs": [
    {
     "name": "stdout",
     "output_type": "stream",
     "text": [
      "Aggregated transaction amounts by city:\n",
      "                          city       amt\n",
      "0                      Achille   9511.00\n",
      "1                      Acworth  80383.39\n",
      "2                        Adams  20631.64\n",
      "3                        Afton  59000.66\n",
      "4                        Akron  18512.11\n",
      "..                         ...       ...\n",
      "844                Woods Cross  20281.72\n",
      "845                  Woodville  42032.17\n",
      "846  Yellowstone National Park  16073.89\n",
      "847                    Zaleski  59080.41\n",
      "848                    Zavalla  47801.39\n",
      "\n",
      "[849 rows x 2 columns]\n",
      "----------------------------------------\n",
      "Aggregated transaction amounts by state:\n",
      "   state         amt\n",
      "0     AK    66071.94\n",
      "1     AL  1127922.81\n",
      "2     AR  1027950.44\n",
      "3     AZ   347901.59\n",
      "4     CA  1768791.26\n",
      "5     CO   447073.46\n",
      "6     CT   205176.90\n",
      "7     DC   108781.32\n",
      "8     FL  1293183.50\n",
      "9     GA   780302.43\n",
      "10    HI    64858.25\n",
      "11    IA   770590.61\n",
      "12    ID   197705.27\n",
      "13    IL  1309975.89\n",
      "14    IN   846750.31\n",
      "15    KS   711303.48\n",
      "16    KY   856554.04\n",
      "17    LA   660432.25\n",
      "18    MA   324452.99\n",
      "19    MD   681750.67\n",
      "20    ME   433931.40\n",
      "21    MI  1399976.96\n",
      "22    MN   958127.38\n",
      "23    MO  1100293.98\n",
      "24    MS   599533.28\n",
      "25    MT   391608.59\n",
      "26    NC  1000257.31\n",
      "27    ND   419204.52\n",
      "28    NE   644839.24\n",
      "29    NH   277038.04\n",
      "30    NJ   713518.34\n",
      "31    NM   432206.50\n",
      "32    NV   131077.59\n",
      "33    NY  2529741.65\n",
      "34    OH  1427389.97\n",
      "35    OK   748404.90\n",
      "36    OR   530045.43\n",
      "37    PA  2434619.31\n",
      "38    RI     7330.92\n",
      "39    SC   769101.76\n",
      "40    SD   362452.69\n",
      "41    TN   514060.15\n",
      "42    TX  2756497.24\n",
      "43    UT   286190.19\n",
      "44    VA   868156.17\n",
      "45    VT   388414.99\n",
      "46    WA   586232.31\n",
      "47    WI   873762.57\n",
      "48    WV   745815.56\n",
      "49    WY   635544.76\n",
      "----------------------------------------\n"
     ]
    }
   ],
   "execution_count": 324
  },
  {
   "cell_type": "code",
   "metadata": {
    "ExecuteTime": {
     "end_time": "2024-08-12T00:32:13.392595Z",
     "start_time": "2024-08-12T00:32:13.268723Z"
    }
   },
   "source": [
    "# Function to categorize city_pop\n",
    "def categorize_population(population):\n",
    "    if population < 1000:\n",
    "        return 'Small'\n",
    "    elif 1000 <= population <= 10000:\n",
    "        return 'Medium'\n",
    "    else:\n",
    "        return 'Large'\n",
    "#Apply the function to create a column called \"pop_caregory\" for train data\n",
    "df['pop_cat'] = df['city_pop'].apply(categorize_population)"
   ],
   "outputs": [],
   "execution_count": 325
  },
  {
   "cell_type": "code",
   "metadata": {
    "ExecuteTime": {
     "end_time": "2024-08-12T00:32:13.675726Z",
     "start_time": "2024-08-12T00:32:13.393597Z"
    }
   },
   "source": [
    "df.info()"
   ],
   "outputs": [
    {
     "name": "stdout",
     "output_type": "stream",
     "text": [
      "<class 'pandas.core.frame.DataFrame'>\n",
      "RangeIndex: 555719 entries, 0 to 555718\n",
      "Data columns (total 38 columns):\n",
      " #   Column                   Non-Null Count   Dtype         \n",
      "---  ------                   --------------   -----         \n",
      " 0   trans_date               555719 non-null  datetime64[ns]\n",
      " 1   trans_time               555719 non-null  datetime64[ns]\n",
      " 2   cc_num                   555719 non-null  int64         \n",
      " 3   merchant                 555719 non-null  object        \n",
      " 4   category                 555719 non-null  object        \n",
      " 5   amt                      555719 non-null  float64       \n",
      " 6   first                    555719 non-null  object        \n",
      " 7   last                     555719 non-null  object        \n",
      " 8   gender                   555719 non-null  object        \n",
      " 9   street                   555719 non-null  object        \n",
      " 10  city                     555719 non-null  object        \n",
      " 11  state                    555719 non-null  object        \n",
      " 12  zip                      555719 non-null  int64         \n",
      " 13  lat                      555719 non-null  float64       \n",
      " 14  long                     555719 non-null  float64       \n",
      " 15  city_pop                 555719 non-null  int64         \n",
      " 16  job                      555719 non-null  object        \n",
      " 17  dob                      555719 non-null  datetime64[ns]\n",
      " 18  trans_num                555719 non-null  object        \n",
      " 19  unix_time                555719 non-null  int64         \n",
      " 20  merch_lat                555719 non-null  float64       \n",
      " 21  merch_long               555719 non-null  float64       \n",
      " 22  is_fraud                 555719 non-null  int64         \n",
      " 23  transactions_per_day     555719 non-null  int64         \n",
      " 24  Week                     555719 non-null  UInt32        \n",
      " 25  transaction_per_week     555719 non-null  int64         \n",
      " 26  transactions_per_month   555719 non-null  int64         \n",
      " 27  transactions_per_season  555719 non-null  int64         \n",
      " 28  season                   555719 non-null  object        \n",
      " 29  part_of_day              555719 non-null  int64         \n",
      " 30  avg_trans_amount         555719 non-null  float64       \n",
      " 31  total_trans_amount       555719 non-null  float64       \n",
      " 32  med_trans_amount         555719 non-null  float64       \n",
      " 33  std_trans_amount         555719 non-null  float64       \n",
      " 34  age                      555719 non-null  int64         \n",
      " 35  fraud_ratio              555719 non-null  float64       \n",
      " 36  distance_to_merch        555719 non-null  float64       \n",
      " 37  pop_cat                  555719 non-null  object        \n",
      "dtypes: UInt32(1), datetime64[ns](3), float64(11), int64(11), object(12)\n",
      "memory usage: 159.5+ MB\n"
     ]
    }
   ],
   "execution_count": 326
  },
  {
   "cell_type": "code",
   "metadata": {
    "ExecuteTime": {
     "end_time": "2024-08-12T00:32:13.682954Z",
     "start_time": "2024-08-12T00:32:13.676698Z"
    }
   },
   "source": [
    "#Distribute the class\n",
    "df[('is_fraud')].value_counts()"
   ],
   "outputs": [
    {
     "data": {
      "text/plain": [
       "is_fraud\n",
       "0    553574\n",
       "1      2145\n",
       "Name: count, dtype: int64"
      ]
     },
     "execution_count": 327,
     "metadata": {},
     "output_type": "execute_result"
    }
   ],
   "execution_count": 327
  },
  {
   "cell_type": "code",
   "metadata": {
    "ExecuteTime": {
     "end_time": "2024-08-12T00:32:14.086002Z",
     "start_time": "2024-08-12T00:32:13.684063Z"
    }
   },
   "source": [
    "# Initialize the LabelEncoder\n",
    "label_encoder = LabelEncoder()\n",
    "\n",
    "# Encode categorical variables into numerical values\n",
    "df['merchant'] = label_encoder.fit_transform(df['merchant'])\n",
    "df['category'] = label_encoder.fit_transform(df['category'])\n",
    "df['city'] = label_encoder.fit_transform(df['city'])\n",
    "df['state'] = label_encoder.fit_transform(df['state'])"
   ],
   "outputs": [],
   "execution_count": 328
  },
  {
   "cell_type": "code",
   "metadata": {
    "ExecuteTime": {
     "end_time": "2024-08-12T00:32:14.550725Z",
     "start_time": "2024-08-12T00:32:14.087135Z"
    }
   },
   "source": [
    "import numpy as np\n",
    "import pandas as pd\n",
    "import skfuzzy as fuzz\n",
    "from skfuzzy import control as ctrl\n",
    "\n",
    "def create_fuzzy_features(df):\n",
    "    # 1. Fuzzy transaction amount\n",
    "    max_amt = df['amt'].max()\n",
    "    amount = ctrl.Antecedent(np.arange(0, max_amt + 1, 1), 'amount')\n",
    "    amount['low'] = fuzz.trimf(amount.universe, [0, 0, min(50, max_amt)])\n",
    "    amount['medium'] = fuzz.trimf(amount.universe, [0, min(50, max_amt), min(100, max_amt)])\n",
    "    amount['high'] = fuzz.trimf(amount.universe, [min(50, max_amt), min(100, max_amt), max_amt])\n",
    "\n",
    "    df['fuzzy_amount_low'] = fuzz.interp_membership(amount.universe, amount['low'].mf, df['amt'])\n",
    "    df['fuzzy_amount_medium'] = fuzz.interp_membership(amount.universe, amount['medium'].mf, df['amt'])\n",
    "    df['fuzzy_amount_high'] = fuzz.interp_membership(amount.universe, amount['high'].mf, df['amt'])\n",
    "\n",
    "    # 2. Fuzzy age\n",
    "    max_age = df['age'].max()\n",
    "    age = ctrl.Antecedent(np.arange(0, max_age + 1, 1), 'age')\n",
    "    age['young'] = fuzz.trimf(age.universe, [0, 0, min(30, max_age)])\n",
    "    age['middle'] = fuzz.trimf(age.universe, [20, min(40, max_age), min(60, max_age)])\n",
    "    age['old'] = fuzz.trimf(age.universe, [min(50, max_age), max_age, max_age])\n",
    "\n",
    "    df['fuzzy_age_young'] = fuzz.interp_membership(age.universe, age['young'].mf, df['age'])\n",
    "    df['fuzzy_age_middle'] = fuzz.interp_membership(age.universe, age['middle'].mf, df['age'])\n",
    "    df['fuzzy_age_old'] = fuzz.interp_membership(age.universe, age['old'].mf, df['age'])\n",
    "\n",
    "    # 3. Fuzzy transaction frequency\n",
    "    max_freq = df['transactions_per_season'].max()\n",
    "    freq = ctrl.Antecedent(np.arange(0, max_freq + 1, 1), 'frequency')\n",
    "    freq['low'] = fuzz.trimf(freq.universe, [0, 0, min(200, max_freq)])\n",
    "    freq['medium'] = fuzz.trimf(freq.universe, [100, min(300, max_freq), min(500, max_freq)])\n",
    "    freq['high'] = fuzz.trimf(freq.universe, [min(400, max_freq), max_freq, max_freq])\n",
    "\n",
    "    df['fuzzy_freq_low'] = fuzz.interp_membership(freq.universe, freq['low'].mf, df['transactions_per_season'])\n",
    "    df['fuzzy_freq_medium'] = fuzz.interp_membership(freq.universe, freq['medium'].mf, df['transactions_per_season'])\n",
    "    df['fuzzy_freq_high'] = fuzz.interp_membership(freq.universe, freq['high'].mf, df['transactions_per_season'])\n",
    "\n",
    "    # 4. Fuzzy fraud ratio\n",
    "    max_fraud_ratio = df['fraud_ratio'].max()\n",
    "    fraud_ratio = ctrl.Antecedent(np.arange(0, max_fraud_ratio + 0.001, 0.001), 'fraud_ratio')\n",
    "    fraud_ratio['low'] = fuzz.trimf(fraud_ratio.universe, [0, 0, min(0.005, max_fraud_ratio)])\n",
    "    fraud_ratio['medium'] = fuzz.trimf(fraud_ratio.universe, [0.001, min(0.005, max_fraud_ratio), min(0.01, max_fraud_ratio)])\n",
    "    fraud_ratio['high'] = fuzz.trimf(fraud_ratio.universe, [min(0.005, max_fraud_ratio), max_fraud_ratio, max_fraud_ratio])\n",
    "\n",
    "    df['fuzzy_fraud_ratio_low'] = fuzz.interp_membership(fraud_ratio.universe, fraud_ratio['low'].mf, df['fraud_ratio'])\n",
    "    df['fuzzy_fraud_ratio_medium'] = fuzz.interp_membership(fraud_ratio.universe, fraud_ratio['medium'].mf, df['fraud_ratio'])\n",
    "    df['fuzzy_fraud_ratio_high'] = fuzz.interp_membership(fraud_ratio.universe, fraud_ratio['high'].mf, df['fraud_ratio'])\n",
    "\n",
    "    return df\n",
    "\n",
    "# Apply the function to the DataFrame\n",
    "df = create_fuzzy_features(df.copy())\n",
    "\n",
    "# List new fuzzy features\n",
    "fuzzy_features = [col for col in df.columns if col.startswith('fuzzy_')]\n",
    "print(\"\\nNew fuzzy features:\")\n",
    "print(fuzzy_features)"
   ],
   "outputs": [
    {
     "name": "stdout",
     "output_type": "stream",
     "text": [
      "\n",
      "New fuzzy features:\n",
      "['fuzzy_amount_low', 'fuzzy_amount_medium', 'fuzzy_amount_high', 'fuzzy_age_young', 'fuzzy_age_middle', 'fuzzy_age_old', 'fuzzy_freq_low', 'fuzzy_freq_medium', 'fuzzy_freq_high', 'fuzzy_fraud_ratio_low', 'fuzzy_fraud_ratio_medium', 'fuzzy_fraud_ratio_high']\n"
     ]
    }
   ],
   "execution_count": 329
  },
  {
   "cell_type": "code",
   "metadata": {
    "ExecuteTime": {
     "end_time": "2024-08-12T00:32:14.675708Z",
     "start_time": "2024-08-12T00:32:14.551898Z"
    }
   },
   "source": [
    "import pandas as pd\n",
    "from sklearn.preprocessing import LabelEncoder\n",
    "\n",
    "# List of columns to drop\n",
    "columns_to_drop = ['trans_date', 'trans_time', 'dob', 'first', 'last', 'street',\n",
    "                   'trans_num', 'gender', 'zip', 'long', 'lat', 'job', 'unix_time',\n",
    "                   'merchant', 'transaction_per_week', 'transaction_per_season',\n",
    "                   'std_trans_amount', 'med_trans_amount', 'pop_cat', 'transactions_per_season']\n",
    "\n",
    "# Drop specified columns from df\n",
    "df = df.drop(columns=columns_to_drop, errors='ignore')\n",
    "\n",
    "# Initialize the LabelEncoder\n",
    "season_encoder = LabelEncoder()\n",
    "category_encoder = LabelEncoder()\n",
    "city_encoder = LabelEncoder()\n",
    "state_encoder = LabelEncoder()\n",
    "\n",
    "# Fit on df and transform df\n",
    "df['category'] = category_encoder.fit_transform(df['category'])\n",
    "df['city'] = city_encoder.fit_transform(df['city'])\n",
    "df['state'] = state_encoder.fit_transform(df['state'])\n",
    "\n",
    "# Display the transformed DataFrame\n",
    "print(df.head())"
   ],
   "outputs": [
    {
     "name": "stdout",
     "output_type": "stream",
     "text": [
      "             cc_num  category    amt  city  state  city_pop  merch_lat  \\\n",
      "0  2291163933867244        10   2.86   157     39    333497  33.986391   \n",
      "1  3573030041201292        10  29.84    16     43       302  39.450498   \n",
      "2  3598215285024754         5  41.28    61     33     34496  40.495810   \n",
      "3  3591919803438423         9  60.05   764      8     54767  28.812398   \n",
      "4  3526826139003047        13   3.19   247     21      1126  44.959148   \n",
      "\n",
      "   merch_long  is_fraud  transactions_per_day  ...  fuzzy_amount_high  \\\n",
      "0  -81.200714         0                     2  ...              0.000   \n",
      "1 -109.960431         0                     4  ...              0.000   \n",
      "2  -74.196111         0                     3  ...              0.000   \n",
      "3  -80.883061         0                     3  ...              0.201   \n",
      "4  -85.884734         0                     4  ...              0.000   \n",
      "\n",
      "   fuzzy_age_young fuzzy_age_middle  fuzzy_age_old  fuzzy_freq_low  \\\n",
      "0              0.0             0.40       0.043478           0.830   \n",
      "1              0.0             0.50       0.000000           0.755   \n",
      "2              0.0             0.55       0.000000           0.725   \n",
      "3              0.0             0.60       0.000000           0.835   \n",
      "4              0.0             0.00       0.304348           0.720   \n",
      "\n",
      "   fuzzy_freq_medium  fuzzy_freq_high  fuzzy_fraud_ratio_low  \\\n",
      "0                0.0              0.0                    1.0   \n",
      "1                0.0              0.0                    1.0   \n",
      "2                0.0              0.0                    1.0   \n",
      "3                0.0              0.0                    0.0   \n",
      "4                0.0              0.0                    1.0   \n",
      "\n",
      "   fuzzy_fraud_ratio_medium  fuzzy_fraud_ratio_high  \n",
      "0                       0.0                0.000000  \n",
      "1                       0.0                0.000000  \n",
      "2                       0.0                0.000000  \n",
      "3                       0.0                0.010134  \n",
      "4                       0.0                0.000000  \n",
      "\n",
      "[5 rows x 31 columns]\n"
     ]
    }
   ],
   "execution_count": 330
  },
  {
   "cell_type": "code",
   "metadata": {
    "ExecuteTime": {
     "end_time": "2024-08-12T00:32:14.717431Z",
     "start_time": "2024-08-12T00:32:14.676646Z"
    }
   },
   "source": [
    "df.info()"
   ],
   "outputs": [
    {
     "name": "stdout",
     "output_type": "stream",
     "text": [
      "<class 'pandas.core.frame.DataFrame'>\n",
      "RangeIndex: 555719 entries, 0 to 555718\n",
      "Data columns (total 31 columns):\n",
      " #   Column                    Non-Null Count   Dtype  \n",
      "---  ------                    --------------   -----  \n",
      " 0   cc_num                    555719 non-null  int64  \n",
      " 1   category                  555719 non-null  int64  \n",
      " 2   amt                       555719 non-null  float64\n",
      " 3   city                      555719 non-null  int64  \n",
      " 4   state                     555719 non-null  int64  \n",
      " 5   city_pop                  555719 non-null  int64  \n",
      " 6   merch_lat                 555719 non-null  float64\n",
      " 7   merch_long                555719 non-null  float64\n",
      " 8   is_fraud                  555719 non-null  int64  \n",
      " 9   transactions_per_day      555719 non-null  int64  \n",
      " 10  Week                      555719 non-null  UInt32 \n",
      " 11  transactions_per_month    555719 non-null  int64  \n",
      " 12  season                    555719 non-null  object \n",
      " 13  part_of_day               555719 non-null  int64  \n",
      " 14  avg_trans_amount          555719 non-null  float64\n",
      " 15  total_trans_amount        555719 non-null  float64\n",
      " 16  age                       555719 non-null  int64  \n",
      " 17  fraud_ratio               555719 non-null  float64\n",
      " 18  distance_to_merch         555719 non-null  float64\n",
      " 19  fuzzy_amount_low          555719 non-null  float64\n",
      " 20  fuzzy_amount_medium       555719 non-null  float64\n",
      " 21  fuzzy_amount_high         555719 non-null  float64\n",
      " 22  fuzzy_age_young           555719 non-null  float64\n",
      " 23  fuzzy_age_middle          555719 non-null  float64\n",
      " 24  fuzzy_age_old             555719 non-null  float64\n",
      " 25  fuzzy_freq_low            555719 non-null  float64\n",
      " 26  fuzzy_freq_medium         555719 non-null  float64\n",
      " 27  fuzzy_freq_high           555719 non-null  float64\n",
      " 28  fuzzy_fraud_ratio_low     555719 non-null  float64\n",
      " 29  fuzzy_fraud_ratio_medium  555719 non-null  float64\n",
      " 30  fuzzy_fraud_ratio_high    555719 non-null  float64\n",
      "dtypes: UInt32(1), float64(19), int64(10), object(1)\n",
      "memory usage: 129.8+ MB\n"
     ]
    }
   ],
   "execution_count": 331
  },
  {
   "cell_type": "markdown",
   "metadata": {},
   "source": [
    "# Apply Model"
   ]
  },
  {
   "cell_type": "code",
   "metadata": {
    "ExecuteTime": {
     "end_time": "2024-08-12T00:32:14.721106Z",
     "start_time": "2024-08-12T00:32:14.718523Z"
    }
   },
   "source": [
    "# Print the list of all column names in the DataFrame\n",
    "print(\"Columns in the DataFrame:\")\n",
    "print(df.columns.tolist())"
   ],
   "outputs": [
    {
     "name": "stdout",
     "output_type": "stream",
     "text": [
      "Columns in the DataFrame:\n",
      "['cc_num', 'category', 'amt', 'city', 'state', 'city_pop', 'merch_lat', 'merch_long', 'is_fraud', 'transactions_per_day', 'Week', 'transactions_per_month', 'season', 'part_of_day', 'avg_trans_amount', 'total_trans_amount', 'age', 'fraud_ratio', 'distance_to_merch', 'fuzzy_amount_low', 'fuzzy_amount_medium', 'fuzzy_amount_high', 'fuzzy_age_young', 'fuzzy_age_middle', 'fuzzy_age_old', 'fuzzy_freq_low', 'fuzzy_freq_medium', 'fuzzy_freq_high', 'fuzzy_fraud_ratio_low', 'fuzzy_fraud_ratio_medium', 'fuzzy_fraud_ratio_high']\n"
     ]
    }
   ],
   "execution_count": 332
  },
  {
   "metadata": {
    "ExecuteTime": {
     "end_time": "2024-08-12T00:33:40.373669Z",
     "start_time": "2024-08-12T00:33:40.367115Z"
    }
   },
   "cell_type": "code",
   "source": "print(X.dtypes)",
   "outputs": [
    {
     "name": "stdout",
     "output_type": "stream",
     "text": [
      "cc_num                        int64\n",
      "category                      int64\n",
      "amt                         float64\n",
      "city                          int64\n",
      "state                         int64\n",
      "city_pop                      int64\n",
      "merch_lat                   float64\n",
      "merch_long                  float64\n",
      "transactions_per_day          int64\n",
      "Week                         UInt32\n",
      "transactions_per_month        int64\n",
      "season                       object\n",
      "part_of_day                   int64\n",
      "avg_trans_amount            float64\n",
      "total_trans_amount          float64\n",
      "age                           int64\n",
      "fraud_ratio                 float64\n",
      "distance_to_merch           float64\n",
      "fuzzy_amount_low            float64\n",
      "fuzzy_amount_medium         float64\n",
      "fuzzy_amount_high           float64\n",
      "fuzzy_age_young             float64\n",
      "fuzzy_age_middle            float64\n",
      "fuzzy_age_old               float64\n",
      "fuzzy_freq_low              float64\n",
      "fuzzy_freq_medium           float64\n",
      "fuzzy_freq_high             float64\n",
      "fuzzy_fraud_ratio_low       float64\n",
      "fuzzy_fraud_ratio_medium    float64\n",
      "fuzzy_fraud_ratio_high      float64\n",
      "dtype: object\n"
     ]
    }
   ],
   "execution_count": 334
  },
  {
   "cell_type": "code",
   "metadata": {
    "ExecuteTime": {
     "end_time": "2024-08-12T00:34:34.279643Z",
     "start_time": "2024-08-12T00:34:33.396598Z"
    }
   },
   "source": [
    "# Step 1: Split the balanced data into features (X) and target (y)\n",
    "X = df.drop(columns=['is_fraud'])\n",
    "y = df['is_fraud']\n",
    "\n",
    "# Step 2: Split the data into training and testing sets\n",
    "X_train, X_test, y_train, y_test = train_test_split(X, y, test_size=0.3, random_state=42)\n",
    "\n",
    "# Encode the 'season' column\n",
    "le = LabelEncoder()\n",
    "X_train['season'] = le.fit_transform(X_train['season'])\n",
    "X_test['season'] = le.transform(X_test['season'])\n",
    "\n",
    "\n",
    "# Step 3: Load the previously saved model\n",
    "try:\n",
    "    best_xgb = joblib.load('/Users/nglongvu1002/Desktop/Main_model.joblib')  # Replace with your actual model filename\n",
    "    print(\"Model loaded successfully.\")\n",
    "except Exception as e:\n",
    "    print(\"Error loading the model:\", e)\n",
    "    raise\n",
    "\n",
    "# Step 4: Make predictions on the test data\n",
    "try:\n",
    "    y_pred = best_xgb.predict(X_test)\n",
    "\n",
    "    # Print the classification report\n",
    "    print(\"Classification Report on the test dataset:\")\n",
    "    print(classification_report(y_test, y_pred))\n",
    "\n",
    "    # Calculate and print the confusion matrix\n",
    "    conf_matrix = confusion_matrix(y_test, y_pred)\n",
    "    print(\"\\nConfusion Matrix on the test dataset:\")\n",
    "    print(conf_matrix)\n",
    "\n",
    "    # Plot the confusion matrix\n",
    "    plt.figure(figsize=(10, 7))\n",
    "    sns.heatmap(conf_matrix, annot=True, fmt='d', cmap='Blues', xticklabels=['Not Fraud', 'Fraud'], yticklabels=['Not Fraud', 'Fraud'])\n",
    "    plt.xlabel('Predicted')\n",
    "    plt.ylabel('Actual')\n",
    "    plt.title('Confusion Matrix on the test dataset')\n",
    "    plt.show()\n",
    "\n",
    "    # Print the accuracy of the model on the test dataset\n",
    "    accuracy = accuracy_score(y_test, y_pred)\n",
    "    print(\"\\nModel accuracy on the test dataset:\", accuracy)\n",
    "\n",
    "except Exception as e:\n",
    "    print(\"Error during prediction or evaluation:\", e)\n",
    "    raise\n"
   ],
   "outputs": [
    {
     "name": "stdout",
     "output_type": "stream",
     "text": [
      "Model loaded successfully.\n",
      "Classification Report on the test dataset:\n",
      "              precision    recall  f1-score   support\n",
      "\n",
      "           0       1.00      0.94      0.97    166076\n",
      "           1       0.06      0.96      0.11       640\n",
      "\n",
      "    accuracy                           0.94    166716\n",
      "   macro avg       0.53      0.95      0.54    166716\n",
      "weighted avg       1.00      0.94      0.97    166716\n",
      "\n",
      "\n",
      "Confusion Matrix on the test dataset:\n",
      "[[156047  10029]\n",
      " [    26    614]]\n"
     ]
    },
    {
     "data": {
      "text/plain": [
       "<Figure size 720x504 with 2 Axes>"
      ],
      "image/png": "[encoded data removed]"
     },
     "metadata": {
      "needs_background": "light"
     },
     "output_type": "display_data"
    },
    {
     "name": "stdout",
     "output_type": "stream",
     "text": [
      "\n",
      "Model accuracy on the test dataset: 0.9396878523956909\n"
     ]
    }
   ],
   "execution_count": 335
  },
  {
   "cell_type": "code",
   "metadata": {
    "ExecuteTime": {
     "end_time": "2024-08-12T00:35:08.229774Z",
     "start_time": "2024-08-12T00:35:07.876139Z"
    }
   },
   "source": [
    "from sklearn.metrics import accuracy_score, classification_report, confusion_matrix, roc_auc_score, roc_curve\n",
    "\n",
    "# Plot ROC curve\n",
    "y_pred_prob = best_xgb.predict_proba(X_test)[:, 1]\n",
    "fpr, tpr, thresholds = roc_curve(y_test, y_pred_prob)\n",
    "roc_auc = roc_auc_score(y_test, y_pred_prob)\n",
    "\n",
    "plt.figure(figsize=(10, 7))\n",
    "plt.plot(fpr, tpr, label=f'XGBoost (AUC = {roc_auc:.2f})', color='blue')\n",
    "plt.plot([0, 1], [0, 1], 'k--')\n",
    "plt.xlabel('False Positive Rate')\n",
    "plt.ylabel('True Positive Rate')\n",
    "plt.title('ROC Curve')\n",
    "plt.legend(loc='lower right')\n",
    "plt.show()"
   ],
   "outputs": [
    {
     "data": {
      "text/plain": [
       "<Figure size 720x504 with 1 Axes>"
      ],
      "image/png": "[encoded data removed]"
     },
     "metadata": {
      "needs_background": "light"
     },
     "output_type": "display_data"
    }
   ],
   "execution_count": 336
  },
  {
   "cell_type": "code",
   "metadata": {},
   "source": [],
   "outputs": [],
   "execution_count": null
  },
  {
   "cell_type": "code",
   "metadata": {},
   "source": [],
   "outputs": [],
   "execution_count": null
  }
 ],
 "metadata": {
  "kernelspec": {
   "display_name": "base",
   "language": "python",
   "name": "python3"
  },
  "language_info": {
   "codemirror_mode": {
    "name": "ipython",
    "version": 3
   },
   "file_extension": ".py",
   "mimetype": "text/x-python",
   "name": "python",
   "nbconvert_exporter": "python",
   "pygments_lexer": "ipython3",
   "version": "3.11.5"
  }
 },
 "nbformat": 4,
 "nbformat_minor": 2
}
